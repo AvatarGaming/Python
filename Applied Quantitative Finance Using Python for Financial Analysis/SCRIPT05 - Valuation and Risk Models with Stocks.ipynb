{
 "cells": [
  {
   "cell_type": "markdown",
   "metadata": {},
   "source": [
    "# Valuation and Risk Models with Stocks\n",
    "\n",
    "Abstract One of the most important aspects for the analysis of securities is to analyze its risk models and how to valuate the instrument. In the present chapter aims to explain the importance of risk, the different financial measures for understanding risk in a portfolio of securities and the impact on the returns of a portfolio.\n",
    "\n",
    "Keywords Beta · Alpha · Risk · Valuation · Portfolio\n",
    "\n",
    "This part of the book is centered on the management of risk. In this aspect, financial risk should be seen as the risk of the financial markets based on liquidity, operational and strategical risk. As seen before there are three tools for managing risk being fundamental analysis, technical analysis and quantitative analysis (Chen 2019).\n",
    "\n",
    "Therefore, this section of the book is centered on Modern Portfolio Theory, Value at Risk and Monte Carlo Simulations. These three methods are imperative for understanding the financial markets and risk management.\n",
    "\n",
    "## Creating a Portfolio\n",
    "\n",
    "Managing portfolios with multiple assets is one of the most interesting processes when working on finance. Given that there are different assets which can compose a portfolio, one of the most important processes of establishing a portfolio is identifying its risk. For understanding how to build and analyze a portfolio this chapter will center on the process for creating, optimizing and evaluating a portfolio using Python.\n",
    "\n",
    "When creating the portfolio there are different approaches that can be taken. There is always the portfolio that is created by the sentiment of the investor, the companies that they believe are the correct ones and the risk that he is willing to take. Considering risk, it depends if the investor is interested in bonds, cash, stocks or equivalents. In the case of this example, the most popular approach is to determine the market value (Bryant 2020).\n",
    "\n",
    "The first step is to determine the companies that are performing in the index or choosing the companies that are of interest to the investor. For example, Disney, Netflix, Tesla and Amazon have been chosen. To the present time that the book was written the companies have been behaving greatly and creating strong returns.\n",
    "\n",
    "### • Creating a Portfolio with 4 variables\n"
   ]
  },
  {
   "cell_type": "code",
   "execution_count": 1,
   "metadata": {},
   "outputs": [
    {
     "name": "stderr",
     "output_type": "stream",
     "text": [
      "[*********************100%%**********************]  1 of 1 completed\n",
      "[*********************100%%**********************]  1 of 1 completed\n",
      "[*********************100%%**********************]  1 of 1 completed\n",
      "[*********************100%%**********************]  1 of 1 completed\n"
     ]
    }
   ],
   "source": [
    "import datetime\n",
    "import pandas as pd\n",
    "import yfinance as yf\n",
    "import numpy as np\n",
    "\n",
    "start=datetime.datetime(2014,1,1)\n",
    "end=datetime.datetime(2019,1,1)\n",
    "\n",
    "tickers=('NFLX','DIS','TSLA','AMZN')\n",
    "stocks=pd.DataFrame()\n",
    "for x in tickers:\n",
    "    stocks[x]=yf.download(x,start,end)['Close']\n"
   ]
  },
  {
   "cell_type": "markdown",
   "metadata": {},
   "source": [
    "The second step then creating the portfolio is assigning the weights that the portfolio must have. For this approach, considering market capitalization is important.\n",
    "\n",
    "### • Determining market value\n",
    "\n",
    "To determine market value two steps are essential. To know the last price of the security traded and the number of shares outstanding. For this, it is important to have a benchmark that can be used as a reference for the securities. Since the example establishes the last price as of December 26, 2018, then the prices can be obtained as follows:\n",
    "\n"
   ]
  },
  {
   "cell_type": "code",
   "execution_count": 2,
   "metadata": {},
   "outputs": [
    {
     "data": {
      "text/html": [
       "<div>\n",
       "<style scoped>\n",
       "    .dataframe tbody tr th:only-of-type {\n",
       "        vertical-align: middle;\n",
       "    }\n",
       "\n",
       "    .dataframe tbody tr th {\n",
       "        vertical-align: top;\n",
       "    }\n",
       "\n",
       "    .dataframe thead th {\n",
       "        text-align: right;\n",
       "    }\n",
       "</style>\n",
       "<table border=\"1\" class=\"dataframe\">\n",
       "  <thead>\n",
       "    <tr style=\"text-align: right;\">\n",
       "      <th></th>\n",
       "      <th>NFLX</th>\n",
       "      <th>DIS</th>\n",
       "      <th>TSLA</th>\n",
       "      <th>AMZN</th>\n",
       "    </tr>\n",
       "    <tr>\n",
       "      <th>Date</th>\n",
       "      <th></th>\n",
       "      <th></th>\n",
       "      <th></th>\n",
       "      <th></th>\n",
       "    </tr>\n",
       "  </thead>\n",
       "  <tbody>\n",
       "    <tr>\n",
       "      <th>2018-12-24</th>\n",
       "      <td>233.880005</td>\n",
       "      <td>100.349998</td>\n",
       "      <td>19.692667</td>\n",
       "      <td>67.197998</td>\n",
       "    </tr>\n",
       "    <tr>\n",
       "      <th>2018-12-26</th>\n",
       "      <td>253.669998</td>\n",
       "      <td>105.830002</td>\n",
       "      <td>21.739332</td>\n",
       "      <td>73.544998</td>\n",
       "    </tr>\n",
       "    <tr>\n",
       "      <th>2018-12-27</th>\n",
       "      <td>255.570007</td>\n",
       "      <td>106.519997</td>\n",
       "      <td>21.075333</td>\n",
       "      <td>73.082001</td>\n",
       "    </tr>\n",
       "    <tr>\n",
       "      <th>2018-12-28</th>\n",
       "      <td>256.079987</td>\n",
       "      <td>107.300003</td>\n",
       "      <td>22.257999</td>\n",
       "      <td>73.901001</td>\n",
       "    </tr>\n",
       "    <tr>\n",
       "      <th>2018-12-31</th>\n",
       "      <td>267.660004</td>\n",
       "      <td>109.650002</td>\n",
       "      <td>22.186666</td>\n",
       "      <td>75.098503</td>\n",
       "    </tr>\n",
       "  </tbody>\n",
       "</table>\n",
       "</div>"
      ],
      "text/plain": [
       "                  NFLX         DIS       TSLA       AMZN\n",
       "Date                                                    \n",
       "2018-12-24  233.880005  100.349998  19.692667  67.197998\n",
       "2018-12-26  253.669998  105.830002  21.739332  73.544998\n",
       "2018-12-27  255.570007  106.519997  21.075333  73.082001\n",
       "2018-12-28  256.079987  107.300003  22.257999  73.901001\n",
       "2018-12-31  267.660004  109.650002  22.186666  75.098503"
      ]
     },
     "execution_count": 2,
     "metadata": {},
     "output_type": "execute_result"
    }
   ],
   "source": [
    "stocks.tail()"
   ]
  },
  {
   "cell_type": "markdown",
   "metadata": {},
   "source": [
    "### • Calculate stocks returns"
   ]
  },
  {
   "cell_type": "code",
   "execution_count": 3,
   "metadata": {},
   "outputs": [
    {
     "data": {
      "text/html": [
       "<div>\n",
       "<style scoped>\n",
       "    .dataframe tbody tr th:only-of-type {\n",
       "        vertical-align: middle;\n",
       "    }\n",
       "\n",
       "    .dataframe tbody tr th {\n",
       "        vertical-align: top;\n",
       "    }\n",
       "\n",
       "    .dataframe thead th {\n",
       "        text-align: right;\n",
       "    }\n",
       "</style>\n",
       "<table border=\"1\" class=\"dataframe\">\n",
       "  <thead>\n",
       "    <tr style=\"text-align: right;\">\n",
       "      <th></th>\n",
       "      <th>NFLX</th>\n",
       "      <th>DIS</th>\n",
       "      <th>TSLA</th>\n",
       "      <th>AMZN</th>\n",
       "    </tr>\n",
       "    <tr>\n",
       "      <th>Date</th>\n",
       "      <th></th>\n",
       "      <th></th>\n",
       "      <th></th>\n",
       "      <th></th>\n",
       "    </tr>\n",
       "  </thead>\n",
       "  <tbody>\n",
       "    <tr>\n",
       "      <th>2014-01-02</th>\n",
       "      <td>NaN</td>\n",
       "      <td>NaN</td>\n",
       "      <td>NaN</td>\n",
       "      <td>NaN</td>\n",
       "    </tr>\n",
       "    <tr>\n",
       "      <th>2014-01-03</th>\n",
       "      <td>0.000771</td>\n",
       "      <td>-0.002100</td>\n",
       "      <td>-0.003604</td>\n",
       "      <td>-0.003852</td>\n",
       "    </tr>\n",
       "    <tr>\n",
       "      <th>2014-01-06</th>\n",
       "      <td>-0.009769</td>\n",
       "      <td>-0.003818</td>\n",
       "      <td>-0.017265</td>\n",
       "      <td>-0.007113</td>\n",
       "    </tr>\n",
       "    <tr>\n",
       "      <th>2014-01-07</th>\n",
       "      <td>-0.057435</td>\n",
       "      <td>0.006835</td>\n",
       "      <td>0.015927</td>\n",
       "      <td>0.011116</td>\n",
       "    </tr>\n",
       "    <tr>\n",
       "      <th>2014-01-08</th>\n",
       "      <td>0.004379</td>\n",
       "      <td>-0.014780</td>\n",
       "      <td>0.012773</td>\n",
       "      <td>0.009726</td>\n",
       "    </tr>\n",
       "    <tr>\n",
       "      <th>...</th>\n",
       "      <td>...</td>\n",
       "      <td>...</td>\n",
       "      <td>...</td>\n",
       "      <td>...</td>\n",
       "    </tr>\n",
       "    <tr>\n",
       "      <th>2018-12-24</th>\n",
       "      <td>-0.052107</td>\n",
       "      <td>-0.037840</td>\n",
       "      <td>-0.079305</td>\n",
       "      <td>-0.024613</td>\n",
       "    </tr>\n",
       "    <tr>\n",
       "      <th>2018-12-26</th>\n",
       "      <td>0.081226</td>\n",
       "      <td>0.053170</td>\n",
       "      <td>0.098877</td>\n",
       "      <td>0.090254</td>\n",
       "    </tr>\n",
       "    <tr>\n",
       "      <th>2018-12-27</th>\n",
       "      <td>0.007462</td>\n",
       "      <td>0.006499</td>\n",
       "      <td>-0.031020</td>\n",
       "      <td>-0.006315</td>\n",
       "    </tr>\n",
       "    <tr>\n",
       "      <th>2018-12-28</th>\n",
       "      <td>0.001993</td>\n",
       "      <td>0.007296</td>\n",
       "      <td>0.054598</td>\n",
       "      <td>0.011144</td>\n",
       "    </tr>\n",
       "    <tr>\n",
       "      <th>2018-12-31</th>\n",
       "      <td>0.044228</td>\n",
       "      <td>0.021665</td>\n",
       "      <td>-0.003210</td>\n",
       "      <td>0.016074</td>\n",
       "    </tr>\n",
       "  </tbody>\n",
       "</table>\n",
       "<p>1258 rows × 4 columns</p>\n",
       "</div>"
      ],
      "text/plain": [
       "                NFLX       DIS      TSLA      AMZN\n",
       "Date                                              \n",
       "2014-01-02       NaN       NaN       NaN       NaN\n",
       "2014-01-03  0.000771 -0.002100 -0.003604 -0.003852\n",
       "2014-01-06 -0.009769 -0.003818 -0.017265 -0.007113\n",
       "2014-01-07 -0.057435  0.006835  0.015927  0.011116\n",
       "2014-01-08  0.004379 -0.014780  0.012773  0.009726\n",
       "...              ...       ...       ...       ...\n",
       "2018-12-24 -0.052107 -0.037840 -0.079305 -0.024613\n",
       "2018-12-26  0.081226  0.053170  0.098877  0.090254\n",
       "2018-12-27  0.007462  0.006499 -0.031020 -0.006315\n",
       "2018-12-28  0.001993  0.007296  0.054598  0.011144\n",
       "2018-12-31  0.044228  0.021665 -0.003210  0.016074\n",
       "\n",
       "[1258 rows x 4 columns]"
      ]
     },
     "execution_count": 3,
     "metadata": {},
     "output_type": "execute_result"
    }
   ],
   "source": [
    "stocks_return=np.log(stocks/stocks.shift(1))\n",
    "stocks_return"
   ]
  },
  {
   "cell_type": "markdown",
   "metadata": {},
   "source": [
    "### • Calculate the weights of the portfolio based on market capitalization"
   ]
  },
  {
   "cell_type": "code",
   "execution_count": 4,
   "metadata": {},
   "outputs": [
    {
     "data": {
      "text/plain": [
       "array([0.0538, 0.1057, 0.6898, 0.1506])"
      ]
     },
     "execution_count": 4,
     "metadata": {},
     "output_type": "execute_result"
    }
   ],
   "source": [
    "portfolio_weights = np.array([0.0538, 0.1057,0.6898,0.1506])\n",
    "portfolio_weights"
   ]
  },
  {
   "cell_type": "markdown",
   "metadata": {},
   "source": [
    "### • Create a weighted return portfolio\n"
   ]
  },
  {
   "cell_type": "markdown",
   "metadata": {},
   "source": []
  },
  {
   "cell_type": "code",
   "execution_count": 5,
   "metadata": {},
   "outputs": [
    {
     "data": {
      "text/html": [
       "<div>\n",
       "<style scoped>\n",
       "    .dataframe tbody tr th:only-of-type {\n",
       "        vertical-align: middle;\n",
       "    }\n",
       "\n",
       "    .dataframe tbody tr th {\n",
       "        vertical-align: top;\n",
       "    }\n",
       "\n",
       "    .dataframe thead th {\n",
       "        text-align: right;\n",
       "    }\n",
       "</style>\n",
       "<table border=\"1\" class=\"dataframe\">\n",
       "  <thead>\n",
       "    <tr style=\"text-align: right;\">\n",
       "      <th></th>\n",
       "      <th>NFLX</th>\n",
       "      <th>DIS</th>\n",
       "      <th>TSLA</th>\n",
       "      <th>AMZN</th>\n",
       "    </tr>\n",
       "    <tr>\n",
       "      <th>Date</th>\n",
       "      <th></th>\n",
       "      <th></th>\n",
       "      <th></th>\n",
       "      <th></th>\n",
       "    </tr>\n",
       "  </thead>\n",
       "  <tbody>\n",
       "    <tr>\n",
       "      <th>2014-01-03</th>\n",
       "      <td>0.000042</td>\n",
       "      <td>-0.000222</td>\n",
       "      <td>-0.002486</td>\n",
       "      <td>-0.000580</td>\n",
       "    </tr>\n",
       "    <tr>\n",
       "      <th>2014-01-06</th>\n",
       "      <td>-0.000526</td>\n",
       "      <td>-0.000404</td>\n",
       "      <td>-0.011909</td>\n",
       "      <td>-0.001071</td>\n",
       "    </tr>\n",
       "    <tr>\n",
       "      <th>2014-01-07</th>\n",
       "      <td>-0.003090</td>\n",
       "      <td>0.000722</td>\n",
       "      <td>0.010986</td>\n",
       "      <td>0.001674</td>\n",
       "    </tr>\n",
       "    <tr>\n",
       "      <th>2014-01-08</th>\n",
       "      <td>0.000236</td>\n",
       "      <td>-0.001562</td>\n",
       "      <td>0.008811</td>\n",
       "      <td>0.001465</td>\n",
       "    </tr>\n",
       "  </tbody>\n",
       "</table>\n",
       "</div>"
      ],
      "text/plain": [
       "                NFLX       DIS      TSLA      AMZN\n",
       "Date                                              \n",
       "2014-01-03  0.000042 -0.000222 -0.002486 -0.000580\n",
       "2014-01-06 -0.000526 -0.000404 -0.011909 -0.001071\n",
       "2014-01-07 -0.003090  0.000722  0.010986  0.001674\n",
       "2014-01-08  0.000236 -0.001562  0.008811  0.001465"
      ]
     },
     "execution_count": 5,
     "metadata": {},
     "output_type": "execute_result"
    }
   ],
   "source": [
    "weighted_returns_portfolio=stocks_return.mul(portfolio_weights, axis= 1)\n",
    "weighted_returns_portfolio.head().dropna()\n",
    "\n"
   ]
  },
  {
   "cell_type": "markdown",
   "metadata": {},
   "source": [
    "### • Create a stock portfolio based on the weights assigned\n"
   ]
  },
  {
   "cell_type": "code",
   "execution_count": 6,
   "metadata": {},
   "outputs": [
    {
     "data": {
      "text/html": [
       "<div>\n",
       "<style scoped>\n",
       "    .dataframe tbody tr th:only-of-type {\n",
       "        vertical-align: middle;\n",
       "    }\n",
       "\n",
       "    .dataframe tbody tr th {\n",
       "        vertical-align: top;\n",
       "    }\n",
       "\n",
       "    .dataframe thead th {\n",
       "        text-align: right;\n",
       "    }\n",
       "</style>\n",
       "<table border=\"1\" class=\"dataframe\">\n",
       "  <thead>\n",
       "    <tr style=\"text-align: right;\">\n",
       "      <th></th>\n",
       "      <th>NFLX</th>\n",
       "      <th>DIS</th>\n",
       "      <th>TSLA</th>\n",
       "      <th>AMZN</th>\n",
       "      <th>Porfolio</th>\n",
       "    </tr>\n",
       "    <tr>\n",
       "      <th>Date</th>\n",
       "      <th></th>\n",
       "      <th></th>\n",
       "      <th></th>\n",
       "      <th></th>\n",
       "      <th></th>\n",
       "    </tr>\n",
       "  </thead>\n",
       "  <tbody>\n",
       "    <tr>\n",
       "      <th>2014-01-02</th>\n",
       "      <td>NaN</td>\n",
       "      <td>NaN</td>\n",
       "      <td>NaN</td>\n",
       "      <td>NaN</td>\n",
       "      <td>0.000000</td>\n",
       "    </tr>\n",
       "    <tr>\n",
       "      <th>2014-01-03</th>\n",
       "      <td>0.000771</td>\n",
       "      <td>-0.002100</td>\n",
       "      <td>-0.003604</td>\n",
       "      <td>-0.003852</td>\n",
       "      <td>-0.003247</td>\n",
       "    </tr>\n",
       "    <tr>\n",
       "      <th>2014-01-06</th>\n",
       "      <td>-0.009769</td>\n",
       "      <td>-0.003818</td>\n",
       "      <td>-0.017265</td>\n",
       "      <td>-0.007113</td>\n",
       "      <td>-0.013910</td>\n",
       "    </tr>\n",
       "    <tr>\n",
       "      <th>2014-01-07</th>\n",
       "      <td>-0.057435</td>\n",
       "      <td>0.006835</td>\n",
       "      <td>0.015927</td>\n",
       "      <td>0.011116</td>\n",
       "      <td>0.010293</td>\n",
       "    </tr>\n",
       "    <tr>\n",
       "      <th>2014-01-08</th>\n",
       "      <td>0.004379</td>\n",
       "      <td>-0.014780</td>\n",
       "      <td>0.012773</td>\n",
       "      <td>0.009726</td>\n",
       "      <td>0.008949</td>\n",
       "    </tr>\n",
       "    <tr>\n",
       "      <th>...</th>\n",
       "      <td>...</td>\n",
       "      <td>...</td>\n",
       "      <td>...</td>\n",
       "      <td>...</td>\n",
       "      <td>...</td>\n",
       "    </tr>\n",
       "    <tr>\n",
       "      <th>2018-12-24</th>\n",
       "      <td>-0.052107</td>\n",
       "      <td>-0.037840</td>\n",
       "      <td>-0.079305</td>\n",
       "      <td>-0.024613</td>\n",
       "      <td>-0.065215</td>\n",
       "    </tr>\n",
       "    <tr>\n",
       "      <th>2018-12-26</th>\n",
       "      <td>0.081226</td>\n",
       "      <td>0.053170</td>\n",
       "      <td>0.098877</td>\n",
       "      <td>0.090254</td>\n",
       "      <td>0.091788</td>\n",
       "    </tr>\n",
       "    <tr>\n",
       "      <th>2018-12-27</th>\n",
       "      <td>0.007462</td>\n",
       "      <td>0.006499</td>\n",
       "      <td>-0.031020</td>\n",
       "      <td>-0.006315</td>\n",
       "      <td>-0.021260</td>\n",
       "    </tr>\n",
       "    <tr>\n",
       "      <th>2018-12-28</th>\n",
       "      <td>0.001993</td>\n",
       "      <td>0.007296</td>\n",
       "      <td>0.054598</td>\n",
       "      <td>0.011144</td>\n",
       "      <td>0.040219</td>\n",
       "    </tr>\n",
       "    <tr>\n",
       "      <th>2018-12-31</th>\n",
       "      <td>0.044228</td>\n",
       "      <td>0.021665</td>\n",
       "      <td>-0.003210</td>\n",
       "      <td>0.016074</td>\n",
       "      <td>0.004876</td>\n",
       "    </tr>\n",
       "  </tbody>\n",
       "</table>\n",
       "<p>1258 rows × 5 columns</p>\n",
       "</div>"
      ],
      "text/plain": [
       "                NFLX       DIS      TSLA      AMZN  Porfolio\n",
       "Date                                                        \n",
       "2014-01-02       NaN       NaN       NaN       NaN  0.000000\n",
       "2014-01-03  0.000771 -0.002100 -0.003604 -0.003852 -0.003247\n",
       "2014-01-06 -0.009769 -0.003818 -0.017265 -0.007113 -0.013910\n",
       "2014-01-07 -0.057435  0.006835  0.015927  0.011116  0.010293\n",
       "2014-01-08  0.004379 -0.014780  0.012773  0.009726  0.008949\n",
       "...              ...       ...       ...       ...       ...\n",
       "2018-12-24 -0.052107 -0.037840 -0.079305 -0.024613 -0.065215\n",
       "2018-12-26  0.081226  0.053170  0.098877  0.090254  0.091788\n",
       "2018-12-27  0.007462  0.006499 -0.031020 -0.006315 -0.021260\n",
       "2018-12-28  0.001993  0.007296  0.054598  0.011144  0.040219\n",
       "2018-12-31  0.044228  0.021665 -0.003210  0.016074  0.004876\n",
       "\n",
       "[1258 rows x 5 columns]"
      ]
     },
     "execution_count": 6,
     "metadata": {},
     "output_type": "execute_result"
    }
   ],
   "source": [
    "stocks_return['Porfolio']=weighted_returns_portfolio.sum(axis= 1 ).dropna()\n",
    "stocks_return"
   ]
  },
  {
   "cell_type": "markdown",
   "metadata": {},
   "source": [
    "## Calculating Statistical Measures on a Portfolio\n",
    "\n",
    "Now that the portfolio is created there are certain statistical measures that can be calculated. The first one is the portfolio standard deviation which is as follows:\n",
    "\n",
    "Equation 1: Portfolio standard deviation\n",
    "\n",
    "The first step is to obtain the annual covariance. For the annual covariance the number of days that will be used is 252, a more conventional approach to the 360 or 365. The days are based on the stock market available days:\n",
    "\n",
    "### • Calculate the covariance of the stocks and the portfolio\n"
   ]
  },
  {
   "cell_type": "code",
   "execution_count": 7,
   "metadata": {},
   "outputs": [
    {
     "data": {
      "text/html": [
       "<div>\n",
       "<style scoped>\n",
       "    .dataframe tbody tr th:only-of-type {\n",
       "        vertical-align: middle;\n",
       "    }\n",
       "\n",
       "    .dataframe tbody tr th {\n",
       "        vertical-align: top;\n",
       "    }\n",
       "\n",
       "    .dataframe thead th {\n",
       "        text-align: right;\n",
       "    }\n",
       "</style>\n",
       "<table border=\"1\" class=\"dataframe\">\n",
       "  <thead>\n",
       "    <tr style=\"text-align: right;\">\n",
       "      <th></th>\n",
       "      <th>NFLX</th>\n",
       "      <th>DIS</th>\n",
       "      <th>TSLA</th>\n",
       "      <th>AMZN</th>\n",
       "      <th>Porfolio</th>\n",
       "    </tr>\n",
       "  </thead>\n",
       "  <tbody>\n",
       "    <tr>\n",
       "      <th>NFLX</th>\n",
       "      <td>0.000726</td>\n",
       "      <td>0.000090</td>\n",
       "      <td>0.000248</td>\n",
       "      <td>0.000238</td>\n",
       "      <td>0.000256</td>\n",
       "    </tr>\n",
       "    <tr>\n",
       "      <th>DIS</th>\n",
       "      <td>0.000090</td>\n",
       "      <td>0.000143</td>\n",
       "      <td>0.000090</td>\n",
       "      <td>0.000080</td>\n",
       "      <td>0.000094</td>\n",
       "    </tr>\n",
       "    <tr>\n",
       "      <th>TSLA</th>\n",
       "      <td>0.000248</td>\n",
       "      <td>0.000090</td>\n",
       "      <td>0.000785</td>\n",
       "      <td>0.000189</td>\n",
       "      <td>0.000593</td>\n",
       "    </tr>\n",
       "    <tr>\n",
       "      <th>AMZN</th>\n",
       "      <td>0.000238</td>\n",
       "      <td>0.000080</td>\n",
       "      <td>0.000189</td>\n",
       "      <td>0.000378</td>\n",
       "      <td>0.000209</td>\n",
       "    </tr>\n",
       "    <tr>\n",
       "      <th>Porfolio</th>\n",
       "      <td>0.000256</td>\n",
       "      <td>0.000094</td>\n",
       "      <td>0.000593</td>\n",
       "      <td>0.000209</td>\n",
       "      <td>0.000464</td>\n",
       "    </tr>\n",
       "  </tbody>\n",
       "</table>\n",
       "</div>"
      ],
      "text/plain": [
       "              NFLX       DIS      TSLA      AMZN  Porfolio\n",
       "NFLX      0.000726  0.000090  0.000248  0.000238  0.000256\n",
       "DIS       0.000090  0.000143  0.000090  0.000080  0.000094\n",
       "TSLA      0.000248  0.000090  0.000785  0.000189  0.000593\n",
       "AMZN      0.000238  0.000080  0.000189  0.000378  0.000209\n",
       "Porfolio  0.000256  0.000094  0.000593  0.000209  0.000464"
      ]
     },
     "execution_count": 7,
     "metadata": {},
     "output_type": "execute_result"
    }
   ],
   "source": [
    "stocks_covariance=stocks_return.cov()\n",
    "stocks_covariance\n"
   ]
  },
  {
   "cell_type": "markdown",
   "metadata": {},
   "source": [
    "### • Annualize the covariance"
   ]
  },
  {
   "cell_type": "code",
   "execution_count": 8,
   "metadata": {},
   "outputs": [
    {
     "name": "stdout",
     "output_type": "stream",
     "text": [
      "              NFLX       DIS      TSLA      AMZN  Porfolio\n",
      "NFLX      0.182957  0.022691  0.062606  0.059895  0.064447\n",
      "DIS       0.022691  0.035919  0.022747  0.020226  0.023755\n",
      "TSLA      0.062606  0.022747  0.197909  0.047600  0.149459\n",
      "AMZN      0.059895  0.020226  0.047600  0.095284  0.052545\n",
      "Porfolio  0.064447  0.023755  0.149459  0.052545  0.116895\n",
      "          NFLX       DIS      TSLA      AMZN\n",
      "NFLX  0.182957  0.022691  0.062606  0.059895\n",
      "DIS   0.022691  0.035919  0.022747  0.020226\n",
      "TSLA  0.062606  0.022747  0.197909  0.047600\n",
      "AMZN  0.059895  0.020226  0.047600  0.095284\n"
     ]
    }
   ],
   "source": [
    "annualized_covariance=stocks_covariance * 252\n",
    "print(annualized_covariance)\n",
    "annualized_covariance=annualized_covariance.drop('Porfolio', axis=0)\n",
    "annualized_covariance=annualized_covariance.drop('Porfolio', axis=1)\n",
    "\n",
    "print(annualized_covariance)\n"
   ]
  },
  {
   "cell_type": "markdown",
   "metadata": {},
   "source": [
    "### • Obtain the standard deviation of the portfolio"
   ]
  },
  {
   "cell_type": "code",
   "execution_count": 9,
   "metadata": {},
   "outputs": [
    {
     "data": {
      "text/plain": [
       "0.3420349374375355"
      ]
     },
     "execution_count": 9,
     "metadata": {},
     "output_type": "execute_result"
    }
   ],
   "source": [
    "portfolio_sd=np.sqrt(\n",
    "    np.dot(portfolio_weights.T, np.dot(annualized_covariance, portfolio_weights))\n",
    "    )\n",
    "portfolio_sd"
   ]
  },
  {
   "cell_type": "markdown",
   "metadata": {},
   "source": [
    "The volatility of the portfolio is 34.20% with can be considered as a highly volatile portfolio. This is important because when analyzing the beta, the behavior of the market and the stock will be included into the analysis."
   ]
  },
  {
   "cell_type": "markdown",
   "metadata": {},
   "source": [
    "## The Capital Asset Pricing Model\n",
    "\n",
    "The Capital Asset Pricing Model better known as CAPM is a model created by William Sharpe based on the work of Harry Markowitz. Its major assumptions are that the offer of financial assets is equal to the demand of financial assets (Mullins 1982). When the assumption is analyzed under perfect competitiveness, which means that the price is determined by the offer and demand of economic agents, hence determine the price of the asset.\n",
    "\n",
    "Another important aspect of the CAPM is that it only considers the systematic risk (market risk). Systematic risk can be understood as the risk that is not diversifiable and therefore cannot be reduced (Fontinelle 2019). Risk, as a whole is divided as follows:\n",
    "\n",
    "Equation 2: Total risk\n",
    "\n",
    "Total Risk = systematic risk + non systematic risk\n",
    "\n",
    "### The Beta\n",
    "\n",
    "The measurement of the systematic risk is through the beta, which is a degree of sensitivity that includes the variation of an asset compared with an index that is used as a benchmark.\n",
    "\n",
    "Equation 3: Beta calculation with correlation\n",
    "\n",
    "ρim = Correlation between asset i and the market\n",
    "σi = variance of asset i\n",
    "σm = variance of the market\n",
    "\n",
    "Another way of calculating the beta is through the following formula:\n",
    "\n",
    "Given that the covariance will be obtained for calculating the beta, it is important to elaborate a covariance matrix. First, the process will be explained with the covariance formula and then it will be integrated with the correlation formula.\n",
    "\n",
    "Before coding in Python there are certain aspects that should be clarified to understand the process of computing the beta with covariance:\n",
    "\n",
    "- Using a for loop: The program below uses a simple for loop because there is a need here to create a DataFrame with the two variables. The process is simple, and for more information there are different ways a for loop can be used. See For loop.\n",
    "\n",
    "- Choosing a market for comparison: For example, the S&P 500 (^GSPC) was used because it is an interesting market reference when trying to determine the behavior of the company.\n",
    "\n",
    "- Using iloc: iloc is a pandas DataFrame function that selects a position. It can be used to slice the DataFrame or to create new columns. Please visit the chapter titled The Basics for more information.\n",
    "\n",
    "- Using 252 days: The concept of 252 days comes from the regular trading hours (RTH). It is a rule of thumb (Mitra y Mitra 2011). The covariance and the variance are multiplied by this to convert it into daily.\n",
    "\n",
    "These aspects are important since they will be repeated throughout the following sections of the book.\n",
    "\n",
    "#### • Installing packages\n"
   ]
  },
  {
   "cell_type": "code",
   "execution_count": 10,
   "metadata": {},
   "outputs": [],
   "source": [
    "import yfinance as yf\n",
    "import numpy as np\n",
    "import pandas as pd\n",
    "from pandas_datareader import data as web\n",
    "import pandas_datareader\n",
    "import datetime\n",
    "import matplotlib.pyplot as plt\n",
    "%matplotlib inline\n"
   ]
  },
  {
   "cell_type": "markdown",
   "metadata": {},
   "source": [
    "#### • Setting time and date\n"
   ]
  },
  {
   "cell_type": "code",
   "execution_count": 11,
   "metadata": {},
   "outputs": [
    {
     "name": "stdout",
     "output_type": "stream",
     "text": [
      "2014-01-01 00:00:00\n",
      "2019-01-01 00:00:00\n"
     ]
    }
   ],
   "source": [
    "start=datetime.datetime(2014,1,1)\n",
    "end=datetime.datetime(2019,1,1)\n",
    "print(start)\n",
    "print(end)\n",
    "\n"
   ]
  },
  {
   "cell_type": "markdown",
   "metadata": {},
   "source": [
    "#### • Using a for loop for obtaining tickers\n"
   ]
  },
  {
   "cell_type": "code",
   "execution_count": 12,
   "metadata": {},
   "outputs": [
    {
     "name": "stderr",
     "output_type": "stream",
     "text": [
      "[*********************100%%**********************]  1 of 1 completed\n",
      "[*********************100%%**********************]  1 of 1 completed\n"
     ]
    },
    {
     "data": {
      "text/html": [
       "<div>\n",
       "<style scoped>\n",
       "    .dataframe tbody tr th:only-of-type {\n",
       "        vertical-align: middle;\n",
       "    }\n",
       "\n",
       "    .dataframe tbody tr th {\n",
       "        vertical-align: top;\n",
       "    }\n",
       "\n",
       "    .dataframe thead th {\n",
       "        text-align: right;\n",
       "    }\n",
       "</style>\n",
       "<table border=\"1\" class=\"dataframe\">\n",
       "  <thead>\n",
       "    <tr style=\"text-align: right;\">\n",
       "      <th></th>\n",
       "      <th>DIS</th>\n",
       "      <th>^GSPC</th>\n",
       "    </tr>\n",
       "    <tr>\n",
       "      <th>Date</th>\n",
       "      <th></th>\n",
       "      <th></th>\n",
       "    </tr>\n",
       "  </thead>\n",
       "  <tbody>\n",
       "    <tr>\n",
       "      <th>2014-01-02</th>\n",
       "      <td>76.269997</td>\n",
       "      <td>1831.979980</td>\n",
       "    </tr>\n",
       "    <tr>\n",
       "      <th>2014-01-03</th>\n",
       "      <td>76.110001</td>\n",
       "      <td>1831.369995</td>\n",
       "    </tr>\n",
       "    <tr>\n",
       "      <th>2014-01-06</th>\n",
       "      <td>75.820000</td>\n",
       "      <td>1826.770020</td>\n",
       "    </tr>\n",
       "    <tr>\n",
       "      <th>2014-01-07</th>\n",
       "      <td>76.339996</td>\n",
       "      <td>1837.880005</td>\n",
       "    </tr>\n",
       "    <tr>\n",
       "      <th>2014-01-08</th>\n",
       "      <td>75.220001</td>\n",
       "      <td>1837.489990</td>\n",
       "    </tr>\n",
       "    <tr>\n",
       "      <th>...</th>\n",
       "      <td>...</td>\n",
       "      <td>...</td>\n",
       "    </tr>\n",
       "    <tr>\n",
       "      <th>2018-12-24</th>\n",
       "      <td>100.349998</td>\n",
       "      <td>2351.100098</td>\n",
       "    </tr>\n",
       "    <tr>\n",
       "      <th>2018-12-26</th>\n",
       "      <td>105.830002</td>\n",
       "      <td>2467.699951</td>\n",
       "    </tr>\n",
       "    <tr>\n",
       "      <th>2018-12-27</th>\n",
       "      <td>106.519997</td>\n",
       "      <td>2488.830078</td>\n",
       "    </tr>\n",
       "    <tr>\n",
       "      <th>2018-12-28</th>\n",
       "      <td>107.300003</td>\n",
       "      <td>2485.739990</td>\n",
       "    </tr>\n",
       "    <tr>\n",
       "      <th>2018-12-31</th>\n",
       "      <td>109.650002</td>\n",
       "      <td>2506.850098</td>\n",
       "    </tr>\n",
       "  </tbody>\n",
       "</table>\n",
       "<p>1258 rows × 2 columns</p>\n",
       "</div>"
      ],
      "text/plain": [
       "                   DIS        ^GSPC\n",
       "Date                               \n",
       "2014-01-02   76.269997  1831.979980\n",
       "2014-01-03   76.110001  1831.369995\n",
       "2014-01-06   75.820000  1826.770020\n",
       "2014-01-07   76.339996  1837.880005\n",
       "2014-01-08   75.220001  1837.489990\n",
       "...                ...          ...\n",
       "2018-12-24  100.349998  2351.100098\n",
       "2018-12-26  105.830002  2467.699951\n",
       "2018-12-27  106.519997  2488.830078\n",
       "2018-12-28  107.300003  2485.739990\n",
       "2018-12-31  109.650002  2506.850098\n",
       "\n",
       "[1258 rows x 2 columns]"
      ]
     },
     "execution_count": 12,
     "metadata": {},
     "output_type": "execute_result"
    }
   ],
   "source": [
    "tickers=['DIS','^GSPC']\n",
    "stocks=pd.DataFrame()\n",
    "for x in tickers: \n",
    "    stocks[x]=yf.download(x,start,end)['Close']\n",
    "stocks    "
   ]
  },
  {
   "cell_type": "markdown",
   "metadata": {},
   "source": [
    "#### • Creating logarithmic returns\n"
   ]
  },
  {
   "cell_type": "code",
   "execution_count": 13,
   "metadata": {},
   "outputs": [
    {
     "data": {
      "text/html": [
       "<div>\n",
       "<style scoped>\n",
       "    .dataframe tbody tr th:only-of-type {\n",
       "        vertical-align: middle;\n",
       "    }\n",
       "\n",
       "    .dataframe tbody tr th {\n",
       "        vertical-align: top;\n",
       "    }\n",
       "\n",
       "    .dataframe thead th {\n",
       "        text-align: right;\n",
       "    }\n",
       "</style>\n",
       "<table border=\"1\" class=\"dataframe\">\n",
       "  <thead>\n",
       "    <tr style=\"text-align: right;\">\n",
       "      <th></th>\n",
       "      <th>DIS</th>\n",
       "      <th>^GSPC</th>\n",
       "    </tr>\n",
       "    <tr>\n",
       "      <th>Date</th>\n",
       "      <th></th>\n",
       "      <th></th>\n",
       "    </tr>\n",
       "  </thead>\n",
       "  <tbody>\n",
       "    <tr>\n",
       "      <th>2014-01-02</th>\n",
       "      <td>NaN</td>\n",
       "      <td>NaN</td>\n",
       "    </tr>\n",
       "    <tr>\n",
       "      <th>2014-01-03</th>\n",
       "      <td>-0.002100</td>\n",
       "      <td>-0.000333</td>\n",
       "    </tr>\n",
       "    <tr>\n",
       "      <th>2014-01-06</th>\n",
       "      <td>-0.003818</td>\n",
       "      <td>-0.002515</td>\n",
       "    </tr>\n",
       "    <tr>\n",
       "      <th>2014-01-07</th>\n",
       "      <td>0.006835</td>\n",
       "      <td>0.006063</td>\n",
       "    </tr>\n",
       "    <tr>\n",
       "      <th>2014-01-08</th>\n",
       "      <td>-0.014780</td>\n",
       "      <td>-0.000212</td>\n",
       "    </tr>\n",
       "    <tr>\n",
       "      <th>...</th>\n",
       "      <td>...</td>\n",
       "      <td>...</td>\n",
       "    </tr>\n",
       "    <tr>\n",
       "      <th>2018-12-24</th>\n",
       "      <td>-0.037840</td>\n",
       "      <td>-0.027487</td>\n",
       "    </tr>\n",
       "    <tr>\n",
       "      <th>2018-12-26</th>\n",
       "      <td>0.053170</td>\n",
       "      <td>0.048403</td>\n",
       "    </tr>\n",
       "    <tr>\n",
       "      <th>2018-12-27</th>\n",
       "      <td>0.006499</td>\n",
       "      <td>0.008526</td>\n",
       "    </tr>\n",
       "    <tr>\n",
       "      <th>2018-12-28</th>\n",
       "      <td>0.007296</td>\n",
       "      <td>-0.001242</td>\n",
       "    </tr>\n",
       "    <tr>\n",
       "      <th>2018-12-31</th>\n",
       "      <td>0.021665</td>\n",
       "      <td>0.008457</td>\n",
       "    </tr>\n",
       "  </tbody>\n",
       "</table>\n",
       "<p>1258 rows × 2 columns</p>\n",
       "</div>"
      ],
      "text/plain": [
       "                 DIS     ^GSPC\n",
       "Date                          \n",
       "2014-01-02       NaN       NaN\n",
       "2014-01-03 -0.002100 -0.000333\n",
       "2014-01-06 -0.003818 -0.002515\n",
       "2014-01-07  0.006835  0.006063\n",
       "2014-01-08 -0.014780 -0.000212\n",
       "...              ...       ...\n",
       "2018-12-24 -0.037840 -0.027487\n",
       "2018-12-26  0.053170  0.048403\n",
       "2018-12-27  0.006499  0.008526\n",
       "2018-12-28  0.007296 -0.001242\n",
       "2018-12-31  0.021665  0.008457\n",
       "\n",
       "[1258 rows x 2 columns]"
      ]
     },
     "execution_count": 13,
     "metadata": {},
     "output_type": "execute_result"
    }
   ],
   "source": [
    "stocks_return=np.log(stocks/stocks.shift(1))\n",
    "stocks_return"
   ]
  },
  {
   "cell_type": "markdown",
   "metadata": {},
   "source": [
    "#### • Calculating the covariance matrix\n"
   ]
  },
  {
   "cell_type": "code",
   "execution_count": 14,
   "metadata": {},
   "outputs": [
    {
     "data": {
      "text/html": [
       "<div>\n",
       "<style scoped>\n",
       "    .dataframe tbody tr th:only-of-type {\n",
       "        vertical-align: middle;\n",
       "    }\n",
       "\n",
       "    .dataframe tbody tr th {\n",
       "        vertical-align: top;\n",
       "    }\n",
       "\n",
       "    .dataframe thead th {\n",
       "        text-align: right;\n",
       "    }\n",
       "</style>\n",
       "<table border=\"1\" class=\"dataframe\">\n",
       "  <thead>\n",
       "    <tr style=\"text-align: right;\">\n",
       "      <th></th>\n",
       "      <th>DIS</th>\n",
       "      <th>^GSPC</th>\n",
       "    </tr>\n",
       "  </thead>\n",
       "  <tbody>\n",
       "    <tr>\n",
       "      <th>DIS</th>\n",
       "      <td>0.035919</td>\n",
       "      <td>0.015940</td>\n",
       "    </tr>\n",
       "    <tr>\n",
       "      <th>^GSPC</th>\n",
       "      <td>0.015940</td>\n",
       "      <td>0.017554</td>\n",
       "    </tr>\n",
       "  </tbody>\n",
       "</table>\n",
       "</div>"
      ],
      "text/plain": [
       "            DIS     ^GSPC\n",
       "DIS    0.035919  0.015940\n",
       "^GSPC  0.015940  0.017554"
      ]
     },
     "execution_count": 14,
     "metadata": {},
     "output_type": "execute_result"
    }
   ],
   "source": [
    "covariance=stocks_return.cov()*252\n",
    "covariance"
   ]
  },
  {
   "cell_type": "markdown",
   "metadata": {},
   "source": [
    "#### • Setting the market covariance into a variable\n"
   ]
  },
  {
   "cell_type": "code",
   "execution_count": 15,
   "metadata": {},
   "outputs": [
    {
     "data": {
      "text/plain": [
       "0.015940065653549267"
      ]
     },
     "execution_count": 15,
     "metadata": {},
     "output_type": "execute_result"
    }
   ],
   "source": [
    "covariance_market=covariance.iloc[0,1 ]\n",
    "covariance_market"
   ]
  },
  {
   "cell_type": "markdown",
   "metadata": {},
   "source": [
    "#### • Calculating the variance of the market\n"
   ]
  },
  {
   "cell_type": "code",
   "execution_count": 16,
   "metadata": {},
   "outputs": [
    {
     "data": {
      "text/plain": [
       "0.0175541712284195"
      ]
     },
     "execution_count": 16,
     "metadata": {},
     "output_type": "execute_result"
    }
   ],
   "source": [
    "market_variance=stocks_return['^GSPC' ].var() * 252\n",
    "market_variance"
   ]
  },
  {
   "cell_type": "markdown",
   "metadata": {},
   "source": [
    "#### • Calculating Beta with covariance\n"
   ]
  },
  {
   "cell_type": "code",
   "execution_count": 17,
   "metadata": {},
   "outputs": [
    {
     "name": "stdout",
     "output_type": "stream",
     "text": [
      "Beta de Disney = 0.9080500267505047\n"
     ]
    }
   ],
   "source": [
    "beta_Disney=covariance_market/market_variance\n",
    "print('Beta de Disney =', beta_Disney)"
   ]
  },
  {
   "cell_type": "markdown",
   "metadata": {},
   "source": [
    "For calculating the beta with correlation, the formula, it is easier but it is less common. It is important to remember that when comparing beta, the same days of data are being used, and that this is applied to all the variables. There are different approaches to the beta but the most notable aspect is to understand the result. To."
   ]
  },
  {
   "cell_type": "code",
   "execution_count": 18,
   "metadata": {},
   "outputs": [],
   "source": [
    "import numpy as np\n",
    "import pandas as pd\n",
    "from pandas_datareader import data as web\n",
    "import pandas_datareader\n",
    "import datetime\n",
    "import matplotlib.pyplot as plt\n",
    "%matplotlib inline\n"
   ]
  },
  {
   "cell_type": "markdown",
   "metadata": {},
   "source": [
    "#### • Setting time and date\n"
   ]
  },
  {
   "cell_type": "code",
   "execution_count": 19,
   "metadata": {},
   "outputs": [
    {
     "name": "stdout",
     "output_type": "stream",
     "text": [
      "Fecha de inicio 2014-01-01 00:00:00\n",
      "Fecha final 2019-01-01 00:00:00\n"
     ]
    }
   ],
   "source": [
    "start=datetime.datetime(2014,1,1)\n",
    "end=datetime.datetime(2019,1,1)\n",
    "print('Fecha de inicio', start)\n",
    "print('Fecha final', end)"
   ]
  },
  {
   "cell_type": "markdown",
   "metadata": {},
   "source": [
    "#### • Using a for loop for obtaining tickers"
   ]
  },
  {
   "cell_type": "code",
   "execution_count": 20,
   "metadata": {},
   "outputs": [
    {
     "name": "stderr",
     "output_type": "stream",
     "text": [
      "[*********************100%%**********************]  1 of 1 completed\n",
      "[*********************100%%**********************]  1 of 1 completed\n"
     ]
    },
    {
     "data": {
      "text/html": [
       "<div>\n",
       "<style scoped>\n",
       "    .dataframe tbody tr th:only-of-type {\n",
       "        vertical-align: middle;\n",
       "    }\n",
       "\n",
       "    .dataframe tbody tr th {\n",
       "        vertical-align: top;\n",
       "    }\n",
       "\n",
       "    .dataframe thead th {\n",
       "        text-align: right;\n",
       "    }\n",
       "</style>\n",
       "<table border=\"1\" class=\"dataframe\">\n",
       "  <thead>\n",
       "    <tr style=\"text-align: right;\">\n",
       "      <th></th>\n",
       "      <th>NFLX</th>\n",
       "      <th>^GSPC</th>\n",
       "    </tr>\n",
       "    <tr>\n",
       "      <th>Date</th>\n",
       "      <th></th>\n",
       "      <th></th>\n",
       "    </tr>\n",
       "  </thead>\n",
       "  <tbody>\n",
       "    <tr>\n",
       "      <th>2014-01-02</th>\n",
       "      <td>51.831429</td>\n",
       "      <td>1831.979980</td>\n",
       "    </tr>\n",
       "    <tr>\n",
       "      <th>2014-01-03</th>\n",
       "      <td>51.871429</td>\n",
       "      <td>1831.369995</td>\n",
       "    </tr>\n",
       "    <tr>\n",
       "      <th>2014-01-06</th>\n",
       "      <td>51.367142</td>\n",
       "      <td>1826.770020</td>\n",
       "    </tr>\n",
       "    <tr>\n",
       "      <th>2014-01-07</th>\n",
       "      <td>48.500000</td>\n",
       "      <td>1837.880005</td>\n",
       "    </tr>\n",
       "    <tr>\n",
       "      <th>2014-01-08</th>\n",
       "      <td>48.712856</td>\n",
       "      <td>1837.489990</td>\n",
       "    </tr>\n",
       "    <tr>\n",
       "      <th>...</th>\n",
       "      <td>...</td>\n",
       "      <td>...</td>\n",
       "    </tr>\n",
       "    <tr>\n",
       "      <th>2018-12-24</th>\n",
       "      <td>233.880005</td>\n",
       "      <td>2351.100098</td>\n",
       "    </tr>\n",
       "    <tr>\n",
       "      <th>2018-12-26</th>\n",
       "      <td>253.669998</td>\n",
       "      <td>2467.699951</td>\n",
       "    </tr>\n",
       "    <tr>\n",
       "      <th>2018-12-27</th>\n",
       "      <td>255.570007</td>\n",
       "      <td>2488.830078</td>\n",
       "    </tr>\n",
       "    <tr>\n",
       "      <th>2018-12-28</th>\n",
       "      <td>256.079987</td>\n",
       "      <td>2485.739990</td>\n",
       "    </tr>\n",
       "    <tr>\n",
       "      <th>2018-12-31</th>\n",
       "      <td>267.660004</td>\n",
       "      <td>2506.850098</td>\n",
       "    </tr>\n",
       "  </tbody>\n",
       "</table>\n",
       "<p>1258 rows × 2 columns</p>\n",
       "</div>"
      ],
      "text/plain": [
       "                  NFLX        ^GSPC\n",
       "Date                               \n",
       "2014-01-02   51.831429  1831.979980\n",
       "2014-01-03   51.871429  1831.369995\n",
       "2014-01-06   51.367142  1826.770020\n",
       "2014-01-07   48.500000  1837.880005\n",
       "2014-01-08   48.712856  1837.489990\n",
       "...                ...          ...\n",
       "2018-12-24  233.880005  2351.100098\n",
       "2018-12-26  253.669998  2467.699951\n",
       "2018-12-27  255.570007  2488.830078\n",
       "2018-12-28  256.079987  2485.739990\n",
       "2018-12-31  267.660004  2506.850098\n",
       "\n",
       "[1258 rows x 2 columns]"
      ]
     },
     "execution_count": 20,
     "metadata": {},
     "output_type": "execute_result"
    }
   ],
   "source": [
    "tickers=['NFLX', '^GSPC']\n",
    "stocks=pd.DataFrame()\n",
    "for x in tickers:\n",
    "    stocks[x]=yf.download(x,start,end)['Close']\n",
    "\n",
    "stocks"
   ]
  },
  {
   "cell_type": "markdown",
   "metadata": {},
   "source": [
    "#### • Creating logarithmic returns\n"
   ]
  },
  {
   "cell_type": "code",
   "execution_count": 21,
   "metadata": {},
   "outputs": [
    {
     "data": {
      "text/html": [
       "<div>\n",
       "<style scoped>\n",
       "    .dataframe tbody tr th:only-of-type {\n",
       "        vertical-align: middle;\n",
       "    }\n",
       "\n",
       "    .dataframe tbody tr th {\n",
       "        vertical-align: top;\n",
       "    }\n",
       "\n",
       "    .dataframe thead th {\n",
       "        text-align: right;\n",
       "    }\n",
       "</style>\n",
       "<table border=\"1\" class=\"dataframe\">\n",
       "  <thead>\n",
       "    <tr style=\"text-align: right;\">\n",
       "      <th></th>\n",
       "      <th>NFLX</th>\n",
       "      <th>^GSPC</th>\n",
       "    </tr>\n",
       "    <tr>\n",
       "      <th>Date</th>\n",
       "      <th></th>\n",
       "      <th></th>\n",
       "    </tr>\n",
       "  </thead>\n",
       "  <tbody>\n",
       "    <tr>\n",
       "      <th>2014-01-02</th>\n",
       "      <td>NaN</td>\n",
       "      <td>NaN</td>\n",
       "    </tr>\n",
       "    <tr>\n",
       "      <th>2014-01-03</th>\n",
       "      <td>0.000771</td>\n",
       "      <td>-0.000333</td>\n",
       "    </tr>\n",
       "    <tr>\n",
       "      <th>2014-01-06</th>\n",
       "      <td>-0.009769</td>\n",
       "      <td>-0.002515</td>\n",
       "    </tr>\n",
       "    <tr>\n",
       "      <th>2014-01-07</th>\n",
       "      <td>-0.057435</td>\n",
       "      <td>0.006063</td>\n",
       "    </tr>\n",
       "    <tr>\n",
       "      <th>2014-01-08</th>\n",
       "      <td>0.004379</td>\n",
       "      <td>-0.000212</td>\n",
       "    </tr>\n",
       "    <tr>\n",
       "      <th>...</th>\n",
       "      <td>...</td>\n",
       "      <td>...</td>\n",
       "    </tr>\n",
       "    <tr>\n",
       "      <th>2018-12-24</th>\n",
       "      <td>-0.052107</td>\n",
       "      <td>-0.027487</td>\n",
       "    </tr>\n",
       "    <tr>\n",
       "      <th>2018-12-26</th>\n",
       "      <td>0.081226</td>\n",
       "      <td>0.048403</td>\n",
       "    </tr>\n",
       "    <tr>\n",
       "      <th>2018-12-27</th>\n",
       "      <td>0.007462</td>\n",
       "      <td>0.008526</td>\n",
       "    </tr>\n",
       "    <tr>\n",
       "      <th>2018-12-28</th>\n",
       "      <td>0.001993</td>\n",
       "      <td>-0.001242</td>\n",
       "    </tr>\n",
       "    <tr>\n",
       "      <th>2018-12-31</th>\n",
       "      <td>0.044228</td>\n",
       "      <td>0.008457</td>\n",
       "    </tr>\n",
       "  </tbody>\n",
       "</table>\n",
       "<p>1258 rows × 2 columns</p>\n",
       "</div>"
      ],
      "text/plain": [
       "                NFLX     ^GSPC\n",
       "Date                          \n",
       "2014-01-02       NaN       NaN\n",
       "2014-01-03  0.000771 -0.000333\n",
       "2014-01-06 -0.009769 -0.002515\n",
       "2014-01-07 -0.057435  0.006063\n",
       "2014-01-08  0.004379 -0.000212\n",
       "...              ...       ...\n",
       "2018-12-24 -0.052107 -0.027487\n",
       "2018-12-26  0.081226  0.048403\n",
       "2018-12-27  0.007462  0.008526\n",
       "2018-12-28  0.001993 -0.001242\n",
       "2018-12-31  0.044228  0.008457\n",
       "\n",
       "[1258 rows x 2 columns]"
      ]
     },
     "execution_count": 21,
     "metadata": {},
     "output_type": "execute_result"
    }
   ],
   "source": [
    "stocks_return=np.log(stocks/stocks.shift(1 ))\n",
    "stocks_return"
   ]
  },
  {
   "cell_type": "markdown",
   "metadata": {},
   "source": [
    "#### • Calculating correlation\n"
   ]
  },
  {
   "cell_type": "code",
   "execution_count": 22,
   "metadata": {},
   "outputs": [
    {
     "data": {
      "text/html": [
       "<div>\n",
       "<style scoped>\n",
       "    .dataframe tbody tr th:only-of-type {\n",
       "        vertical-align: middle;\n",
       "    }\n",
       "\n",
       "    .dataframe tbody tr th {\n",
       "        vertical-align: top;\n",
       "    }\n",
       "\n",
       "    .dataframe thead th {\n",
       "        text-align: right;\n",
       "    }\n",
       "</style>\n",
       "<table border=\"1\" class=\"dataframe\">\n",
       "  <thead>\n",
       "    <tr style=\"text-align: right;\">\n",
       "      <th></th>\n",
       "      <th>NFLX</th>\n",
       "      <th>^GSPC</th>\n",
       "    </tr>\n",
       "  </thead>\n",
       "  <tbody>\n",
       "    <tr>\n",
       "      <th>NFLX</th>\n",
       "      <td>1.000000</td>\n",
       "      <td>0.467237</td>\n",
       "    </tr>\n",
       "    <tr>\n",
       "      <th>^GSPC</th>\n",
       "      <td>0.467237</td>\n",
       "      <td>1.000000</td>\n",
       "    </tr>\n",
       "  </tbody>\n",
       "</table>\n",
       "</div>"
      ],
      "text/plain": [
       "           NFLX     ^GSPC\n",
       "NFLX   1.000000  0.467237\n",
       "^GSPC  0.467237  1.000000"
      ]
     },
     "execution_count": 22,
     "metadata": {},
     "output_type": "execute_result"
    }
   ],
   "source": [
    "correlation=stocks_return.corr()\n",
    "correlation"
   ]
  },
  {
   "cell_type": "markdown",
   "metadata": {},
   "source": [
    "#### • Inserting Correlation into a variable\n"
   ]
  },
  {
   "cell_type": "code",
   "execution_count": 23,
   "metadata": {},
   "outputs": [
    {
     "name": "stdout",
     "output_type": "stream",
     "text": [
      "La correlación es: 0.46723651629586505\n"
     ]
    }
   ],
   "source": [
    "correlation_NFLX_GSPC=correlation.iloc[0,1 ]\n",
    "print('La correlación es:',correlation_NFLX_GSPC)"
   ]
  },
  {
   "cell_type": "markdown",
   "metadata": {},
   "source": [
    "#### • Netflix variance\n"
   ]
  },
  {
   "cell_type": "code",
   "execution_count": 24,
   "metadata": {},
   "outputs": [
    {
     "name": "stdout",
     "output_type": "stream",
     "text": [
      "La varianza de NETFLIX ES : 0.000726020198511706\n"
     ]
    }
   ],
   "source": [
    "variance_NFLX=stocks_return['NFLX' ].var()\n",
    "print('La varianza de NETFLIX ES :',variance_NFLX)"
   ]
  },
  {
   "cell_type": "markdown",
   "metadata": {},
   "source": [
    "#### • Market variance\n"
   ]
  },
  {
   "cell_type": "code",
   "execution_count": 25,
   "metadata": {},
   "outputs": [
    {
     "name": "stdout",
     "output_type": "stream",
     "text": [
      "La varianza del índice de mercado es : 6.965940963658532e-05\n"
     ]
    }
   ],
   "source": [
    "variance_GSPC=stocks_return['^GSPC' ].var()\n",
    "print('La varianza del índice de mercado es :',variance_GSPC)"
   ]
  },
  {
   "cell_type": "markdown",
   "metadata": {},
   "source": [
    "#### • Beta\n"
   ]
  },
  {
   "cell_type": "code",
   "execution_count": 26,
   "metadata": {},
   "outputs": [
    {
     "name": "stdout",
     "output_type": "stream",
     "text": [
      "Beta =  0.46723651629586505\n"
     ]
    }
   ],
   "source": [
    "beta_netflix=correlation_NFLX_GSPC * (variance_NFLX/variance_NFLX)\n",
    "print('Beta = ',beta_netflix)"
   ]
  },
  {
   "cell_type": "markdown",
   "metadata": {},
   "source": [
    "The beta above is annualized since the correlation is obtained by using all the data and comparing it. This is why the first formula is used more often because it is capable of representing the beta using daily information. Notice that correlation can change if the data is used daily, monthly or annually and this could lead to results that are not comparable.\n",
    "\n",
    "The next step is to interpret the beta coefficient. The interpretation of the beta coefficient is very useful since it helps understand the relation between a security and the market it trades. This is fundamental when analyzing a portfolio because it is imperative to comprehend what happens when the market moves with a certain security that is included in the portfolio (Table 4).\n",
    "\n",
    "The beta coefficients results:"
   ]
  },
  {
   "cell_type": "code",
   "execution_count": 27,
   "metadata": {},
   "outputs": [
    {
     "name": "stdout",
     "output_type": "stream",
     "text": [
      "BETA DISNEY = 0.9080500267505047\n",
      "BETA NETFLIX = 0.46723651629586505\n"
     ]
    }
   ],
   "source": [
    "print('BETA DISNEY =', beta_Disney)\n",
    "print('BETA NETFLIX =', beta_netflix)"
   ]
  },
  {
   "cell_type": "markdown",
   "metadata": {},
   "source": [
    "Both of them are less volatile than the market, meaning that if the S&P 500 shifts in an upward direction by 1% then Disney will shift by 0.91% and Netflix by 0.46%. The beta is important for analyzing the process in which the assets behave when compared to a market."
   ]
  },
  {
   "cell_type": "markdown",
   "metadata": {},
   "source": [
    "Table 4 The Beta Table\n",
    "\n",
    "- βi = 1 The asset is exactly as volatile as the market it is compared with\n",
    "\n",
    "- βi > 1 The asset is more volatile than the market it is compared with\n",
    "\n",
    "- βi < 1 > 0 The asset is less volatile than the market it is compared with\n",
    "\n",
    "- βi = 0 The asset is not correlated with the market it is compared with\n",
    "\n",
    "- βi < 0 Negatively correlated with the market it is compared with"
   ]
  },
  {
   "cell_type": "markdown",
   "metadata": {},
   "source": [
    "## The Beta and the CAPM\n",
    "\n",
    "The CAPM is considered part of the factor analysis because it allows the understanding of the relationship between variables. It is important to consider that when using the factor analysis, the key aspect understanding the relation of the correlated variables with the factors.\n",
    "\n",
    "The first step for developing the CAPM is calculate the excess returns. An excess return happens when the asset or portfolio exceeds the riskfree return. The equation is as follows:\n",
    "\n",
    "Equation 5: Excess return\n",
    "\n",
    "    Excess Return = Return − Risk Free Return\n",
    "\n",
    "A risk-free return can be defined as an investment that with zero risk (lowest risk possible) guarantees a return. Usually for the risk-free rate the U.S. Treasury Bills (known as T-Bills) are considered because they are backed by the U.S. Government and the risk of default is minimum.\n",
    "\n",
    "To understand the relation between the Risk-Free Return, the Beta and the CAPM the easiest way is to understand the model by its equation:\n",
    "\n",
    "Equation 6: Capital Asset Pricing Model\n",
    "\n",
    "    E(Rp) − RF = βp(E(Rm) − RF)\n",
    "\n",
    "E(Rp) − RF = The excess in the expected return of Portfolio P\n",
    "E(Rm) − RF = The excess expected return of market portfolio\n",
    "RF = Risk-Free Return\n",
    "βp = Beta of the portfolio\n",
    "\n",
    "According to the equation, the first step for calculating the CAPM is to create a portfolio. To create a portfolio, one must understand that it is composed of different assets and that those assets should have a different weight.\n",
    "\n",
    "The weights are known as portfolio weights and there are different methods for calculating the weights but the example will focus on the market value method seen before.\n",
    "\n"
   ]
  },
  {
   "cell_type": "code",
   "execution_count": 28,
   "metadata": {},
   "outputs": [],
   "source": [
    "import numpy as np\n",
    "import pandas as pd\n",
    "import datetime\n",
    "import matplotlib.pyplot as plt\n",
    "%matplotlib inline\n"
   ]
  },
  {
   "cell_type": "markdown",
   "metadata": {},
   "source": [
    "### • Creating a Portfolio with 4 variables"
   ]
  },
  {
   "cell_type": "code",
   "execution_count": 29,
   "metadata": {},
   "outputs": [
    {
     "name": "stderr",
     "output_type": "stream",
     "text": [
      "[*********************100%%**********************]  1 of 1 completed\n",
      "[*********************100%%**********************]  1 of 1 completed\n",
      "[*********************100%%**********************]  1 of 1 completed\n",
      "[*********************100%%**********************]  1 of 1 completed\n"
     ]
    },
    {
     "name": "stdout",
     "output_type": "stream",
     "text": [
      "Fecha de Inicio = 2014-01-01 00:00:00\n",
      "Fecha de Fin= 2019-01-01 00:00:00\n",
      "Tickers = ['NFLX', 'DIS', 'TSLA', 'AMZN']\n",
      "                  NFLX         DIS       TSLA       AMZN\n",
      "Date                                                    \n",
      "2014-01-02   51.831429   76.269997  10.006667  19.898500\n",
      "2014-01-03   51.871429   76.110001   9.970667  19.822001\n",
      "2014-01-06   51.367142   75.820000   9.800000  19.681499\n",
      "2014-01-07   48.500000   76.339996   9.957333  19.901501\n",
      "2014-01-08   48.712856   75.220001  10.085333  20.096001\n",
      "...                ...         ...        ...        ...\n",
      "2018-12-24  233.880005  100.349998  19.692667  67.197998\n",
      "2018-12-26  253.669998  105.830002  21.739332  73.544998\n",
      "2018-12-27  255.570007  106.519997  21.075333  73.082001\n",
      "2018-12-28  256.079987  107.300003  22.257999  73.901001\n",
      "2018-12-31  267.660004  109.650002  22.186666  75.098503\n",
      "\n",
      "[1258 rows x 4 columns]\n"
     ]
    }
   ],
   "source": [
    "start=datetime.datetime(2014,1,1)\n",
    "end=datetime.datetime(2019,1,1)\n",
    "tickers=['NFLX','DIS','TSLA','AMZN']\n",
    "stocks=pd.DataFrame()\n",
    "for x in tickers:\n",
    "    stocks[x]=yf.download(x, start, end)['Close']\n",
    "\n",
    "print('Fecha de Inicio =', start)\n",
    "print('Fecha de Fin=',end)\n",
    "print('Tickers =',tickers)\n",
    "print(stocks)"
   ]
  },
  {
   "cell_type": "markdown",
   "metadata": {},
   "source": [
    "The second step when building a portfolio is identifying the weights that the model will consider. For this it is important to know how much money is going to be invested in the model. For this example, the investment will be of USD 500,000 and it will be distributed according to the following information (Table 5):\n",
    "\n",
    "Table 5 Investing USD 500,000\n",
    "\n",
    "Company                     Investment      Portfolio Weight\n",
    "Telsa Inc                   130,000             26%\n",
    "Netflix Inc                 100,000             20%\n",
    "Amazon.com, Inc             170,000             34%\n",
    "Walt Disney Company (The)   100,000             20%\n",
    "Total                       500,000            100%\n",
    "\n",
    "Considering the above, the subsequent step is to be familiar with the construction of the portfolio based on the company that is going to be chosen. One of the key aspects is that the sum of the portfolio weights has to add to a 100% or to 1 depending on if you are using decimal or percentage. This is important because of the portfolio return formula given below:\n",
    "\n",
    "Equation 7: Portfolio Return\n",
    "\n",
    "    Rp = Ra1wa1 + Ra2wa2 + Ra3wa3 + . . . + Ranwax\n",
    "\n",
    "Rp = Return of the portfolio\n",
    "Ra1 = Return of the first asset\n",
    "wa1 = Weight of the first asset.\n",
    "\n",
    "### • Weights for the portfolio\n",
    "\n",
    "\n",
    "\n"
   ]
  },
  {
   "cell_type": "code",
   "execution_count": 30,
   "metadata": {},
   "outputs": [
    {
     "name": "stdout",
     "output_type": "stream",
     "text": [
      "Pesos del Portafolio = [0.3  0.2  0.25 0.25]\n"
     ]
    }
   ],
   "source": [
    "portfolio_weights = np.array([0.30, 0.20, 0.25, 0.25 ])\n",
    "print('Pesos del Portafolio =', portfolio_weights)"
   ]
  },
  {
   "cell_type": "markdown",
   "metadata": {},
   "source": [
    "### • Create logarithmic returns in the portfolio"
   ]
  },
  {
   "cell_type": "code",
   "execution_count": 31,
   "metadata": {},
   "outputs": [
    {
     "data": {
      "text/html": [
       "<div>\n",
       "<style scoped>\n",
       "    .dataframe tbody tr th:only-of-type {\n",
       "        vertical-align: middle;\n",
       "    }\n",
       "\n",
       "    .dataframe tbody tr th {\n",
       "        vertical-align: top;\n",
       "    }\n",
       "\n",
       "    .dataframe thead th {\n",
       "        text-align: right;\n",
       "    }\n",
       "</style>\n",
       "<table border=\"1\" class=\"dataframe\">\n",
       "  <thead>\n",
       "    <tr style=\"text-align: right;\">\n",
       "      <th></th>\n",
       "      <th>NFLX</th>\n",
       "      <th>DIS</th>\n",
       "      <th>TSLA</th>\n",
       "      <th>AMZN</th>\n",
       "    </tr>\n",
       "    <tr>\n",
       "      <th>Date</th>\n",
       "      <th></th>\n",
       "      <th></th>\n",
       "      <th></th>\n",
       "      <th></th>\n",
       "    </tr>\n",
       "  </thead>\n",
       "  <tbody>\n",
       "    <tr>\n",
       "      <th>2014-01-02</th>\n",
       "      <td>NaN</td>\n",
       "      <td>NaN</td>\n",
       "      <td>NaN</td>\n",
       "      <td>NaN</td>\n",
       "    </tr>\n",
       "    <tr>\n",
       "      <th>2014-01-03</th>\n",
       "      <td>0.000771</td>\n",
       "      <td>-0.002100</td>\n",
       "      <td>-0.003604</td>\n",
       "      <td>-0.003852</td>\n",
       "    </tr>\n",
       "    <tr>\n",
       "      <th>2014-01-06</th>\n",
       "      <td>-0.009769</td>\n",
       "      <td>-0.003818</td>\n",
       "      <td>-0.017265</td>\n",
       "      <td>-0.007113</td>\n",
       "    </tr>\n",
       "    <tr>\n",
       "      <th>2014-01-07</th>\n",
       "      <td>-0.057435</td>\n",
       "      <td>0.006835</td>\n",
       "      <td>0.015927</td>\n",
       "      <td>0.011116</td>\n",
       "    </tr>\n",
       "    <tr>\n",
       "      <th>2014-01-08</th>\n",
       "      <td>0.004379</td>\n",
       "      <td>-0.014780</td>\n",
       "      <td>0.012773</td>\n",
       "      <td>0.009726</td>\n",
       "    </tr>\n",
       "    <tr>\n",
       "      <th>...</th>\n",
       "      <td>...</td>\n",
       "      <td>...</td>\n",
       "      <td>...</td>\n",
       "      <td>...</td>\n",
       "    </tr>\n",
       "    <tr>\n",
       "      <th>2018-12-24</th>\n",
       "      <td>-0.052107</td>\n",
       "      <td>-0.037840</td>\n",
       "      <td>-0.079305</td>\n",
       "      <td>-0.024613</td>\n",
       "    </tr>\n",
       "    <tr>\n",
       "      <th>2018-12-26</th>\n",
       "      <td>0.081226</td>\n",
       "      <td>0.053170</td>\n",
       "      <td>0.098877</td>\n",
       "      <td>0.090254</td>\n",
       "    </tr>\n",
       "    <tr>\n",
       "      <th>2018-12-27</th>\n",
       "      <td>0.007462</td>\n",
       "      <td>0.006499</td>\n",
       "      <td>-0.031020</td>\n",
       "      <td>-0.006315</td>\n",
       "    </tr>\n",
       "    <tr>\n",
       "      <th>2018-12-28</th>\n",
       "      <td>0.001993</td>\n",
       "      <td>0.007296</td>\n",
       "      <td>0.054598</td>\n",
       "      <td>0.011144</td>\n",
       "    </tr>\n",
       "    <tr>\n",
       "      <th>2018-12-31</th>\n",
       "      <td>0.044228</td>\n",
       "      <td>0.021665</td>\n",
       "      <td>-0.003210</td>\n",
       "      <td>0.016074</td>\n",
       "    </tr>\n",
       "  </tbody>\n",
       "</table>\n",
       "<p>1258 rows × 4 columns</p>\n",
       "</div>"
      ],
      "text/plain": [
       "                NFLX       DIS      TSLA      AMZN\n",
       "Date                                              \n",
       "2014-01-02       NaN       NaN       NaN       NaN\n",
       "2014-01-03  0.000771 -0.002100 -0.003604 -0.003852\n",
       "2014-01-06 -0.009769 -0.003818 -0.017265 -0.007113\n",
       "2014-01-07 -0.057435  0.006835  0.015927  0.011116\n",
       "2014-01-08  0.004379 -0.014780  0.012773  0.009726\n",
       "...              ...       ...       ...       ...\n",
       "2018-12-24 -0.052107 -0.037840 -0.079305 -0.024613\n",
       "2018-12-26  0.081226  0.053170  0.098877  0.090254\n",
       "2018-12-27  0.007462  0.006499 -0.031020 -0.006315\n",
       "2018-12-28  0.001993  0.007296  0.054598  0.011144\n",
       "2018-12-31  0.044228  0.021665 -0.003210  0.016074\n",
       "\n",
       "[1258 rows x 4 columns]"
      ]
     },
     "execution_count": 31,
     "metadata": {},
     "output_type": "execute_result"
    }
   ],
   "source": [
    "stocks_return=np.log(stocks/stocks.shift(1 ))\n",
    "stocks_return"
   ]
  },
  {
   "cell_type": "markdown",
   "metadata": {},
   "source": [
    "### • Drop missing values in the series and visualize the data"
   ]
  },
  {
   "cell_type": "code",
   "execution_count": 32,
   "metadata": {},
   "outputs": [
    {
     "data": {
      "text/html": [
       "<div>\n",
       "<style scoped>\n",
       "    .dataframe tbody tr th:only-of-type {\n",
       "        vertical-align: middle;\n",
       "    }\n",
       "\n",
       "    .dataframe tbody tr th {\n",
       "        vertical-align: top;\n",
       "    }\n",
       "\n",
       "    .dataframe thead th {\n",
       "        text-align: right;\n",
       "    }\n",
       "</style>\n",
       "<table border=\"1\" class=\"dataframe\">\n",
       "  <thead>\n",
       "    <tr style=\"text-align: right;\">\n",
       "      <th></th>\n",
       "      <th>NFLX</th>\n",
       "      <th>DIS</th>\n",
       "      <th>TSLA</th>\n",
       "      <th>AMZN</th>\n",
       "    </tr>\n",
       "    <tr>\n",
       "      <th>Date</th>\n",
       "      <th></th>\n",
       "      <th></th>\n",
       "      <th></th>\n",
       "      <th></th>\n",
       "    </tr>\n",
       "  </thead>\n",
       "  <tbody>\n",
       "    <tr>\n",
       "      <th>2014-01-03</th>\n",
       "      <td>0.000771</td>\n",
       "      <td>-0.002100</td>\n",
       "      <td>-0.003604</td>\n",
       "      <td>-0.003852</td>\n",
       "    </tr>\n",
       "    <tr>\n",
       "      <th>2014-01-06</th>\n",
       "      <td>-0.009769</td>\n",
       "      <td>-0.003818</td>\n",
       "      <td>-0.017265</td>\n",
       "      <td>-0.007113</td>\n",
       "    </tr>\n",
       "    <tr>\n",
       "      <th>2014-01-07</th>\n",
       "      <td>-0.057435</td>\n",
       "      <td>0.006835</td>\n",
       "      <td>0.015927</td>\n",
       "      <td>0.011116</td>\n",
       "    </tr>\n",
       "    <tr>\n",
       "      <th>2014-01-08</th>\n",
       "      <td>0.004379</td>\n",
       "      <td>-0.014780</td>\n",
       "      <td>0.012773</td>\n",
       "      <td>0.009726</td>\n",
       "    </tr>\n",
       "    <tr>\n",
       "      <th>2014-01-09</th>\n",
       "      <td>-0.011622</td>\n",
       "      <td>-0.004263</td>\n",
       "      <td>-0.025101</td>\n",
       "      <td>-0.002267</td>\n",
       "    </tr>\n",
       "  </tbody>\n",
       "</table>\n",
       "</div>"
      ],
      "text/plain": [
       "                NFLX       DIS      TSLA      AMZN\n",
       "Date                                              \n",
       "2014-01-03  0.000771 -0.002100 -0.003604 -0.003852\n",
       "2014-01-06 -0.009769 -0.003818 -0.017265 -0.007113\n",
       "2014-01-07 -0.057435  0.006835  0.015927  0.011116\n",
       "2014-01-08  0.004379 -0.014780  0.012773  0.009726\n",
       "2014-01-09 -0.011622 -0.004263 -0.025101 -0.002267"
      ]
     },
     "execution_count": 32,
     "metadata": {},
     "output_type": "execute_result"
    }
   ],
   "source": [
    "stocks_return.dropna().head()"
   ]
  },
  {
   "cell_type": "markdown",
   "metadata": {},
   "source": [
    "### • Calculate the weighted stock returns of the portfolio"
   ]
  },
  {
   "cell_type": "code",
   "execution_count": 33,
   "metadata": {},
   "outputs": [
    {
     "data": {
      "text/html": [
       "<div>\n",
       "<style scoped>\n",
       "    .dataframe tbody tr th:only-of-type {\n",
       "        vertical-align: middle;\n",
       "    }\n",
       "\n",
       "    .dataframe tbody tr th {\n",
       "        vertical-align: top;\n",
       "    }\n",
       "\n",
       "    .dataframe thead th {\n",
       "        text-align: right;\n",
       "    }\n",
       "</style>\n",
       "<table border=\"1\" class=\"dataframe\">\n",
       "  <thead>\n",
       "    <tr style=\"text-align: right;\">\n",
       "      <th></th>\n",
       "      <th>NFLX</th>\n",
       "      <th>DIS</th>\n",
       "      <th>TSLA</th>\n",
       "      <th>AMZN</th>\n",
       "    </tr>\n",
       "    <tr>\n",
       "      <th>Date</th>\n",
       "      <th></th>\n",
       "      <th></th>\n",
       "      <th></th>\n",
       "      <th></th>\n",
       "    </tr>\n",
       "  </thead>\n",
       "  <tbody>\n",
       "    <tr>\n",
       "      <th>2014-01-02</th>\n",
       "      <td>NaN</td>\n",
       "      <td>NaN</td>\n",
       "      <td>NaN</td>\n",
       "      <td>NaN</td>\n",
       "    </tr>\n",
       "    <tr>\n",
       "      <th>2014-01-03</th>\n",
       "      <td>0.000231</td>\n",
       "      <td>-0.000420</td>\n",
       "      <td>-0.000901</td>\n",
       "      <td>-0.000963</td>\n",
       "    </tr>\n",
       "    <tr>\n",
       "      <th>2014-01-06</th>\n",
       "      <td>-0.002931</td>\n",
       "      <td>-0.000764</td>\n",
       "      <td>-0.004316</td>\n",
       "      <td>-0.001778</td>\n",
       "    </tr>\n",
       "    <tr>\n",
       "      <th>2014-01-07</th>\n",
       "      <td>-0.017230</td>\n",
       "      <td>0.001367</td>\n",
       "      <td>0.003982</td>\n",
       "      <td>0.002779</td>\n",
       "    </tr>\n",
       "    <tr>\n",
       "      <th>2014-01-08</th>\n",
       "      <td>0.001314</td>\n",
       "      <td>-0.002956</td>\n",
       "      <td>0.003193</td>\n",
       "      <td>0.002431</td>\n",
       "    </tr>\n",
       "    <tr>\n",
       "      <th>...</th>\n",
       "      <td>...</td>\n",
       "      <td>...</td>\n",
       "      <td>...</td>\n",
       "      <td>...</td>\n",
       "    </tr>\n",
       "    <tr>\n",
       "      <th>2018-12-24</th>\n",
       "      <td>-0.015632</td>\n",
       "      <td>-0.007568</td>\n",
       "      <td>-0.019826</td>\n",
       "      <td>-0.006153</td>\n",
       "    </tr>\n",
       "    <tr>\n",
       "      <th>2018-12-26</th>\n",
       "      <td>0.024368</td>\n",
       "      <td>0.010634</td>\n",
       "      <td>0.024719</td>\n",
       "      <td>0.022563</td>\n",
       "    </tr>\n",
       "    <tr>\n",
       "      <th>2018-12-27</th>\n",
       "      <td>0.002239</td>\n",
       "      <td>0.001300</td>\n",
       "      <td>-0.007755</td>\n",
       "      <td>-0.001579</td>\n",
       "    </tr>\n",
       "    <tr>\n",
       "      <th>2018-12-28</th>\n",
       "      <td>0.000598</td>\n",
       "      <td>0.001459</td>\n",
       "      <td>0.013650</td>\n",
       "      <td>0.002786</td>\n",
       "    </tr>\n",
       "    <tr>\n",
       "      <th>2018-12-31</th>\n",
       "      <td>0.013268</td>\n",
       "      <td>0.004333</td>\n",
       "      <td>-0.000802</td>\n",
       "      <td>0.004019</td>\n",
       "    </tr>\n",
       "  </tbody>\n",
       "</table>\n",
       "<p>1258 rows × 4 columns</p>\n",
       "</div>"
      ],
      "text/plain": [
       "                NFLX       DIS      TSLA      AMZN\n",
       "Date                                              \n",
       "2014-01-02       NaN       NaN       NaN       NaN\n",
       "2014-01-03  0.000231 -0.000420 -0.000901 -0.000963\n",
       "2014-01-06 -0.002931 -0.000764 -0.004316 -0.001778\n",
       "2014-01-07 -0.017230  0.001367  0.003982  0.002779\n",
       "2014-01-08  0.001314 -0.002956  0.003193  0.002431\n",
       "...              ...       ...       ...       ...\n",
       "2018-12-24 -0.015632 -0.007568 -0.019826 -0.006153\n",
       "2018-12-26  0.024368  0.010634  0.024719  0.022563\n",
       "2018-12-27  0.002239  0.001300 -0.007755 -0.001579\n",
       "2018-12-28  0.000598  0.001459  0.013650  0.002786\n",
       "2018-12-31  0.013268  0.004333 -0.000802  0.004019\n",
       "\n",
       "[1258 rows x 4 columns]"
      ]
     },
     "execution_count": 33,
     "metadata": {},
     "output_type": "execute_result"
    }
   ],
   "source": [
    "weighted_returns_portfolio = stocks_return.mul(portfolio_weights, axis=1 )\n",
    "weighted_returns_portfolio"
   ]
  },
  {
   "cell_type": "markdown",
   "metadata": {},
   "source": [
    "### • Calculating the returns of a portfolio"
   ]
  },
  {
   "cell_type": "code",
   "execution_count": 34,
   "metadata": {},
   "outputs": [
    {
     "data": {
      "text/html": [
       "<div>\n",
       "<style scoped>\n",
       "    .dataframe tbody tr th:only-of-type {\n",
       "        vertical-align: middle;\n",
       "    }\n",
       "\n",
       "    .dataframe tbody tr th {\n",
       "        vertical-align: top;\n",
       "    }\n",
       "\n",
       "    .dataframe thead th {\n",
       "        text-align: right;\n",
       "    }\n",
       "</style>\n",
       "<table border=\"1\" class=\"dataframe\">\n",
       "  <thead>\n",
       "    <tr style=\"text-align: right;\">\n",
       "      <th></th>\n",
       "      <th>NFLX</th>\n",
       "      <th>DIS</th>\n",
       "      <th>TSLA</th>\n",
       "      <th>AMZN</th>\n",
       "      <th>Portfolio</th>\n",
       "    </tr>\n",
       "    <tr>\n",
       "      <th>Date</th>\n",
       "      <th></th>\n",
       "      <th></th>\n",
       "      <th></th>\n",
       "      <th></th>\n",
       "      <th></th>\n",
       "    </tr>\n",
       "  </thead>\n",
       "  <tbody>\n",
       "    <tr>\n",
       "      <th>2014-01-02</th>\n",
       "      <td>NaN</td>\n",
       "      <td>NaN</td>\n",
       "      <td>NaN</td>\n",
       "      <td>NaN</td>\n",
       "      <td>0.000000</td>\n",
       "    </tr>\n",
       "    <tr>\n",
       "      <th>2014-01-03</th>\n",
       "      <td>0.000771</td>\n",
       "      <td>-0.002100</td>\n",
       "      <td>-0.003604</td>\n",
       "      <td>-0.003852</td>\n",
       "      <td>-0.002053</td>\n",
       "    </tr>\n",
       "    <tr>\n",
       "      <th>2014-01-06</th>\n",
       "      <td>-0.009769</td>\n",
       "      <td>-0.003818</td>\n",
       "      <td>-0.017265</td>\n",
       "      <td>-0.007113</td>\n",
       "      <td>-0.009789</td>\n",
       "    </tr>\n",
       "    <tr>\n",
       "      <th>2014-01-07</th>\n",
       "      <td>-0.057435</td>\n",
       "      <td>0.006835</td>\n",
       "      <td>0.015927</td>\n",
       "      <td>0.011116</td>\n",
       "      <td>-0.009103</td>\n",
       "    </tr>\n",
       "    <tr>\n",
       "      <th>2014-01-08</th>\n",
       "      <td>0.004379</td>\n",
       "      <td>-0.014780</td>\n",
       "      <td>0.012773</td>\n",
       "      <td>0.009726</td>\n",
       "      <td>0.003982</td>\n",
       "    </tr>\n",
       "    <tr>\n",
       "      <th>...</th>\n",
       "      <td>...</td>\n",
       "      <td>...</td>\n",
       "      <td>...</td>\n",
       "      <td>...</td>\n",
       "      <td>...</td>\n",
       "    </tr>\n",
       "    <tr>\n",
       "      <th>2018-12-24</th>\n",
       "      <td>-0.052107</td>\n",
       "      <td>-0.037840</td>\n",
       "      <td>-0.079305</td>\n",
       "      <td>-0.024613</td>\n",
       "      <td>-0.049180</td>\n",
       "    </tr>\n",
       "    <tr>\n",
       "      <th>2018-12-26</th>\n",
       "      <td>0.081226</td>\n",
       "      <td>0.053170</td>\n",
       "      <td>0.098877</td>\n",
       "      <td>0.090254</td>\n",
       "      <td>0.082285</td>\n",
       "    </tr>\n",
       "    <tr>\n",
       "      <th>2018-12-27</th>\n",
       "      <td>0.007462</td>\n",
       "      <td>0.006499</td>\n",
       "      <td>-0.031020</td>\n",
       "      <td>-0.006315</td>\n",
       "      <td>-0.005795</td>\n",
       "    </tr>\n",
       "    <tr>\n",
       "      <th>2018-12-28</th>\n",
       "      <td>0.001993</td>\n",
       "      <td>0.007296</td>\n",
       "      <td>0.054598</td>\n",
       "      <td>0.011144</td>\n",
       "      <td>0.018493</td>\n",
       "    </tr>\n",
       "    <tr>\n",
       "      <th>2018-12-31</th>\n",
       "      <td>0.044228</td>\n",
       "      <td>0.021665</td>\n",
       "      <td>-0.003210</td>\n",
       "      <td>0.016074</td>\n",
       "      <td>0.020817</td>\n",
       "    </tr>\n",
       "  </tbody>\n",
       "</table>\n",
       "<p>1258 rows × 5 columns</p>\n",
       "</div>"
      ],
      "text/plain": [
       "                NFLX       DIS      TSLA      AMZN  Portfolio\n",
       "Date                                                         \n",
       "2014-01-02       NaN       NaN       NaN       NaN   0.000000\n",
       "2014-01-03  0.000771 -0.002100 -0.003604 -0.003852  -0.002053\n",
       "2014-01-06 -0.009769 -0.003818 -0.017265 -0.007113  -0.009789\n",
       "2014-01-07 -0.057435  0.006835  0.015927  0.011116  -0.009103\n",
       "2014-01-08  0.004379 -0.014780  0.012773  0.009726   0.003982\n",
       "...              ...       ...       ...       ...        ...\n",
       "2018-12-24 -0.052107 -0.037840 -0.079305 -0.024613  -0.049180\n",
       "2018-12-26  0.081226  0.053170  0.098877  0.090254   0.082285\n",
       "2018-12-27  0.007462  0.006499 -0.031020 -0.006315  -0.005795\n",
       "2018-12-28  0.001993  0.007296  0.054598  0.011144   0.018493\n",
       "2018-12-31  0.044228  0.021665 -0.003210  0.016074   0.020817\n",
       "\n",
       "[1258 rows x 5 columns]"
      ]
     },
     "execution_count": 34,
     "metadata": {},
     "output_type": "execute_result"
    }
   ],
   "source": [
    "stocks_return['Portfolio' ]=weighted_returns_portfolio.sum(axis=1 )\n",
    "stocks_return"
   ]
  },
  {
   "cell_type": "markdown",
   "metadata": {},
   "source": [
    "### • Calculate the cumulative returns of the portfolio and plot them"
   ]
  },
  {
   "cell_type": "code",
   "execution_count": 35,
   "metadata": {},
   "outputs": [
    {
     "data": {
      "image/png": "[encoded data removed]",
      "text/plain": [
       "<Figure size 1900x800 with 1 Axes>"
      ]
     },
     "metadata": {},
     "output_type": "display_data"
    }
   ],
   "source": [
    "cumulative_returns_porfolio = ((1 + stocks_return['Portfolio' ]).cumprod()-1)\n",
    "cumulative_returns_porfolio\n",
    "cumulative_returns_porfolio.plot(label= 'Cumulative Returns of the Portfolio'\n",
    "                                 ,figsize=(19,8)\n",
    "                                 ,title='Cumulative Returns')\n",
    "_=plt.xlabel('Date' )\n",
    "_=plt.ylabel('Portfolio Cumulative Return' )"
   ]
  },
  {
   "cell_type": "markdown",
   "metadata": {},
   "source": [
    "The example above is a perfect example for understanding the behavior of a portfolio considering four companies. As the plot above demonstrates, the portfolio went from a cumulative return of approximately 0.4 in 2015 to above 2.0 in 2018. The last part of the graph exemplifies an interesting fall considering the portfolio (Fig. 1).\n",
    "\n",
    "As the CAPM model specifies, it is important to calculate the excess based on the difference of the Risk-Free Rate and the Portfolio Returns. To choose the risk-free rate concerning a T-Bill should be based on the duration of the investment. For example, if the portfolio that is being built is aimed at 10 years then T-Bill that is appropriate is the 10-year T-Bill.\n",
    "\n",
    "To calculate the real risk-free rate the process is as follows:\n",
    "\n",
    "Equation 8: Real Risk\n",
    "\n",
    "    Real Risk − Free Rate = (Risk Free − Rate − Inflation)\n",
    "\n",
    "At the time consulted for the present chapter, the T-Bill yield for 10 years was 2.53% and the inflation was 1.5%. The result of the real riskfree rate is 1.03%. If the model is using the real risk-free rate the column shall be added:\n",
    "\n",
    "### • Add the real risk-free rate column\n",
    "\n"
   ]
  },
  {
   "cell_type": "code",
   "execution_count": 36,
   "metadata": {},
   "outputs": [
    {
     "data": {
      "text/html": [
       "<div>\n",
       "<style scoped>\n",
       "    .dataframe tbody tr th:only-of-type {\n",
       "        vertical-align: middle;\n",
       "    }\n",
       "\n",
       "    .dataframe tbody tr th {\n",
       "        vertical-align: top;\n",
       "    }\n",
       "\n",
       "    .dataframe thead th {\n",
       "        text-align: right;\n",
       "    }\n",
       "</style>\n",
       "<table border=\"1\" class=\"dataframe\">\n",
       "  <thead>\n",
       "    <tr style=\"text-align: right;\">\n",
       "      <th></th>\n",
       "      <th>NFLX</th>\n",
       "      <th>DIS</th>\n",
       "      <th>TSLA</th>\n",
       "      <th>AMZN</th>\n",
       "      <th>Portfolio</th>\n",
       "      <th>RF Rate</th>\n",
       "    </tr>\n",
       "    <tr>\n",
       "      <th>Date</th>\n",
       "      <th></th>\n",
       "      <th></th>\n",
       "      <th></th>\n",
       "      <th></th>\n",
       "      <th></th>\n",
       "      <th></th>\n",
       "    </tr>\n",
       "  </thead>\n",
       "  <tbody>\n",
       "    <tr>\n",
       "      <th>2014-01-02</th>\n",
       "      <td>NaN</td>\n",
       "      <td>NaN</td>\n",
       "      <td>NaN</td>\n",
       "      <td>NaN</td>\n",
       "      <td>0.000000</td>\n",
       "      <td>0.0103</td>\n",
       "    </tr>\n",
       "    <tr>\n",
       "      <th>2014-01-03</th>\n",
       "      <td>0.000771</td>\n",
       "      <td>-0.002100</td>\n",
       "      <td>-0.003604</td>\n",
       "      <td>-0.003852</td>\n",
       "      <td>-0.002053</td>\n",
       "      <td>0.0103</td>\n",
       "    </tr>\n",
       "    <tr>\n",
       "      <th>2014-01-06</th>\n",
       "      <td>-0.009769</td>\n",
       "      <td>-0.003818</td>\n",
       "      <td>-0.017265</td>\n",
       "      <td>-0.007113</td>\n",
       "      <td>-0.009789</td>\n",
       "      <td>0.0103</td>\n",
       "    </tr>\n",
       "    <tr>\n",
       "      <th>2014-01-07</th>\n",
       "      <td>-0.057435</td>\n",
       "      <td>0.006835</td>\n",
       "      <td>0.015927</td>\n",
       "      <td>0.011116</td>\n",
       "      <td>-0.009103</td>\n",
       "      <td>0.0103</td>\n",
       "    </tr>\n",
       "    <tr>\n",
       "      <th>2014-01-08</th>\n",
       "      <td>0.004379</td>\n",
       "      <td>-0.014780</td>\n",
       "      <td>0.012773</td>\n",
       "      <td>0.009726</td>\n",
       "      <td>0.003982</td>\n",
       "      <td>0.0103</td>\n",
       "    </tr>\n",
       "    <tr>\n",
       "      <th>...</th>\n",
       "      <td>...</td>\n",
       "      <td>...</td>\n",
       "      <td>...</td>\n",
       "      <td>...</td>\n",
       "      <td>...</td>\n",
       "      <td>...</td>\n",
       "    </tr>\n",
       "    <tr>\n",
       "      <th>2018-12-24</th>\n",
       "      <td>-0.052107</td>\n",
       "      <td>-0.037840</td>\n",
       "      <td>-0.079305</td>\n",
       "      <td>-0.024613</td>\n",
       "      <td>-0.049180</td>\n",
       "      <td>0.0103</td>\n",
       "    </tr>\n",
       "    <tr>\n",
       "      <th>2018-12-26</th>\n",
       "      <td>0.081226</td>\n",
       "      <td>0.053170</td>\n",
       "      <td>0.098877</td>\n",
       "      <td>0.090254</td>\n",
       "      <td>0.082285</td>\n",
       "      <td>0.0103</td>\n",
       "    </tr>\n",
       "    <tr>\n",
       "      <th>2018-12-27</th>\n",
       "      <td>0.007462</td>\n",
       "      <td>0.006499</td>\n",
       "      <td>-0.031020</td>\n",
       "      <td>-0.006315</td>\n",
       "      <td>-0.005795</td>\n",
       "      <td>0.0103</td>\n",
       "    </tr>\n",
       "    <tr>\n",
       "      <th>2018-12-28</th>\n",
       "      <td>0.001993</td>\n",
       "      <td>0.007296</td>\n",
       "      <td>0.054598</td>\n",
       "      <td>0.011144</td>\n",
       "      <td>0.018493</td>\n",
       "      <td>0.0103</td>\n",
       "    </tr>\n",
       "    <tr>\n",
       "      <th>2018-12-31</th>\n",
       "      <td>0.044228</td>\n",
       "      <td>0.021665</td>\n",
       "      <td>-0.003210</td>\n",
       "      <td>0.016074</td>\n",
       "      <td>0.020817</td>\n",
       "      <td>0.0103</td>\n",
       "    </tr>\n",
       "  </tbody>\n",
       "</table>\n",
       "<p>1258 rows × 6 columns</p>\n",
       "</div>"
      ],
      "text/plain": [
       "                NFLX       DIS      TSLA      AMZN  Portfolio  RF Rate\n",
       "Date                                                                  \n",
       "2014-01-02       NaN       NaN       NaN       NaN   0.000000   0.0103\n",
       "2014-01-03  0.000771 -0.002100 -0.003604 -0.003852  -0.002053   0.0103\n",
       "2014-01-06 -0.009769 -0.003818 -0.017265 -0.007113  -0.009789   0.0103\n",
       "2014-01-07 -0.057435  0.006835  0.015927  0.011116  -0.009103   0.0103\n",
       "2014-01-08  0.004379 -0.014780  0.012773  0.009726   0.003982   0.0103\n",
       "...              ...       ...       ...       ...        ...      ...\n",
       "2018-12-24 -0.052107 -0.037840 -0.079305 -0.024613  -0.049180   0.0103\n",
       "2018-12-26  0.081226  0.053170  0.098877  0.090254   0.082285   0.0103\n",
       "2018-12-27  0.007462  0.006499 -0.031020 -0.006315  -0.005795   0.0103\n",
       "2018-12-28  0.001993  0.007296  0.054598  0.011144   0.018493   0.0103\n",
       "2018-12-31  0.044228  0.021665 -0.003210  0.016074   0.020817   0.0103\n",
       "\n",
       "[1258 rows x 6 columns]"
      ]
     },
     "execution_count": 36,
     "metadata": {},
     "output_type": "execute_result"
    }
   ],
   "source": [
    "stocks_return['RF Rate' ]=0.0103\n",
    "stocks_return"
   ]
  },
  {
   "cell_type": "markdown",
   "metadata": {},
   "source": [
    "With the column of the real risk-free rate and the portfolio returns, the excess can be calculated very easy:"
   ]
  },
  {
   "cell_type": "code",
   "execution_count": 37,
   "metadata": {},
   "outputs": [
    {
     "data": {
      "text/html": [
       "<div>\n",
       "<style scoped>\n",
       "    .dataframe tbody tr th:only-of-type {\n",
       "        vertical-align: middle;\n",
       "    }\n",
       "\n",
       "    .dataframe tbody tr th {\n",
       "        vertical-align: top;\n",
       "    }\n",
       "\n",
       "    .dataframe thead th {\n",
       "        text-align: right;\n",
       "    }\n",
       "</style>\n",
       "<table border=\"1\" class=\"dataframe\">\n",
       "  <thead>\n",
       "    <tr style=\"text-align: right;\">\n",
       "      <th></th>\n",
       "      <th>NFLX</th>\n",
       "      <th>DIS</th>\n",
       "      <th>TSLA</th>\n",
       "      <th>AMZN</th>\n",
       "      <th>Portfolio</th>\n",
       "      <th>RF Rate</th>\n",
       "      <th>excess</th>\n",
       "    </tr>\n",
       "    <tr>\n",
       "      <th>Date</th>\n",
       "      <th></th>\n",
       "      <th></th>\n",
       "      <th></th>\n",
       "      <th></th>\n",
       "      <th></th>\n",
       "      <th></th>\n",
       "      <th></th>\n",
       "    </tr>\n",
       "  </thead>\n",
       "  <tbody>\n",
       "    <tr>\n",
       "      <th>2014-01-02</th>\n",
       "      <td>NaN</td>\n",
       "      <td>NaN</td>\n",
       "      <td>NaN</td>\n",
       "      <td>NaN</td>\n",
       "      <td>0.000000</td>\n",
       "      <td>0.0103</td>\n",
       "      <td>-0.010300</td>\n",
       "    </tr>\n",
       "    <tr>\n",
       "      <th>2014-01-03</th>\n",
       "      <td>0.000771</td>\n",
       "      <td>-0.002100</td>\n",
       "      <td>-0.003604</td>\n",
       "      <td>-0.003852</td>\n",
       "      <td>-0.002053</td>\n",
       "      <td>0.0103</td>\n",
       "      <td>-0.012353</td>\n",
       "    </tr>\n",
       "    <tr>\n",
       "      <th>2014-01-06</th>\n",
       "      <td>-0.009769</td>\n",
       "      <td>-0.003818</td>\n",
       "      <td>-0.017265</td>\n",
       "      <td>-0.007113</td>\n",
       "      <td>-0.009789</td>\n",
       "      <td>0.0103</td>\n",
       "      <td>-0.020089</td>\n",
       "    </tr>\n",
       "    <tr>\n",
       "      <th>2014-01-07</th>\n",
       "      <td>-0.057435</td>\n",
       "      <td>0.006835</td>\n",
       "      <td>0.015927</td>\n",
       "      <td>0.011116</td>\n",
       "      <td>-0.009103</td>\n",
       "      <td>0.0103</td>\n",
       "      <td>-0.019403</td>\n",
       "    </tr>\n",
       "    <tr>\n",
       "      <th>2014-01-08</th>\n",
       "      <td>0.004379</td>\n",
       "      <td>-0.014780</td>\n",
       "      <td>0.012773</td>\n",
       "      <td>0.009726</td>\n",
       "      <td>0.003982</td>\n",
       "      <td>0.0103</td>\n",
       "      <td>-0.006318</td>\n",
       "    </tr>\n",
       "    <tr>\n",
       "      <th>...</th>\n",
       "      <td>...</td>\n",
       "      <td>...</td>\n",
       "      <td>...</td>\n",
       "      <td>...</td>\n",
       "      <td>...</td>\n",
       "      <td>...</td>\n",
       "      <td>...</td>\n",
       "    </tr>\n",
       "    <tr>\n",
       "      <th>2018-12-24</th>\n",
       "      <td>-0.052107</td>\n",
       "      <td>-0.037840</td>\n",
       "      <td>-0.079305</td>\n",
       "      <td>-0.024613</td>\n",
       "      <td>-0.049180</td>\n",
       "      <td>0.0103</td>\n",
       "      <td>-0.059480</td>\n",
       "    </tr>\n",
       "    <tr>\n",
       "      <th>2018-12-26</th>\n",
       "      <td>0.081226</td>\n",
       "      <td>0.053170</td>\n",
       "      <td>0.098877</td>\n",
       "      <td>0.090254</td>\n",
       "      <td>0.082285</td>\n",
       "      <td>0.0103</td>\n",
       "      <td>0.071985</td>\n",
       "    </tr>\n",
       "    <tr>\n",
       "      <th>2018-12-27</th>\n",
       "      <td>0.007462</td>\n",
       "      <td>0.006499</td>\n",
       "      <td>-0.031020</td>\n",
       "      <td>-0.006315</td>\n",
       "      <td>-0.005795</td>\n",
       "      <td>0.0103</td>\n",
       "      <td>-0.016095</td>\n",
       "    </tr>\n",
       "    <tr>\n",
       "      <th>2018-12-28</th>\n",
       "      <td>0.001993</td>\n",
       "      <td>0.007296</td>\n",
       "      <td>0.054598</td>\n",
       "      <td>0.011144</td>\n",
       "      <td>0.018493</td>\n",
       "      <td>0.0103</td>\n",
       "      <td>0.008193</td>\n",
       "    </tr>\n",
       "    <tr>\n",
       "      <th>2018-12-31</th>\n",
       "      <td>0.044228</td>\n",
       "      <td>0.021665</td>\n",
       "      <td>-0.003210</td>\n",
       "      <td>0.016074</td>\n",
       "      <td>0.020817</td>\n",
       "      <td>0.0103</td>\n",
       "      <td>0.010517</td>\n",
       "    </tr>\n",
       "  </tbody>\n",
       "</table>\n",
       "<p>1258 rows × 7 columns</p>\n",
       "</div>"
      ],
      "text/plain": [
       "                NFLX       DIS      TSLA      AMZN  Portfolio  RF Rate  \\\n",
       "Date                                                                     \n",
       "2014-01-02       NaN       NaN       NaN       NaN   0.000000   0.0103   \n",
       "2014-01-03  0.000771 -0.002100 -0.003604 -0.003852  -0.002053   0.0103   \n",
       "2014-01-06 -0.009769 -0.003818 -0.017265 -0.007113  -0.009789   0.0103   \n",
       "2014-01-07 -0.057435  0.006835  0.015927  0.011116  -0.009103   0.0103   \n",
       "2014-01-08  0.004379 -0.014780  0.012773  0.009726   0.003982   0.0103   \n",
       "...              ...       ...       ...       ...        ...      ...   \n",
       "2018-12-24 -0.052107 -0.037840 -0.079305 -0.024613  -0.049180   0.0103   \n",
       "2018-12-26  0.081226  0.053170  0.098877  0.090254   0.082285   0.0103   \n",
       "2018-12-27  0.007462  0.006499 -0.031020 -0.006315  -0.005795   0.0103   \n",
       "2018-12-28  0.001993  0.007296  0.054598  0.011144   0.018493   0.0103   \n",
       "2018-12-31  0.044228  0.021665 -0.003210  0.016074   0.020817   0.0103   \n",
       "\n",
       "              excess  \n",
       "Date                  \n",
       "2014-01-02 -0.010300  \n",
       "2014-01-03 -0.012353  \n",
       "2014-01-06 -0.020089  \n",
       "2014-01-07 -0.019403  \n",
       "2014-01-08 -0.006318  \n",
       "...              ...  \n",
       "2018-12-24 -0.059480  \n",
       "2018-12-26  0.071985  \n",
       "2018-12-27 -0.016095  \n",
       "2018-12-28  0.008193  \n",
       "2018-12-31  0.010517  \n",
       "\n",
       "[1258 rows x 7 columns]"
      ]
     },
     "execution_count": 37,
     "metadata": {},
     "output_type": "execute_result"
    }
   ],
   "source": [
    "stocks_return['excess' ]=stocks_return['Portfolio' ] - stocks_return['RF Rate' ]\n",
    "stocks_return"
   ]
  },
  {
   "cell_type": "markdown",
   "metadata": {},
   "source": [
    "With the information, the only variable missing for the CAPM is the beta. For this next step, the SPY (S&P 500) will be used:\n",
    "\n",
    "### • Calculating returns for the SPY index"
   ]
  },
  {
   "cell_type": "code",
   "execution_count": 38,
   "metadata": {},
   "outputs": [
    {
     "name": "stdout",
     "output_type": "stream",
     "text": [
      "Fecha de Inicio =  2014-01-02 00:00:00\n",
      "Fecha de Fin= 2019-01-01 00:00:00\n"
     ]
    },
    {
     "name": "stderr",
     "output_type": "stream",
     "text": [
      "[*********************100%%**********************]  1 of 1 completed\n"
     ]
    },
    {
     "data": {
      "text/html": [
       "<div>\n",
       "<style scoped>\n",
       "    .dataframe tbody tr th:only-of-type {\n",
       "        vertical-align: middle;\n",
       "    }\n",
       "\n",
       "    .dataframe tbody tr th {\n",
       "        vertical-align: top;\n",
       "    }\n",
       "\n",
       "    .dataframe thead th {\n",
       "        text-align: right;\n",
       "    }\n",
       "</style>\n",
       "<table border=\"1\" class=\"dataframe\">\n",
       "  <thead>\n",
       "    <tr style=\"text-align: right;\">\n",
       "      <th></th>\n",
       "      <th>NFLX</th>\n",
       "      <th>DIS</th>\n",
       "      <th>TSLA</th>\n",
       "      <th>AMZN</th>\n",
       "      <th>Portfolio</th>\n",
       "      <th>RF Rate</th>\n",
       "      <th>excess</th>\n",
       "      <th>Market</th>\n",
       "    </tr>\n",
       "    <tr>\n",
       "      <th>Date</th>\n",
       "      <th></th>\n",
       "      <th></th>\n",
       "      <th></th>\n",
       "      <th></th>\n",
       "      <th></th>\n",
       "      <th></th>\n",
       "      <th></th>\n",
       "      <th></th>\n",
       "    </tr>\n",
       "  </thead>\n",
       "  <tbody>\n",
       "    <tr>\n",
       "      <th>2014-01-03</th>\n",
       "      <td>0.000771</td>\n",
       "      <td>-0.002100</td>\n",
       "      <td>-0.003604</td>\n",
       "      <td>-0.003852</td>\n",
       "      <td>-0.002053</td>\n",
       "      <td>0.0103</td>\n",
       "      <td>-0.012353</td>\n",
       "      <td>0.999836</td>\n",
       "    </tr>\n",
       "    <tr>\n",
       "      <th>2014-01-06</th>\n",
       "      <td>-0.009769</td>\n",
       "      <td>-0.003818</td>\n",
       "      <td>-0.017265</td>\n",
       "      <td>-0.007113</td>\n",
       "      <td>-0.009789</td>\n",
       "      <td>0.0103</td>\n",
       "      <td>-0.020089</td>\n",
       "      <td>0.997102</td>\n",
       "    </tr>\n",
       "    <tr>\n",
       "      <th>2014-01-07</th>\n",
       "      <td>-0.057435</td>\n",
       "      <td>0.006835</td>\n",
       "      <td>0.015927</td>\n",
       "      <td>0.011116</td>\n",
       "      <td>-0.009103</td>\n",
       "      <td>0.0103</td>\n",
       "      <td>-0.019403</td>\n",
       "      <td>1.006142</td>\n",
       "    </tr>\n",
       "    <tr>\n",
       "      <th>2014-01-08</th>\n",
       "      <td>0.004379</td>\n",
       "      <td>-0.014780</td>\n",
       "      <td>0.012773</td>\n",
       "      <td>0.009726</td>\n",
       "      <td>0.003982</td>\n",
       "      <td>0.0103</td>\n",
       "      <td>-0.006318</td>\n",
       "      <td>1.000218</td>\n",
       "    </tr>\n",
       "  </tbody>\n",
       "</table>\n",
       "</div>"
      ],
      "text/plain": [
       "                NFLX       DIS      TSLA      AMZN  Portfolio  RF Rate  \\\n",
       "Date                                                                     \n",
       "2014-01-03  0.000771 -0.002100 -0.003604 -0.003852  -0.002053   0.0103   \n",
       "2014-01-06 -0.009769 -0.003818 -0.017265 -0.007113  -0.009789   0.0103   \n",
       "2014-01-07 -0.057435  0.006835  0.015927  0.011116  -0.009103   0.0103   \n",
       "2014-01-08  0.004379 -0.014780  0.012773  0.009726   0.003982   0.0103   \n",
       "\n",
       "              excess    Market  \n",
       "Date                            \n",
       "2014-01-03 -0.012353  0.999836  \n",
       "2014-01-06 -0.020089  0.997102  \n",
       "2014-01-07 -0.019403  1.006142  \n",
       "2014-01-08 -0.006318  1.000218  "
      ]
     },
     "execution_count": 38,
     "metadata": {},
     "output_type": "execute_result"
    }
   ],
   "source": [
    "start=datetime.datetime(2014,1,2)\n",
    "end=datetime.datetime(2019,1,1)\n",
    "print('Fecha de Inicio = ',start)\n",
    "print('Fecha de Fin=',end)\n",
    "stocks_return['Market']=yf.download('SPY',start,end)['Close']\n",
    "stocks_return\n",
    "stocks_return['Market']=(stocks_return['Market']/stocks_return['Market'].shift(1))\n",
    "stocks_return.head().dropna()"
   ]
  },
  {
   "cell_type": "markdown",
   "metadata": {},
   "source": [
    "The second step is to calculate the excess return of the market compared with the risk-free rate. This is basic because it standardizes the process by which the market behaves compared to the risk-free rate and the portfolio.\n",
    "\n",
    "### • Calculating the excess return of the market"
   ]
  },
  {
   "cell_type": "code",
   "execution_count": 39,
   "metadata": {},
   "outputs": [
    {
     "data": {
      "text/html": [
       "<div>\n",
       "<style scoped>\n",
       "    .dataframe tbody tr th:only-of-type {\n",
       "        vertical-align: middle;\n",
       "    }\n",
       "\n",
       "    .dataframe tbody tr th {\n",
       "        vertical-align: top;\n",
       "    }\n",
       "\n",
       "    .dataframe thead th {\n",
       "        text-align: right;\n",
       "    }\n",
       "</style>\n",
       "<table border=\"1\" class=\"dataframe\">\n",
       "  <thead>\n",
       "    <tr style=\"text-align: right;\">\n",
       "      <th></th>\n",
       "      <th>NFLX</th>\n",
       "      <th>DIS</th>\n",
       "      <th>TSLA</th>\n",
       "      <th>AMZN</th>\n",
       "      <th>Portfolio</th>\n",
       "      <th>RF Rate</th>\n",
       "      <th>excess</th>\n",
       "      <th>Market</th>\n",
       "      <th>excess market</th>\n",
       "    </tr>\n",
       "    <tr>\n",
       "      <th>Date</th>\n",
       "      <th></th>\n",
       "      <th></th>\n",
       "      <th></th>\n",
       "      <th></th>\n",
       "      <th></th>\n",
       "      <th></th>\n",
       "      <th></th>\n",
       "      <th></th>\n",
       "      <th></th>\n",
       "    </tr>\n",
       "  </thead>\n",
       "  <tbody>\n",
       "    <tr>\n",
       "      <th>2014-01-03</th>\n",
       "      <td>0.000771</td>\n",
       "      <td>-0.002100</td>\n",
       "      <td>-0.003604</td>\n",
       "      <td>-0.003852</td>\n",
       "      <td>-0.002053</td>\n",
       "      <td>0.0103</td>\n",
       "      <td>-0.012353</td>\n",
       "      <td>0.999836</td>\n",
       "      <td>0.989536</td>\n",
       "    </tr>\n",
       "    <tr>\n",
       "      <th>2014-01-06</th>\n",
       "      <td>-0.009769</td>\n",
       "      <td>-0.003818</td>\n",
       "      <td>-0.017265</td>\n",
       "      <td>-0.007113</td>\n",
       "      <td>-0.009789</td>\n",
       "      <td>0.0103</td>\n",
       "      <td>-0.020089</td>\n",
       "      <td>0.997102</td>\n",
       "      <td>0.986802</td>\n",
       "    </tr>\n",
       "    <tr>\n",
       "      <th>2014-01-07</th>\n",
       "      <td>-0.057435</td>\n",
       "      <td>0.006835</td>\n",
       "      <td>0.015927</td>\n",
       "      <td>0.011116</td>\n",
       "      <td>-0.009103</td>\n",
       "      <td>0.0103</td>\n",
       "      <td>-0.019403</td>\n",
       "      <td>1.006142</td>\n",
       "      <td>0.995842</td>\n",
       "    </tr>\n",
       "    <tr>\n",
       "      <th>2014-01-08</th>\n",
       "      <td>0.004379</td>\n",
       "      <td>-0.014780</td>\n",
       "      <td>0.012773</td>\n",
       "      <td>0.009726</td>\n",
       "      <td>0.003982</td>\n",
       "      <td>0.0103</td>\n",
       "      <td>-0.006318</td>\n",
       "      <td>1.000218</td>\n",
       "      <td>0.989918</td>\n",
       "    </tr>\n",
       "  </tbody>\n",
       "</table>\n",
       "</div>"
      ],
      "text/plain": [
       "                NFLX       DIS      TSLA      AMZN  Portfolio  RF Rate  \\\n",
       "Date                                                                     \n",
       "2014-01-03  0.000771 -0.002100 -0.003604 -0.003852  -0.002053   0.0103   \n",
       "2014-01-06 -0.009769 -0.003818 -0.017265 -0.007113  -0.009789   0.0103   \n",
       "2014-01-07 -0.057435  0.006835  0.015927  0.011116  -0.009103   0.0103   \n",
       "2014-01-08  0.004379 -0.014780  0.012773  0.009726   0.003982   0.0103   \n",
       "\n",
       "              excess    Market  excess market  \n",
       "Date                                           \n",
       "2014-01-03 -0.012353  0.999836       0.989536  \n",
       "2014-01-06 -0.020089  0.997102       0.986802  \n",
       "2014-01-07 -0.019403  1.006142       0.995842  \n",
       "2014-01-08 -0.006318  1.000218       0.989918  "
      ]
     },
     "execution_count": 39,
     "metadata": {},
     "output_type": "execute_result"
    }
   ],
   "source": [
    "stocks_return['excess market']=stocks_return['Market'] - stocks_return['RF Rate']\n",
    "stocks_return.head().dropna()"
   ]
  },
  {
   "cell_type": "markdown",
   "metadata": {},
   "source": [
    "To obtain the beta there are different processes, for this example the process of the beta equation using covariance and variance will be used. The equation is as follows:\n",
    "\n",
    "Equation 9: Beta calculation with covariance\n",
    "\n",
    "    βp = Covar(Rp,RB) / Var(RB)\n",
    "\n",
    "- βp = Beta of the portfolio\n",
    "\n",
    "- Rp = Return of the portfolio\n",
    "\n",
    "- RB = Return of the benchmark\n",
    "\n",
    "The next step is to obtain the covariance matrix. From the covariance matrix the coefficient can be inserted into a variable:\n",
    "\n",
    "### • Covariance Matrix\n"
   ]
  },
  {
   "cell_type": "code",
   "execution_count": 40,
   "metadata": {},
   "outputs": [
    {
     "data": {
      "text/html": [
       "<div>\n",
       "<style scoped>\n",
       "    .dataframe tbody tr th:only-of-type {\n",
       "        vertical-align: middle;\n",
       "    }\n",
       "\n",
       "    .dataframe tbody tr th {\n",
       "        vertical-align: top;\n",
       "    }\n",
       "\n",
       "    .dataframe thead th {\n",
       "        text-align: right;\n",
       "    }\n",
       "</style>\n",
       "<table border=\"1\" class=\"dataframe\">\n",
       "  <thead>\n",
       "    <tr style=\"text-align: right;\">\n",
       "      <th></th>\n",
       "      <th>excess</th>\n",
       "      <th>excess market</th>\n",
       "    </tr>\n",
       "  </thead>\n",
       "  <tbody>\n",
       "    <tr>\n",
       "      <th>excess</th>\n",
       "      <td>0.000268</td>\n",
       "      <td>0.000091</td>\n",
       "    </tr>\n",
       "    <tr>\n",
       "      <th>excess market</th>\n",
       "      <td>0.000091</td>\n",
       "      <td>0.000070</td>\n",
       "    </tr>\n",
       "  </tbody>\n",
       "</table>\n",
       "</div>"
      ],
      "text/plain": [
       "                 excess  excess market\n",
       "excess         0.000268       0.000091\n",
       "excess market  0.000091       0.000070"
      ]
     },
     "execution_count": 40,
     "metadata": {},
     "output_type": "execute_result"
    }
   ],
   "source": [
    "covariance_matrix=stocks_return[['excess', 'excess market' ]].cov()\n",
    "covariance_matrix"
   ]
  },
  {
   "cell_type": "markdown",
   "metadata": {},
   "source": [
    "### • Covariance Coefficient"
   ]
  },
  {
   "cell_type": "code",
   "execution_count": 41,
   "metadata": {},
   "outputs": [
    {
     "data": {
      "text/plain": [
       "9.100360316453768e-05"
      ]
     },
     "execution_count": 41,
     "metadata": {},
     "output_type": "execute_result"
    }
   ],
   "source": [
    "covariance_coefficient = covariance_coefficient = covariance_matrix.iloc[0, 1]\n",
    "covariance_coefficient"
   ]
  },
  {
   "cell_type": "markdown",
   "metadata": {},
   "source": [
    "Once the covariance is obtained the next process is to insert the variance of the portfolio into the process.\n",
    "\n",
    "### • Calculating the variance"
   ]
  },
  {
   "cell_type": "code",
   "execution_count": 42,
   "metadata": {},
   "outputs": [
    {
     "data": {
      "text/plain": [
       "6.985264344929525e-05"
      ]
     },
     "execution_count": 42,
     "metadata": {},
     "output_type": "execute_result"
    }
   ],
   "source": [
    "variance_coefficient=stocks_return['excess market' ].var()\n",
    "variance_coefficient"
   ]
  },
  {
   "cell_type": "markdown",
   "metadata": {},
   "source": [
    "With the variance and the covariance, the beta can be obtained by using the formula described before.\n",
    "\n",
    "### • Calculating Beta"
   ]
  },
  {
   "cell_type": "code",
   "execution_count": 43,
   "metadata": {},
   "outputs": [
    {
     "data": {
      "text/plain": [
       "1.3027939770181427"
      ]
     },
     "execution_count": 43,
     "metadata": {},
     "output_type": "execute_result"
    }
   ],
   "source": [
    "beta=covariance_coefficient/variance_coefficient\n",
    "beta"
   ]
  },
  {
   "cell_type": "markdown",
   "metadata": {},
   "source": [
    "Considering the process, the beta demonstrates that the portfolio is more volatile than the market. Another interpretation is that the portfolio is 29% more volatile than the S&P 500 or that for every 1% of movement in the market there will be a 1.29% of rise or fall in the portfolio."
   ]
  },
  {
   "cell_type": "markdown",
   "metadata": {},
   "source": [
    "## SHARPE RATIO\n",
    "The Sharpe Ratio was created by William F. Sharpe based on the importance of understanding the relation between risk and returns. The Sharpe Ratio is considered one of the rentability and risk ratios.\n",
    "\n",
    "When the Sharpe Ratio is higher the better it is considered since the denominator is standard deviation or risk. It is useful when comparing peers, for example in an exchange-traded fund (ETF) (Hargrave 2019).\n",
    "\n",
    "Equation 10: Sharpe Ratio\n",
    "\n",
    "    Sharpe Ratio = Rp − Rf / σp\n",
    "\n",
    "where:\n",
    "\n",
    "Rp = returns of the portfolio\n",
    "\n",
    "Rf = risk-free rate\n",
    "\n",
    "σp = standard deviation of the portfolio excess returns.\n",
    "\n",
    "For obtaining the Sharpe Ratio the first step is to create the portfolio using the method that has been used before:\n",
    "\n",
    "### • Installing packages\n"
   ]
  },
  {
   "cell_type": "code",
   "execution_count": 44,
   "metadata": {},
   "outputs": [],
   "source": [
    "import numpy as np\n",
    "import pandas as pd\n",
    "import datetime\n",
    "import matplotlib.pyplot as plt\n",
    "import yfinance as yf\n",
    "%matplotlib inline"
   ]
  },
  {
   "cell_type": "markdown",
   "metadata": {},
   "source": [
    "### • Creating the portfolio based on an end and start date"
   ]
  },
  {
   "cell_type": "code",
   "execution_count": 45,
   "metadata": {},
   "outputs": [
    {
     "name": "stderr",
     "output_type": "stream",
     "text": [
      "[*********************100%%**********************]  1 of 1 completed\n",
      "[*********************100%%**********************]  1 of 1 completed\n",
      "[*********************100%%**********************]  1 of 1 completed\n"
     ]
    },
    {
     "data": {
      "text/html": [
       "<div>\n",
       "<style scoped>\n",
       "    .dataframe tbody tr th:only-of-type {\n",
       "        vertical-align: middle;\n",
       "    }\n",
       "\n",
       "    .dataframe tbody tr th {\n",
       "        vertical-align: top;\n",
       "    }\n",
       "\n",
       "    .dataframe thead th {\n",
       "        text-align: right;\n",
       "    }\n",
       "</style>\n",
       "<table border=\"1\" class=\"dataframe\">\n",
       "  <thead>\n",
       "    <tr style=\"text-align: right;\">\n",
       "      <th></th>\n",
       "      <th>F</th>\n",
       "      <th>FCAU.VI</th>\n",
       "      <th>TM</th>\n",
       "    </tr>\n",
       "    <tr>\n",
       "      <th>Date</th>\n",
       "      <th></th>\n",
       "      <th></th>\n",
       "      <th></th>\n",
       "    </tr>\n",
       "  </thead>\n",
       "  <tbody>\n",
       "    <tr>\n",
       "      <th>2018-01-02</th>\n",
       "      <td>12.66</td>\n",
       "      <td>15.205000</td>\n",
       "      <td>128.369995</td>\n",
       "    </tr>\n",
       "    <tr>\n",
       "      <th>2018-01-03</th>\n",
       "      <td>12.76</td>\n",
       "      <td>15.205000</td>\n",
       "      <td>130.130005</td>\n",
       "    </tr>\n",
       "    <tr>\n",
       "      <th>2018-01-04</th>\n",
       "      <td>12.98</td>\n",
       "      <td>15.205000</td>\n",
       "      <td>132.160004</td>\n",
       "    </tr>\n",
       "    <tr>\n",
       "      <th>2018-01-05</th>\n",
       "      <td>13.20</td>\n",
       "      <td>17.964001</td>\n",
       "      <td>133.860001</td>\n",
       "    </tr>\n",
       "    <tr>\n",
       "      <th>2018-01-08</th>\n",
       "      <td>13.15</td>\n",
       "      <td>17.964001</td>\n",
       "      <td>134.770004</td>\n",
       "    </tr>\n",
       "    <tr>\n",
       "      <th>...</th>\n",
       "      <td>...</td>\n",
       "      <td>...</td>\n",
       "      <td>...</td>\n",
       "    </tr>\n",
       "    <tr>\n",
       "      <th>2019-03-25</th>\n",
       "      <td>8.51</td>\n",
       "      <td>NaN</td>\n",
       "      <td>120.489998</td>\n",
       "    </tr>\n",
       "    <tr>\n",
       "      <th>2019-03-26</th>\n",
       "      <td>8.76</td>\n",
       "      <td>13.100000</td>\n",
       "      <td>121.769997</td>\n",
       "    </tr>\n",
       "    <tr>\n",
       "      <th>2019-03-27</th>\n",
       "      <td>8.62</td>\n",
       "      <td>13.450000</td>\n",
       "      <td>121.029999</td>\n",
       "    </tr>\n",
       "    <tr>\n",
       "      <th>2019-03-28</th>\n",
       "      <td>8.77</td>\n",
       "      <td>13.192000</td>\n",
       "      <td>119.070000</td>\n",
       "    </tr>\n",
       "    <tr>\n",
       "      <th>2019-03-29</th>\n",
       "      <td>8.78</td>\n",
       "      <td>13.264000</td>\n",
       "      <td>118.019997</td>\n",
       "    </tr>\n",
       "  </tbody>\n",
       "</table>\n",
       "<p>312 rows × 3 columns</p>\n",
       "</div>"
      ],
      "text/plain": [
       "                F    FCAU.VI          TM\n",
       "Date                                    \n",
       "2018-01-02  12.66  15.205000  128.369995\n",
       "2018-01-03  12.76  15.205000  130.130005\n",
       "2018-01-04  12.98  15.205000  132.160004\n",
       "2018-01-05  13.20  17.964001  133.860001\n",
       "2018-01-08  13.15  17.964001  134.770004\n",
       "...           ...        ...         ...\n",
       "2019-03-25   8.51        NaN  120.489998\n",
       "2019-03-26   8.76  13.100000  121.769997\n",
       "2019-03-27   8.62  13.450000  121.029999\n",
       "2019-03-28   8.77  13.192000  119.070000\n",
       "2019-03-29   8.78  13.264000  118.019997\n",
       "\n",
       "[312 rows x 3 columns]"
      ]
     },
     "execution_count": 45,
     "metadata": {},
     "output_type": "execute_result"
    }
   ],
   "source": [
    "start=datetime.datetime(2018,1,2)\n",
    "end=datetime.datetime(2019,4,1)\n",
    "tickers=['F','FCAU.VI','TM']\n",
    "stocks=pd.DataFrame()\n",
    "for x in tickers:\n",
    "    stocks[x]=yf.download(x,start,end)['Close']\n",
    "\n",
    "stocks"
   ]
  },
  {
   "cell_type": "markdown",
   "metadata": {},
   "source": [
    "In the example above the companies that are being used are Ford (F), Fiat-Chrysler (FCAU.VI) and Toyota Motors (TM). The dates are from January 1, 2018 to April 1, 2019. For this example, a for loop was used as an easiest way to understand the process by which the stocks can be added.\n",
    "\n",
    "### • Analyze correlation between variables\n"
   ]
  },
  {
   "cell_type": "code",
   "execution_count": 46,
   "metadata": {},
   "outputs": [
    {
     "data": {
      "text/html": [
       "<div>\n",
       "<style scoped>\n",
       "    .dataframe tbody tr th:only-of-type {\n",
       "        vertical-align: middle;\n",
       "    }\n",
       "\n",
       "    .dataframe tbody tr th {\n",
       "        vertical-align: top;\n",
       "    }\n",
       "\n",
       "    .dataframe thead th {\n",
       "        text-align: right;\n",
       "    }\n",
       "</style>\n",
       "<table border=\"1\" class=\"dataframe\">\n",
       "  <thead>\n",
       "    <tr style=\"text-align: right;\">\n",
       "      <th></th>\n",
       "      <th>F</th>\n",
       "      <th>FCAU.VI</th>\n",
       "      <th>TM</th>\n",
       "    </tr>\n",
       "  </thead>\n",
       "  <tbody>\n",
       "    <tr>\n",
       "      <th>F</th>\n",
       "      <td>1.000000</td>\n",
       "      <td>0.865915</td>\n",
       "      <td>0.837051</td>\n",
       "    </tr>\n",
       "    <tr>\n",
       "      <th>FCAU.VI</th>\n",
       "      <td>0.865915</td>\n",
       "      <td>1.000000</td>\n",
       "      <td>0.844067</td>\n",
       "    </tr>\n",
       "    <tr>\n",
       "      <th>TM</th>\n",
       "      <td>0.837051</td>\n",
       "      <td>0.844067</td>\n",
       "      <td>1.000000</td>\n",
       "    </tr>\n",
       "  </tbody>\n",
       "</table>\n",
       "</div>"
      ],
      "text/plain": [
       "                F   FCAU.VI        TM\n",
       "F        1.000000  0.865915  0.837051\n",
       "FCAU.VI  0.865915  1.000000  0.844067\n",
       "TM       0.837051  0.844067  1.000000"
      ]
     },
     "execution_count": 46,
     "metadata": {},
     "output_type": "execute_result"
    }
   ],
   "source": [
    "stocks.corr()"
   ]
  },
  {
   "cell_type": "markdown",
   "metadata": {},
   "source": [
    "Concerning the correlation, the portfolio will be strongly correlated between the securities. This is often a recommendation to diversify the portfolio and to add companies that are in a different industry.\n",
    "\n",
    "### • Choose weights for the portfolio"
   ]
  },
  {
   "cell_type": "code",
   "execution_count": 47,
   "metadata": {},
   "outputs": [
    {
     "data": {
      "text/plain": [
       "array([0.33, 0.33, 0.34])"
      ]
     },
     "execution_count": 47,
     "metadata": {},
     "output_type": "execute_result"
    }
   ],
   "source": [
    "portfolio_weights = np.array([0.33, 0.33, 0.34 ])\n",
    "portfolio_weights"
   ]
  },
  {
   "cell_type": "markdown",
   "metadata": {},
   "source": [
    "### • Returns of the stocks using percent change\n"
   ]
  },
  {
   "cell_type": "code",
   "execution_count": 48,
   "metadata": {},
   "outputs": [
    {
     "name": "stderr",
     "output_type": "stream",
     "text": [
      "C:\\Users\\fvill\\AppData\\Local\\Temp\\ipykernel_18132\\2946317190.py:1: FutureWarning: The default fill_method='pad' in DataFrame.pct_change is deprecated and will be removed in a future version. Either fill in any non-leading NA values prior to calling pct_change or specify 'fill_method=None' to not fill NA values.\n",
      "  stocks_return=stocks.pct_change(1).dropna()\n"
     ]
    },
    {
     "data": {
      "text/html": [
       "<div>\n",
       "<style scoped>\n",
       "    .dataframe tbody tr th:only-of-type {\n",
       "        vertical-align: middle;\n",
       "    }\n",
       "\n",
       "    .dataframe tbody tr th {\n",
       "        vertical-align: top;\n",
       "    }\n",
       "\n",
       "    .dataframe thead th {\n",
       "        text-align: right;\n",
       "    }\n",
       "</style>\n",
       "<table border=\"1\" class=\"dataframe\">\n",
       "  <thead>\n",
       "    <tr style=\"text-align: right;\">\n",
       "      <th></th>\n",
       "      <th>F</th>\n",
       "      <th>FCAU.VI</th>\n",
       "      <th>TM</th>\n",
       "    </tr>\n",
       "    <tr>\n",
       "      <th>Date</th>\n",
       "      <th></th>\n",
       "      <th></th>\n",
       "      <th></th>\n",
       "    </tr>\n",
       "  </thead>\n",
       "  <tbody>\n",
       "    <tr>\n",
       "      <th>2018-01-03</th>\n",
       "      <td>0.007899</td>\n",
       "      <td>0.000000</td>\n",
       "      <td>0.013710</td>\n",
       "    </tr>\n",
       "    <tr>\n",
       "      <th>2018-01-04</th>\n",
       "      <td>0.017241</td>\n",
       "      <td>0.000000</td>\n",
       "      <td>0.015600</td>\n",
       "    </tr>\n",
       "    <tr>\n",
       "      <th>2018-01-05</th>\n",
       "      <td>0.016949</td>\n",
       "      <td>0.181454</td>\n",
       "      <td>0.012863</td>\n",
       "    </tr>\n",
       "    <tr>\n",
       "      <th>2018-01-08</th>\n",
       "      <td>-0.003788</td>\n",
       "      <td>0.000000</td>\n",
       "      <td>0.006798</td>\n",
       "    </tr>\n",
       "    <tr>\n",
       "      <th>2018-01-09</th>\n",
       "      <td>-0.005323</td>\n",
       "      <td>0.026497</td>\n",
       "      <td>-0.007791</td>\n",
       "    </tr>\n",
       "    <tr>\n",
       "      <th>...</th>\n",
       "      <td>...</td>\n",
       "      <td>...</td>\n",
       "      <td>...</td>\n",
       "    </tr>\n",
       "    <tr>\n",
       "      <th>2019-03-25</th>\n",
       "      <td>-0.003513</td>\n",
       "      <td>0.000000</td>\n",
       "      <td>0.002246</td>\n",
       "    </tr>\n",
       "    <tr>\n",
       "      <th>2019-03-26</th>\n",
       "      <td>0.029377</td>\n",
       "      <td>0.024718</td>\n",
       "      <td>0.010623</td>\n",
       "    </tr>\n",
       "    <tr>\n",
       "      <th>2019-03-27</th>\n",
       "      <td>-0.015982</td>\n",
       "      <td>0.026718</td>\n",
       "      <td>-0.006077</td>\n",
       "    </tr>\n",
       "    <tr>\n",
       "      <th>2019-03-28</th>\n",
       "      <td>0.017401</td>\n",
       "      <td>-0.019182</td>\n",
       "      <td>-0.016194</td>\n",
       "    </tr>\n",
       "    <tr>\n",
       "      <th>2019-03-29</th>\n",
       "      <td>0.001140</td>\n",
       "      <td>0.005458</td>\n",
       "      <td>-0.008818</td>\n",
       "    </tr>\n",
       "  </tbody>\n",
       "</table>\n",
       "<p>311 rows × 3 columns</p>\n",
       "</div>"
      ],
      "text/plain": [
       "                   F   FCAU.VI        TM\n",
       "Date                                    \n",
       "2018-01-03  0.007899  0.000000  0.013710\n",
       "2018-01-04  0.017241  0.000000  0.015600\n",
       "2018-01-05  0.016949  0.181454  0.012863\n",
       "2018-01-08 -0.003788  0.000000  0.006798\n",
       "2018-01-09 -0.005323  0.026497 -0.007791\n",
       "...              ...       ...       ...\n",
       "2019-03-25 -0.003513  0.000000  0.002246\n",
       "2019-03-26  0.029377  0.024718  0.010623\n",
       "2019-03-27 -0.015982  0.026718 -0.006077\n",
       "2019-03-28  0.017401 -0.019182 -0.016194\n",
       "2019-03-29  0.001140  0.005458 -0.008818\n",
       "\n",
       "[311 rows x 3 columns]"
      ]
     },
     "execution_count": 48,
     "metadata": {},
     "output_type": "execute_result"
    }
   ],
   "source": [
    "stocks_return=stocks.pct_change(1).dropna()\n",
    "stocks_return"
   ]
  },
  {
   "cell_type": "markdown",
   "metadata": {},
   "source": [
    "The use of the percent change is an easier approach because it takes the last return and calculates the change in percentages, which is another way of calculating the stocks returns without using logarithmic returns.\n",
    "\n",
    "Mathematically it is not recommended to use logarithmic model to calculate returns (Fig. 2).\n",
    "\n",
    "### • Multiply the returns of the portfolio with each stock’s weight"
   ]
  },
  {
   "cell_type": "code",
   "execution_count": 49,
   "metadata": {},
   "outputs": [
    {
     "data": {
      "text/html": [
       "<div>\n",
       "<style scoped>\n",
       "    .dataframe tbody tr th:only-of-type {\n",
       "        vertical-align: middle;\n",
       "    }\n",
       "\n",
       "    .dataframe tbody tr th {\n",
       "        vertical-align: top;\n",
       "    }\n",
       "\n",
       "    .dataframe thead th {\n",
       "        text-align: right;\n",
       "    }\n",
       "</style>\n",
       "<table border=\"1\" class=\"dataframe\">\n",
       "  <thead>\n",
       "    <tr style=\"text-align: right;\">\n",
       "      <th></th>\n",
       "      <th>F</th>\n",
       "      <th>FCAU.VI</th>\n",
       "      <th>TM</th>\n",
       "    </tr>\n",
       "    <tr>\n",
       "      <th>Date</th>\n",
       "      <th></th>\n",
       "      <th></th>\n",
       "      <th></th>\n",
       "    </tr>\n",
       "  </thead>\n",
       "  <tbody>\n",
       "    <tr>\n",
       "      <th>2018-01-03</th>\n",
       "      <td>0.002607</td>\n",
       "      <td>0.000000</td>\n",
       "      <td>0.004662</td>\n",
       "    </tr>\n",
       "    <tr>\n",
       "      <th>2018-01-04</th>\n",
       "      <td>0.005690</td>\n",
       "      <td>0.000000</td>\n",
       "      <td>0.005304</td>\n",
       "    </tr>\n",
       "    <tr>\n",
       "      <th>2018-01-05</th>\n",
       "      <td>0.005593</td>\n",
       "      <td>0.059880</td>\n",
       "      <td>0.004373</td>\n",
       "    </tr>\n",
       "    <tr>\n",
       "      <th>2018-01-08</th>\n",
       "      <td>-0.001250</td>\n",
       "      <td>0.000000</td>\n",
       "      <td>0.002311</td>\n",
       "    </tr>\n",
       "    <tr>\n",
       "      <th>2018-01-09</th>\n",
       "      <td>-0.001757</td>\n",
       "      <td>0.008744</td>\n",
       "      <td>-0.002649</td>\n",
       "    </tr>\n",
       "    <tr>\n",
       "      <th>...</th>\n",
       "      <td>...</td>\n",
       "      <td>...</td>\n",
       "      <td>...</td>\n",
       "    </tr>\n",
       "    <tr>\n",
       "      <th>2019-03-25</th>\n",
       "      <td>-0.001159</td>\n",
       "      <td>0.000000</td>\n",
       "      <td>0.000764</td>\n",
       "    </tr>\n",
       "    <tr>\n",
       "      <th>2019-03-26</th>\n",
       "      <td>0.009694</td>\n",
       "      <td>0.008157</td>\n",
       "      <td>0.003612</td>\n",
       "    </tr>\n",
       "    <tr>\n",
       "      <th>2019-03-27</th>\n",
       "      <td>-0.005274</td>\n",
       "      <td>0.008817</td>\n",
       "      <td>-0.002066</td>\n",
       "    </tr>\n",
       "    <tr>\n",
       "      <th>2019-03-28</th>\n",
       "      <td>0.005742</td>\n",
       "      <td>-0.006330</td>\n",
       "      <td>-0.005506</td>\n",
       "    </tr>\n",
       "    <tr>\n",
       "      <th>2019-03-29</th>\n",
       "      <td>0.000376</td>\n",
       "      <td>0.001801</td>\n",
       "      <td>-0.002998</td>\n",
       "    </tr>\n",
       "  </tbody>\n",
       "</table>\n",
       "<p>311 rows × 3 columns</p>\n",
       "</div>"
      ],
      "text/plain": [
       "                   F   FCAU.VI        TM\n",
       "Date                                    \n",
       "2018-01-03  0.002607  0.000000  0.004662\n",
       "2018-01-04  0.005690  0.000000  0.005304\n",
       "2018-01-05  0.005593  0.059880  0.004373\n",
       "2018-01-08 -0.001250  0.000000  0.002311\n",
       "2018-01-09 -0.001757  0.008744 -0.002649\n",
       "...              ...       ...       ...\n",
       "2019-03-25 -0.001159  0.000000  0.000764\n",
       "2019-03-26  0.009694  0.008157  0.003612\n",
       "2019-03-27 -0.005274  0.008817 -0.002066\n",
       "2019-03-28  0.005742 -0.006330 -0.005506\n",
       "2019-03-29  0.000376  0.001801 -0.002998\n",
       "\n",
       "[311 rows x 3 columns]"
      ]
     },
     "execution_count": 49,
     "metadata": {},
     "output_type": "execute_result"
    }
   ],
   "source": [
    "weighted_returns_portfolio=stocks_return.mul(portfolio_weights, axis=1)\n",
    "weighted_returns_portfolio\n"
   ]
  },
  {
   "cell_type": "markdown",
   "metadata": {},
   "source": [
    "### • Create a variable for the portfolio by calculating the sum of the returns\n"
   ]
  },
  {
   "cell_type": "code",
   "execution_count": 50,
   "metadata": {},
   "outputs": [
    {
     "data": {
      "text/html": [
       "<div>\n",
       "<style scoped>\n",
       "    .dataframe tbody tr th:only-of-type {\n",
       "        vertical-align: middle;\n",
       "    }\n",
       "\n",
       "    .dataframe tbody tr th {\n",
       "        vertical-align: top;\n",
       "    }\n",
       "\n",
       "    .dataframe thead th {\n",
       "        text-align: right;\n",
       "    }\n",
       "</style>\n",
       "<table border=\"1\" class=\"dataframe\">\n",
       "  <thead>\n",
       "    <tr style=\"text-align: right;\">\n",
       "      <th></th>\n",
       "      <th>F</th>\n",
       "      <th>FCAU.VI</th>\n",
       "      <th>TM</th>\n",
       "      <th>Portfolio</th>\n",
       "    </tr>\n",
       "    <tr>\n",
       "      <th>Date</th>\n",
       "      <th></th>\n",
       "      <th></th>\n",
       "      <th></th>\n",
       "      <th></th>\n",
       "    </tr>\n",
       "  </thead>\n",
       "  <tbody>\n",
       "    <tr>\n",
       "      <th>2019-03-25</th>\n",
       "      <td>-0.003513</td>\n",
       "      <td>0.000000</td>\n",
       "      <td>0.002246</td>\n",
       "      <td>-0.000396</td>\n",
       "    </tr>\n",
       "    <tr>\n",
       "      <th>2019-03-26</th>\n",
       "      <td>0.029377</td>\n",
       "      <td>0.024718</td>\n",
       "      <td>0.010623</td>\n",
       "      <td>0.021463</td>\n",
       "    </tr>\n",
       "    <tr>\n",
       "      <th>2019-03-27</th>\n",
       "      <td>-0.015982</td>\n",
       "      <td>0.026718</td>\n",
       "      <td>-0.006077</td>\n",
       "      <td>0.001477</td>\n",
       "    </tr>\n",
       "    <tr>\n",
       "      <th>2019-03-28</th>\n",
       "      <td>0.017401</td>\n",
       "      <td>-0.019182</td>\n",
       "      <td>-0.016194</td>\n",
       "      <td>-0.006094</td>\n",
       "    </tr>\n",
       "    <tr>\n",
       "      <th>2019-03-29</th>\n",
       "      <td>0.001140</td>\n",
       "      <td>0.005458</td>\n",
       "      <td>-0.008818</td>\n",
       "      <td>-0.000821</td>\n",
       "    </tr>\n",
       "  </tbody>\n",
       "</table>\n",
       "</div>"
      ],
      "text/plain": [
       "                   F   FCAU.VI        TM  Portfolio\n",
       "Date                                               \n",
       "2019-03-25 -0.003513  0.000000  0.002246  -0.000396\n",
       "2019-03-26  0.029377  0.024718  0.010623   0.021463\n",
       "2019-03-27 -0.015982  0.026718 -0.006077   0.001477\n",
       "2019-03-28  0.017401 -0.019182 -0.016194  -0.006094\n",
       "2019-03-29  0.001140  0.005458 -0.008818  -0.000821"
      ]
     },
     "execution_count": 50,
     "metadata": {},
     "output_type": "execute_result"
    }
   ],
   "source": [
    "stocks_return['Portfolio' ] = weighted_returns_portfolio.sum(axis = 1 ).dropna()\n",
    "stocks_return.tail()"
   ]
  },
  {
   "cell_type": "markdown",
   "metadata": {},
   "source": [
    "### • Add the benchmark by using the S&P 500 and calculating the returns"
   ]
  },
  {
   "cell_type": "code",
   "execution_count": 51,
   "metadata": {},
   "outputs": [
    {
     "name": "stderr",
     "output_type": "stream",
     "text": [
      "[*********************100%%**********************]  1 of 1 completed\n"
     ]
    },
    {
     "data": {
      "text/html": [
       "<div>\n",
       "<style scoped>\n",
       "    .dataframe tbody tr th:only-of-type {\n",
       "        vertical-align: middle;\n",
       "    }\n",
       "\n",
       "    .dataframe tbody tr th {\n",
       "        vertical-align: top;\n",
       "    }\n",
       "\n",
       "    .dataframe thead th {\n",
       "        text-align: right;\n",
       "    }\n",
       "</style>\n",
       "<table border=\"1\" class=\"dataframe\">\n",
       "  <thead>\n",
       "    <tr style=\"text-align: right;\">\n",
       "      <th></th>\n",
       "      <th>F</th>\n",
       "      <th>FCAU.VI</th>\n",
       "      <th>TM</th>\n",
       "      <th>Portfolio</th>\n",
       "      <th>Benchmark</th>\n",
       "    </tr>\n",
       "    <tr>\n",
       "      <th>Date</th>\n",
       "      <th></th>\n",
       "      <th></th>\n",
       "      <th></th>\n",
       "      <th></th>\n",
       "      <th></th>\n",
       "    </tr>\n",
       "  </thead>\n",
       "  <tbody>\n",
       "    <tr>\n",
       "      <th>2019-03-25</th>\n",
       "      <td>-0.003513</td>\n",
       "      <td>0.000000</td>\n",
       "      <td>0.002246</td>\n",
       "      <td>-0.000396</td>\n",
       "      <td>-0.000752</td>\n",
       "    </tr>\n",
       "    <tr>\n",
       "      <th>2019-03-26</th>\n",
       "      <td>0.029377</td>\n",
       "      <td>0.024718</td>\n",
       "      <td>0.010623</td>\n",
       "      <td>0.021463</td>\n",
       "      <td>0.007454</td>\n",
       "    </tr>\n",
       "    <tr>\n",
       "      <th>2019-03-27</th>\n",
       "      <td>-0.015982</td>\n",
       "      <td>0.026718</td>\n",
       "      <td>-0.006077</td>\n",
       "      <td>0.001477</td>\n",
       "      <td>-0.005229</td>\n",
       "    </tr>\n",
       "    <tr>\n",
       "      <th>2019-03-28</th>\n",
       "      <td>0.017401</td>\n",
       "      <td>-0.019182</td>\n",
       "      <td>-0.016194</td>\n",
       "      <td>-0.006094</td>\n",
       "      <td>0.003790</td>\n",
       "    </tr>\n",
       "    <tr>\n",
       "      <th>2019-03-29</th>\n",
       "      <td>0.001140</td>\n",
       "      <td>0.005458</td>\n",
       "      <td>-0.008818</td>\n",
       "      <td>-0.000821</td>\n",
       "      <td>0.006306</td>\n",
       "    </tr>\n",
       "  </tbody>\n",
       "</table>\n",
       "</div>"
      ],
      "text/plain": [
       "                   F   FCAU.VI        TM  Portfolio  Benchmark\n",
       "Date                                                          \n",
       "2019-03-25 -0.003513  0.000000  0.002246  -0.000396  -0.000752\n",
       "2019-03-26  0.029377  0.024718  0.010623   0.021463   0.007454\n",
       "2019-03-27 -0.015982  0.026718 -0.006077   0.001477  -0.005229\n",
       "2019-03-28  0.017401 -0.019182 -0.016194  -0.006094   0.003790\n",
       "2019-03-29  0.001140  0.005458 -0.008818  -0.000821   0.006306"
      ]
     },
     "execution_count": 51,
     "metadata": {},
     "output_type": "execute_result"
    }
   ],
   "source": [
    "start = datetime.datetime(2018, 1, 2 )\n",
    "end = datetime.datetime(2019, 4, 1 )\n",
    "stocks_return['Benchmark' ]=yf.download('SPY',start,end)[ 'Close' ]\n",
    "stocks_return['Benchmark' ] = stocks_return['Benchmark' ].pct_change(1).dropna()\n",
    "stocks_return.dropna().tail()"
   ]
  },
  {
   "cell_type": "markdown",
   "metadata": {},
   "source": [
    "### • Obtaining the cumulative returns and plotting the portfolio\n"
   ]
  },
  {
   "cell_type": "code",
   "execution_count": 52,
   "metadata": {},
   "outputs": [
    {
     "data": {
      "image/png": "[encoded data removed]",
      "text/plain": [
       "<Figure size 1600x400 with 1 Axes>"
      ]
     },
     "metadata": {},
     "output_type": "display_data"
    }
   ],
   "source": [
    "CumulativeReturns = ((1 + stocks_return[['Portfolio','Benchmark' ]]).cumprod()-1 )\n",
    "CumulativeReturns.plot(figsize=(16,4 ))\n",
    "_=plt.ylabel('Returns' )\n",
    "_=plt.title('Comparison - Portfolio vs. Benchmark' )\n",
    "_=plt.xlabel('Date' )\n",
    "plt.show()"
   ]
  },
  {
   "cell_type": "markdown",
   "metadata": {},
   "source": [
    "### • Create a scatterplot to identify the correlation between the portfolio and the benchmark"
   ]
  },
  {
   "cell_type": "code",
   "execution_count": 53,
   "metadata": {},
   "outputs": [
    {
     "data": {
      "image/png": "[encoded data removed]",
      "text/plain": [
       "<Figure size 640x480 with 1 Axes>"
      ]
     },
     "metadata": {},
     "output_type": "display_data"
    }
   ],
   "source": [
    "plt.scatter(stocks_return['Portfolio' ],stocks_return['Benchmark' ],alpha=0.80 );\n",
    "_=plt.ylabel('Returns' )\n",
    "_=plt.title('Correlation - Portfolio vs. Benchmark' )\n",
    "_=plt.xlabel('Date' )"
   ]
  },
  {
   "cell_type": "markdown",
   "metadata": {},
   "source": [
    "### • Create a new DataFrame for the portfolio and the benchmark for calculating the correlation"
   ]
  },
  {
   "cell_type": "code",
   "execution_count": 54,
   "metadata": {},
   "outputs": [
    {
     "data": {
      "text/html": [
       "<div>\n",
       "<style scoped>\n",
       "    .dataframe tbody tr th:only-of-type {\n",
       "        vertical-align: middle;\n",
       "    }\n",
       "\n",
       "    .dataframe tbody tr th {\n",
       "        vertical-align: top;\n",
       "    }\n",
       "\n",
       "    .dataframe thead th {\n",
       "        text-align: right;\n",
       "    }\n",
       "</style>\n",
       "<table border=\"1\" class=\"dataframe\">\n",
       "  <thead>\n",
       "    <tr style=\"text-align: right;\">\n",
       "      <th></th>\n",
       "      <th>Portfolio</th>\n",
       "      <th>Benchmark</th>\n",
       "    </tr>\n",
       "    <tr>\n",
       "      <th>Date</th>\n",
       "      <th></th>\n",
       "      <th></th>\n",
       "    </tr>\n",
       "  </thead>\n",
       "  <tbody>\n",
       "    <tr>\n",
       "      <th>2018-01-04</th>\n",
       "      <td>0.010994</td>\n",
       "      <td>0.004215</td>\n",
       "    </tr>\n",
       "    <tr>\n",
       "      <th>2018-01-05</th>\n",
       "      <td>0.069846</td>\n",
       "      <td>0.006664</td>\n",
       "    </tr>\n",
       "    <tr>\n",
       "      <th>2018-01-08</th>\n",
       "      <td>0.001061</td>\n",
       "      <td>0.001829</td>\n",
       "    </tr>\n",
       "    <tr>\n",
       "      <th>2018-01-09</th>\n",
       "      <td>0.004339</td>\n",
       "      <td>0.002263</td>\n",
       "    </tr>\n",
       "    <tr>\n",
       "      <th>2018-01-10</th>\n",
       "      <td>0.005553</td>\n",
       "      <td>-0.001530</td>\n",
       "    </tr>\n",
       "    <tr>\n",
       "      <th>...</th>\n",
       "      <td>...</td>\n",
       "      <td>...</td>\n",
       "    </tr>\n",
       "    <tr>\n",
       "      <th>2019-03-25</th>\n",
       "      <td>-0.000396</td>\n",
       "      <td>-0.000752</td>\n",
       "    </tr>\n",
       "    <tr>\n",
       "      <th>2019-03-26</th>\n",
       "      <td>0.021463</td>\n",
       "      <td>0.007454</td>\n",
       "    </tr>\n",
       "    <tr>\n",
       "      <th>2019-03-27</th>\n",
       "      <td>0.001477</td>\n",
       "      <td>-0.005229</td>\n",
       "    </tr>\n",
       "    <tr>\n",
       "      <th>2019-03-28</th>\n",
       "      <td>-0.006094</td>\n",
       "      <td>0.003790</td>\n",
       "    </tr>\n",
       "    <tr>\n",
       "      <th>2019-03-29</th>\n",
       "      <td>-0.000821</td>\n",
       "      <td>0.006306</td>\n",
       "    </tr>\n",
       "  </tbody>\n",
       "</table>\n",
       "<p>310 rows × 2 columns</p>\n",
       "</div>"
      ],
      "text/plain": [
       "            Portfolio   Benchmark\n",
       "Date                             \n",
       "2018-01-04   0.010994    0.004215\n",
       "2018-01-05   0.069846    0.006664\n",
       "2018-01-08   0.001061    0.001829\n",
       "2018-01-09   0.004339    0.002263\n",
       "2018-01-10   0.005553   -0.001530\n",
       "...               ...         ...\n",
       "2019-03-25  -0.000396   -0.000752\n",
       "2019-03-26   0.021463    0.007454\n",
       "2019-03-27   0.001477   -0.005229\n",
       "2019-03-28  -0.006094    0.003790\n",
       "2019-03-29  -0.000821    0.006306\n",
       "\n",
       "[310 rows x 2 columns]"
      ]
     },
     "execution_count": 54,
     "metadata": {},
     "output_type": "execute_result"
    }
   ],
   "source": [
    "portfolio_benchmark = pd.concat([stocks_return['Portfolio' ],stocks_return['Benchmark' ]],axis=1 ).dropna()\n",
    "portfolio_benchmark.columns=['Portfolio',' Benchmark' ]\n",
    "portfolio_benchmark"
   ]
  },
  {
   "cell_type": "markdown",
   "metadata": {},
   "source": [
    "### • Obtain the correlation between the portfolio and the benchmark\n"
   ]
  },
  {
   "cell_type": "code",
   "execution_count": 55,
   "metadata": {},
   "outputs": [
    {
     "data": {
      "text/html": [
       "<div>\n",
       "<style scoped>\n",
       "    .dataframe tbody tr th:only-of-type {\n",
       "        vertical-align: middle;\n",
       "    }\n",
       "\n",
       "    .dataframe tbody tr th {\n",
       "        vertical-align: top;\n",
       "    }\n",
       "\n",
       "    .dataframe thead th {\n",
       "        text-align: right;\n",
       "    }\n",
       "</style>\n",
       "<table border=\"1\" class=\"dataframe\">\n",
       "  <thead>\n",
       "    <tr style=\"text-align: right;\">\n",
       "      <th></th>\n",
       "      <th>Portfolio</th>\n",
       "      <th>Benchmark</th>\n",
       "    </tr>\n",
       "  </thead>\n",
       "  <tbody>\n",
       "    <tr>\n",
       "      <th>Portfolio</th>\n",
       "      <td>1.000000</td>\n",
       "      <td>0.563609</td>\n",
       "    </tr>\n",
       "    <tr>\n",
       "      <th>Benchmark</th>\n",
       "      <td>0.563609</td>\n",
       "      <td>1.000000</td>\n",
       "    </tr>\n",
       "  </tbody>\n",
       "</table>\n",
       "</div>"
      ],
      "text/plain": [
       "            Portfolio   Benchmark\n",
       "Portfolio    1.000000    0.563609\n",
       " Benchmark   0.563609    1.000000"
      ]
     },
     "execution_count": 55,
     "metadata": {},
     "output_type": "execute_result"
    }
   ],
   "source": [
    "correlation=portfolio_benchmark.corr()\n",
    "correlation"
   ]
  },
  {
   "cell_type": "markdown",
   "metadata": {},
   "source": [
    "### • Add risk-free rate based on the benchmark of Treasury Bills chosen\n"
   ]
  },
  {
   "cell_type": "code",
   "execution_count": 56,
   "metadata": {},
   "outputs": [
    {
     "data": {
      "text/html": [
       "<div>\n",
       "<style scoped>\n",
       "    .dataframe tbody tr th:only-of-type {\n",
       "        vertical-align: middle;\n",
       "    }\n",
       "\n",
       "    .dataframe tbody tr th {\n",
       "        vertical-align: top;\n",
       "    }\n",
       "\n",
       "    .dataframe thead th {\n",
       "        text-align: right;\n",
       "    }\n",
       "</style>\n",
       "<table border=\"1\" class=\"dataframe\">\n",
       "  <thead>\n",
       "    <tr style=\"text-align: right;\">\n",
       "      <th></th>\n",
       "      <th>F</th>\n",
       "      <th>FCAU.VI</th>\n",
       "      <th>TM</th>\n",
       "      <th>Portfolio</th>\n",
       "      <th>Benchmark</th>\n",
       "      <th>RF Rate</th>\n",
       "    </tr>\n",
       "    <tr>\n",
       "      <th>Date</th>\n",
       "      <th></th>\n",
       "      <th></th>\n",
       "      <th></th>\n",
       "      <th></th>\n",
       "      <th></th>\n",
       "      <th></th>\n",
       "    </tr>\n",
       "  </thead>\n",
       "  <tbody>\n",
       "    <tr>\n",
       "      <th>2018-01-03</th>\n",
       "      <td>0.007899</td>\n",
       "      <td>0.000000</td>\n",
       "      <td>0.013710</td>\n",
       "      <td>0.007268</td>\n",
       "      <td>NaN</td>\n",
       "      <td>0.0103</td>\n",
       "    </tr>\n",
       "    <tr>\n",
       "      <th>2018-01-04</th>\n",
       "      <td>0.017241</td>\n",
       "      <td>0.000000</td>\n",
       "      <td>0.015600</td>\n",
       "      <td>0.010994</td>\n",
       "      <td>0.004215</td>\n",
       "      <td>0.0103</td>\n",
       "    </tr>\n",
       "    <tr>\n",
       "      <th>2018-01-05</th>\n",
       "      <td>0.016949</td>\n",
       "      <td>0.181454</td>\n",
       "      <td>0.012863</td>\n",
       "      <td>0.069846</td>\n",
       "      <td>0.006664</td>\n",
       "      <td>0.0103</td>\n",
       "    </tr>\n",
       "    <tr>\n",
       "      <th>2018-01-08</th>\n",
       "      <td>-0.003788</td>\n",
       "      <td>0.000000</td>\n",
       "      <td>0.006798</td>\n",
       "      <td>0.001061</td>\n",
       "      <td>0.001829</td>\n",
       "      <td>0.0103</td>\n",
       "    </tr>\n",
       "    <tr>\n",
       "      <th>2018-01-09</th>\n",
       "      <td>-0.005323</td>\n",
       "      <td>0.026497</td>\n",
       "      <td>-0.007791</td>\n",
       "      <td>0.004339</td>\n",
       "      <td>0.002263</td>\n",
       "      <td>0.0103</td>\n",
       "    </tr>\n",
       "    <tr>\n",
       "      <th>...</th>\n",
       "      <td>...</td>\n",
       "      <td>...</td>\n",
       "      <td>...</td>\n",
       "      <td>...</td>\n",
       "      <td>...</td>\n",
       "      <td>...</td>\n",
       "    </tr>\n",
       "    <tr>\n",
       "      <th>2019-03-25</th>\n",
       "      <td>-0.003513</td>\n",
       "      <td>0.000000</td>\n",
       "      <td>0.002246</td>\n",
       "      <td>-0.000396</td>\n",
       "      <td>-0.000752</td>\n",
       "      <td>0.0103</td>\n",
       "    </tr>\n",
       "    <tr>\n",
       "      <th>2019-03-26</th>\n",
       "      <td>0.029377</td>\n",
       "      <td>0.024718</td>\n",
       "      <td>0.010623</td>\n",
       "      <td>0.021463</td>\n",
       "      <td>0.007454</td>\n",
       "      <td>0.0103</td>\n",
       "    </tr>\n",
       "    <tr>\n",
       "      <th>2019-03-27</th>\n",
       "      <td>-0.015982</td>\n",
       "      <td>0.026718</td>\n",
       "      <td>-0.006077</td>\n",
       "      <td>0.001477</td>\n",
       "      <td>-0.005229</td>\n",
       "      <td>0.0103</td>\n",
       "    </tr>\n",
       "    <tr>\n",
       "      <th>2019-03-28</th>\n",
       "      <td>0.017401</td>\n",
       "      <td>-0.019182</td>\n",
       "      <td>-0.016194</td>\n",
       "      <td>-0.006094</td>\n",
       "      <td>0.003790</td>\n",
       "      <td>0.0103</td>\n",
       "    </tr>\n",
       "    <tr>\n",
       "      <th>2019-03-29</th>\n",
       "      <td>0.001140</td>\n",
       "      <td>0.005458</td>\n",
       "      <td>-0.008818</td>\n",
       "      <td>-0.000821</td>\n",
       "      <td>0.006306</td>\n",
       "      <td>0.0103</td>\n",
       "    </tr>\n",
       "  </tbody>\n",
       "</table>\n",
       "<p>311 rows × 6 columns</p>\n",
       "</div>"
      ],
      "text/plain": [
       "                   F   FCAU.VI        TM  Portfolio  Benchmark  RF Rate\n",
       "Date                                                                   \n",
       "2018-01-03  0.007899  0.000000  0.013710   0.007268        NaN   0.0103\n",
       "2018-01-04  0.017241  0.000000  0.015600   0.010994   0.004215   0.0103\n",
       "2018-01-05  0.016949  0.181454  0.012863   0.069846   0.006664   0.0103\n",
       "2018-01-08 -0.003788  0.000000  0.006798   0.001061   0.001829   0.0103\n",
       "2018-01-09 -0.005323  0.026497 -0.007791   0.004339   0.002263   0.0103\n",
       "...              ...       ...       ...        ...        ...      ...\n",
       "2019-03-25 -0.003513  0.000000  0.002246  -0.000396  -0.000752   0.0103\n",
       "2019-03-26  0.029377  0.024718  0.010623   0.021463   0.007454   0.0103\n",
       "2019-03-27 -0.015982  0.026718 -0.006077   0.001477  -0.005229   0.0103\n",
       "2019-03-28  0.017401 -0.019182 -0.016194  -0.006094   0.003790   0.0103\n",
       "2019-03-29  0.001140  0.005458 -0.008818  -0.000821   0.006306   0.0103\n",
       "\n",
       "[311 rows x 6 columns]"
      ]
     },
     "execution_count": 56,
     "metadata": {},
     "output_type": "execute_result"
    }
   ],
   "source": [
    "stocks_return['RF Rate' ]=0.0103\n",
    "stocks_return"
   ]
  },
  {
   "cell_type": "markdown",
   "metadata": {},
   "source": [
    "### • Calculate the excess of the portfolio\n"
   ]
  },
  {
   "cell_type": "code",
   "execution_count": 57,
   "metadata": {},
   "outputs": [
    {
     "data": {
      "text/html": [
       "<div>\n",
       "<style scoped>\n",
       "    .dataframe tbody tr th:only-of-type {\n",
       "        vertical-align: middle;\n",
       "    }\n",
       "\n",
       "    .dataframe tbody tr th {\n",
       "        vertical-align: top;\n",
       "    }\n",
       "\n",
       "    .dataframe thead th {\n",
       "        text-align: right;\n",
       "    }\n",
       "</style>\n",
       "<table border=\"1\" class=\"dataframe\">\n",
       "  <thead>\n",
       "    <tr style=\"text-align: right;\">\n",
       "      <th></th>\n",
       "      <th>F</th>\n",
       "      <th>FCAU.VI</th>\n",
       "      <th>TM</th>\n",
       "      <th>Portfolio</th>\n",
       "      <th>Benchmark</th>\n",
       "      <th>RF Rate</th>\n",
       "      <th>excess</th>\n",
       "    </tr>\n",
       "    <tr>\n",
       "      <th>Date</th>\n",
       "      <th></th>\n",
       "      <th></th>\n",
       "      <th></th>\n",
       "      <th></th>\n",
       "      <th></th>\n",
       "      <th></th>\n",
       "      <th></th>\n",
       "    </tr>\n",
       "  </thead>\n",
       "  <tbody>\n",
       "    <tr>\n",
       "      <th>2018-01-03</th>\n",
       "      <td>0.007899</td>\n",
       "      <td>0.000000</td>\n",
       "      <td>0.013710</td>\n",
       "      <td>0.007268</td>\n",
       "      <td>NaN</td>\n",
       "      <td>0.0103</td>\n",
       "      <td>-0.003032</td>\n",
       "    </tr>\n",
       "    <tr>\n",
       "      <th>2018-01-04</th>\n",
       "      <td>0.017241</td>\n",
       "      <td>0.000000</td>\n",
       "      <td>0.015600</td>\n",
       "      <td>0.010994</td>\n",
       "      <td>0.004215</td>\n",
       "      <td>0.0103</td>\n",
       "      <td>0.000694</td>\n",
       "    </tr>\n",
       "    <tr>\n",
       "      <th>2018-01-05</th>\n",
       "      <td>0.016949</td>\n",
       "      <td>0.181454</td>\n",
       "      <td>0.012863</td>\n",
       "      <td>0.069846</td>\n",
       "      <td>0.006664</td>\n",
       "      <td>0.0103</td>\n",
       "      <td>0.059546</td>\n",
       "    </tr>\n",
       "    <tr>\n",
       "      <th>2018-01-08</th>\n",
       "      <td>-0.003788</td>\n",
       "      <td>0.000000</td>\n",
       "      <td>0.006798</td>\n",
       "      <td>0.001061</td>\n",
       "      <td>0.001829</td>\n",
       "      <td>0.0103</td>\n",
       "      <td>-0.009239</td>\n",
       "    </tr>\n",
       "    <tr>\n",
       "      <th>2018-01-09</th>\n",
       "      <td>-0.005323</td>\n",
       "      <td>0.026497</td>\n",
       "      <td>-0.007791</td>\n",
       "      <td>0.004339</td>\n",
       "      <td>0.002263</td>\n",
       "      <td>0.0103</td>\n",
       "      <td>-0.005961</td>\n",
       "    </tr>\n",
       "    <tr>\n",
       "      <th>...</th>\n",
       "      <td>...</td>\n",
       "      <td>...</td>\n",
       "      <td>...</td>\n",
       "      <td>...</td>\n",
       "      <td>...</td>\n",
       "      <td>...</td>\n",
       "      <td>...</td>\n",
       "    </tr>\n",
       "    <tr>\n",
       "      <th>2019-03-25</th>\n",
       "      <td>-0.003513</td>\n",
       "      <td>0.000000</td>\n",
       "      <td>0.002246</td>\n",
       "      <td>-0.000396</td>\n",
       "      <td>-0.000752</td>\n",
       "      <td>0.0103</td>\n",
       "      <td>-0.010696</td>\n",
       "    </tr>\n",
       "    <tr>\n",
       "      <th>2019-03-26</th>\n",
       "      <td>0.029377</td>\n",
       "      <td>0.024718</td>\n",
       "      <td>0.010623</td>\n",
       "      <td>0.021463</td>\n",
       "      <td>0.007454</td>\n",
       "      <td>0.0103</td>\n",
       "      <td>0.011163</td>\n",
       "    </tr>\n",
       "    <tr>\n",
       "      <th>2019-03-27</th>\n",
       "      <td>-0.015982</td>\n",
       "      <td>0.026718</td>\n",
       "      <td>-0.006077</td>\n",
       "      <td>0.001477</td>\n",
       "      <td>-0.005229</td>\n",
       "      <td>0.0103</td>\n",
       "      <td>-0.008823</td>\n",
       "    </tr>\n",
       "    <tr>\n",
       "      <th>2019-03-28</th>\n",
       "      <td>0.017401</td>\n",
       "      <td>-0.019182</td>\n",
       "      <td>-0.016194</td>\n",
       "      <td>-0.006094</td>\n",
       "      <td>0.003790</td>\n",
       "      <td>0.0103</td>\n",
       "      <td>-0.016394</td>\n",
       "    </tr>\n",
       "    <tr>\n",
       "      <th>2019-03-29</th>\n",
       "      <td>0.001140</td>\n",
       "      <td>0.005458</td>\n",
       "      <td>-0.008818</td>\n",
       "      <td>-0.000821</td>\n",
       "      <td>0.006306</td>\n",
       "      <td>0.0103</td>\n",
       "      <td>-0.011121</td>\n",
       "    </tr>\n",
       "  </tbody>\n",
       "</table>\n",
       "<p>311 rows × 7 columns</p>\n",
       "</div>"
      ],
      "text/plain": [
       "                   F   FCAU.VI        TM  Portfolio  Benchmark  RF Rate  \\\n",
       "Date                                                                      \n",
       "2018-01-03  0.007899  0.000000  0.013710   0.007268        NaN   0.0103   \n",
       "2018-01-04  0.017241  0.000000  0.015600   0.010994   0.004215   0.0103   \n",
       "2018-01-05  0.016949  0.181454  0.012863   0.069846   0.006664   0.0103   \n",
       "2018-01-08 -0.003788  0.000000  0.006798   0.001061   0.001829   0.0103   \n",
       "2018-01-09 -0.005323  0.026497 -0.007791   0.004339   0.002263   0.0103   \n",
       "...              ...       ...       ...        ...        ...      ...   \n",
       "2019-03-25 -0.003513  0.000000  0.002246  -0.000396  -0.000752   0.0103   \n",
       "2019-03-26  0.029377  0.024718  0.010623   0.021463   0.007454   0.0103   \n",
       "2019-03-27 -0.015982  0.026718 -0.006077   0.001477  -0.005229   0.0103   \n",
       "2019-03-28  0.017401 -0.019182 -0.016194  -0.006094   0.003790   0.0103   \n",
       "2019-03-29  0.001140  0.005458 -0.008818  -0.000821   0.006306   0.0103   \n",
       "\n",
       "              excess  \n",
       "Date                  \n",
       "2018-01-03 -0.003032  \n",
       "2018-01-04  0.000694  \n",
       "2018-01-05  0.059546  \n",
       "2018-01-08 -0.009239  \n",
       "2018-01-09 -0.005961  \n",
       "...              ...  \n",
       "2019-03-25 -0.010696  \n",
       "2019-03-26  0.011163  \n",
       "2019-03-27 -0.008823  \n",
       "2019-03-28 -0.016394  \n",
       "2019-03-29 -0.011121  \n",
       "\n",
       "[311 rows x 7 columns]"
      ]
     },
     "execution_count": 57,
     "metadata": {},
     "output_type": "execute_result"
    }
   ],
   "source": [
    "stocks_return['excess' ]=stocks_return['Portfolio' ] - stocks_return['RF Rate' ]\n",
    "stocks_return"
   ]
  },
  {
   "cell_type": "markdown",
   "metadata": {},
   "source": [
    "### • Calculate the excess of the benchmark\n"
   ]
  },
  {
   "cell_type": "code",
   "execution_count": 58,
   "metadata": {},
   "outputs": [
    {
     "data": {
      "text/html": [
       "<div>\n",
       "<style scoped>\n",
       "    .dataframe tbody tr th:only-of-type {\n",
       "        vertical-align: middle;\n",
       "    }\n",
       "\n",
       "    .dataframe tbody tr th {\n",
       "        vertical-align: top;\n",
       "    }\n",
       "\n",
       "    .dataframe thead th {\n",
       "        text-align: right;\n",
       "    }\n",
       "</style>\n",
       "<table border=\"1\" class=\"dataframe\">\n",
       "  <thead>\n",
       "    <tr style=\"text-align: right;\">\n",
       "      <th></th>\n",
       "      <th>F</th>\n",
       "      <th>FCAU.VI</th>\n",
       "      <th>TM</th>\n",
       "      <th>Portfolio</th>\n",
       "      <th>Benchmark</th>\n",
       "      <th>RF Rate</th>\n",
       "      <th>excess</th>\n",
       "      <th>excess_b</th>\n",
       "    </tr>\n",
       "    <tr>\n",
       "      <th>Date</th>\n",
       "      <th></th>\n",
       "      <th></th>\n",
       "      <th></th>\n",
       "      <th></th>\n",
       "      <th></th>\n",
       "      <th></th>\n",
       "      <th></th>\n",
       "      <th></th>\n",
       "    </tr>\n",
       "  </thead>\n",
       "  <tbody>\n",
       "    <tr>\n",
       "      <th>2018-01-03</th>\n",
       "      <td>0.007899</td>\n",
       "      <td>0.000000</td>\n",
       "      <td>0.013710</td>\n",
       "      <td>0.007268</td>\n",
       "      <td>NaN</td>\n",
       "      <td>0.0103</td>\n",
       "      <td>-0.003032</td>\n",
       "      <td>NaN</td>\n",
       "    </tr>\n",
       "    <tr>\n",
       "      <th>2018-01-04</th>\n",
       "      <td>0.017241</td>\n",
       "      <td>0.000000</td>\n",
       "      <td>0.015600</td>\n",
       "      <td>0.010994</td>\n",
       "      <td>0.004215</td>\n",
       "      <td>0.0103</td>\n",
       "      <td>0.000694</td>\n",
       "      <td>-0.006085</td>\n",
       "    </tr>\n",
       "    <tr>\n",
       "      <th>2018-01-05</th>\n",
       "      <td>0.016949</td>\n",
       "      <td>0.181454</td>\n",
       "      <td>0.012863</td>\n",
       "      <td>0.069846</td>\n",
       "      <td>0.006664</td>\n",
       "      <td>0.0103</td>\n",
       "      <td>0.059546</td>\n",
       "      <td>-0.003636</td>\n",
       "    </tr>\n",
       "    <tr>\n",
       "      <th>2018-01-08</th>\n",
       "      <td>-0.003788</td>\n",
       "      <td>0.000000</td>\n",
       "      <td>0.006798</td>\n",
       "      <td>0.001061</td>\n",
       "      <td>0.001829</td>\n",
       "      <td>0.0103</td>\n",
       "      <td>-0.009239</td>\n",
       "      <td>-0.008471</td>\n",
       "    </tr>\n",
       "    <tr>\n",
       "      <th>2018-01-09</th>\n",
       "      <td>-0.005323</td>\n",
       "      <td>0.026497</td>\n",
       "      <td>-0.007791</td>\n",
       "      <td>0.004339</td>\n",
       "      <td>0.002263</td>\n",
       "      <td>0.0103</td>\n",
       "      <td>-0.005961</td>\n",
       "      <td>-0.008037</td>\n",
       "    </tr>\n",
       "    <tr>\n",
       "      <th>...</th>\n",
       "      <td>...</td>\n",
       "      <td>...</td>\n",
       "      <td>...</td>\n",
       "      <td>...</td>\n",
       "      <td>...</td>\n",
       "      <td>...</td>\n",
       "      <td>...</td>\n",
       "      <td>...</td>\n",
       "    </tr>\n",
       "    <tr>\n",
       "      <th>2019-03-25</th>\n",
       "      <td>-0.003513</td>\n",
       "      <td>0.000000</td>\n",
       "      <td>0.002246</td>\n",
       "      <td>-0.000396</td>\n",
       "      <td>-0.000752</td>\n",
       "      <td>0.0103</td>\n",
       "      <td>-0.010696</td>\n",
       "      <td>-0.011052</td>\n",
       "    </tr>\n",
       "    <tr>\n",
       "      <th>2019-03-26</th>\n",
       "      <td>0.029377</td>\n",
       "      <td>0.024718</td>\n",
       "      <td>0.010623</td>\n",
       "      <td>0.021463</td>\n",
       "      <td>0.007454</td>\n",
       "      <td>0.0103</td>\n",
       "      <td>0.011163</td>\n",
       "      <td>-0.002846</td>\n",
       "    </tr>\n",
       "    <tr>\n",
       "      <th>2019-03-27</th>\n",
       "      <td>-0.015982</td>\n",
       "      <td>0.026718</td>\n",
       "      <td>-0.006077</td>\n",
       "      <td>0.001477</td>\n",
       "      <td>-0.005229</td>\n",
       "      <td>0.0103</td>\n",
       "      <td>-0.008823</td>\n",
       "      <td>-0.015529</td>\n",
       "    </tr>\n",
       "    <tr>\n",
       "      <th>2019-03-28</th>\n",
       "      <td>0.017401</td>\n",
       "      <td>-0.019182</td>\n",
       "      <td>-0.016194</td>\n",
       "      <td>-0.006094</td>\n",
       "      <td>0.003790</td>\n",
       "      <td>0.0103</td>\n",
       "      <td>-0.016394</td>\n",
       "      <td>-0.006510</td>\n",
       "    </tr>\n",
       "    <tr>\n",
       "      <th>2019-03-29</th>\n",
       "      <td>0.001140</td>\n",
       "      <td>0.005458</td>\n",
       "      <td>-0.008818</td>\n",
       "      <td>-0.000821</td>\n",
       "      <td>0.006306</td>\n",
       "      <td>0.0103</td>\n",
       "      <td>-0.011121</td>\n",
       "      <td>-0.003994</td>\n",
       "    </tr>\n",
       "  </tbody>\n",
       "</table>\n",
       "<p>311 rows × 8 columns</p>\n",
       "</div>"
      ],
      "text/plain": [
       "                   F   FCAU.VI        TM  Portfolio  Benchmark  RF Rate  \\\n",
       "Date                                                                      \n",
       "2018-01-03  0.007899  0.000000  0.013710   0.007268        NaN   0.0103   \n",
       "2018-01-04  0.017241  0.000000  0.015600   0.010994   0.004215   0.0103   \n",
       "2018-01-05  0.016949  0.181454  0.012863   0.069846   0.006664   0.0103   \n",
       "2018-01-08 -0.003788  0.000000  0.006798   0.001061   0.001829   0.0103   \n",
       "2018-01-09 -0.005323  0.026497 -0.007791   0.004339   0.002263   0.0103   \n",
       "...              ...       ...       ...        ...        ...      ...   \n",
       "2019-03-25 -0.003513  0.000000  0.002246  -0.000396  -0.000752   0.0103   \n",
       "2019-03-26  0.029377  0.024718  0.010623   0.021463   0.007454   0.0103   \n",
       "2019-03-27 -0.015982  0.026718 -0.006077   0.001477  -0.005229   0.0103   \n",
       "2019-03-28  0.017401 -0.019182 -0.016194  -0.006094   0.003790   0.0103   \n",
       "2019-03-29  0.001140  0.005458 -0.008818  -0.000821   0.006306   0.0103   \n",
       "\n",
       "              excess  excess_b  \n",
       "Date                            \n",
       "2018-01-03 -0.003032       NaN  \n",
       "2018-01-04  0.000694 -0.006085  \n",
       "2018-01-05  0.059546 -0.003636  \n",
       "2018-01-08 -0.009239 -0.008471  \n",
       "2018-01-09 -0.005961 -0.008037  \n",
       "...              ...       ...  \n",
       "2019-03-25 -0.010696 -0.011052  \n",
       "2019-03-26  0.011163 -0.002846  \n",
       "2019-03-27 -0.008823 -0.015529  \n",
       "2019-03-28 -0.016394 -0.006510  \n",
       "2019-03-29 -0.011121 -0.003994  \n",
       "\n",
       "[311 rows x 8 columns]"
      ]
     },
     "execution_count": 58,
     "metadata": {},
     "output_type": "execute_result"
    }
   ],
   "source": [
    "stocks_return['excess_b' ]=stocks_return['Benchmark' ] - stocks_return['RF Rate' ]\n",
    "stocks_return"
   ]
  },
  {
   "cell_type": "markdown",
   "metadata": {},
   "source": [
    "### • Calculating the Sharpe Ratio\n"
   ]
  },
  {
   "cell_type": "code",
   "execution_count": 59,
   "metadata": {},
   "outputs": [
    {
     "data": {
      "text/plain": [
       "-0.767341402428039"
      ]
     },
     "execution_count": 59,
     "metadata": {},
     "output_type": "execute_result"
    }
   ],
   "source": [
    "sharpe_ratio=((stocks_return['Portfolio' ].mean() - stocks_return['RF Rate' ].mean()))/stocks_return['Portfolio' ].std()\n",
    "sharpe_ratio"
   ]
  },
  {
   "cell_type": "markdown",
   "metadata": {},
   "source": [
    "### • Calculating the annual Sharpe Ratio"
   ]
  },
  {
   "cell_type": "code",
   "execution_count": 60,
   "metadata": {},
   "outputs": [
    {
     "data": {
      "text/plain": [
       "-12.181167129048756"
      ]
     },
     "execution_count": 60,
     "metadata": {},
     "output_type": "execute_result"
    }
   ],
   "source": [
    "import math\n",
    "annual_days=252\n",
    "sharpe_ratio_annual=sharpe_ratio * math.sqrt(annual_days)\n",
    "sharpe_ratio_annual"
   ]
  },
  {
   "cell_type": "markdown",
   "metadata": {},
   "source": [
    "Considering that the results are negative, the problem lies that the mean return of the portfolio is smaller than the risk-free rate. As discussed before, the return of the portfolio is lower than the risk-free rate exemplifies that the portfolio is not performing above our lowest target (the RF Rate) and therefore a portfolio is not effective (Fig. 3).\n",
    "\n",
    "By using highly correlated assets as a portfolio, returns were sacrificed and the risk was higher because if there is a fall in one security the other companies will respond in the same way. This is an important lesson when building a portfolio and not considering the warnings when analyzing correlation."
   ]
  },
  {
   "cell_type": "markdown",
   "metadata": {},
   "source": [
    "## TRAYNOR RATIO\n",
    "\n",
    "The ratio was created by John Traynor in 1965 and measure the rentability compared to risk. The rule of thumb of the ratio is that an indicator that is higher is a result of the portfolio management. When analyzing the Traynor Ratio, if it is negative, the portfolio has underperformed the risk-free rate.\n",
    "\n",
    "Since the Traynor Ratio measures returns in excess earned on a riskless investment compared by using a per market risk, it is useful because it compares the returns to the risk of the investor (Keaton 2020). As seen in the following equation, the main difference between a Sharpe Ratio and a Traynor Ratio is the use of beta.\n",
    "\n",
    "Equation 11: Traynor Ratio\n",
    "\n",
    "Traynor Ratio = (Rp − Rf) / βp\n",
    "\n",
    "where:\n",
    "Rp = returns of the portfolio\n",
    "\n",
    "Rf = risk-free rate\n",
    "\n",
    "βp = Beta of the portfolio\n",
    "\n",
    "For example, the data set that was used for the Sharpe Ratio will be used. This is important for comparison between the ratios.\n",
    "\n",
    "### • Installing packages\n"
   ]
  },
  {
   "cell_type": "code",
   "execution_count": 61,
   "metadata": {},
   "outputs": [],
   "source": [
    "import numpy as np\n",
    "import pandas as pd\n",
    "import yfinance as yf\n",
    "import datetime\n",
    "import matplotlib.pyplot as plt\n",
    "%matplotlib inline\n"
   ]
  },
  {
   "cell_type": "markdown",
   "metadata": {},
   "source": [
    "### • Creating the portfolio based on an end and start date"
   ]
  },
  {
   "cell_type": "code",
   "execution_count": 62,
   "metadata": {},
   "outputs": [
    {
     "name": "stderr",
     "output_type": "stream",
     "text": [
      "[*********************100%%**********************]  1 of 1 completed\n",
      "[*********************100%%**********************]  1 of 1 completed\n",
      "[*********************100%%**********************]  1 of 1 completed\n"
     ]
    },
    {
     "data": {
      "text/html": [
       "<div>\n",
       "<style scoped>\n",
       "    .dataframe tbody tr th:only-of-type {\n",
       "        vertical-align: middle;\n",
       "    }\n",
       "\n",
       "    .dataframe tbody tr th {\n",
       "        vertical-align: top;\n",
       "    }\n",
       "\n",
       "    .dataframe thead th {\n",
       "        text-align: right;\n",
       "    }\n",
       "</style>\n",
       "<table border=\"1\" class=\"dataframe\">\n",
       "  <thead>\n",
       "    <tr style=\"text-align: right;\">\n",
       "      <th></th>\n",
       "      <th>F</th>\n",
       "      <th>FCAU.VI</th>\n",
       "      <th>TM</th>\n",
       "    </tr>\n",
       "    <tr>\n",
       "      <th>Date</th>\n",
       "      <th></th>\n",
       "      <th></th>\n",
       "      <th></th>\n",
       "    </tr>\n",
       "  </thead>\n",
       "  <tbody>\n",
       "    <tr>\n",
       "      <th>2018-01-02</th>\n",
       "      <td>12.66</td>\n",
       "      <td>15.205000</td>\n",
       "      <td>128.369995</td>\n",
       "    </tr>\n",
       "    <tr>\n",
       "      <th>2018-01-03</th>\n",
       "      <td>12.76</td>\n",
       "      <td>15.205000</td>\n",
       "      <td>130.130005</td>\n",
       "    </tr>\n",
       "    <tr>\n",
       "      <th>2018-01-04</th>\n",
       "      <td>12.98</td>\n",
       "      <td>15.205000</td>\n",
       "      <td>132.160004</td>\n",
       "    </tr>\n",
       "    <tr>\n",
       "      <th>2018-01-05</th>\n",
       "      <td>13.20</td>\n",
       "      <td>17.964001</td>\n",
       "      <td>133.860001</td>\n",
       "    </tr>\n",
       "    <tr>\n",
       "      <th>2018-01-08</th>\n",
       "      <td>13.15</td>\n",
       "      <td>17.964001</td>\n",
       "      <td>134.770004</td>\n",
       "    </tr>\n",
       "    <tr>\n",
       "      <th>...</th>\n",
       "      <td>...</td>\n",
       "      <td>...</td>\n",
       "      <td>...</td>\n",
       "    </tr>\n",
       "    <tr>\n",
       "      <th>2019-03-25</th>\n",
       "      <td>8.51</td>\n",
       "      <td>NaN</td>\n",
       "      <td>120.489998</td>\n",
       "    </tr>\n",
       "    <tr>\n",
       "      <th>2019-03-26</th>\n",
       "      <td>8.76</td>\n",
       "      <td>13.100000</td>\n",
       "      <td>121.769997</td>\n",
       "    </tr>\n",
       "    <tr>\n",
       "      <th>2019-03-27</th>\n",
       "      <td>8.62</td>\n",
       "      <td>13.450000</td>\n",
       "      <td>121.029999</td>\n",
       "    </tr>\n",
       "    <tr>\n",
       "      <th>2019-03-28</th>\n",
       "      <td>8.77</td>\n",
       "      <td>13.192000</td>\n",
       "      <td>119.070000</td>\n",
       "    </tr>\n",
       "    <tr>\n",
       "      <th>2019-03-29</th>\n",
       "      <td>8.78</td>\n",
       "      <td>13.264000</td>\n",
       "      <td>118.019997</td>\n",
       "    </tr>\n",
       "  </tbody>\n",
       "</table>\n",
       "<p>312 rows × 3 columns</p>\n",
       "</div>"
      ],
      "text/plain": [
       "                F    FCAU.VI          TM\n",
       "Date                                    \n",
       "2018-01-02  12.66  15.205000  128.369995\n",
       "2018-01-03  12.76  15.205000  130.130005\n",
       "2018-01-04  12.98  15.205000  132.160004\n",
       "2018-01-05  13.20  17.964001  133.860001\n",
       "2018-01-08  13.15  17.964001  134.770004\n",
       "...           ...        ...         ...\n",
       "2019-03-25   8.51        NaN  120.489998\n",
       "2019-03-26   8.76  13.100000  121.769997\n",
       "2019-03-27   8.62  13.450000  121.029999\n",
       "2019-03-28   8.77  13.192000  119.070000\n",
       "2019-03-29   8.78  13.264000  118.019997\n",
       "\n",
       "[312 rows x 3 columns]"
      ]
     },
     "execution_count": 62,
     "metadata": {},
     "output_type": "execute_result"
    }
   ],
   "source": [
    "start = datetime.datetime(2018,1,2)\n",
    "end = datetime.datetime(2019,4,1)\n",
    "tickers = ['F','FCAU.VI', 'TM']\n",
    "stocks = pd.DataFrame()\n",
    "for x in tickers:\n",
    "    stocks[x]=yf.download(x, start, end)[ 'Close' ]\n",
    "stocks"
   ]
  },
  {
   "cell_type": "markdown",
   "metadata": {},
   "source": [
    "### • Choose weights for the portfolio"
   ]
  },
  {
   "cell_type": "code",
   "execution_count": 63,
   "metadata": {},
   "outputs": [
    {
     "data": {
      "text/plain": [
       "array([0.33, 0.33, 0.34])"
      ]
     },
     "execution_count": 63,
     "metadata": {},
     "output_type": "execute_result"
    }
   ],
   "source": [
    "portfolio_weights = np.array([0.33, 0.33, 0.34 ])\n",
    "portfolio_weights"
   ]
  },
  {
   "cell_type": "markdown",
   "metadata": {},
   "source": [
    "### • Returns of the stocks using percent change"
   ]
  },
  {
   "cell_type": "code",
   "execution_count": 64,
   "metadata": {},
   "outputs": [
    {
     "name": "stderr",
     "output_type": "stream",
     "text": [
      "C:\\Users\\fvill\\AppData\\Local\\Temp\\ipykernel_18132\\2946317190.py:1: FutureWarning: The default fill_method='pad' in DataFrame.pct_change is deprecated and will be removed in a future version. Either fill in any non-leading NA values prior to calling pct_change or specify 'fill_method=None' to not fill NA values.\n",
      "  stocks_return=stocks.pct_change(1).dropna()\n"
     ]
    },
    {
     "data": {
      "text/html": [
       "<div>\n",
       "<style scoped>\n",
       "    .dataframe tbody tr th:only-of-type {\n",
       "        vertical-align: middle;\n",
       "    }\n",
       "\n",
       "    .dataframe tbody tr th {\n",
       "        vertical-align: top;\n",
       "    }\n",
       "\n",
       "    .dataframe thead th {\n",
       "        text-align: right;\n",
       "    }\n",
       "</style>\n",
       "<table border=\"1\" class=\"dataframe\">\n",
       "  <thead>\n",
       "    <tr style=\"text-align: right;\">\n",
       "      <th></th>\n",
       "      <th>F</th>\n",
       "      <th>FCAU.VI</th>\n",
       "      <th>TM</th>\n",
       "    </tr>\n",
       "    <tr>\n",
       "      <th>Date</th>\n",
       "      <th></th>\n",
       "      <th></th>\n",
       "      <th></th>\n",
       "    </tr>\n",
       "  </thead>\n",
       "  <tbody>\n",
       "    <tr>\n",
       "      <th>2018-01-03</th>\n",
       "      <td>0.007899</td>\n",
       "      <td>0.000000</td>\n",
       "      <td>0.013710</td>\n",
       "    </tr>\n",
       "    <tr>\n",
       "      <th>2018-01-04</th>\n",
       "      <td>0.017241</td>\n",
       "      <td>0.000000</td>\n",
       "      <td>0.015600</td>\n",
       "    </tr>\n",
       "    <tr>\n",
       "      <th>2018-01-05</th>\n",
       "      <td>0.016949</td>\n",
       "      <td>0.181454</td>\n",
       "      <td>0.012863</td>\n",
       "    </tr>\n",
       "    <tr>\n",
       "      <th>2018-01-08</th>\n",
       "      <td>-0.003788</td>\n",
       "      <td>0.000000</td>\n",
       "      <td>0.006798</td>\n",
       "    </tr>\n",
       "    <tr>\n",
       "      <th>2018-01-09</th>\n",
       "      <td>-0.005323</td>\n",
       "      <td>0.026497</td>\n",
       "      <td>-0.007791</td>\n",
       "    </tr>\n",
       "    <tr>\n",
       "      <th>...</th>\n",
       "      <td>...</td>\n",
       "      <td>...</td>\n",
       "      <td>...</td>\n",
       "    </tr>\n",
       "    <tr>\n",
       "      <th>2019-03-25</th>\n",
       "      <td>-0.003513</td>\n",
       "      <td>0.000000</td>\n",
       "      <td>0.002246</td>\n",
       "    </tr>\n",
       "    <tr>\n",
       "      <th>2019-03-26</th>\n",
       "      <td>0.029377</td>\n",
       "      <td>0.024718</td>\n",
       "      <td>0.010623</td>\n",
       "    </tr>\n",
       "    <tr>\n",
       "      <th>2019-03-27</th>\n",
       "      <td>-0.015982</td>\n",
       "      <td>0.026718</td>\n",
       "      <td>-0.006077</td>\n",
       "    </tr>\n",
       "    <tr>\n",
       "      <th>2019-03-28</th>\n",
       "      <td>0.017401</td>\n",
       "      <td>-0.019182</td>\n",
       "      <td>-0.016194</td>\n",
       "    </tr>\n",
       "    <tr>\n",
       "      <th>2019-03-29</th>\n",
       "      <td>0.001140</td>\n",
       "      <td>0.005458</td>\n",
       "      <td>-0.008818</td>\n",
       "    </tr>\n",
       "  </tbody>\n",
       "</table>\n",
       "<p>311 rows × 3 columns</p>\n",
       "</div>"
      ],
      "text/plain": [
       "                   F   FCAU.VI        TM\n",
       "Date                                    \n",
       "2018-01-03  0.007899  0.000000  0.013710\n",
       "2018-01-04  0.017241  0.000000  0.015600\n",
       "2018-01-05  0.016949  0.181454  0.012863\n",
       "2018-01-08 -0.003788  0.000000  0.006798\n",
       "2018-01-09 -0.005323  0.026497 -0.007791\n",
       "...              ...       ...       ...\n",
       "2019-03-25 -0.003513  0.000000  0.002246\n",
       "2019-03-26  0.029377  0.024718  0.010623\n",
       "2019-03-27 -0.015982  0.026718 -0.006077\n",
       "2019-03-28  0.017401 -0.019182 -0.016194\n",
       "2019-03-29  0.001140  0.005458 -0.008818\n",
       "\n",
       "[311 rows x 3 columns]"
      ]
     },
     "execution_count": 64,
     "metadata": {},
     "output_type": "execute_result"
    }
   ],
   "source": [
    "stocks_return=stocks.pct_change(1).dropna()\n",
    "stocks_return"
   ]
  },
  {
   "cell_type": "markdown",
   "metadata": {},
   "source": [
    "### • Multiply the returns of the portfolio with each stock’s weight"
   ]
  },
  {
   "cell_type": "code",
   "execution_count": 65,
   "metadata": {},
   "outputs": [
    {
     "data": {
      "text/html": [
       "<div>\n",
       "<style scoped>\n",
       "    .dataframe tbody tr th:only-of-type {\n",
       "        vertical-align: middle;\n",
       "    }\n",
       "\n",
       "    .dataframe tbody tr th {\n",
       "        vertical-align: top;\n",
       "    }\n",
       "\n",
       "    .dataframe thead th {\n",
       "        text-align: right;\n",
       "    }\n",
       "</style>\n",
       "<table border=\"1\" class=\"dataframe\">\n",
       "  <thead>\n",
       "    <tr style=\"text-align: right;\">\n",
       "      <th></th>\n",
       "      <th>F</th>\n",
       "      <th>FCAU.VI</th>\n",
       "      <th>TM</th>\n",
       "    </tr>\n",
       "    <tr>\n",
       "      <th>Date</th>\n",
       "      <th></th>\n",
       "      <th></th>\n",
       "      <th></th>\n",
       "    </tr>\n",
       "  </thead>\n",
       "  <tbody>\n",
       "    <tr>\n",
       "      <th>2018-01-03</th>\n",
       "      <td>0.002607</td>\n",
       "      <td>0.000000</td>\n",
       "      <td>0.004662</td>\n",
       "    </tr>\n",
       "    <tr>\n",
       "      <th>2018-01-04</th>\n",
       "      <td>0.005690</td>\n",
       "      <td>0.000000</td>\n",
       "      <td>0.005304</td>\n",
       "    </tr>\n",
       "    <tr>\n",
       "      <th>2018-01-05</th>\n",
       "      <td>0.005593</td>\n",
       "      <td>0.059880</td>\n",
       "      <td>0.004373</td>\n",
       "    </tr>\n",
       "    <tr>\n",
       "      <th>2018-01-08</th>\n",
       "      <td>-0.001250</td>\n",
       "      <td>0.000000</td>\n",
       "      <td>0.002311</td>\n",
       "    </tr>\n",
       "    <tr>\n",
       "      <th>2018-01-09</th>\n",
       "      <td>-0.001757</td>\n",
       "      <td>0.008744</td>\n",
       "      <td>-0.002649</td>\n",
       "    </tr>\n",
       "    <tr>\n",
       "      <th>...</th>\n",
       "      <td>...</td>\n",
       "      <td>...</td>\n",
       "      <td>...</td>\n",
       "    </tr>\n",
       "    <tr>\n",
       "      <th>2019-03-25</th>\n",
       "      <td>-0.001159</td>\n",
       "      <td>0.000000</td>\n",
       "      <td>0.000764</td>\n",
       "    </tr>\n",
       "    <tr>\n",
       "      <th>2019-03-26</th>\n",
       "      <td>0.009694</td>\n",
       "      <td>0.008157</td>\n",
       "      <td>0.003612</td>\n",
       "    </tr>\n",
       "    <tr>\n",
       "      <th>2019-03-27</th>\n",
       "      <td>-0.005274</td>\n",
       "      <td>0.008817</td>\n",
       "      <td>-0.002066</td>\n",
       "    </tr>\n",
       "    <tr>\n",
       "      <th>2019-03-28</th>\n",
       "      <td>0.005742</td>\n",
       "      <td>-0.006330</td>\n",
       "      <td>-0.005506</td>\n",
       "    </tr>\n",
       "    <tr>\n",
       "      <th>2019-03-29</th>\n",
       "      <td>0.000376</td>\n",
       "      <td>0.001801</td>\n",
       "      <td>-0.002998</td>\n",
       "    </tr>\n",
       "  </tbody>\n",
       "</table>\n",
       "<p>311 rows × 3 columns</p>\n",
       "</div>"
      ],
      "text/plain": [
       "                   F   FCAU.VI        TM\n",
       "Date                                    \n",
       "2018-01-03  0.002607  0.000000  0.004662\n",
       "2018-01-04  0.005690  0.000000  0.005304\n",
       "2018-01-05  0.005593  0.059880  0.004373\n",
       "2018-01-08 -0.001250  0.000000  0.002311\n",
       "2018-01-09 -0.001757  0.008744 -0.002649\n",
       "...              ...       ...       ...\n",
       "2019-03-25 -0.001159  0.000000  0.000764\n",
       "2019-03-26  0.009694  0.008157  0.003612\n",
       "2019-03-27 -0.005274  0.008817 -0.002066\n",
       "2019-03-28  0.005742 -0.006330 -0.005506\n",
       "2019-03-29  0.000376  0.001801 -0.002998\n",
       "\n",
       "[311 rows x 3 columns]"
      ]
     },
     "execution_count": 65,
     "metadata": {},
     "output_type": "execute_result"
    }
   ],
   "source": [
    "weighted_returns_portfolio = stocks_return.mul(portfolio_weights,axis=1 )\n",
    "weighted_returns_portfolio"
   ]
  },
  {
   "cell_type": "markdown",
   "metadata": {},
   "source": [
    "### • Create a variable for the portfolio by calculating the sum of the returns"
   ]
  },
  {
   "cell_type": "code",
   "execution_count": 66,
   "metadata": {},
   "outputs": [
    {
     "data": {
      "text/html": [
       "<div>\n",
       "<style scoped>\n",
       "    .dataframe tbody tr th:only-of-type {\n",
       "        vertical-align: middle;\n",
       "    }\n",
       "\n",
       "    .dataframe tbody tr th {\n",
       "        vertical-align: top;\n",
       "    }\n",
       "\n",
       "    .dataframe thead th {\n",
       "        text-align: right;\n",
       "    }\n",
       "</style>\n",
       "<table border=\"1\" class=\"dataframe\">\n",
       "  <thead>\n",
       "    <tr style=\"text-align: right;\">\n",
       "      <th></th>\n",
       "      <th>F</th>\n",
       "      <th>FCAU.VI</th>\n",
       "      <th>TM</th>\n",
       "      <th>Portfolio</th>\n",
       "    </tr>\n",
       "    <tr>\n",
       "      <th>Date</th>\n",
       "      <th></th>\n",
       "      <th></th>\n",
       "      <th></th>\n",
       "      <th></th>\n",
       "    </tr>\n",
       "  </thead>\n",
       "  <tbody>\n",
       "    <tr>\n",
       "      <th>2019-03-25</th>\n",
       "      <td>-0.003513</td>\n",
       "      <td>0.000000</td>\n",
       "      <td>0.002246</td>\n",
       "      <td>-0.000396</td>\n",
       "    </tr>\n",
       "    <tr>\n",
       "      <th>2019-03-26</th>\n",
       "      <td>0.029377</td>\n",
       "      <td>0.024718</td>\n",
       "      <td>0.010623</td>\n",
       "      <td>0.021463</td>\n",
       "    </tr>\n",
       "    <tr>\n",
       "      <th>2019-03-27</th>\n",
       "      <td>-0.015982</td>\n",
       "      <td>0.026718</td>\n",
       "      <td>-0.006077</td>\n",
       "      <td>0.001477</td>\n",
       "    </tr>\n",
       "    <tr>\n",
       "      <th>2019-03-28</th>\n",
       "      <td>0.017401</td>\n",
       "      <td>-0.019182</td>\n",
       "      <td>-0.016194</td>\n",
       "      <td>-0.006094</td>\n",
       "    </tr>\n",
       "    <tr>\n",
       "      <th>2019-03-29</th>\n",
       "      <td>0.001140</td>\n",
       "      <td>0.005458</td>\n",
       "      <td>-0.008818</td>\n",
       "      <td>-0.000821</td>\n",
       "    </tr>\n",
       "  </tbody>\n",
       "</table>\n",
       "</div>"
      ],
      "text/plain": [
       "                   F   FCAU.VI        TM  Portfolio\n",
       "Date                                               \n",
       "2019-03-25 -0.003513  0.000000  0.002246  -0.000396\n",
       "2019-03-26  0.029377  0.024718  0.010623   0.021463\n",
       "2019-03-27 -0.015982  0.026718 -0.006077   0.001477\n",
       "2019-03-28  0.017401 -0.019182 -0.016194  -0.006094\n",
       "2019-03-29  0.001140  0.005458 -0.008818  -0.000821"
      ]
     },
     "execution_count": 66,
     "metadata": {},
     "output_type": "execute_result"
    }
   ],
   "source": [
    "stocks_return['Portfolio' ] = weighted_returns_portfolio.sum(axis = 1 ).dropna()\n",
    "stocks_return.tail()"
   ]
  },
  {
   "cell_type": "markdown",
   "metadata": {},
   "source": [
    "### • Add the benchmark by using the S&P 500 and calculating the returns"
   ]
  },
  {
   "cell_type": "code",
   "execution_count": 67,
   "metadata": {},
   "outputs": [
    {
     "name": "stderr",
     "output_type": "stream",
     "text": [
      "[*********************100%%**********************]  1 of 1 completed\n"
     ]
    },
    {
     "data": {
      "text/html": [
       "<div>\n",
       "<style scoped>\n",
       "    .dataframe tbody tr th:only-of-type {\n",
       "        vertical-align: middle;\n",
       "    }\n",
       "\n",
       "    .dataframe tbody tr th {\n",
       "        vertical-align: top;\n",
       "    }\n",
       "\n",
       "    .dataframe thead th {\n",
       "        text-align: right;\n",
       "    }\n",
       "</style>\n",
       "<table border=\"1\" class=\"dataframe\">\n",
       "  <thead>\n",
       "    <tr style=\"text-align: right;\">\n",
       "      <th></th>\n",
       "      <th>F</th>\n",
       "      <th>FCAU.VI</th>\n",
       "      <th>TM</th>\n",
       "      <th>Portfolio</th>\n",
       "      <th>Benchmark</th>\n",
       "    </tr>\n",
       "    <tr>\n",
       "      <th>Date</th>\n",
       "      <th></th>\n",
       "      <th></th>\n",
       "      <th></th>\n",
       "      <th></th>\n",
       "      <th></th>\n",
       "    </tr>\n",
       "  </thead>\n",
       "  <tbody>\n",
       "    <tr>\n",
       "      <th>2019-03-25</th>\n",
       "      <td>-0.003513</td>\n",
       "      <td>0.000000</td>\n",
       "      <td>0.002246</td>\n",
       "      <td>-0.000396</td>\n",
       "      <td>-0.000752</td>\n",
       "    </tr>\n",
       "    <tr>\n",
       "      <th>2019-03-26</th>\n",
       "      <td>0.029377</td>\n",
       "      <td>0.024718</td>\n",
       "      <td>0.010623</td>\n",
       "      <td>0.021463</td>\n",
       "      <td>0.007454</td>\n",
       "    </tr>\n",
       "    <tr>\n",
       "      <th>2019-03-27</th>\n",
       "      <td>-0.015982</td>\n",
       "      <td>0.026718</td>\n",
       "      <td>-0.006077</td>\n",
       "      <td>0.001477</td>\n",
       "      <td>-0.005229</td>\n",
       "    </tr>\n",
       "    <tr>\n",
       "      <th>2019-03-28</th>\n",
       "      <td>0.017401</td>\n",
       "      <td>-0.019182</td>\n",
       "      <td>-0.016194</td>\n",
       "      <td>-0.006094</td>\n",
       "      <td>0.003790</td>\n",
       "    </tr>\n",
       "    <tr>\n",
       "      <th>2019-03-29</th>\n",
       "      <td>0.001140</td>\n",
       "      <td>0.005458</td>\n",
       "      <td>-0.008818</td>\n",
       "      <td>-0.000821</td>\n",
       "      <td>0.006306</td>\n",
       "    </tr>\n",
       "  </tbody>\n",
       "</table>\n",
       "</div>"
      ],
      "text/plain": [
       "                   F   FCAU.VI        TM  Portfolio  Benchmark\n",
       "Date                                                          \n",
       "2019-03-25 -0.003513  0.000000  0.002246  -0.000396  -0.000752\n",
       "2019-03-26  0.029377  0.024718  0.010623   0.021463   0.007454\n",
       "2019-03-27 -0.015982  0.026718 -0.006077   0.001477  -0.005229\n",
       "2019-03-28  0.017401 -0.019182 -0.016194  -0.006094   0.003790\n",
       "2019-03-29  0.001140  0.005458 -0.008818  -0.000821   0.006306"
      ]
     },
     "execution_count": 67,
     "metadata": {},
     "output_type": "execute_result"
    }
   ],
   "source": [
    "start = datetime.datetime(2018, 1, 2 )\n",
    "end = datetime.datetime(2019, 4, 1 )\n",
    "stocks_return['Benchmark' ]=yf.download('SPY',start,end)[ 'Close' ]\n",
    "stocks_return['Benchmark' ] = stocks_return['Benchmark' ].pct_change(1).dropna()\n",
    "stocks_return.dropna().tail()"
   ]
  },
  {
   "cell_type": "markdown",
   "metadata": {},
   "source": [
    "### • Obtaining the cumulative returns and plotting the portfolio"
   ]
  },
  {
   "cell_type": "code",
   "execution_count": 68,
   "metadata": {},
   "outputs": [
    {
     "data": {
      "image/png": "[encoded data removed]",
      "text/plain": [
       "<Figure size 1600x400 with 1 Axes>"
      ]
     },
     "metadata": {},
     "output_type": "display_data"
    }
   ],
   "source": [
    "CumulativeReturns = ((1 + stocks_return[['Portfolio','Benchmark' ]]).cumprod()-1 )\n",
    "CumulativeReturns.plot(figsize=(16,4 ))\n",
    "_=plt.ylabel('Returns' )\n",
    "_=plt.title('Comparison - Portfolio vs. Benchmark' )\n",
    "_=plt.xlabel('Date' )\n",
    "plt.show()"
   ]
  },
  {
   "cell_type": "markdown",
   "metadata": {},
   "source": [
    "### • Add risk-free rate based on the benchmark of Treasury Bills chosen"
   ]
  },
  {
   "cell_type": "code",
   "execution_count": 69,
   "metadata": {},
   "outputs": [
    {
     "data": {
      "text/html": [
       "<div>\n",
       "<style scoped>\n",
       "    .dataframe tbody tr th:only-of-type {\n",
       "        vertical-align: middle;\n",
       "    }\n",
       "\n",
       "    .dataframe tbody tr th {\n",
       "        vertical-align: top;\n",
       "    }\n",
       "\n",
       "    .dataframe thead th {\n",
       "        text-align: right;\n",
       "    }\n",
       "</style>\n",
       "<table border=\"1\" class=\"dataframe\">\n",
       "  <thead>\n",
       "    <tr style=\"text-align: right;\">\n",
       "      <th></th>\n",
       "      <th>F</th>\n",
       "      <th>FCAU.VI</th>\n",
       "      <th>TM</th>\n",
       "      <th>Portfolio</th>\n",
       "      <th>Benchmark</th>\n",
       "      <th>RF Rate</th>\n",
       "    </tr>\n",
       "    <tr>\n",
       "      <th>Date</th>\n",
       "      <th></th>\n",
       "      <th></th>\n",
       "      <th></th>\n",
       "      <th></th>\n",
       "      <th></th>\n",
       "      <th></th>\n",
       "    </tr>\n",
       "  </thead>\n",
       "  <tbody>\n",
       "    <tr>\n",
       "      <th>2018-01-03</th>\n",
       "      <td>0.007899</td>\n",
       "      <td>0.000000</td>\n",
       "      <td>0.013710</td>\n",
       "      <td>0.007268</td>\n",
       "      <td>NaN</td>\n",
       "      <td>0.0103</td>\n",
       "    </tr>\n",
       "    <tr>\n",
       "      <th>2018-01-04</th>\n",
       "      <td>0.017241</td>\n",
       "      <td>0.000000</td>\n",
       "      <td>0.015600</td>\n",
       "      <td>0.010994</td>\n",
       "      <td>0.004215</td>\n",
       "      <td>0.0103</td>\n",
       "    </tr>\n",
       "    <tr>\n",
       "      <th>2018-01-05</th>\n",
       "      <td>0.016949</td>\n",
       "      <td>0.181454</td>\n",
       "      <td>0.012863</td>\n",
       "      <td>0.069846</td>\n",
       "      <td>0.006664</td>\n",
       "      <td>0.0103</td>\n",
       "    </tr>\n",
       "    <tr>\n",
       "      <th>2018-01-08</th>\n",
       "      <td>-0.003788</td>\n",
       "      <td>0.000000</td>\n",
       "      <td>0.006798</td>\n",
       "      <td>0.001061</td>\n",
       "      <td>0.001829</td>\n",
       "      <td>0.0103</td>\n",
       "    </tr>\n",
       "    <tr>\n",
       "      <th>2018-01-09</th>\n",
       "      <td>-0.005323</td>\n",
       "      <td>0.026497</td>\n",
       "      <td>-0.007791</td>\n",
       "      <td>0.004339</td>\n",
       "      <td>0.002263</td>\n",
       "      <td>0.0103</td>\n",
       "    </tr>\n",
       "    <tr>\n",
       "      <th>...</th>\n",
       "      <td>...</td>\n",
       "      <td>...</td>\n",
       "      <td>...</td>\n",
       "      <td>...</td>\n",
       "      <td>...</td>\n",
       "      <td>...</td>\n",
       "    </tr>\n",
       "    <tr>\n",
       "      <th>2019-03-25</th>\n",
       "      <td>-0.003513</td>\n",
       "      <td>0.000000</td>\n",
       "      <td>0.002246</td>\n",
       "      <td>-0.000396</td>\n",
       "      <td>-0.000752</td>\n",
       "      <td>0.0103</td>\n",
       "    </tr>\n",
       "    <tr>\n",
       "      <th>2019-03-26</th>\n",
       "      <td>0.029377</td>\n",
       "      <td>0.024718</td>\n",
       "      <td>0.010623</td>\n",
       "      <td>0.021463</td>\n",
       "      <td>0.007454</td>\n",
       "      <td>0.0103</td>\n",
       "    </tr>\n",
       "    <tr>\n",
       "      <th>2019-03-27</th>\n",
       "      <td>-0.015982</td>\n",
       "      <td>0.026718</td>\n",
       "      <td>-0.006077</td>\n",
       "      <td>0.001477</td>\n",
       "      <td>-0.005229</td>\n",
       "      <td>0.0103</td>\n",
       "    </tr>\n",
       "    <tr>\n",
       "      <th>2019-03-28</th>\n",
       "      <td>0.017401</td>\n",
       "      <td>-0.019182</td>\n",
       "      <td>-0.016194</td>\n",
       "      <td>-0.006094</td>\n",
       "      <td>0.003790</td>\n",
       "      <td>0.0103</td>\n",
       "    </tr>\n",
       "    <tr>\n",
       "      <th>2019-03-29</th>\n",
       "      <td>0.001140</td>\n",
       "      <td>0.005458</td>\n",
       "      <td>-0.008818</td>\n",
       "      <td>-0.000821</td>\n",
       "      <td>0.006306</td>\n",
       "      <td>0.0103</td>\n",
       "    </tr>\n",
       "  </tbody>\n",
       "</table>\n",
       "<p>311 rows × 6 columns</p>\n",
       "</div>"
      ],
      "text/plain": [
       "                   F   FCAU.VI        TM  Portfolio  Benchmark  RF Rate\n",
       "Date                                                                   \n",
       "2018-01-03  0.007899  0.000000  0.013710   0.007268        NaN   0.0103\n",
       "2018-01-04  0.017241  0.000000  0.015600   0.010994   0.004215   0.0103\n",
       "2018-01-05  0.016949  0.181454  0.012863   0.069846   0.006664   0.0103\n",
       "2018-01-08 -0.003788  0.000000  0.006798   0.001061   0.001829   0.0103\n",
       "2018-01-09 -0.005323  0.026497 -0.007791   0.004339   0.002263   0.0103\n",
       "...              ...       ...       ...        ...        ...      ...\n",
       "2019-03-25 -0.003513  0.000000  0.002246  -0.000396  -0.000752   0.0103\n",
       "2019-03-26  0.029377  0.024718  0.010623   0.021463   0.007454   0.0103\n",
       "2019-03-27 -0.015982  0.026718 -0.006077   0.001477  -0.005229   0.0103\n",
       "2019-03-28  0.017401 -0.019182 -0.016194  -0.006094   0.003790   0.0103\n",
       "2019-03-29  0.001140  0.005458 -0.008818  -0.000821   0.006306   0.0103\n",
       "\n",
       "[311 rows x 6 columns]"
      ]
     },
     "execution_count": 69,
     "metadata": {},
     "output_type": "execute_result"
    }
   ],
   "source": [
    "stocks_return['RF Rate' ]=0.0103\n",
    "stocks_return"
   ]
  },
  {
   "cell_type": "markdown",
   "metadata": {},
   "source": [
    "### • Calculate the covariance of the stocks"
   ]
  },
  {
   "cell_type": "code",
   "execution_count": 70,
   "metadata": {},
   "outputs": [
    {
     "data": {
      "text/html": [
       "<div>\n",
       "<style scoped>\n",
       "    .dataframe tbody tr th:only-of-type {\n",
       "        vertical-align: middle;\n",
       "    }\n",
       "\n",
       "    .dataframe tbody tr th {\n",
       "        vertical-align: top;\n",
       "    }\n",
       "\n",
       "    .dataframe thead th {\n",
       "        text-align: right;\n",
       "    }\n",
       "</style>\n",
       "<table border=\"1\" class=\"dataframe\">\n",
       "  <thead>\n",
       "    <tr style=\"text-align: right;\">\n",
       "      <th></th>\n",
       "      <th>F</th>\n",
       "      <th>FCAU.VI</th>\n",
       "      <th>TM</th>\n",
       "      <th>Portfolio</th>\n",
       "      <th>Benchmark</th>\n",
       "      <th>RF Rate</th>\n",
       "    </tr>\n",
       "  </thead>\n",
       "  <tbody>\n",
       "    <tr>\n",
       "      <th>F</th>\n",
       "      <td>0.081751</td>\n",
       "      <td>0.037082</td>\n",
       "      <td>0.023899</td>\n",
       "      <td>0.047341</td>\n",
       "      <td>0.023779</td>\n",
       "      <td>0.0</td>\n",
       "    </tr>\n",
       "    <tr>\n",
       "      <th>FCAU.VI</th>\n",
       "      <td>0.037082</td>\n",
       "      <td>0.169625</td>\n",
       "      <td>0.019607</td>\n",
       "      <td>0.074880</td>\n",
       "      <td>0.018771</td>\n",
       "      <td>0.0</td>\n",
       "    </tr>\n",
       "    <tr>\n",
       "      <th>TM</th>\n",
       "      <td>0.023899</td>\n",
       "      <td>0.019607</td>\n",
       "      <td>0.035621</td>\n",
       "      <td>0.026468</td>\n",
       "      <td>0.019697</td>\n",
       "      <td>0.0</td>\n",
       "    </tr>\n",
       "    <tr>\n",
       "      <th>Portfolio</th>\n",
       "      <td>0.047341</td>\n",
       "      <td>0.074880</td>\n",
       "      <td>0.026468</td>\n",
       "      <td>0.049332</td>\n",
       "      <td>0.020739</td>\n",
       "      <td>0.0</td>\n",
       "    </tr>\n",
       "    <tr>\n",
       "      <th>Benchmark</th>\n",
       "      <td>0.023779</td>\n",
       "      <td>0.018771</td>\n",
       "      <td>0.019697</td>\n",
       "      <td>0.020739</td>\n",
       "      <td>0.027384</td>\n",
       "      <td>0.0</td>\n",
       "    </tr>\n",
       "    <tr>\n",
       "      <th>RF Rate</th>\n",
       "      <td>0.000000</td>\n",
       "      <td>0.000000</td>\n",
       "      <td>0.000000</td>\n",
       "      <td>0.000000</td>\n",
       "      <td>0.000000</td>\n",
       "      <td>0.0</td>\n",
       "    </tr>\n",
       "  </tbody>\n",
       "</table>\n",
       "</div>"
      ],
      "text/plain": [
       "                  F   FCAU.VI        TM  Portfolio  Benchmark  RF Rate\n",
       "F          0.081751  0.037082  0.023899   0.047341   0.023779      0.0\n",
       "FCAU.VI    0.037082  0.169625  0.019607   0.074880   0.018771      0.0\n",
       "TM         0.023899  0.019607  0.035621   0.026468   0.019697      0.0\n",
       "Portfolio  0.047341  0.074880  0.026468   0.049332   0.020739      0.0\n",
       "Benchmark  0.023779  0.018771  0.019697   0.020739   0.027384      0.0\n",
       "RF Rate    0.000000  0.000000  0.000000   0.000000   0.000000      0.0"
      ]
     },
     "execution_count": 70,
     "metadata": {},
     "output_type": "execute_result"
    }
   ],
   "source": [
    "covariance=stocks_return.cov() * 252\n",
    "covariance"
   ]
  },
  {
   "cell_type": "markdown",
   "metadata": {},
   "source": [
    "### • Calculate the covariance between the market and the portfolio\n"
   ]
  },
  {
   "cell_type": "code",
   "execution_count": 71,
   "metadata": {},
   "outputs": [
    {
     "data": {
      "text/plain": [
       "0.020738632277716246"
      ]
     },
     "execution_count": 71,
     "metadata": {},
     "output_type": "execute_result"
    }
   ],
   "source": [
    "covariance_market=covariance.iloc[3,4 ]\n",
    "covariance_market"
   ]
  },
  {
   "cell_type": "markdown",
   "metadata": {},
   "source": [
    "### • Calculate the variance of the benchmark"
   ]
  },
  {
   "cell_type": "code",
   "execution_count": 72,
   "metadata": {},
   "outputs": [
    {
     "data": {
      "text/plain": [
       "0.027384176591305334"
      ]
     },
     "execution_count": 72,
     "metadata": {},
     "output_type": "execute_result"
    }
   ],
   "source": [
    "market_variance=stocks_return['Benchmark' ].var() * 252\n",
    "market_variance"
   ]
  },
  {
   "cell_type": "markdown",
   "metadata": {},
   "source": [
    "### • Calculate the beta of the portfolio"
   ]
  },
  {
   "cell_type": "code",
   "execution_count": 73,
   "metadata": {},
   "outputs": [
    {
     "data": {
      "text/plain": [
       "0.757321740479168"
      ]
     },
     "execution_count": 73,
     "metadata": {},
     "output_type": "execute_result"
    }
   ],
   "source": [
    "portfolio_beta=covariance_market / market_variance\n",
    "portfolio_beta"
   ]
  },
  {
   "cell_type": "code",
   "execution_count": 74,
   "metadata": {},
   "outputs": [
    {
     "data": {
      "text/plain": [
       "-0.014176597833406235"
      ]
     },
     "execution_count": 74,
     "metadata": {},
     "output_type": "execute_result"
    }
   ],
   "source": [
    "traynor_ratio = ((stocks_return['Portfolio'].mean() - stocks_return['RF Rate' ].mean()))/portfolio_beta\n",
    "traynor_ratio"
   ]
  },
  {
   "cell_type": "markdown",
   "metadata": {},
   "source": [
    "As a result, the Traynor Ratio is negative, which means that the portfolio is not performing better than the risk-free rate. The result of the Sharpe Ratio was negative also, so it complements the information given by Traynor. The main difference between the Sharpe and the Traynor ratio is that it compares with the beta and not the volatility (Fig. 4)."
   ]
  },
  {
   "cell_type": "markdown",
   "metadata": {},
   "source": [
    "## JENSEN’S MEASURE\n",
    "\n",
    "The Jensen’s Measure also known as alpha was created in 1968 with the purpose of measuring the relationship between the return of the portfolio in comparison with another portfolio return with the same risk, same reference market and under the same parameters (Chen 2019).\n",
    "\n",
    "Equation 12: Jensen’s measure\n",
    "\n",
    "    Alpha (α) = Rp − (Rf + βp (Rm − Rp))\n",
    "\n",
    "Rp = returns of the portfolio\n",
    "\n",
    "Rf = risk-free rate\n",
    "\n",
    "βp = Beta of the portfolio\n",
    "\n",
    "Rm = return of the market.\n",
    "\n",
    "### • Installing packages"
   ]
  },
  {
   "cell_type": "code",
   "execution_count": 75,
   "metadata": {},
   "outputs": [
    {
     "name": "stderr",
     "output_type": "stream",
     "text": [
      "UsageError: Line magic function `%` not found.\n"
     ]
    }
   ],
   "source": [
    "import numpy as np\n",
    "import pandas as pd\n",
    "import yfinance as yf\n",
    "import datetime\n",
    "import matplotlib.pyplot as plt\n",
    "% matplotlib inline"
   ]
  },
  {
   "cell_type": "markdown",
   "metadata": {},
   "source": [
    "### • Creating the portfolio based on an end and start date"
   ]
  },
  {
   "cell_type": "code",
   "execution_count": 76,
   "metadata": {},
   "outputs": [
    {
     "name": "stderr",
     "output_type": "stream",
     "text": [
      "[*********************100%%**********************]  1 of 1 completed\n",
      "[*********************100%%**********************]  1 of 1 completed\n",
      "[*********************100%%**********************]  1 of 1 completed\n"
     ]
    },
    {
     "data": {
      "text/html": [
       "<div>\n",
       "<style scoped>\n",
       "    .dataframe tbody tr th:only-of-type {\n",
       "        vertical-align: middle;\n",
       "    }\n",
       "\n",
       "    .dataframe tbody tr th {\n",
       "        vertical-align: top;\n",
       "    }\n",
       "\n",
       "    .dataframe thead th {\n",
       "        text-align: right;\n",
       "    }\n",
       "</style>\n",
       "<table border=\"1\" class=\"dataframe\">\n",
       "  <thead>\n",
       "    <tr style=\"text-align: right;\">\n",
       "      <th></th>\n",
       "      <th>F</th>\n",
       "      <th>FCAU.VI</th>\n",
       "      <th>TM</th>\n",
       "    </tr>\n",
       "    <tr>\n",
       "      <th>Date</th>\n",
       "      <th></th>\n",
       "      <th></th>\n",
       "      <th></th>\n",
       "    </tr>\n",
       "  </thead>\n",
       "  <tbody>\n",
       "    <tr>\n",
       "      <th>2018-01-02</th>\n",
       "      <td>12.66</td>\n",
       "      <td>15.205000</td>\n",
       "      <td>128.369995</td>\n",
       "    </tr>\n",
       "    <tr>\n",
       "      <th>2018-01-03</th>\n",
       "      <td>12.76</td>\n",
       "      <td>15.205000</td>\n",
       "      <td>130.130005</td>\n",
       "    </tr>\n",
       "    <tr>\n",
       "      <th>2018-01-04</th>\n",
       "      <td>12.98</td>\n",
       "      <td>15.205000</td>\n",
       "      <td>132.160004</td>\n",
       "    </tr>\n",
       "    <tr>\n",
       "      <th>2018-01-05</th>\n",
       "      <td>13.20</td>\n",
       "      <td>17.964001</td>\n",
       "      <td>133.860001</td>\n",
       "    </tr>\n",
       "    <tr>\n",
       "      <th>2018-01-08</th>\n",
       "      <td>13.15</td>\n",
       "      <td>17.964001</td>\n",
       "      <td>134.770004</td>\n",
       "    </tr>\n",
       "    <tr>\n",
       "      <th>...</th>\n",
       "      <td>...</td>\n",
       "      <td>...</td>\n",
       "      <td>...</td>\n",
       "    </tr>\n",
       "    <tr>\n",
       "      <th>2019-03-25</th>\n",
       "      <td>8.51</td>\n",
       "      <td>NaN</td>\n",
       "      <td>120.489998</td>\n",
       "    </tr>\n",
       "    <tr>\n",
       "      <th>2019-03-26</th>\n",
       "      <td>8.76</td>\n",
       "      <td>13.100000</td>\n",
       "      <td>121.769997</td>\n",
       "    </tr>\n",
       "    <tr>\n",
       "      <th>2019-03-27</th>\n",
       "      <td>8.62</td>\n",
       "      <td>13.450000</td>\n",
       "      <td>121.029999</td>\n",
       "    </tr>\n",
       "    <tr>\n",
       "      <th>2019-03-28</th>\n",
       "      <td>8.77</td>\n",
       "      <td>13.192000</td>\n",
       "      <td>119.070000</td>\n",
       "    </tr>\n",
       "    <tr>\n",
       "      <th>2019-03-29</th>\n",
       "      <td>8.78</td>\n",
       "      <td>13.264000</td>\n",
       "      <td>118.019997</td>\n",
       "    </tr>\n",
       "  </tbody>\n",
       "</table>\n",
       "<p>312 rows × 3 columns</p>\n",
       "</div>"
      ],
      "text/plain": [
       "                F    FCAU.VI          TM\n",
       "Date                                    \n",
       "2018-01-02  12.66  15.205000  128.369995\n",
       "2018-01-03  12.76  15.205000  130.130005\n",
       "2018-01-04  12.98  15.205000  132.160004\n",
       "2018-01-05  13.20  17.964001  133.860001\n",
       "2018-01-08  13.15  17.964001  134.770004\n",
       "...           ...        ...         ...\n",
       "2019-03-25   8.51        NaN  120.489998\n",
       "2019-03-26   8.76  13.100000  121.769997\n",
       "2019-03-27   8.62  13.450000  121.029999\n",
       "2019-03-28   8.77  13.192000  119.070000\n",
       "2019-03-29   8.78  13.264000  118.019997\n",
       "\n",
       "[312 rows x 3 columns]"
      ]
     },
     "execution_count": 76,
     "metadata": {},
     "output_type": "execute_result"
    }
   ],
   "source": [
    "start = datetime.datetime(2018, 1, 2 )\n",
    "end = datetime.datetime(2019, 4, 1 )\n",
    "tickers = ['F','FCAU.VI', 'TM']\n",
    "stocks = pd.DataFrame()\n",
    "for x in tickers:\n",
    "    stocks[x]=yf.download(x,start,end)[ 'Close' ]\n",
    "stocks"
   ]
  },
  {
   "cell_type": "markdown",
   "metadata": {},
   "source": [
    "### • Choose weights for the portfolio"
   ]
  },
  {
   "cell_type": "code",
   "execution_count": 77,
   "metadata": {},
   "outputs": [
    {
     "data": {
      "text/plain": [
       "array([0.33, 0.33, 0.34])"
      ]
     },
     "execution_count": 77,
     "metadata": {},
     "output_type": "execute_result"
    }
   ],
   "source": [
    "portfolio_weights = np.array([0.33, 0.33, 0.34 ])\n",
    "portfolio_weights"
   ]
  },
  {
   "cell_type": "markdown",
   "metadata": {},
   "source": [
    "### • Returns of the stocks using percent change"
   ]
  },
  {
   "cell_type": "code",
   "execution_count": 78,
   "metadata": {},
   "outputs": [
    {
     "name": "stderr",
     "output_type": "stream",
     "text": [
      "C:\\Users\\fvill\\AppData\\Local\\Temp\\ipykernel_18132\\697486859.py:1: FutureWarning: The default fill_method='pad' in DataFrame.pct_change is deprecated and will be removed in a future version. Either fill in any non-leading NA values prior to calling pct_change or specify 'fill_method=None' to not fill NA values.\n",
      "  stocks_return=stocks.pct_change(1 ).dropna()\n"
     ]
    },
    {
     "data": {
      "text/html": [
       "<div>\n",
       "<style scoped>\n",
       "    .dataframe tbody tr th:only-of-type {\n",
       "        vertical-align: middle;\n",
       "    }\n",
       "\n",
       "    .dataframe tbody tr th {\n",
       "        vertical-align: top;\n",
       "    }\n",
       "\n",
       "    .dataframe thead th {\n",
       "        text-align: right;\n",
       "    }\n",
       "</style>\n",
       "<table border=\"1\" class=\"dataframe\">\n",
       "  <thead>\n",
       "    <tr style=\"text-align: right;\">\n",
       "      <th></th>\n",
       "      <th>F</th>\n",
       "      <th>FCAU.VI</th>\n",
       "      <th>TM</th>\n",
       "    </tr>\n",
       "    <tr>\n",
       "      <th>Date</th>\n",
       "      <th></th>\n",
       "      <th></th>\n",
       "      <th></th>\n",
       "    </tr>\n",
       "  </thead>\n",
       "  <tbody>\n",
       "    <tr>\n",
       "      <th>2018-01-03</th>\n",
       "      <td>0.007899</td>\n",
       "      <td>0.000000</td>\n",
       "      <td>0.013710</td>\n",
       "    </tr>\n",
       "    <tr>\n",
       "      <th>2018-01-04</th>\n",
       "      <td>0.017241</td>\n",
       "      <td>0.000000</td>\n",
       "      <td>0.015600</td>\n",
       "    </tr>\n",
       "    <tr>\n",
       "      <th>2018-01-05</th>\n",
       "      <td>0.016949</td>\n",
       "      <td>0.181454</td>\n",
       "      <td>0.012863</td>\n",
       "    </tr>\n",
       "    <tr>\n",
       "      <th>2018-01-08</th>\n",
       "      <td>-0.003788</td>\n",
       "      <td>0.000000</td>\n",
       "      <td>0.006798</td>\n",
       "    </tr>\n",
       "    <tr>\n",
       "      <th>2018-01-09</th>\n",
       "      <td>-0.005323</td>\n",
       "      <td>0.026497</td>\n",
       "      <td>-0.007791</td>\n",
       "    </tr>\n",
       "    <tr>\n",
       "      <th>...</th>\n",
       "      <td>...</td>\n",
       "      <td>...</td>\n",
       "      <td>...</td>\n",
       "    </tr>\n",
       "    <tr>\n",
       "      <th>2019-03-25</th>\n",
       "      <td>-0.003513</td>\n",
       "      <td>0.000000</td>\n",
       "      <td>0.002246</td>\n",
       "    </tr>\n",
       "    <tr>\n",
       "      <th>2019-03-26</th>\n",
       "      <td>0.029377</td>\n",
       "      <td>0.024718</td>\n",
       "      <td>0.010623</td>\n",
       "    </tr>\n",
       "    <tr>\n",
       "      <th>2019-03-27</th>\n",
       "      <td>-0.015982</td>\n",
       "      <td>0.026718</td>\n",
       "      <td>-0.006077</td>\n",
       "    </tr>\n",
       "    <tr>\n",
       "      <th>2019-03-28</th>\n",
       "      <td>0.017401</td>\n",
       "      <td>-0.019182</td>\n",
       "      <td>-0.016194</td>\n",
       "    </tr>\n",
       "    <tr>\n",
       "      <th>2019-03-29</th>\n",
       "      <td>0.001140</td>\n",
       "      <td>0.005458</td>\n",
       "      <td>-0.008818</td>\n",
       "    </tr>\n",
       "  </tbody>\n",
       "</table>\n",
       "<p>311 rows × 3 columns</p>\n",
       "</div>"
      ],
      "text/plain": [
       "                   F   FCAU.VI        TM\n",
       "Date                                    \n",
       "2018-01-03  0.007899  0.000000  0.013710\n",
       "2018-01-04  0.017241  0.000000  0.015600\n",
       "2018-01-05  0.016949  0.181454  0.012863\n",
       "2018-01-08 -0.003788  0.000000  0.006798\n",
       "2018-01-09 -0.005323  0.026497 -0.007791\n",
       "...              ...       ...       ...\n",
       "2019-03-25 -0.003513  0.000000  0.002246\n",
       "2019-03-26  0.029377  0.024718  0.010623\n",
       "2019-03-27 -0.015982  0.026718 -0.006077\n",
       "2019-03-28  0.017401 -0.019182 -0.016194\n",
       "2019-03-29  0.001140  0.005458 -0.008818\n",
       "\n",
       "[311 rows x 3 columns]"
      ]
     },
     "execution_count": 78,
     "metadata": {},
     "output_type": "execute_result"
    }
   ],
   "source": [
    "stocks_return=stocks.pct_change(1 ).dropna()\n",
    "stocks_return"
   ]
  },
  {
   "cell_type": "markdown",
   "metadata": {},
   "source": [
    "### • Multiply the returns of the portfolio with each stock’s weight"
   ]
  },
  {
   "cell_type": "code",
   "execution_count": 79,
   "metadata": {},
   "outputs": [
    {
     "data": {
      "text/html": [
       "<div>\n",
       "<style scoped>\n",
       "    .dataframe tbody tr th:only-of-type {\n",
       "        vertical-align: middle;\n",
       "    }\n",
       "\n",
       "    .dataframe tbody tr th {\n",
       "        vertical-align: top;\n",
       "    }\n",
       "\n",
       "    .dataframe thead th {\n",
       "        text-align: right;\n",
       "    }\n",
       "</style>\n",
       "<table border=\"1\" class=\"dataframe\">\n",
       "  <thead>\n",
       "    <tr style=\"text-align: right;\">\n",
       "      <th></th>\n",
       "      <th>F</th>\n",
       "      <th>FCAU.VI</th>\n",
       "      <th>TM</th>\n",
       "    </tr>\n",
       "    <tr>\n",
       "      <th>Date</th>\n",
       "      <th></th>\n",
       "      <th></th>\n",
       "      <th></th>\n",
       "    </tr>\n",
       "  </thead>\n",
       "  <tbody>\n",
       "    <tr>\n",
       "      <th>2018-01-03</th>\n",
       "      <td>0.002607</td>\n",
       "      <td>0.000000</td>\n",
       "      <td>0.004662</td>\n",
       "    </tr>\n",
       "    <tr>\n",
       "      <th>2018-01-04</th>\n",
       "      <td>0.005690</td>\n",
       "      <td>0.000000</td>\n",
       "      <td>0.005304</td>\n",
       "    </tr>\n",
       "    <tr>\n",
       "      <th>2018-01-05</th>\n",
       "      <td>0.005593</td>\n",
       "      <td>0.059880</td>\n",
       "      <td>0.004373</td>\n",
       "    </tr>\n",
       "    <tr>\n",
       "      <th>2018-01-08</th>\n",
       "      <td>-0.001250</td>\n",
       "      <td>0.000000</td>\n",
       "      <td>0.002311</td>\n",
       "    </tr>\n",
       "    <tr>\n",
       "      <th>2018-01-09</th>\n",
       "      <td>-0.001757</td>\n",
       "      <td>0.008744</td>\n",
       "      <td>-0.002649</td>\n",
       "    </tr>\n",
       "    <tr>\n",
       "      <th>...</th>\n",
       "      <td>...</td>\n",
       "      <td>...</td>\n",
       "      <td>...</td>\n",
       "    </tr>\n",
       "    <tr>\n",
       "      <th>2019-03-25</th>\n",
       "      <td>-0.001159</td>\n",
       "      <td>0.000000</td>\n",
       "      <td>0.000764</td>\n",
       "    </tr>\n",
       "    <tr>\n",
       "      <th>2019-03-26</th>\n",
       "      <td>0.009694</td>\n",
       "      <td>0.008157</td>\n",
       "      <td>0.003612</td>\n",
       "    </tr>\n",
       "    <tr>\n",
       "      <th>2019-03-27</th>\n",
       "      <td>-0.005274</td>\n",
       "      <td>0.008817</td>\n",
       "      <td>-0.002066</td>\n",
       "    </tr>\n",
       "    <tr>\n",
       "      <th>2019-03-28</th>\n",
       "      <td>0.005742</td>\n",
       "      <td>-0.006330</td>\n",
       "      <td>-0.005506</td>\n",
       "    </tr>\n",
       "    <tr>\n",
       "      <th>2019-03-29</th>\n",
       "      <td>0.000376</td>\n",
       "      <td>0.001801</td>\n",
       "      <td>-0.002998</td>\n",
       "    </tr>\n",
       "  </tbody>\n",
       "</table>\n",
       "<p>311 rows × 3 columns</p>\n",
       "</div>"
      ],
      "text/plain": [
       "                   F   FCAU.VI        TM\n",
       "Date                                    \n",
       "2018-01-03  0.002607  0.000000  0.004662\n",
       "2018-01-04  0.005690  0.000000  0.005304\n",
       "2018-01-05  0.005593  0.059880  0.004373\n",
       "2018-01-08 -0.001250  0.000000  0.002311\n",
       "2018-01-09 -0.001757  0.008744 -0.002649\n",
       "...              ...       ...       ...\n",
       "2019-03-25 -0.001159  0.000000  0.000764\n",
       "2019-03-26  0.009694  0.008157  0.003612\n",
       "2019-03-27 -0.005274  0.008817 -0.002066\n",
       "2019-03-28  0.005742 -0.006330 -0.005506\n",
       "2019-03-29  0.000376  0.001801 -0.002998\n",
       "\n",
       "[311 rows x 3 columns]"
      ]
     },
     "execution_count": 79,
     "metadata": {},
     "output_type": "execute_result"
    }
   ],
   "source": [
    "weighted_returns_portfolio = stocks_return.mul(portfolio_weights,axis=1 )\n",
    "weighted_returns_portfolio"
   ]
  },
  {
   "cell_type": "markdown",
   "metadata": {},
   "source": [
    "### • Create a variable for the portfolio by calculating the sum of the returns"
   ]
  },
  {
   "cell_type": "code",
   "execution_count": 80,
   "metadata": {},
   "outputs": [
    {
     "data": {
      "text/html": [
       "<div>\n",
       "<style scoped>\n",
       "    .dataframe tbody tr th:only-of-type {\n",
       "        vertical-align: middle;\n",
       "    }\n",
       "\n",
       "    .dataframe tbody tr th {\n",
       "        vertical-align: top;\n",
       "    }\n",
       "\n",
       "    .dataframe thead th {\n",
       "        text-align: right;\n",
       "    }\n",
       "</style>\n",
       "<table border=\"1\" class=\"dataframe\">\n",
       "  <thead>\n",
       "    <tr style=\"text-align: right;\">\n",
       "      <th></th>\n",
       "      <th>F</th>\n",
       "      <th>FCAU.VI</th>\n",
       "      <th>TM</th>\n",
       "      <th>Portfolio</th>\n",
       "    </tr>\n",
       "    <tr>\n",
       "      <th>Date</th>\n",
       "      <th></th>\n",
       "      <th></th>\n",
       "      <th></th>\n",
       "      <th></th>\n",
       "    </tr>\n",
       "  </thead>\n",
       "  <tbody>\n",
       "    <tr>\n",
       "      <th>2019-03-25</th>\n",
       "      <td>-0.003513</td>\n",
       "      <td>0.000000</td>\n",
       "      <td>0.002246</td>\n",
       "      <td>-0.000396</td>\n",
       "    </tr>\n",
       "    <tr>\n",
       "      <th>2019-03-26</th>\n",
       "      <td>0.029377</td>\n",
       "      <td>0.024718</td>\n",
       "      <td>0.010623</td>\n",
       "      <td>0.021463</td>\n",
       "    </tr>\n",
       "    <tr>\n",
       "      <th>2019-03-27</th>\n",
       "      <td>-0.015982</td>\n",
       "      <td>0.026718</td>\n",
       "      <td>-0.006077</td>\n",
       "      <td>0.001477</td>\n",
       "    </tr>\n",
       "    <tr>\n",
       "      <th>2019-03-28</th>\n",
       "      <td>0.017401</td>\n",
       "      <td>-0.019182</td>\n",
       "      <td>-0.016194</td>\n",
       "      <td>-0.006094</td>\n",
       "    </tr>\n",
       "    <tr>\n",
       "      <th>2019-03-29</th>\n",
       "      <td>0.001140</td>\n",
       "      <td>0.005458</td>\n",
       "      <td>-0.008818</td>\n",
       "      <td>-0.000821</td>\n",
       "    </tr>\n",
       "  </tbody>\n",
       "</table>\n",
       "</div>"
      ],
      "text/plain": [
       "                   F   FCAU.VI        TM  Portfolio\n",
       "Date                                               \n",
       "2019-03-25 -0.003513  0.000000  0.002246  -0.000396\n",
       "2019-03-26  0.029377  0.024718  0.010623   0.021463\n",
       "2019-03-27 -0.015982  0.026718 -0.006077   0.001477\n",
       "2019-03-28  0.017401 -0.019182 -0.016194  -0.006094\n",
       "2019-03-29  0.001140  0.005458 -0.008818  -0.000821"
      ]
     },
     "execution_count": 80,
     "metadata": {},
     "output_type": "execute_result"
    }
   ],
   "source": [
    "stocks_return['Portfolio' ] = weighted_returns_portfolio.sum(axis = 1 ).dropna()\n",
    "stocks_return.tail()"
   ]
  },
  {
   "cell_type": "markdown",
   "metadata": {},
   "source": [
    "### • Add the benchmark by using the S&P 500 and calculating the returns"
   ]
  },
  {
   "cell_type": "code",
   "execution_count": 81,
   "metadata": {},
   "outputs": [
    {
     "name": "stderr",
     "output_type": "stream",
     "text": [
      "[*********************100%%**********************]  1 of 1 completed\n"
     ]
    },
    {
     "data": {
      "text/html": [
       "<div>\n",
       "<style scoped>\n",
       "    .dataframe tbody tr th:only-of-type {\n",
       "        vertical-align: middle;\n",
       "    }\n",
       "\n",
       "    .dataframe tbody tr th {\n",
       "        vertical-align: top;\n",
       "    }\n",
       "\n",
       "    .dataframe thead th {\n",
       "        text-align: right;\n",
       "    }\n",
       "</style>\n",
       "<table border=\"1\" class=\"dataframe\">\n",
       "  <thead>\n",
       "    <tr style=\"text-align: right;\">\n",
       "      <th></th>\n",
       "      <th>F</th>\n",
       "      <th>FCAU.VI</th>\n",
       "      <th>TM</th>\n",
       "      <th>Portfolio</th>\n",
       "      <th>Benchmark</th>\n",
       "    </tr>\n",
       "    <tr>\n",
       "      <th>Date</th>\n",
       "      <th></th>\n",
       "      <th></th>\n",
       "      <th></th>\n",
       "      <th></th>\n",
       "      <th></th>\n",
       "    </tr>\n",
       "  </thead>\n",
       "  <tbody>\n",
       "    <tr>\n",
       "      <th>2019-03-25</th>\n",
       "      <td>-0.003513</td>\n",
       "      <td>0.000000</td>\n",
       "      <td>0.002246</td>\n",
       "      <td>-0.000396</td>\n",
       "      <td>-0.000752</td>\n",
       "    </tr>\n",
       "    <tr>\n",
       "      <th>2019-03-26</th>\n",
       "      <td>0.029377</td>\n",
       "      <td>0.024718</td>\n",
       "      <td>0.010623</td>\n",
       "      <td>0.021463</td>\n",
       "      <td>0.007454</td>\n",
       "    </tr>\n",
       "    <tr>\n",
       "      <th>2019-03-27</th>\n",
       "      <td>-0.015982</td>\n",
       "      <td>0.026718</td>\n",
       "      <td>-0.006077</td>\n",
       "      <td>0.001477</td>\n",
       "      <td>-0.005229</td>\n",
       "    </tr>\n",
       "    <tr>\n",
       "      <th>2019-03-28</th>\n",
       "      <td>0.017401</td>\n",
       "      <td>-0.019182</td>\n",
       "      <td>-0.016194</td>\n",
       "      <td>-0.006094</td>\n",
       "      <td>0.003790</td>\n",
       "    </tr>\n",
       "    <tr>\n",
       "      <th>2019-03-29</th>\n",
       "      <td>0.001140</td>\n",
       "      <td>0.005458</td>\n",
       "      <td>-0.008818</td>\n",
       "      <td>-0.000821</td>\n",
       "      <td>0.006306</td>\n",
       "    </tr>\n",
       "  </tbody>\n",
       "</table>\n",
       "</div>"
      ],
      "text/plain": [
       "                   F   FCAU.VI        TM  Portfolio  Benchmark\n",
       "Date                                                          \n",
       "2019-03-25 -0.003513  0.000000  0.002246  -0.000396  -0.000752\n",
       "2019-03-26  0.029377  0.024718  0.010623   0.021463   0.007454\n",
       "2019-03-27 -0.015982  0.026718 -0.006077   0.001477  -0.005229\n",
       "2019-03-28  0.017401 -0.019182 -0.016194  -0.006094   0.003790\n",
       "2019-03-29  0.001140  0.005458 -0.008818  -0.000821   0.006306"
      ]
     },
     "execution_count": 81,
     "metadata": {},
     "output_type": "execute_result"
    }
   ],
   "source": [
    "start = datetime.datetime(2018, 1, 2 )\n",
    "end = datetime.datetime(2019, 4, 1 )\n",
    "stocks_return['Benchmark' ]=yf.download('SPY',start,end)[ 'Close' ]\n",
    "stocks_return['Benchmark' ] = stocks_return['Benchmark' ].pct_change(1).dropna()\n",
    "stocks_return.dropna().tail()"
   ]
  },
  {
   "cell_type": "markdown",
   "metadata": {},
   "source": [
    "### • Add risk-free rate based on the benchmark of Treasury Bills chosen"
   ]
  },
  {
   "cell_type": "code",
   "execution_count": 82,
   "metadata": {},
   "outputs": [
    {
     "data": {
      "text/html": [
       "<div>\n",
       "<style scoped>\n",
       "    .dataframe tbody tr th:only-of-type {\n",
       "        vertical-align: middle;\n",
       "    }\n",
       "\n",
       "    .dataframe tbody tr th {\n",
       "        vertical-align: top;\n",
       "    }\n",
       "\n",
       "    .dataframe thead th {\n",
       "        text-align: right;\n",
       "    }\n",
       "</style>\n",
       "<table border=\"1\" class=\"dataframe\">\n",
       "  <thead>\n",
       "    <tr style=\"text-align: right;\">\n",
       "      <th></th>\n",
       "      <th>F</th>\n",
       "      <th>FCAU.VI</th>\n",
       "      <th>TM</th>\n",
       "      <th>Portfolio</th>\n",
       "      <th>Benchmark</th>\n",
       "      <th>RF Rate</th>\n",
       "    </tr>\n",
       "    <tr>\n",
       "      <th>Date</th>\n",
       "      <th></th>\n",
       "      <th></th>\n",
       "      <th></th>\n",
       "      <th></th>\n",
       "      <th></th>\n",
       "      <th></th>\n",
       "    </tr>\n",
       "  </thead>\n",
       "  <tbody>\n",
       "    <tr>\n",
       "      <th>2018-01-03</th>\n",
       "      <td>0.007899</td>\n",
       "      <td>0.000000</td>\n",
       "      <td>0.013710</td>\n",
       "      <td>0.007268</td>\n",
       "      <td>NaN</td>\n",
       "      <td>0.0103</td>\n",
       "    </tr>\n",
       "    <tr>\n",
       "      <th>2018-01-04</th>\n",
       "      <td>0.017241</td>\n",
       "      <td>0.000000</td>\n",
       "      <td>0.015600</td>\n",
       "      <td>0.010994</td>\n",
       "      <td>0.004215</td>\n",
       "      <td>0.0103</td>\n",
       "    </tr>\n",
       "    <tr>\n",
       "      <th>2018-01-05</th>\n",
       "      <td>0.016949</td>\n",
       "      <td>0.181454</td>\n",
       "      <td>0.012863</td>\n",
       "      <td>0.069846</td>\n",
       "      <td>0.006664</td>\n",
       "      <td>0.0103</td>\n",
       "    </tr>\n",
       "    <tr>\n",
       "      <th>2018-01-08</th>\n",
       "      <td>-0.003788</td>\n",
       "      <td>0.000000</td>\n",
       "      <td>0.006798</td>\n",
       "      <td>0.001061</td>\n",
       "      <td>0.001829</td>\n",
       "      <td>0.0103</td>\n",
       "    </tr>\n",
       "    <tr>\n",
       "      <th>2018-01-09</th>\n",
       "      <td>-0.005323</td>\n",
       "      <td>0.026497</td>\n",
       "      <td>-0.007791</td>\n",
       "      <td>0.004339</td>\n",
       "      <td>0.002263</td>\n",
       "      <td>0.0103</td>\n",
       "    </tr>\n",
       "    <tr>\n",
       "      <th>...</th>\n",
       "      <td>...</td>\n",
       "      <td>...</td>\n",
       "      <td>...</td>\n",
       "      <td>...</td>\n",
       "      <td>...</td>\n",
       "      <td>...</td>\n",
       "    </tr>\n",
       "    <tr>\n",
       "      <th>2019-03-25</th>\n",
       "      <td>-0.003513</td>\n",
       "      <td>0.000000</td>\n",
       "      <td>0.002246</td>\n",
       "      <td>-0.000396</td>\n",
       "      <td>-0.000752</td>\n",
       "      <td>0.0103</td>\n",
       "    </tr>\n",
       "    <tr>\n",
       "      <th>2019-03-26</th>\n",
       "      <td>0.029377</td>\n",
       "      <td>0.024718</td>\n",
       "      <td>0.010623</td>\n",
       "      <td>0.021463</td>\n",
       "      <td>0.007454</td>\n",
       "      <td>0.0103</td>\n",
       "    </tr>\n",
       "    <tr>\n",
       "      <th>2019-03-27</th>\n",
       "      <td>-0.015982</td>\n",
       "      <td>0.026718</td>\n",
       "      <td>-0.006077</td>\n",
       "      <td>0.001477</td>\n",
       "      <td>-0.005229</td>\n",
       "      <td>0.0103</td>\n",
       "    </tr>\n",
       "    <tr>\n",
       "      <th>2019-03-28</th>\n",
       "      <td>0.017401</td>\n",
       "      <td>-0.019182</td>\n",
       "      <td>-0.016194</td>\n",
       "      <td>-0.006094</td>\n",
       "      <td>0.003790</td>\n",
       "      <td>0.0103</td>\n",
       "    </tr>\n",
       "    <tr>\n",
       "      <th>2019-03-29</th>\n",
       "      <td>0.001140</td>\n",
       "      <td>0.005458</td>\n",
       "      <td>-0.008818</td>\n",
       "      <td>-0.000821</td>\n",
       "      <td>0.006306</td>\n",
       "      <td>0.0103</td>\n",
       "    </tr>\n",
       "  </tbody>\n",
       "</table>\n",
       "<p>311 rows × 6 columns</p>\n",
       "</div>"
      ],
      "text/plain": [
       "                   F   FCAU.VI        TM  Portfolio  Benchmark  RF Rate\n",
       "Date                                                                   \n",
       "2018-01-03  0.007899  0.000000  0.013710   0.007268        NaN   0.0103\n",
       "2018-01-04  0.017241  0.000000  0.015600   0.010994   0.004215   0.0103\n",
       "2018-01-05  0.016949  0.181454  0.012863   0.069846   0.006664   0.0103\n",
       "2018-01-08 -0.003788  0.000000  0.006798   0.001061   0.001829   0.0103\n",
       "2018-01-09 -0.005323  0.026497 -0.007791   0.004339   0.002263   0.0103\n",
       "...              ...       ...       ...        ...        ...      ...\n",
       "2019-03-25 -0.003513  0.000000  0.002246  -0.000396  -0.000752   0.0103\n",
       "2019-03-26  0.029377  0.024718  0.010623   0.021463   0.007454   0.0103\n",
       "2019-03-27 -0.015982  0.026718 -0.006077   0.001477  -0.005229   0.0103\n",
       "2019-03-28  0.017401 -0.019182 -0.016194  -0.006094   0.003790   0.0103\n",
       "2019-03-29  0.001140  0.005458 -0.008818  -0.000821   0.006306   0.0103\n",
       "\n",
       "[311 rows x 6 columns]"
      ]
     },
     "execution_count": 82,
     "metadata": {},
     "output_type": "execute_result"
    }
   ],
   "source": [
    "stocks_return['RF Rate' ]=0.0103\n",
    "stocks_return"
   ]
  },
  {
   "cell_type": "markdown",
   "metadata": {},
   "source": [
    "### • Calculate the covariance of the stocks"
   ]
  },
  {
   "cell_type": "code",
   "execution_count": 83,
   "metadata": {},
   "outputs": [
    {
     "data": {
      "text/html": [
       "<div>\n",
       "<style scoped>\n",
       "    .dataframe tbody tr th:only-of-type {\n",
       "        vertical-align: middle;\n",
       "    }\n",
       "\n",
       "    .dataframe tbody tr th {\n",
       "        vertical-align: top;\n",
       "    }\n",
       "\n",
       "    .dataframe thead th {\n",
       "        text-align: right;\n",
       "    }\n",
       "</style>\n",
       "<table border=\"1\" class=\"dataframe\">\n",
       "  <thead>\n",
       "    <tr style=\"text-align: right;\">\n",
       "      <th></th>\n",
       "      <th>F</th>\n",
       "      <th>FCAU.VI</th>\n",
       "      <th>TM</th>\n",
       "      <th>Portfolio</th>\n",
       "      <th>Benchmark</th>\n",
       "      <th>RF Rate</th>\n",
       "    </tr>\n",
       "  </thead>\n",
       "  <tbody>\n",
       "    <tr>\n",
       "      <th>F</th>\n",
       "      <td>0.081751</td>\n",
       "      <td>0.037082</td>\n",
       "      <td>0.023899</td>\n",
       "      <td>0.047341</td>\n",
       "      <td>0.023779</td>\n",
       "      <td>0.0</td>\n",
       "    </tr>\n",
       "    <tr>\n",
       "      <th>FCAU.VI</th>\n",
       "      <td>0.037082</td>\n",
       "      <td>0.169625</td>\n",
       "      <td>0.019607</td>\n",
       "      <td>0.074880</td>\n",
       "      <td>0.018771</td>\n",
       "      <td>0.0</td>\n",
       "    </tr>\n",
       "    <tr>\n",
       "      <th>TM</th>\n",
       "      <td>0.023899</td>\n",
       "      <td>0.019607</td>\n",
       "      <td>0.035621</td>\n",
       "      <td>0.026468</td>\n",
       "      <td>0.019697</td>\n",
       "      <td>0.0</td>\n",
       "    </tr>\n",
       "    <tr>\n",
       "      <th>Portfolio</th>\n",
       "      <td>0.047341</td>\n",
       "      <td>0.074880</td>\n",
       "      <td>0.026468</td>\n",
       "      <td>0.049332</td>\n",
       "      <td>0.020739</td>\n",
       "      <td>0.0</td>\n",
       "    </tr>\n",
       "    <tr>\n",
       "      <th>Benchmark</th>\n",
       "      <td>0.023779</td>\n",
       "      <td>0.018771</td>\n",
       "      <td>0.019697</td>\n",
       "      <td>0.020739</td>\n",
       "      <td>0.027384</td>\n",
       "      <td>0.0</td>\n",
       "    </tr>\n",
       "    <tr>\n",
       "      <th>RF Rate</th>\n",
       "      <td>0.000000</td>\n",
       "      <td>0.000000</td>\n",
       "      <td>0.000000</td>\n",
       "      <td>0.000000</td>\n",
       "      <td>0.000000</td>\n",
       "      <td>0.0</td>\n",
       "    </tr>\n",
       "  </tbody>\n",
       "</table>\n",
       "</div>"
      ],
      "text/plain": [
       "                  F   FCAU.VI        TM  Portfolio  Benchmark  RF Rate\n",
       "F          0.081751  0.037082  0.023899   0.047341   0.023779      0.0\n",
       "FCAU.VI    0.037082  0.169625  0.019607   0.074880   0.018771      0.0\n",
       "TM         0.023899  0.019607  0.035621   0.026468   0.019697      0.0\n",
       "Portfolio  0.047341  0.074880  0.026468   0.049332   0.020739      0.0\n",
       "Benchmark  0.023779  0.018771  0.019697   0.020739   0.027384      0.0\n",
       "RF Rate    0.000000  0.000000  0.000000   0.000000   0.000000      0.0"
      ]
     },
     "execution_count": 83,
     "metadata": {},
     "output_type": "execute_result"
    }
   ],
   "source": [
    "covariance=stocks_return.cov() * 252\n",
    "covariance"
   ]
  },
  {
   "cell_type": "markdown",
   "metadata": {},
   "source": [
    "### • Choose the covariance between the market and the portfolio"
   ]
  },
  {
   "cell_type": "code",
   "execution_count": 84,
   "metadata": {},
   "outputs": [
    {
     "data": {
      "text/plain": [
       "0.020738632277716246"
      ]
     },
     "execution_count": 84,
     "metadata": {},
     "output_type": "execute_result"
    }
   ],
   "source": [
    "covariance_market=covariance.iloc[3,4 ]\n",
    "covariance_market"
   ]
  },
  {
   "cell_type": "markdown",
   "metadata": {},
   "source": [
    "### • Calculate the variance of the benchmark"
   ]
  },
  {
   "cell_type": "code",
   "execution_count": 85,
   "metadata": {},
   "outputs": [
    {
     "data": {
      "text/plain": [
       "0.027384176591305334"
      ]
     },
     "execution_count": 85,
     "metadata": {},
     "output_type": "execute_result"
    }
   ],
   "source": [
    "market_variance=stocks_return['Benchmark' ].var() * 252\n",
    "market_variance"
   ]
  },
  {
   "cell_type": "markdown",
   "metadata": {},
   "source": [
    "### • Calculate the beta of the portfolio"
   ]
  },
  {
   "cell_type": "code",
   "execution_count": 86,
   "metadata": {},
   "outputs": [
    {
     "data": {
      "text/plain": [
       "0.757321740479168"
      ]
     },
     "execution_count": 86,
     "metadata": {},
     "output_type": "execute_result"
    }
   ],
   "source": [
    "portfolio_beta=covariance_market / market_variance\n",
    "portfolio_beta"
   ]
  },
  {
   "cell_type": "markdown",
   "metadata": {},
   "source": [
    "### • Calculate the return of the portfolio"
   ]
  },
  {
   "cell_type": "code",
   "execution_count": 87,
   "metadata": {},
   "outputs": [
    {
     "data": {
      "text/plain": [
       "-0.00043624574526841207"
      ]
     },
     "execution_count": 87,
     "metadata": {},
     "output_type": "execute_result"
    }
   ],
   "source": [
    "portfolio_return=stocks_return['Portfolio' ].mean()\n",
    "portfolio_return"
   ]
  },
  {
   "cell_type": "markdown",
   "metadata": {},
   "source": [
    "### • Calculate the risk-free rate"
   ]
  },
  {
   "cell_type": "code",
   "execution_count": 88,
   "metadata": {},
   "outputs": [
    {
     "data": {
      "text/plain": [
       "0.010300000000000002"
      ]
     },
     "execution_count": 88,
     "metadata": {},
     "output_type": "execute_result"
    }
   ],
   "source": [
    "risk_free_rate=stocks_return['RF Rate' ].mean()\n",
    "risk_free_rate"
   ]
  },
  {
   "cell_type": "markdown",
   "metadata": {},
   "source": [
    "### • Calculate the Alpha"
   ]
  },
  {
   "cell_type": "code",
   "execution_count": 89,
   "metadata": {},
   "outputs": [
    {
     "data": {
      "text/plain": [
       "-0.0026054534312496764"
      ]
     },
     "execution_count": 89,
     "metadata": {},
     "output_type": "execute_result"
    }
   ],
   "source": [
    "alpha=portfolio_return - (risk_free_rate+portfolio_beta *(portfolio_return - risk_free_rate))\n",
    "alpha"
   ]
  },
  {
   "cell_type": "markdown",
   "metadata": {},
   "source": [
    "The alpha is negative and so is the Traynor and the Sharpe Ratio. This is a perfect example of a portfolio that is performing negatively when compared to the risk-free rate. For decision making with alpha the following table is important (Table 6):\n",
    "\n",
    "Table 6 Alpha decision making\n",
    "\n",
    "(α) > 0 the portfolio has gained value\n",
    "\n",
    "(α) < 0 the portfolio has lost value"
   ]
  },
  {
   "cell_type": "markdown",
   "metadata": {},
   "source": [
    "## INFORMATION RATIO\n",
    "\n",
    "The information ratio analyzes the excess of the return when comparing the portfolio without risk with the one supported by the investment. The effect that the ratio measures is how the portfolio deviates from the benchmark (Murphy 2019) The name is based on the consideration that the manager of the portfolio has special information and therefore, he will out beat the benchmark. The formula is as follows:\n",
    "\n",
    "    Information Ratio = (Rp − Rm) / TE\n",
    "\n",
    "TE = standard deviation of the difference between the portfolio and the benchmark\n",
    "\n",
    "Rp = Porfolio Return\n",
    "\n",
    "βp = Beta of the portfolio\n",
    "\n",
    "Rm = return of the market\n",
    "\n",
    "### • Installing packages\n"
   ]
  },
  {
   "cell_type": "code",
   "execution_count": 90,
   "metadata": {},
   "outputs": [],
   "source": [
    "import numpy as np\n",
    "import pandas as pd\n",
    "import yfinance as yf\n",
    "import datetime\n",
    "import matplotlib.pyplot as plt\n",
    "%matplotlib inline"
   ]
  },
  {
   "cell_type": "markdown",
   "metadata": {},
   "source": [
    "### • Creating the portfolio based on an end and start date"
   ]
  },
  {
   "cell_type": "code",
   "execution_count": 91,
   "metadata": {},
   "outputs": [
    {
     "name": "stderr",
     "output_type": "stream",
     "text": [
      "[*********************100%%**********************]  1 of 1 completed\n",
      "[*********************100%%**********************]  1 of 1 completed\n",
      "[*********************100%%**********************]  1 of 1 completed\n"
     ]
    },
    {
     "data": {
      "text/html": [
       "<div>\n",
       "<style scoped>\n",
       "    .dataframe tbody tr th:only-of-type {\n",
       "        vertical-align: middle;\n",
       "    }\n",
       "\n",
       "    .dataframe tbody tr th {\n",
       "        vertical-align: top;\n",
       "    }\n",
       "\n",
       "    .dataframe thead th {\n",
       "        text-align: right;\n",
       "    }\n",
       "</style>\n",
       "<table border=\"1\" class=\"dataframe\">\n",
       "  <thead>\n",
       "    <tr style=\"text-align: right;\">\n",
       "      <th></th>\n",
       "      <th>F</th>\n",
       "      <th>FCAU.VI</th>\n",
       "      <th>TM</th>\n",
       "    </tr>\n",
       "    <tr>\n",
       "      <th>Date</th>\n",
       "      <th></th>\n",
       "      <th></th>\n",
       "      <th></th>\n",
       "    </tr>\n",
       "  </thead>\n",
       "  <tbody>\n",
       "    <tr>\n",
       "      <th>2018-01-02</th>\n",
       "      <td>12.66</td>\n",
       "      <td>15.205000</td>\n",
       "      <td>128.369995</td>\n",
       "    </tr>\n",
       "    <tr>\n",
       "      <th>2018-01-03</th>\n",
       "      <td>12.76</td>\n",
       "      <td>15.205000</td>\n",
       "      <td>130.130005</td>\n",
       "    </tr>\n",
       "    <tr>\n",
       "      <th>2018-01-04</th>\n",
       "      <td>12.98</td>\n",
       "      <td>15.205000</td>\n",
       "      <td>132.160004</td>\n",
       "    </tr>\n",
       "    <tr>\n",
       "      <th>2018-01-05</th>\n",
       "      <td>13.20</td>\n",
       "      <td>17.964001</td>\n",
       "      <td>133.860001</td>\n",
       "    </tr>\n",
       "    <tr>\n",
       "      <th>2018-01-08</th>\n",
       "      <td>13.15</td>\n",
       "      <td>17.964001</td>\n",
       "      <td>134.770004</td>\n",
       "    </tr>\n",
       "    <tr>\n",
       "      <th>...</th>\n",
       "      <td>...</td>\n",
       "      <td>...</td>\n",
       "      <td>...</td>\n",
       "    </tr>\n",
       "    <tr>\n",
       "      <th>2019-03-25</th>\n",
       "      <td>8.51</td>\n",
       "      <td>NaN</td>\n",
       "      <td>120.489998</td>\n",
       "    </tr>\n",
       "    <tr>\n",
       "      <th>2019-03-26</th>\n",
       "      <td>8.76</td>\n",
       "      <td>13.100000</td>\n",
       "      <td>121.769997</td>\n",
       "    </tr>\n",
       "    <tr>\n",
       "      <th>2019-03-27</th>\n",
       "      <td>8.62</td>\n",
       "      <td>13.450000</td>\n",
       "      <td>121.029999</td>\n",
       "    </tr>\n",
       "    <tr>\n",
       "      <th>2019-03-28</th>\n",
       "      <td>8.77</td>\n",
       "      <td>13.192000</td>\n",
       "      <td>119.070000</td>\n",
       "    </tr>\n",
       "    <tr>\n",
       "      <th>2019-03-29</th>\n",
       "      <td>8.78</td>\n",
       "      <td>13.264000</td>\n",
       "      <td>118.019997</td>\n",
       "    </tr>\n",
       "  </tbody>\n",
       "</table>\n",
       "<p>312 rows × 3 columns</p>\n",
       "</div>"
      ],
      "text/plain": [
       "                F    FCAU.VI          TM\n",
       "Date                                    \n",
       "2018-01-02  12.66  15.205000  128.369995\n",
       "2018-01-03  12.76  15.205000  130.130005\n",
       "2018-01-04  12.98  15.205000  132.160004\n",
       "2018-01-05  13.20  17.964001  133.860001\n",
       "2018-01-08  13.15  17.964001  134.770004\n",
       "...           ...        ...         ...\n",
       "2019-03-25   8.51        NaN  120.489998\n",
       "2019-03-26   8.76  13.100000  121.769997\n",
       "2019-03-27   8.62  13.450000  121.029999\n",
       "2019-03-28   8.77  13.192000  119.070000\n",
       "2019-03-29   8.78  13.264000  118.019997\n",
       "\n",
       "[312 rows x 3 columns]"
      ]
     },
     "execution_count": 91,
     "metadata": {},
     "output_type": "execute_result"
    }
   ],
   "source": [
    "start = datetime.datetime(2018, 1, 2 )\n",
    "end = datetime.datetime(2019, 4, 1 )\n",
    "tickers = ['F','FCAU.VI', 'TM']\n",
    "stocks = pd.DataFrame()\n",
    "for x in tickers:\n",
    "    stocks[x]=yf.download(x, start, end)[ 'Close' ]\n",
    "stocks"
   ]
  },
  {
   "cell_type": "markdown",
   "metadata": {},
   "source": [
    "### • Choose weights for the portfolio"
   ]
  },
  {
   "cell_type": "code",
   "execution_count": 92,
   "metadata": {},
   "outputs": [
    {
     "data": {
      "text/plain": [
       "array([0.33, 0.33, 0.34])"
      ]
     },
     "execution_count": 92,
     "metadata": {},
     "output_type": "execute_result"
    }
   ],
   "source": [
    "portfolio_weights = np.array([0.33, 0.33, 0.34 ])\n",
    "portfolio_weights"
   ]
  },
  {
   "cell_type": "markdown",
   "metadata": {},
   "source": [
    "### Returns of the stocks using percent change"
   ]
  },
  {
   "cell_type": "code",
   "execution_count": 93,
   "metadata": {},
   "outputs": [
    {
     "name": "stderr",
     "output_type": "stream",
     "text": [
      "C:\\Users\\fvill\\AppData\\Local\\Temp\\ipykernel_18132\\697486859.py:1: FutureWarning: The default fill_method='pad' in DataFrame.pct_change is deprecated and will be removed in a future version. Either fill in any non-leading NA values prior to calling pct_change or specify 'fill_method=None' to not fill NA values.\n",
      "  stocks_return=stocks.pct_change(1 ).dropna()\n"
     ]
    },
    {
     "data": {
      "text/html": [
       "<div>\n",
       "<style scoped>\n",
       "    .dataframe tbody tr th:only-of-type {\n",
       "        vertical-align: middle;\n",
       "    }\n",
       "\n",
       "    .dataframe tbody tr th {\n",
       "        vertical-align: top;\n",
       "    }\n",
       "\n",
       "    .dataframe thead th {\n",
       "        text-align: right;\n",
       "    }\n",
       "</style>\n",
       "<table border=\"1\" class=\"dataframe\">\n",
       "  <thead>\n",
       "    <tr style=\"text-align: right;\">\n",
       "      <th></th>\n",
       "      <th>F</th>\n",
       "      <th>FCAU.VI</th>\n",
       "      <th>TM</th>\n",
       "    </tr>\n",
       "    <tr>\n",
       "      <th>Date</th>\n",
       "      <th></th>\n",
       "      <th></th>\n",
       "      <th></th>\n",
       "    </tr>\n",
       "  </thead>\n",
       "  <tbody>\n",
       "    <tr>\n",
       "      <th>2018-01-03</th>\n",
       "      <td>0.007899</td>\n",
       "      <td>0.000000</td>\n",
       "      <td>0.013710</td>\n",
       "    </tr>\n",
       "    <tr>\n",
       "      <th>2018-01-04</th>\n",
       "      <td>0.017241</td>\n",
       "      <td>0.000000</td>\n",
       "      <td>0.015600</td>\n",
       "    </tr>\n",
       "    <tr>\n",
       "      <th>2018-01-05</th>\n",
       "      <td>0.016949</td>\n",
       "      <td>0.181454</td>\n",
       "      <td>0.012863</td>\n",
       "    </tr>\n",
       "    <tr>\n",
       "      <th>2018-01-08</th>\n",
       "      <td>-0.003788</td>\n",
       "      <td>0.000000</td>\n",
       "      <td>0.006798</td>\n",
       "    </tr>\n",
       "    <tr>\n",
       "      <th>2018-01-09</th>\n",
       "      <td>-0.005323</td>\n",
       "      <td>0.026497</td>\n",
       "      <td>-0.007791</td>\n",
       "    </tr>\n",
       "    <tr>\n",
       "      <th>...</th>\n",
       "      <td>...</td>\n",
       "      <td>...</td>\n",
       "      <td>...</td>\n",
       "    </tr>\n",
       "    <tr>\n",
       "      <th>2019-03-25</th>\n",
       "      <td>-0.003513</td>\n",
       "      <td>0.000000</td>\n",
       "      <td>0.002246</td>\n",
       "    </tr>\n",
       "    <tr>\n",
       "      <th>2019-03-26</th>\n",
       "      <td>0.029377</td>\n",
       "      <td>0.024718</td>\n",
       "      <td>0.010623</td>\n",
       "    </tr>\n",
       "    <tr>\n",
       "      <th>2019-03-27</th>\n",
       "      <td>-0.015982</td>\n",
       "      <td>0.026718</td>\n",
       "      <td>-0.006077</td>\n",
       "    </tr>\n",
       "    <tr>\n",
       "      <th>2019-03-28</th>\n",
       "      <td>0.017401</td>\n",
       "      <td>-0.019182</td>\n",
       "      <td>-0.016194</td>\n",
       "    </tr>\n",
       "    <tr>\n",
       "      <th>2019-03-29</th>\n",
       "      <td>0.001140</td>\n",
       "      <td>0.005458</td>\n",
       "      <td>-0.008818</td>\n",
       "    </tr>\n",
       "  </tbody>\n",
       "</table>\n",
       "<p>311 rows × 3 columns</p>\n",
       "</div>"
      ],
      "text/plain": [
       "                   F   FCAU.VI        TM\n",
       "Date                                    \n",
       "2018-01-03  0.007899  0.000000  0.013710\n",
       "2018-01-04  0.017241  0.000000  0.015600\n",
       "2018-01-05  0.016949  0.181454  0.012863\n",
       "2018-01-08 -0.003788  0.000000  0.006798\n",
       "2018-01-09 -0.005323  0.026497 -0.007791\n",
       "...              ...       ...       ...\n",
       "2019-03-25 -0.003513  0.000000  0.002246\n",
       "2019-03-26  0.029377  0.024718  0.010623\n",
       "2019-03-27 -0.015982  0.026718 -0.006077\n",
       "2019-03-28  0.017401 -0.019182 -0.016194\n",
       "2019-03-29  0.001140  0.005458 -0.008818\n",
       "\n",
       "[311 rows x 3 columns]"
      ]
     },
     "execution_count": 93,
     "metadata": {},
     "output_type": "execute_result"
    }
   ],
   "source": [
    "stocks_return=stocks.pct_change(1 ).dropna()\n",
    "stocks_return"
   ]
  },
  {
   "cell_type": "markdown",
   "metadata": {},
   "source": [
    "### • Multiply the returns of the portfolio with each stock’s weight"
   ]
  },
  {
   "cell_type": "code",
   "execution_count": 94,
   "metadata": {},
   "outputs": [
    {
     "data": {
      "text/html": [
       "<div>\n",
       "<style scoped>\n",
       "    .dataframe tbody tr th:only-of-type {\n",
       "        vertical-align: middle;\n",
       "    }\n",
       "\n",
       "    .dataframe tbody tr th {\n",
       "        vertical-align: top;\n",
       "    }\n",
       "\n",
       "    .dataframe thead th {\n",
       "        text-align: right;\n",
       "    }\n",
       "</style>\n",
       "<table border=\"1\" class=\"dataframe\">\n",
       "  <thead>\n",
       "    <tr style=\"text-align: right;\">\n",
       "      <th></th>\n",
       "      <th>F</th>\n",
       "      <th>FCAU.VI</th>\n",
       "      <th>TM</th>\n",
       "    </tr>\n",
       "    <tr>\n",
       "      <th>Date</th>\n",
       "      <th></th>\n",
       "      <th></th>\n",
       "      <th></th>\n",
       "    </tr>\n",
       "  </thead>\n",
       "  <tbody>\n",
       "    <tr>\n",
       "      <th>2018-01-03</th>\n",
       "      <td>0.002607</td>\n",
       "      <td>0.000000</td>\n",
       "      <td>0.004662</td>\n",
       "    </tr>\n",
       "    <tr>\n",
       "      <th>2018-01-04</th>\n",
       "      <td>0.005690</td>\n",
       "      <td>0.000000</td>\n",
       "      <td>0.005304</td>\n",
       "    </tr>\n",
       "    <tr>\n",
       "      <th>2018-01-05</th>\n",
       "      <td>0.005593</td>\n",
       "      <td>0.059880</td>\n",
       "      <td>0.004373</td>\n",
       "    </tr>\n",
       "    <tr>\n",
       "      <th>2018-01-08</th>\n",
       "      <td>-0.001250</td>\n",
       "      <td>0.000000</td>\n",
       "      <td>0.002311</td>\n",
       "    </tr>\n",
       "    <tr>\n",
       "      <th>2018-01-09</th>\n",
       "      <td>-0.001757</td>\n",
       "      <td>0.008744</td>\n",
       "      <td>-0.002649</td>\n",
       "    </tr>\n",
       "    <tr>\n",
       "      <th>...</th>\n",
       "      <td>...</td>\n",
       "      <td>...</td>\n",
       "      <td>...</td>\n",
       "    </tr>\n",
       "    <tr>\n",
       "      <th>2019-03-25</th>\n",
       "      <td>-0.001159</td>\n",
       "      <td>0.000000</td>\n",
       "      <td>0.000764</td>\n",
       "    </tr>\n",
       "    <tr>\n",
       "      <th>2019-03-26</th>\n",
       "      <td>0.009694</td>\n",
       "      <td>0.008157</td>\n",
       "      <td>0.003612</td>\n",
       "    </tr>\n",
       "    <tr>\n",
       "      <th>2019-03-27</th>\n",
       "      <td>-0.005274</td>\n",
       "      <td>0.008817</td>\n",
       "      <td>-0.002066</td>\n",
       "    </tr>\n",
       "    <tr>\n",
       "      <th>2019-03-28</th>\n",
       "      <td>0.005742</td>\n",
       "      <td>-0.006330</td>\n",
       "      <td>-0.005506</td>\n",
       "    </tr>\n",
       "    <tr>\n",
       "      <th>2019-03-29</th>\n",
       "      <td>0.000376</td>\n",
       "      <td>0.001801</td>\n",
       "      <td>-0.002998</td>\n",
       "    </tr>\n",
       "  </tbody>\n",
       "</table>\n",
       "<p>311 rows × 3 columns</p>\n",
       "</div>"
      ],
      "text/plain": [
       "                   F   FCAU.VI        TM\n",
       "Date                                    \n",
       "2018-01-03  0.002607  0.000000  0.004662\n",
       "2018-01-04  0.005690  0.000000  0.005304\n",
       "2018-01-05  0.005593  0.059880  0.004373\n",
       "2018-01-08 -0.001250  0.000000  0.002311\n",
       "2018-01-09 -0.001757  0.008744 -0.002649\n",
       "...              ...       ...       ...\n",
       "2019-03-25 -0.001159  0.000000  0.000764\n",
       "2019-03-26  0.009694  0.008157  0.003612\n",
       "2019-03-27 -0.005274  0.008817 -0.002066\n",
       "2019-03-28  0.005742 -0.006330 -0.005506\n",
       "2019-03-29  0.000376  0.001801 -0.002998\n",
       "\n",
       "[311 rows x 3 columns]"
      ]
     },
     "execution_count": 94,
     "metadata": {},
     "output_type": "execute_result"
    }
   ],
   "source": [
    "weighted_returns_portfolio = stocks_return.mul(portfolio_weights,axis=1 )\n",
    "weighted_returns_portfolio"
   ]
  },
  {
   "cell_type": "markdown",
   "metadata": {},
   "source": [
    "### • Create a variable for the portfolio by calculating the sum of the returns."
   ]
  },
  {
   "cell_type": "code",
   "execution_count": 95,
   "metadata": {},
   "outputs": [
    {
     "data": {
      "text/html": [
       "<div>\n",
       "<style scoped>\n",
       "    .dataframe tbody tr th:only-of-type {\n",
       "        vertical-align: middle;\n",
       "    }\n",
       "\n",
       "    .dataframe tbody tr th {\n",
       "        vertical-align: top;\n",
       "    }\n",
       "\n",
       "    .dataframe thead th {\n",
       "        text-align: right;\n",
       "    }\n",
       "</style>\n",
       "<table border=\"1\" class=\"dataframe\">\n",
       "  <thead>\n",
       "    <tr style=\"text-align: right;\">\n",
       "      <th></th>\n",
       "      <th>F</th>\n",
       "      <th>FCAU.VI</th>\n",
       "      <th>TM</th>\n",
       "      <th>Portfolio</th>\n",
       "    </tr>\n",
       "    <tr>\n",
       "      <th>Date</th>\n",
       "      <th></th>\n",
       "      <th></th>\n",
       "      <th></th>\n",
       "      <th></th>\n",
       "    </tr>\n",
       "  </thead>\n",
       "  <tbody>\n",
       "    <tr>\n",
       "      <th>2019-03-25</th>\n",
       "      <td>-0.003513</td>\n",
       "      <td>0.000000</td>\n",
       "      <td>0.002246</td>\n",
       "      <td>-0.000396</td>\n",
       "    </tr>\n",
       "    <tr>\n",
       "      <th>2019-03-26</th>\n",
       "      <td>0.029377</td>\n",
       "      <td>0.024718</td>\n",
       "      <td>0.010623</td>\n",
       "      <td>0.021463</td>\n",
       "    </tr>\n",
       "    <tr>\n",
       "      <th>2019-03-27</th>\n",
       "      <td>-0.015982</td>\n",
       "      <td>0.026718</td>\n",
       "      <td>-0.006077</td>\n",
       "      <td>0.001477</td>\n",
       "    </tr>\n",
       "    <tr>\n",
       "      <th>2019-03-28</th>\n",
       "      <td>0.017401</td>\n",
       "      <td>-0.019182</td>\n",
       "      <td>-0.016194</td>\n",
       "      <td>-0.006094</td>\n",
       "    </tr>\n",
       "    <tr>\n",
       "      <th>2019-03-29</th>\n",
       "      <td>0.001140</td>\n",
       "      <td>0.005458</td>\n",
       "      <td>-0.008818</td>\n",
       "      <td>-0.000821</td>\n",
       "    </tr>\n",
       "  </tbody>\n",
       "</table>\n",
       "</div>"
      ],
      "text/plain": [
       "                   F   FCAU.VI        TM  Portfolio\n",
       "Date                                               \n",
       "2019-03-25 -0.003513  0.000000  0.002246  -0.000396\n",
       "2019-03-26  0.029377  0.024718  0.010623   0.021463\n",
       "2019-03-27 -0.015982  0.026718 -0.006077   0.001477\n",
       "2019-03-28  0.017401 -0.019182 -0.016194  -0.006094\n",
       "2019-03-29  0.001140  0.005458 -0.008818  -0.000821"
      ]
     },
     "execution_count": 95,
     "metadata": {},
     "output_type": "execute_result"
    }
   ],
   "source": [
    "stocks_return['Portfolio' ] = weighted_returns_portfolio.sum(axis = 1 ).dropna()\n",
    "stocks_return.tail()"
   ]
  },
  {
   "cell_type": "markdown",
   "metadata": {},
   "source": [
    "### • Add the benchmark by using the S&P 500 and calculating the returns"
   ]
  },
  {
   "cell_type": "code",
   "execution_count": 96,
   "metadata": {},
   "outputs": [
    {
     "name": "stderr",
     "output_type": "stream",
     "text": [
      "[*********************100%%**********************]  1 of 1 completed\n"
     ]
    },
    {
     "data": {
      "text/html": [
       "<div>\n",
       "<style scoped>\n",
       "    .dataframe tbody tr th:only-of-type {\n",
       "        vertical-align: middle;\n",
       "    }\n",
       "\n",
       "    .dataframe tbody tr th {\n",
       "        vertical-align: top;\n",
       "    }\n",
       "\n",
       "    .dataframe thead th {\n",
       "        text-align: right;\n",
       "    }\n",
       "</style>\n",
       "<table border=\"1\" class=\"dataframe\">\n",
       "  <thead>\n",
       "    <tr style=\"text-align: right;\">\n",
       "      <th></th>\n",
       "      <th>F</th>\n",
       "      <th>FCAU.VI</th>\n",
       "      <th>TM</th>\n",
       "      <th>Portfolio</th>\n",
       "      <th>Benchmark</th>\n",
       "    </tr>\n",
       "    <tr>\n",
       "      <th>Date</th>\n",
       "      <th></th>\n",
       "      <th></th>\n",
       "      <th></th>\n",
       "      <th></th>\n",
       "      <th></th>\n",
       "    </tr>\n",
       "  </thead>\n",
       "  <tbody>\n",
       "    <tr>\n",
       "      <th>2019-03-25</th>\n",
       "      <td>-0.003513</td>\n",
       "      <td>0.000000</td>\n",
       "      <td>0.002246</td>\n",
       "      <td>-0.000396</td>\n",
       "      <td>-0.000752</td>\n",
       "    </tr>\n",
       "    <tr>\n",
       "      <th>2019-03-26</th>\n",
       "      <td>0.029377</td>\n",
       "      <td>0.024718</td>\n",
       "      <td>0.010623</td>\n",
       "      <td>0.021463</td>\n",
       "      <td>0.007454</td>\n",
       "    </tr>\n",
       "    <tr>\n",
       "      <th>2019-03-27</th>\n",
       "      <td>-0.015982</td>\n",
       "      <td>0.026718</td>\n",
       "      <td>-0.006077</td>\n",
       "      <td>0.001477</td>\n",
       "      <td>-0.005229</td>\n",
       "    </tr>\n",
       "    <tr>\n",
       "      <th>2019-03-28</th>\n",
       "      <td>0.017401</td>\n",
       "      <td>-0.019182</td>\n",
       "      <td>-0.016194</td>\n",
       "      <td>-0.006094</td>\n",
       "      <td>0.003790</td>\n",
       "    </tr>\n",
       "    <tr>\n",
       "      <th>2019-03-29</th>\n",
       "      <td>0.001140</td>\n",
       "      <td>0.005458</td>\n",
       "      <td>-0.008818</td>\n",
       "      <td>-0.000821</td>\n",
       "      <td>0.006306</td>\n",
       "    </tr>\n",
       "  </tbody>\n",
       "</table>\n",
       "</div>"
      ],
      "text/plain": [
       "                   F   FCAU.VI        TM  Portfolio  Benchmark\n",
       "Date                                                          \n",
       "2019-03-25 -0.003513  0.000000  0.002246  -0.000396  -0.000752\n",
       "2019-03-26  0.029377  0.024718  0.010623   0.021463   0.007454\n",
       "2019-03-27 -0.015982  0.026718 -0.006077   0.001477  -0.005229\n",
       "2019-03-28  0.017401 -0.019182 -0.016194  -0.006094   0.003790\n",
       "2019-03-29  0.001140  0.005458 -0.008818  -0.000821   0.006306"
      ]
     },
     "execution_count": 96,
     "metadata": {},
     "output_type": "execute_result"
    }
   ],
   "source": [
    "start = datetime.datetime(2018, 1, 2 )\n",
    "end = datetime.datetime(2019, 4, 1 )\n",
    "stocks_return['Benchmark' ]=yf.download('SPY',start,end)['Close' ]\n",
    "stocks_return['Benchmark' ] = stocks_return['Benchmark' ].pct_change(1).dropna()\n",
    "stocks_return.dropna().tail()"
   ]
  },
  {
   "cell_type": "markdown",
   "metadata": {},
   "source": [
    "### • Add risk-free rate based on the benchmark of Treasury Bills chosen"
   ]
  },
  {
   "cell_type": "code",
   "execution_count": 97,
   "metadata": {},
   "outputs": [
    {
     "data": {
      "text/html": [
       "<div>\n",
       "<style scoped>\n",
       "    .dataframe tbody tr th:only-of-type {\n",
       "        vertical-align: middle;\n",
       "    }\n",
       "\n",
       "    .dataframe tbody tr th {\n",
       "        vertical-align: top;\n",
       "    }\n",
       "\n",
       "    .dataframe thead th {\n",
       "        text-align: right;\n",
       "    }\n",
       "</style>\n",
       "<table border=\"1\" class=\"dataframe\">\n",
       "  <thead>\n",
       "    <tr style=\"text-align: right;\">\n",
       "      <th></th>\n",
       "      <th>F</th>\n",
       "      <th>FCAU.VI</th>\n",
       "      <th>TM</th>\n",
       "      <th>Portfolio</th>\n",
       "      <th>Benchmark</th>\n",
       "      <th>RF Rate</th>\n",
       "    </tr>\n",
       "    <tr>\n",
       "      <th>Date</th>\n",
       "      <th></th>\n",
       "      <th></th>\n",
       "      <th></th>\n",
       "      <th></th>\n",
       "      <th></th>\n",
       "      <th></th>\n",
       "    </tr>\n",
       "  </thead>\n",
       "  <tbody>\n",
       "    <tr>\n",
       "      <th>2018-01-03</th>\n",
       "      <td>0.007899</td>\n",
       "      <td>0.000000</td>\n",
       "      <td>0.013710</td>\n",
       "      <td>0.007268</td>\n",
       "      <td>NaN</td>\n",
       "      <td>0.0103</td>\n",
       "    </tr>\n",
       "    <tr>\n",
       "      <th>2018-01-04</th>\n",
       "      <td>0.017241</td>\n",
       "      <td>0.000000</td>\n",
       "      <td>0.015600</td>\n",
       "      <td>0.010994</td>\n",
       "      <td>0.004215</td>\n",
       "      <td>0.0103</td>\n",
       "    </tr>\n",
       "    <tr>\n",
       "      <th>2018-01-05</th>\n",
       "      <td>0.016949</td>\n",
       "      <td>0.181454</td>\n",
       "      <td>0.012863</td>\n",
       "      <td>0.069846</td>\n",
       "      <td>0.006664</td>\n",
       "      <td>0.0103</td>\n",
       "    </tr>\n",
       "    <tr>\n",
       "      <th>2018-01-08</th>\n",
       "      <td>-0.003788</td>\n",
       "      <td>0.000000</td>\n",
       "      <td>0.006798</td>\n",
       "      <td>0.001061</td>\n",
       "      <td>0.001829</td>\n",
       "      <td>0.0103</td>\n",
       "    </tr>\n",
       "    <tr>\n",
       "      <th>2018-01-09</th>\n",
       "      <td>-0.005323</td>\n",
       "      <td>0.026497</td>\n",
       "      <td>-0.007791</td>\n",
       "      <td>0.004339</td>\n",
       "      <td>0.002263</td>\n",
       "      <td>0.0103</td>\n",
       "    </tr>\n",
       "    <tr>\n",
       "      <th>...</th>\n",
       "      <td>...</td>\n",
       "      <td>...</td>\n",
       "      <td>...</td>\n",
       "      <td>...</td>\n",
       "      <td>...</td>\n",
       "      <td>...</td>\n",
       "    </tr>\n",
       "    <tr>\n",
       "      <th>2019-03-25</th>\n",
       "      <td>-0.003513</td>\n",
       "      <td>0.000000</td>\n",
       "      <td>0.002246</td>\n",
       "      <td>-0.000396</td>\n",
       "      <td>-0.000752</td>\n",
       "      <td>0.0103</td>\n",
       "    </tr>\n",
       "    <tr>\n",
       "      <th>2019-03-26</th>\n",
       "      <td>0.029377</td>\n",
       "      <td>0.024718</td>\n",
       "      <td>0.010623</td>\n",
       "      <td>0.021463</td>\n",
       "      <td>0.007454</td>\n",
       "      <td>0.0103</td>\n",
       "    </tr>\n",
       "    <tr>\n",
       "      <th>2019-03-27</th>\n",
       "      <td>-0.015982</td>\n",
       "      <td>0.026718</td>\n",
       "      <td>-0.006077</td>\n",
       "      <td>0.001477</td>\n",
       "      <td>-0.005229</td>\n",
       "      <td>0.0103</td>\n",
       "    </tr>\n",
       "    <tr>\n",
       "      <th>2019-03-28</th>\n",
       "      <td>0.017401</td>\n",
       "      <td>-0.019182</td>\n",
       "      <td>-0.016194</td>\n",
       "      <td>-0.006094</td>\n",
       "      <td>0.003790</td>\n",
       "      <td>0.0103</td>\n",
       "    </tr>\n",
       "    <tr>\n",
       "      <th>2019-03-29</th>\n",
       "      <td>0.001140</td>\n",
       "      <td>0.005458</td>\n",
       "      <td>-0.008818</td>\n",
       "      <td>-0.000821</td>\n",
       "      <td>0.006306</td>\n",
       "      <td>0.0103</td>\n",
       "    </tr>\n",
       "  </tbody>\n",
       "</table>\n",
       "<p>311 rows × 6 columns</p>\n",
       "</div>"
      ],
      "text/plain": [
       "                   F   FCAU.VI        TM  Portfolio  Benchmark  RF Rate\n",
       "Date                                                                   \n",
       "2018-01-03  0.007899  0.000000  0.013710   0.007268        NaN   0.0103\n",
       "2018-01-04  0.017241  0.000000  0.015600   0.010994   0.004215   0.0103\n",
       "2018-01-05  0.016949  0.181454  0.012863   0.069846   0.006664   0.0103\n",
       "2018-01-08 -0.003788  0.000000  0.006798   0.001061   0.001829   0.0103\n",
       "2018-01-09 -0.005323  0.026497 -0.007791   0.004339   0.002263   0.0103\n",
       "...              ...       ...       ...        ...        ...      ...\n",
       "2019-03-25 -0.003513  0.000000  0.002246  -0.000396  -0.000752   0.0103\n",
       "2019-03-26  0.029377  0.024718  0.010623   0.021463   0.007454   0.0103\n",
       "2019-03-27 -0.015982  0.026718 -0.006077   0.001477  -0.005229   0.0103\n",
       "2019-03-28  0.017401 -0.019182 -0.016194  -0.006094   0.003790   0.0103\n",
       "2019-03-29  0.001140  0.005458 -0.008818  -0.000821   0.006306   0.0103\n",
       "\n",
       "[311 rows x 6 columns]"
      ]
     },
     "execution_count": 97,
     "metadata": {},
     "output_type": "execute_result"
    }
   ],
   "source": [
    "stocks_return['RF Rate' ]=0.0103\n",
    "stocks_return"
   ]
  },
  {
   "cell_type": "markdown",
   "metadata": {},
   "source": [
    "### • Calculate the covariance of the stocks"
   ]
  },
  {
   "cell_type": "code",
   "execution_count": 98,
   "metadata": {},
   "outputs": [
    {
     "data": {
      "text/html": [
       "<div>\n",
       "<style scoped>\n",
       "    .dataframe tbody tr th:only-of-type {\n",
       "        vertical-align: middle;\n",
       "    }\n",
       "\n",
       "    .dataframe tbody tr th {\n",
       "        vertical-align: top;\n",
       "    }\n",
       "\n",
       "    .dataframe thead th {\n",
       "        text-align: right;\n",
       "    }\n",
       "</style>\n",
       "<table border=\"1\" class=\"dataframe\">\n",
       "  <thead>\n",
       "    <tr style=\"text-align: right;\">\n",
       "      <th></th>\n",
       "      <th>F</th>\n",
       "      <th>FCAU.VI</th>\n",
       "      <th>TM</th>\n",
       "      <th>Portfolio</th>\n",
       "      <th>Benchmark</th>\n",
       "      <th>RF Rate</th>\n",
       "    </tr>\n",
       "  </thead>\n",
       "  <tbody>\n",
       "    <tr>\n",
       "      <th>F</th>\n",
       "      <td>0.081751</td>\n",
       "      <td>0.037082</td>\n",
       "      <td>0.023899</td>\n",
       "      <td>0.047341</td>\n",
       "      <td>0.023779</td>\n",
       "      <td>0.0</td>\n",
       "    </tr>\n",
       "    <tr>\n",
       "      <th>FCAU.VI</th>\n",
       "      <td>0.037082</td>\n",
       "      <td>0.169625</td>\n",
       "      <td>0.019607</td>\n",
       "      <td>0.074880</td>\n",
       "      <td>0.018771</td>\n",
       "      <td>0.0</td>\n",
       "    </tr>\n",
       "    <tr>\n",
       "      <th>TM</th>\n",
       "      <td>0.023899</td>\n",
       "      <td>0.019607</td>\n",
       "      <td>0.035621</td>\n",
       "      <td>0.026468</td>\n",
       "      <td>0.019697</td>\n",
       "      <td>0.0</td>\n",
       "    </tr>\n",
       "    <tr>\n",
       "      <th>Portfolio</th>\n",
       "      <td>0.047341</td>\n",
       "      <td>0.074880</td>\n",
       "      <td>0.026468</td>\n",
       "      <td>0.049332</td>\n",
       "      <td>0.020739</td>\n",
       "      <td>0.0</td>\n",
       "    </tr>\n",
       "    <tr>\n",
       "      <th>Benchmark</th>\n",
       "      <td>0.023779</td>\n",
       "      <td>0.018771</td>\n",
       "      <td>0.019697</td>\n",
       "      <td>0.020739</td>\n",
       "      <td>0.027384</td>\n",
       "      <td>0.0</td>\n",
       "    </tr>\n",
       "    <tr>\n",
       "      <th>RF Rate</th>\n",
       "      <td>0.000000</td>\n",
       "      <td>0.000000</td>\n",
       "      <td>0.000000</td>\n",
       "      <td>0.000000</td>\n",
       "      <td>0.000000</td>\n",
       "      <td>0.0</td>\n",
       "    </tr>\n",
       "  </tbody>\n",
       "</table>\n",
       "</div>"
      ],
      "text/plain": [
       "                  F   FCAU.VI        TM  Portfolio  Benchmark  RF Rate\n",
       "F          0.081751  0.037082  0.023899   0.047341   0.023779      0.0\n",
       "FCAU.VI    0.037082  0.169625  0.019607   0.074880   0.018771      0.0\n",
       "TM         0.023899  0.019607  0.035621   0.026468   0.019697      0.0\n",
       "Portfolio  0.047341  0.074880  0.026468   0.049332   0.020739      0.0\n",
       "Benchmark  0.023779  0.018771  0.019697   0.020739   0.027384      0.0\n",
       "RF Rate    0.000000  0.000000  0.000000   0.000000   0.000000      0.0"
      ]
     },
     "execution_count": 98,
     "metadata": {},
     "output_type": "execute_result"
    }
   ],
   "source": [
    "covariance=stocks_return.cov() * 252\n",
    "covariance"
   ]
  },
  {
   "cell_type": "markdown",
   "metadata": {},
   "source": [
    "### • Choose the covariance between the market and the portfolio"
   ]
  },
  {
   "cell_type": "code",
   "execution_count": 99,
   "metadata": {},
   "outputs": [
    {
     "data": {
      "text/plain": [
       "0.020738632277716246"
      ]
     },
     "execution_count": 99,
     "metadata": {},
     "output_type": "execute_result"
    }
   ],
   "source": [
    "covariance_market=covariance.iloc[3,4 ]\n",
    "covariance_market"
   ]
  },
  {
   "cell_type": "markdown",
   "metadata": {},
   "source": [
    "### • Calculate the variance of the benchmark"
   ]
  },
  {
   "cell_type": "code",
   "execution_count": 100,
   "metadata": {},
   "outputs": [
    {
     "data": {
      "text/plain": [
       "0.027384176591305334"
      ]
     },
     "execution_count": 100,
     "metadata": {},
     "output_type": "execute_result"
    }
   ],
   "source": [
    "market_variance=stocks_return['Benchmark' ].var() * 252\n",
    "market_variance"
   ]
  },
  {
   "cell_type": "markdown",
   "metadata": {},
   "source": [
    "### • Calculate the beta of the portfolio"
   ]
  },
  {
   "cell_type": "code",
   "execution_count": 101,
   "metadata": {},
   "outputs": [
    {
     "data": {
      "text/plain": [
       "-0.00043624574526841207"
      ]
     },
     "execution_count": 101,
     "metadata": {},
     "output_type": "execute_result"
    }
   ],
   "source": [
    "portfolio_return=stocks_return['Portfolio' ].mean()\n",
    "portfolio_return"
   ]
  },
  {
   "cell_type": "markdown",
   "metadata": {},
   "source": [
    "### • Calculate the return of the benchmark"
   ]
  },
  {
   "cell_type": "code",
   "execution_count": 102,
   "metadata": {},
   "outputs": [
    {
     "data": {
      "text/plain": [
       "0.0001944661846185702"
      ]
     },
     "execution_count": 102,
     "metadata": {},
     "output_type": "execute_result"
    }
   ],
   "source": [
    "benchmark_return=stocks_return['Benchmark' ].mean()\n",
    "benchmark_return"
   ]
  },
  {
   "cell_type": "markdown",
   "metadata": {},
   "source": [
    "### • Difference between the return of the portfolio and the benchmark"
   ]
  },
  {
   "cell_type": "code",
   "execution_count": 103,
   "metadata": {},
   "outputs": [
    {
     "data": {
      "text/plain": [
       "Date\n",
       "2018-01-03         NaN\n",
       "2018-01-04    0.006779\n",
       "2018-01-05    0.063182\n",
       "2018-01-08   -0.000767\n",
       "2018-01-09    0.002075\n",
       "                ...   \n",
       "2019-03-25    0.000356\n",
       "2019-03-26    0.014009\n",
       "2019-03-27    0.006706\n",
       "2019-03-28   -0.009884\n",
       "2019-03-29   -0.007126\n",
       "Length: 311, dtype: float64"
      ]
     },
     "execution_count": 103,
     "metadata": {},
     "output_type": "execute_result"
    }
   ],
   "source": [
    "difference_benchmark_portfolio=stocks_return['Portfolio'] - stocks_return['Benchmark' ]\n",
    "difference_benchmark_portfolio"
   ]
  },
  {
   "cell_type": "markdown",
   "metadata": {},
   "source": [
    "### • Calculate the tracking error"
   ]
  },
  {
   "cell_type": "code",
   "execution_count": 104,
   "metadata": {},
   "outputs": [
    {
     "data": {
      "text/plain": [
       "0.011843880944600855"
      ]
     },
     "execution_count": 104,
     "metadata": {},
     "output_type": "execute_result"
    }
   ],
   "source": [
    "tracking_error=difference_benchmark_portfolio.std()\n",
    "tracking_error"
   ]
  },
  {
   "cell_type": "markdown",
   "metadata": {},
   "source": [
    "### Calculate the information"
   ]
  },
  {
   "cell_type": "code",
   "execution_count": 105,
   "metadata": {},
   "outputs": [
    {
     "data": {
      "text/plain": [
       "-0.05325213355631527"
      ]
     },
     "execution_count": 105,
     "metadata": {},
     "output_type": "execute_result"
    }
   ],
   "source": [
    "information_ratio=((portfolio_return - benchmark_return))/ tracking_error\n",
    "information_ratio"
   ]
  },
  {
   "cell_type": "markdown",
   "metadata": {},
   "source": [
    "The result demonstrates that there is no excess between the returns of the portfolio and the benchmark leading to infer that the benchmark has outperformed the portfolio. As a conclusion concerning the ratios, the portfolio has performed worse than the risk-free rate and the benchmark."
   ]
  },
  {
   "cell_type": "markdown",
   "metadata": {},
   "source": [
    "## • Applying the knowledge to an investment\n",
    "\n",
    "The following exercise is based on an investment of USD 300,000 in the following securities with a specific allocation:\n",
    "\n",
    "– Amazon        30% allocation      —USD 90,0000\n",
    "\n",
    "– Ford          20% allocation      —USD 60,000\n",
    "\n",
    "– Citi          30% allocation      —USD 90,000\n",
    "\n",
    "– McDonalds     20%                 —USD 60,000\n",
    "\n",
    "### • Installing packages"
   ]
  },
  {
   "cell_type": "code",
   "execution_count": 106,
   "metadata": {},
   "outputs": [],
   "source": [
    "import numpy as np\n",
    "import pandas as pd\n",
    "import yfinance as yf\n",
    "import datetime\n",
    "import matplotlib.pyplot as plt\n",
    "%matplotlib inline"
   ]
  },
  {
   "cell_type": "markdown",
   "metadata": {},
   "source": [
    "### • Retrieving the information concerning the securities"
   ]
  },
  {
   "cell_type": "code",
   "execution_count": 107,
   "metadata": {},
   "outputs": [
    {
     "name": "stderr",
     "output_type": "stream",
     "text": [
      "[*********************100%%**********************]  1 of 1 completed\n",
      "[*********************100%%**********************]  1 of 1 completed\n",
      "[*********************100%%**********************]  1 of 1 completed\n",
      "[*********************100%%**********************]  1 of 1 completed\n"
     ]
    }
   ],
   "source": [
    "start = datetime.datetime(2019, 1, 2 )\n",
    "end = datetime.datetime(2020, 4, 1 )\n",
    "Amazon=yf.download('AMZN', start, end)\n",
    "Ford=yf.download('F', start, end)\n",
    "Citi=yf.download('C', start, end)\n",
    "McDonalds=yf.download('MCD', start, end)\n",
    "\n",
    "\n",
    "\n"
   ]
  },
  {
   "cell_type": "markdown",
   "metadata": {},
   "source": [
    "### • Calculating the returns for the portfolio using closing price"
   ]
  },
  {
   "cell_type": "code",
   "execution_count": 108,
   "metadata": {},
   "outputs": [
    {
     "data": {
      "text/html": [
       "<div>\n",
       "<style scoped>\n",
       "    .dataframe tbody tr th:only-of-type {\n",
       "        vertical-align: middle;\n",
       "    }\n",
       "\n",
       "    .dataframe tbody tr th {\n",
       "        vertical-align: top;\n",
       "    }\n",
       "\n",
       "    .dataframe thead th {\n",
       "        text-align: right;\n",
       "    }\n",
       "</style>\n",
       "<table border=\"1\" class=\"dataframe\">\n",
       "  <thead>\n",
       "    <tr style=\"text-align: right;\">\n",
       "      <th></th>\n",
       "      <th>Open</th>\n",
       "      <th>High</th>\n",
       "      <th>Low</th>\n",
       "      <th>Close</th>\n",
       "      <th>Adj Close</th>\n",
       "      <th>Volume</th>\n",
       "      <th>Return</th>\n",
       "    </tr>\n",
       "    <tr>\n",
       "      <th>Date</th>\n",
       "      <th></th>\n",
       "      <th></th>\n",
       "      <th></th>\n",
       "      <th></th>\n",
       "      <th></th>\n",
       "      <th></th>\n",
       "      <th></th>\n",
       "    </tr>\n",
       "  </thead>\n",
       "  <tbody>\n",
       "    <tr>\n",
       "      <th>2019-01-02</th>\n",
       "      <td>175.410004</td>\n",
       "      <td>176.300003</td>\n",
       "      <td>174.169998</td>\n",
       "      <td>176.059998</td>\n",
       "      <td>156.829605</td>\n",
       "      <td>2571500</td>\n",
       "      <td>1.000000</td>\n",
       "    </tr>\n",
       "    <tr>\n",
       "      <th>2019-01-03</th>\n",
       "      <td>175.449997</td>\n",
       "      <td>176.449997</td>\n",
       "      <td>174.410004</td>\n",
       "      <td>174.899994</td>\n",
       "      <td>155.796310</td>\n",
       "      <td>3728200</td>\n",
       "      <td>0.993411</td>\n",
       "    </tr>\n",
       "    <tr>\n",
       "      <th>2019-01-04</th>\n",
       "      <td>176.029999</td>\n",
       "      <td>179.199997</td>\n",
       "      <td>175.690002</td>\n",
       "      <td>178.279999</td>\n",
       "      <td>158.807159</td>\n",
       "      <td>3194300</td>\n",
       "      <td>1.012609</td>\n",
       "    </tr>\n",
       "    <tr>\n",
       "      <th>2019-01-07</th>\n",
       "      <td>178.139999</td>\n",
       "      <td>181.880005</td>\n",
       "      <td>178.139999</td>\n",
       "      <td>180.220001</td>\n",
       "      <td>160.535248</td>\n",
       "      <td>3283000</td>\n",
       "      <td>1.023628</td>\n",
       "    </tr>\n",
       "    <tr>\n",
       "      <th>2019-01-08</th>\n",
       "      <td>181.960007</td>\n",
       "      <td>182.289993</td>\n",
       "      <td>179.910004</td>\n",
       "      <td>180.600006</td>\n",
       "      <td>160.873734</td>\n",
       "      <td>2941400</td>\n",
       "      <td>1.025787</td>\n",
       "    </tr>\n",
       "    <tr>\n",
       "      <th>...</th>\n",
       "      <td>...</td>\n",
       "      <td>...</td>\n",
       "      <td>...</td>\n",
       "      <td>...</td>\n",
       "      <td>...</td>\n",
       "      <td>...</td>\n",
       "      <td>...</td>\n",
       "    </tr>\n",
       "    <tr>\n",
       "      <th>2020-03-25</th>\n",
       "      <td>165.000000</td>\n",
       "      <td>171.360001</td>\n",
       "      <td>159.220001</td>\n",
       "      <td>162.979996</td>\n",
       "      <td>149.612488</td>\n",
       "      <td>9708700</td>\n",
       "      <td>0.925707</td>\n",
       "    </tr>\n",
       "    <tr>\n",
       "      <th>2020-03-26</th>\n",
       "      <td>163.990005</td>\n",
       "      <td>170.929993</td>\n",
       "      <td>161.000000</td>\n",
       "      <td>167.350006</td>\n",
       "      <td>153.624054</td>\n",
       "      <td>8259900</td>\n",
       "      <td>0.950528</td>\n",
       "    </tr>\n",
       "    <tr>\n",
       "      <th>2020-03-27</th>\n",
       "      <td>162.779999</td>\n",
       "      <td>169.740005</td>\n",
       "      <td>159.220001</td>\n",
       "      <td>164.009995</td>\n",
       "      <td>150.557983</td>\n",
       "      <td>6441400</td>\n",
       "      <td>0.931557</td>\n",
       "    </tr>\n",
       "    <tr>\n",
       "      <th>2020-03-30</th>\n",
       "      <td>164.919998</td>\n",
       "      <td>170.309998</td>\n",
       "      <td>163.570007</td>\n",
       "      <td>168.130005</td>\n",
       "      <td>154.340088</td>\n",
       "      <td>5621700</td>\n",
       "      <td>0.954959</td>\n",
       "    </tr>\n",
       "    <tr>\n",
       "      <th>2020-03-31</th>\n",
       "      <td>166.839996</td>\n",
       "      <td>169.509995</td>\n",
       "      <td>165.000000</td>\n",
       "      <td>165.350006</td>\n",
       "      <td>151.788101</td>\n",
       "      <td>4519900</td>\n",
       "      <td>0.939169</td>\n",
       "    </tr>\n",
       "  </tbody>\n",
       "</table>\n",
       "<p>314 rows × 7 columns</p>\n",
       "</div>"
      ],
      "text/plain": [
       "                  Open        High         Low       Close   Adj Close  \\\n",
       "Date                                                                     \n",
       "2019-01-02  175.410004  176.300003  174.169998  176.059998  156.829605   \n",
       "2019-01-03  175.449997  176.449997  174.410004  174.899994  155.796310   \n",
       "2019-01-04  176.029999  179.199997  175.690002  178.279999  158.807159   \n",
       "2019-01-07  178.139999  181.880005  178.139999  180.220001  160.535248   \n",
       "2019-01-08  181.960007  182.289993  179.910004  180.600006  160.873734   \n",
       "...                ...         ...         ...         ...         ...   \n",
       "2020-03-25  165.000000  171.360001  159.220001  162.979996  149.612488   \n",
       "2020-03-26  163.990005  170.929993  161.000000  167.350006  153.624054   \n",
       "2020-03-27  162.779999  169.740005  159.220001  164.009995  150.557983   \n",
       "2020-03-30  164.919998  170.309998  163.570007  168.130005  154.340088   \n",
       "2020-03-31  166.839996  169.509995  165.000000  165.350006  151.788101   \n",
       "\n",
       "             Volume    Return  \n",
       "Date                           \n",
       "2019-01-02  2571500  1.000000  \n",
       "2019-01-03  3728200  0.993411  \n",
       "2019-01-04  3194300  1.012609  \n",
       "2019-01-07  3283000  1.023628  \n",
       "2019-01-08  2941400  1.025787  \n",
       "...             ...       ...  \n",
       "2020-03-25  9708700  0.925707  \n",
       "2020-03-26  8259900  0.950528  \n",
       "2020-03-27  6441400  0.931557  \n",
       "2020-03-30  5621700  0.954959  \n",
       "2020-03-31  4519900  0.939169  \n",
       "\n",
       "[314 rows x 7 columns]"
      ]
     },
     "execution_count": 108,
     "metadata": {},
     "output_type": "execute_result"
    }
   ],
   "source": [
    "for securities in (Amazon,Ford,Citi,McDonalds):\n",
    "    securities['Return' ]=securities['Close' ] /securities.iloc[0 ][ 'Close' ]\n",
    "securities"
   ]
  },
  {
   "cell_type": "markdown",
   "metadata": {},
   "source": [
    "### • Calculating the returns for the portfolio using closing price"
   ]
  },
  {
   "cell_type": "code",
   "execution_count": 109,
   "metadata": {},
   "outputs": [
    {
     "data": {
      "text/html": [
       "<div>\n",
       "<style scoped>\n",
       "    .dataframe tbody tr th:only-of-type {\n",
       "        vertical-align: middle;\n",
       "    }\n",
       "\n",
       "    .dataframe tbody tr th {\n",
       "        vertical-align: top;\n",
       "    }\n",
       "\n",
       "    .dataframe thead th {\n",
       "        text-align: right;\n",
       "    }\n",
       "</style>\n",
       "<table border=\"1\" class=\"dataframe\">\n",
       "  <thead>\n",
       "    <tr style=\"text-align: right;\">\n",
       "      <th></th>\n",
       "      <th>Open</th>\n",
       "      <th>High</th>\n",
       "      <th>Low</th>\n",
       "      <th>Close</th>\n",
       "      <th>Adj Close</th>\n",
       "      <th>Volume</th>\n",
       "      <th>Return</th>\n",
       "      <th>Allocation</th>\n",
       "    </tr>\n",
       "    <tr>\n",
       "      <th>Date</th>\n",
       "      <th></th>\n",
       "      <th></th>\n",
       "      <th></th>\n",
       "      <th></th>\n",
       "      <th></th>\n",
       "      <th></th>\n",
       "      <th></th>\n",
       "      <th></th>\n",
       "    </tr>\n",
       "  </thead>\n",
       "  <tbody>\n",
       "    <tr>\n",
       "      <th>2019-01-02</th>\n",
       "      <td>175.410004</td>\n",
       "      <td>176.300003</td>\n",
       "      <td>174.169998</td>\n",
       "      <td>176.059998</td>\n",
       "      <td>156.829605</td>\n",
       "      <td>2571500</td>\n",
       "      <td>1.000000</td>\n",
       "      <td>0.200000</td>\n",
       "    </tr>\n",
       "    <tr>\n",
       "      <th>2019-01-03</th>\n",
       "      <td>175.449997</td>\n",
       "      <td>176.449997</td>\n",
       "      <td>174.410004</td>\n",
       "      <td>174.899994</td>\n",
       "      <td>155.796310</td>\n",
       "      <td>3728200</td>\n",
       "      <td>0.993411</td>\n",
       "      <td>0.198682</td>\n",
       "    </tr>\n",
       "    <tr>\n",
       "      <th>2019-01-04</th>\n",
       "      <td>176.029999</td>\n",
       "      <td>179.199997</td>\n",
       "      <td>175.690002</td>\n",
       "      <td>178.279999</td>\n",
       "      <td>158.807159</td>\n",
       "      <td>3194300</td>\n",
       "      <td>1.012609</td>\n",
       "      <td>0.202522</td>\n",
       "    </tr>\n",
       "    <tr>\n",
       "      <th>2019-01-07</th>\n",
       "      <td>178.139999</td>\n",
       "      <td>181.880005</td>\n",
       "      <td>178.139999</td>\n",
       "      <td>180.220001</td>\n",
       "      <td>160.535248</td>\n",
       "      <td>3283000</td>\n",
       "      <td>1.023628</td>\n",
       "      <td>0.204726</td>\n",
       "    </tr>\n",
       "    <tr>\n",
       "      <th>2019-01-08</th>\n",
       "      <td>181.960007</td>\n",
       "      <td>182.289993</td>\n",
       "      <td>179.910004</td>\n",
       "      <td>180.600006</td>\n",
       "      <td>160.873734</td>\n",
       "      <td>2941400</td>\n",
       "      <td>1.025787</td>\n",
       "      <td>0.205157</td>\n",
       "    </tr>\n",
       "    <tr>\n",
       "      <th>...</th>\n",
       "      <td>...</td>\n",
       "      <td>...</td>\n",
       "      <td>...</td>\n",
       "      <td>...</td>\n",
       "      <td>...</td>\n",
       "      <td>...</td>\n",
       "      <td>...</td>\n",
       "      <td>...</td>\n",
       "    </tr>\n",
       "    <tr>\n",
       "      <th>2020-03-25</th>\n",
       "      <td>165.000000</td>\n",
       "      <td>171.360001</td>\n",
       "      <td>159.220001</td>\n",
       "      <td>162.979996</td>\n",
       "      <td>149.612488</td>\n",
       "      <td>9708700</td>\n",
       "      <td>0.925707</td>\n",
       "      <td>0.185141</td>\n",
       "    </tr>\n",
       "    <tr>\n",
       "      <th>2020-03-26</th>\n",
       "      <td>163.990005</td>\n",
       "      <td>170.929993</td>\n",
       "      <td>161.000000</td>\n",
       "      <td>167.350006</td>\n",
       "      <td>153.624054</td>\n",
       "      <td>8259900</td>\n",
       "      <td>0.950528</td>\n",
       "      <td>0.190106</td>\n",
       "    </tr>\n",
       "    <tr>\n",
       "      <th>2020-03-27</th>\n",
       "      <td>162.779999</td>\n",
       "      <td>169.740005</td>\n",
       "      <td>159.220001</td>\n",
       "      <td>164.009995</td>\n",
       "      <td>150.557983</td>\n",
       "      <td>6441400</td>\n",
       "      <td>0.931557</td>\n",
       "      <td>0.186311</td>\n",
       "    </tr>\n",
       "    <tr>\n",
       "      <th>2020-03-30</th>\n",
       "      <td>164.919998</td>\n",
       "      <td>170.309998</td>\n",
       "      <td>163.570007</td>\n",
       "      <td>168.130005</td>\n",
       "      <td>154.340088</td>\n",
       "      <td>5621700</td>\n",
       "      <td>0.954959</td>\n",
       "      <td>0.190992</td>\n",
       "    </tr>\n",
       "    <tr>\n",
       "      <th>2020-03-31</th>\n",
       "      <td>166.839996</td>\n",
       "      <td>169.509995</td>\n",
       "      <td>165.000000</td>\n",
       "      <td>165.350006</td>\n",
       "      <td>151.788101</td>\n",
       "      <td>4519900</td>\n",
       "      <td>0.939169</td>\n",
       "      <td>0.187834</td>\n",
       "    </tr>\n",
       "  </tbody>\n",
       "</table>\n",
       "<p>314 rows × 8 columns</p>\n",
       "</div>"
      ],
      "text/plain": [
       "                  Open        High         Low       Close   Adj Close  \\\n",
       "Date                                                                     \n",
       "2019-01-02  175.410004  176.300003  174.169998  176.059998  156.829605   \n",
       "2019-01-03  175.449997  176.449997  174.410004  174.899994  155.796310   \n",
       "2019-01-04  176.029999  179.199997  175.690002  178.279999  158.807159   \n",
       "2019-01-07  178.139999  181.880005  178.139999  180.220001  160.535248   \n",
       "2019-01-08  181.960007  182.289993  179.910004  180.600006  160.873734   \n",
       "...                ...         ...         ...         ...         ...   \n",
       "2020-03-25  165.000000  171.360001  159.220001  162.979996  149.612488   \n",
       "2020-03-26  163.990005  170.929993  161.000000  167.350006  153.624054   \n",
       "2020-03-27  162.779999  169.740005  159.220001  164.009995  150.557983   \n",
       "2020-03-30  164.919998  170.309998  163.570007  168.130005  154.340088   \n",
       "2020-03-31  166.839996  169.509995  165.000000  165.350006  151.788101   \n",
       "\n",
       "             Volume    Return  Allocation  \n",
       "Date                                       \n",
       "2019-01-02  2571500  1.000000    0.200000  \n",
       "2019-01-03  3728200  0.993411    0.198682  \n",
       "2019-01-04  3194300  1.012609    0.202522  \n",
       "2019-01-07  3283000  1.023628    0.204726  \n",
       "2019-01-08  2941400  1.025787    0.205157  \n",
       "...             ...       ...         ...  \n",
       "2020-03-25  9708700  0.925707    0.185141  \n",
       "2020-03-26  8259900  0.950528    0.190106  \n",
       "2020-03-27  6441400  0.931557    0.186311  \n",
       "2020-03-30  5621700  0.954959    0.190992  \n",
       "2020-03-31  4519900  0.939169    0.187834  \n",
       "\n",
       "[314 rows x 8 columns]"
      ]
     },
     "execution_count": 109,
     "metadata": {},
     "output_type": "execute_result"
    }
   ],
   "source": [
    "for securities , allocation in zip((Amazon,Ford,Citi,McDonalds),[.3,.2,.3,.2]):\n",
    "    securities['Allocation']=securities['Return']*allocation\n",
    "securities"
   ]
  },
  {
   "cell_type": "markdown",
   "metadata": {},
   "source": [
    "For the first time the function zip() is used in the present book. The reason for this is that it allows an iteration between the variables. In this case the allocation and the return.\n",
    "\n",
    "### • Establishing the investment based on the investment of USD 300,000"
   ]
  },
  {
   "cell_type": "code",
   "execution_count": 110,
   "metadata": {},
   "outputs": [
    {
     "data": {
      "text/html": [
       "<div>\n",
       "<style scoped>\n",
       "    .dataframe tbody tr th:only-of-type {\n",
       "        vertical-align: middle;\n",
       "    }\n",
       "\n",
       "    .dataframe tbody tr th {\n",
       "        vertical-align: top;\n",
       "    }\n",
       "\n",
       "    .dataframe thead th {\n",
       "        text-align: right;\n",
       "    }\n",
       "</style>\n",
       "<table border=\"1\" class=\"dataframe\">\n",
       "  <thead>\n",
       "    <tr style=\"text-align: right;\">\n",
       "      <th></th>\n",
       "      <th>Open</th>\n",
       "      <th>High</th>\n",
       "      <th>Low</th>\n",
       "      <th>Close</th>\n",
       "      <th>Adj Close</th>\n",
       "      <th>Volume</th>\n",
       "      <th>Return</th>\n",
       "      <th>Allocation</th>\n",
       "      <th>Investment</th>\n",
       "    </tr>\n",
       "    <tr>\n",
       "      <th>Date</th>\n",
       "      <th></th>\n",
       "      <th></th>\n",
       "      <th></th>\n",
       "      <th></th>\n",
       "      <th></th>\n",
       "      <th></th>\n",
       "      <th></th>\n",
       "      <th></th>\n",
       "      <th></th>\n",
       "    </tr>\n",
       "  </thead>\n",
       "  <tbody>\n",
       "    <tr>\n",
       "      <th>2020-03-25</th>\n",
       "      <td>165.000000</td>\n",
       "      <td>171.360001</td>\n",
       "      <td>159.220001</td>\n",
       "      <td>162.979996</td>\n",
       "      <td>149.612488</td>\n",
       "      <td>9708700</td>\n",
       "      <td>0.925707</td>\n",
       "      <td>0.185141</td>\n",
       "      <td>55542.428032</td>\n",
       "    </tr>\n",
       "    <tr>\n",
       "      <th>2020-03-26</th>\n",
       "      <td>163.990005</td>\n",
       "      <td>170.929993</td>\n",
       "      <td>161.000000</td>\n",
       "      <td>167.350006</td>\n",
       "      <td>153.624054</td>\n",
       "      <td>8259900</td>\n",
       "      <td>0.950528</td>\n",
       "      <td>0.190106</td>\n",
       "      <td>57031.696612</td>\n",
       "    </tr>\n",
       "    <tr>\n",
       "      <th>2020-03-27</th>\n",
       "      <td>162.779999</td>\n",
       "      <td>169.740005</td>\n",
       "      <td>159.220001</td>\n",
       "      <td>164.009995</td>\n",
       "      <td>150.557983</td>\n",
       "      <td>6441400</td>\n",
       "      <td>0.931557</td>\n",
       "      <td>0.186311</td>\n",
       "      <td>55893.444319</td>\n",
       "    </tr>\n",
       "    <tr>\n",
       "      <th>2020-03-30</th>\n",
       "      <td>164.919998</td>\n",
       "      <td>170.309998</td>\n",
       "      <td>163.570007</td>\n",
       "      <td>168.130005</td>\n",
       "      <td>154.340088</td>\n",
       "      <td>5621700</td>\n",
       "      <td>0.954959</td>\n",
       "      <td>0.190992</td>\n",
       "      <td>57297.514670</td>\n",
       "    </tr>\n",
       "    <tr>\n",
       "      <th>2020-03-31</th>\n",
       "      <td>166.839996</td>\n",
       "      <td>169.509995</td>\n",
       "      <td>165.000000</td>\n",
       "      <td>165.350006</td>\n",
       "      <td>151.788101</td>\n",
       "      <td>4519900</td>\n",
       "      <td>0.939169</td>\n",
       "      <td>0.187834</td>\n",
       "      <td>56350.110779</td>\n",
       "    </tr>\n",
       "  </tbody>\n",
       "</table>\n",
       "</div>"
      ],
      "text/plain": [
       "                  Open        High         Low       Close   Adj Close  \\\n",
       "Date                                                                     \n",
       "2020-03-25  165.000000  171.360001  159.220001  162.979996  149.612488   \n",
       "2020-03-26  163.990005  170.929993  161.000000  167.350006  153.624054   \n",
       "2020-03-27  162.779999  169.740005  159.220001  164.009995  150.557983   \n",
       "2020-03-30  164.919998  170.309998  163.570007  168.130005  154.340088   \n",
       "2020-03-31  166.839996  169.509995  165.000000  165.350006  151.788101   \n",
       "\n",
       "             Volume    Return  Allocation    Investment  \n",
       "Date                                                     \n",
       "2020-03-25  9708700  0.925707    0.185141  55542.428032  \n",
       "2020-03-26  8259900  0.950528    0.190106  57031.696612  \n",
       "2020-03-27  6441400  0.931557    0.186311  55893.444319  \n",
       "2020-03-30  5621700  0.954959    0.190992  57297.514670  \n",
       "2020-03-31  4519900  0.939169    0.187834  56350.110779  "
      ]
     },
     "execution_count": 110,
     "metadata": {},
     "output_type": "execute_result"
    }
   ],
   "source": [
    "for securities in (Amazon,Ford,Citi,McDonalds):\n",
    "    securities['Investment']=securities['Allocation']* 300000\n",
    "securities.tail()"
   ]
  },
  {
   "cell_type": "markdown",
   "metadata": {},
   "source": [
    "### • Investment per security chosen"
   ]
  },
  {
   "cell_type": "code",
   "execution_count": 111,
   "metadata": {},
   "outputs": [
    {
     "data": {
      "text/html": [
       "<div>\n",
       "<style scoped>\n",
       "    .dataframe tbody tr th:only-of-type {\n",
       "        vertical-align: middle;\n",
       "    }\n",
       "\n",
       "    .dataframe tbody tr th {\n",
       "        vertical-align: top;\n",
       "    }\n",
       "\n",
       "    .dataframe thead th {\n",
       "        text-align: right;\n",
       "    }\n",
       "</style>\n",
       "<table border=\"1\" class=\"dataframe\">\n",
       "  <thead>\n",
       "    <tr style=\"text-align: right;\">\n",
       "      <th></th>\n",
       "      <th>Amazon Investment</th>\n",
       "      <th>Ford Investment</th>\n",
       "      <th>Citi Investment</th>\n",
       "      <th>McDonalds Investment</th>\n",
       "    </tr>\n",
       "    <tr>\n",
       "      <th>Date</th>\n",
       "      <th></th>\n",
       "      <th></th>\n",
       "      <th></th>\n",
       "      <th></th>\n",
       "    </tr>\n",
       "  </thead>\n",
       "  <tbody>\n",
       "    <tr>\n",
       "      <th>2019-01-02</th>\n",
       "      <td>90000.000000</td>\n",
       "      <td>60000.000000</td>\n",
       "      <td>90000.000000</td>\n",
       "      <td>60000.000000</td>\n",
       "    </tr>\n",
       "    <tr>\n",
       "      <th>2019-01-03</th>\n",
       "      <td>87728.265199</td>\n",
       "      <td>59088.608475</td>\n",
       "      <td>88369.143125</td>\n",
       "      <td>59604.678969</td>\n",
       "    </tr>\n",
       "    <tr>\n",
       "      <th>2019-01-04</th>\n",
       "      <td>92120.292952</td>\n",
       "      <td>61367.087287</td>\n",
       "      <td>92690.084238</td>\n",
       "      <td>60756.560690</td>\n",
       "    </tr>\n",
       "    <tr>\n",
       "      <th>2019-01-07</th>\n",
       "      <td>95284.939528</td>\n",
       "      <td>62962.024267</td>\n",
       "      <td>93497.107586</td>\n",
       "      <td>61417.699780</td>\n",
       "    </tr>\n",
       "    <tr>\n",
       "      <th>2019-01-08</th>\n",
       "      <td>96867.847241</td>\n",
       "      <td>63569.618617</td>\n",
       "      <td>93244.909984</td>\n",
       "      <td>61547.202752</td>\n",
       "    </tr>\n",
       "  </tbody>\n",
       "</table>\n",
       "</div>"
      ],
      "text/plain": [
       "            Amazon Investment  Ford Investment  Citi Investment  \\\n",
       "Date                                                              \n",
       "2019-01-02       90000.000000     60000.000000     90000.000000   \n",
       "2019-01-03       87728.265199     59088.608475     88369.143125   \n",
       "2019-01-04       92120.292952     61367.087287     92690.084238   \n",
       "2019-01-07       95284.939528     62962.024267     93497.107586   \n",
       "2019-01-08       96867.847241     63569.618617     93244.909984   \n",
       "\n",
       "            McDonalds Investment  \n",
       "Date                              \n",
       "2019-01-02          60000.000000  \n",
       "2019-01-03          59604.678969  \n",
       "2019-01-04          60756.560690  \n",
       "2019-01-07          61417.699780  \n",
       "2019-01-08          61547.202752  "
      ]
     },
     "execution_count": 111,
     "metadata": {},
     "output_type": "execute_result"
    }
   ],
   "source": [
    "all_investments=[Amazon['Investment'],Ford['Investment'],Citi['Investment'],McDonalds['Investment']]\n",
    "value_of_portfolio=pd.concat(all_investments,axis=1)\n",
    "value_of_portfolio.columns=['Amazon Investment','Ford Investment','Citi Investment','McDonalds Investment']\n",
    "value_of_portfolio.head()"
   ]
  },
  {
   "cell_type": "markdown",
   "metadata": {},
   "source": [
    "### • Analyzing the positions"
   ]
  },
  {
   "cell_type": "code",
   "execution_count": 112,
   "metadata": {},
   "outputs": [
    {
     "data": {
      "text/html": [
       "<div>\n",
       "<style scoped>\n",
       "    .dataframe tbody tr th:only-of-type {\n",
       "        vertical-align: middle;\n",
       "    }\n",
       "\n",
       "    .dataframe tbody tr th {\n",
       "        vertical-align: top;\n",
       "    }\n",
       "\n",
       "    .dataframe thead th {\n",
       "        text-align: right;\n",
       "    }\n",
       "</style>\n",
       "<table border=\"1\" class=\"dataframe\">\n",
       "  <thead>\n",
       "    <tr style=\"text-align: right;\">\n",
       "      <th></th>\n",
       "      <th>Amazon Investment</th>\n",
       "      <th>Ford Investment</th>\n",
       "      <th>Citi Investment</th>\n",
       "      <th>McDonalds Investment</th>\n",
       "      <th>Total Investment</th>\n",
       "    </tr>\n",
       "    <tr>\n",
       "      <th>Date</th>\n",
       "      <th></th>\n",
       "      <th></th>\n",
       "      <th></th>\n",
       "      <th></th>\n",
       "      <th></th>\n",
       "    </tr>\n",
       "  </thead>\n",
       "  <tbody>\n",
       "    <tr>\n",
       "      <th>2020-03-25</th>\n",
       "      <td>110273.729875</td>\n",
       "      <td>40936.707353</td>\n",
       "      <td>70379.229233</td>\n",
       "      <td>55542.428032</td>\n",
       "      <td>277132.094492</td>\n",
       "    </tr>\n",
       "    <tr>\n",
       "      <th>2020-03-26</th>\n",
       "      <td>114346.483270</td>\n",
       "      <td>39873.417240</td>\n",
       "      <td>77373.437991</td>\n",
       "      <td>57031.696612</td>\n",
       "      <td>288625.035113</td>\n",
       "    </tr>\n",
       "    <tr>\n",
       "      <th>2020-03-27</th>\n",
       "      <td>111107.574601</td>\n",
       "      <td>39417.721478</td>\n",
       "      <td>73640.949397</td>\n",
       "      <td>55893.444319</td>\n",
       "      <td>280059.689795</td>\n",
       "    </tr>\n",
       "    <tr>\n",
       "      <th>2020-03-30</th>\n",
       "      <td>114841.183197</td>\n",
       "      <td>38202.532778</td>\n",
       "      <td>74111.717827</td>\n",
       "      <td>57297.514670</td>\n",
       "      <td>284452.948472</td>\n",
       "    </tr>\n",
       "    <tr>\n",
       "      <th>2020-03-31</th>\n",
       "      <td>114009.087284</td>\n",
       "      <td>36683.543282</td>\n",
       "      <td>70816.364474</td>\n",
       "      <td>56350.110779</td>\n",
       "      <td>277859.105819</td>\n",
       "    </tr>\n",
       "  </tbody>\n",
       "</table>\n",
       "</div>"
      ],
      "text/plain": [
       "            Amazon Investment  Ford Investment  Citi Investment  \\\n",
       "Date                                                              \n",
       "2020-03-25      110273.729875     40936.707353     70379.229233   \n",
       "2020-03-26      114346.483270     39873.417240     77373.437991   \n",
       "2020-03-27      111107.574601     39417.721478     73640.949397   \n",
       "2020-03-30      114841.183197     38202.532778     74111.717827   \n",
       "2020-03-31      114009.087284     36683.543282     70816.364474   \n",
       "\n",
       "            McDonalds Investment  Total Investment  \n",
       "Date                                                \n",
       "2020-03-25          55542.428032     277132.094492  \n",
       "2020-03-26          57031.696612     288625.035113  \n",
       "2020-03-27          55893.444319     280059.689795  \n",
       "2020-03-30          57297.514670     284452.948472  \n",
       "2020-03-31          56350.110779     277859.105819  "
      ]
     },
     "execution_count": 112,
     "metadata": {},
     "output_type": "execute_result"
    }
   ],
   "source": [
    "value_of_portfolio['Total Investment']=value_of_portfolio.sum(axis=1)\n",
    "value_of_portfolio.tail()"
   ]
  },
  {
   "cell_type": "markdown",
   "metadata": {},
   "source": [
    "### • Plotting the value of the portfolio"
   ]
  },
  {
   "cell_type": "code",
   "execution_count": 113,
   "metadata": {},
   "outputs": [
    {
     "data": {
      "image/png": "[encoded data removed]",
      "text/plain": [
       "<Figure size 1000x800 with 1 Axes>"
      ]
     },
     "metadata": {},
     "output_type": "display_data"
    }
   ],
   "source": [
    "value_of_portfolio['Total Investment' ].plot(figsize=(10,8 ))\n",
    "_=plt.xlabel('Investment Performance' )\n",
    "_=plt.ylabel('Date' )\n",
    "_=plt.title('Portfolio investment' )\n",
    "plt.legend();"
   ]
  },
  {
   "cell_type": "markdown",
   "metadata": {},
   "source": [
    "As it can observed in Fig. 23 in Chapter 6, the portfolio began with the investment of USD 300,000 and reached its highest value at USD369,373 and its lowest value at USD247,946.82. To calculate this values, it can be done with the min() and max() values (Fig. 5)."
   ]
  },
  {
   "cell_type": "code",
   "execution_count": 114,
   "metadata": {},
   "outputs": [
    {
     "name": "stdout",
     "output_type": "stream",
     "text": [
      "396373.78229428676\n",
      "247946.83931260288\n"
     ]
    }
   ],
   "source": [
    "print(value_of_portfolio['Total Investment'].max())\n",
    "\n",
    "print(value_of_portfolio['Total Investment'].min())\n"
   ]
  },
  {
   "cell_type": "markdown",
   "metadata": {},
   "source": [
    "### • Plotting the behavior of each security"
   ]
  },
  {
   "cell_type": "code",
   "execution_count": 115,
   "metadata": {},
   "outputs": [
    {
     "data": {
      "image/png": "[encoded data removed]",
      "text/plain": [
       "<Figure size 1000x800 with 1 Axes>"
      ]
     },
     "metadata": {},
     "output_type": "display_data"
    }
   ],
   "source": [
    "value_of_portfolio.drop('Total Investment' ,axis=1).plot(figsize=(10,8 ));"
   ]
  },
  {
   "cell_type": "markdown",
   "metadata": {},
   "source": [
    "In Fig. 24 in Chapter 6, it can be observed that the only security that is gaining is Amazon, McDonald’s, Citi and Ford have had a fall losing value in the portfolio (Fig. 6)\n",
    "\n",
    "### • Calculating the Daily Returns\n"
   ]
  },
  {
   "cell_type": "code",
   "execution_count": 116,
   "metadata": {},
   "outputs": [
    {
     "data": {
      "text/html": [
       "<div>\n",
       "<style scoped>\n",
       "    .dataframe tbody tr th:only-of-type {\n",
       "        vertical-align: middle;\n",
       "    }\n",
       "\n",
       "    .dataframe tbody tr th {\n",
       "        vertical-align: top;\n",
       "    }\n",
       "\n",
       "    .dataframe thead th {\n",
       "        text-align: right;\n",
       "    }\n",
       "</style>\n",
       "<table border=\"1\" class=\"dataframe\">\n",
       "  <thead>\n",
       "    <tr style=\"text-align: right;\">\n",
       "      <th></th>\n",
       "      <th>Amazon Investment</th>\n",
       "      <th>Ford Investment</th>\n",
       "      <th>Citi Investment</th>\n",
       "      <th>McDonalds Investment</th>\n",
       "      <th>Total Investment</th>\n",
       "      <th>Daily Returns</th>\n",
       "    </tr>\n",
       "    <tr>\n",
       "      <th>Date</th>\n",
       "      <th></th>\n",
       "      <th></th>\n",
       "      <th></th>\n",
       "      <th></th>\n",
       "      <th></th>\n",
       "      <th></th>\n",
       "    </tr>\n",
       "  </thead>\n",
       "  <tbody>\n",
       "    <tr>\n",
       "      <th>2019-01-02</th>\n",
       "      <td>90000.000000</td>\n",
       "      <td>60000.000000</td>\n",
       "      <td>90000.000000</td>\n",
       "      <td>60000.000000</td>\n",
       "      <td>300000.000000</td>\n",
       "      <td>NaN</td>\n",
       "    </tr>\n",
       "    <tr>\n",
       "      <th>2019-01-03</th>\n",
       "      <td>87728.265199</td>\n",
       "      <td>59088.608475</td>\n",
       "      <td>88369.143125</td>\n",
       "      <td>59604.678969</td>\n",
       "      <td>294790.695768</td>\n",
       "      <td>-0.017364</td>\n",
       "    </tr>\n",
       "    <tr>\n",
       "      <th>2019-01-04</th>\n",
       "      <td>92120.292952</td>\n",
       "      <td>61367.087287</td>\n",
       "      <td>92690.084238</td>\n",
       "      <td>60756.560690</td>\n",
       "      <td>306934.025168</td>\n",
       "      <td>0.041193</td>\n",
       "    </tr>\n",
       "    <tr>\n",
       "      <th>2019-01-07</th>\n",
       "      <td>95284.939528</td>\n",
       "      <td>62962.024267</td>\n",
       "      <td>93497.107586</td>\n",
       "      <td>61417.699780</td>\n",
       "      <td>313161.771160</td>\n",
       "      <td>0.020290</td>\n",
       "    </tr>\n",
       "    <tr>\n",
       "      <th>2019-01-08</th>\n",
       "      <td>96867.847241</td>\n",
       "      <td>63569.618617</td>\n",
       "      <td>93244.909984</td>\n",
       "      <td>61547.202752</td>\n",
       "      <td>315229.578593</td>\n",
       "      <td>0.006603</td>\n",
       "    </tr>\n",
       "    <tr>\n",
       "      <th>...</th>\n",
       "      <td>...</td>\n",
       "      <td>...</td>\n",
       "      <td>...</td>\n",
       "      <td>...</td>\n",
       "      <td>...</td>\n",
       "      <td>...</td>\n",
       "    </tr>\n",
       "    <tr>\n",
       "      <th>2020-03-25</th>\n",
       "      <td>110273.729875</td>\n",
       "      <td>40936.707353</td>\n",
       "      <td>70379.229233</td>\n",
       "      <td>55542.428032</td>\n",
       "      <td>277132.094492</td>\n",
       "      <td>0.009241</td>\n",
       "    </tr>\n",
       "    <tr>\n",
       "      <th>2020-03-26</th>\n",
       "      <td>114346.483270</td>\n",
       "      <td>39873.417240</td>\n",
       "      <td>77373.437991</td>\n",
       "      <td>57031.696612</td>\n",
       "      <td>288625.035113</td>\n",
       "      <td>0.041471</td>\n",
       "    </tr>\n",
       "    <tr>\n",
       "      <th>2020-03-27</th>\n",
       "      <td>111107.574601</td>\n",
       "      <td>39417.721478</td>\n",
       "      <td>73640.949397</td>\n",
       "      <td>55893.444319</td>\n",
       "      <td>280059.689795</td>\n",
       "      <td>-0.029676</td>\n",
       "    </tr>\n",
       "    <tr>\n",
       "      <th>2020-03-30</th>\n",
       "      <td>114841.183197</td>\n",
       "      <td>38202.532778</td>\n",
       "      <td>74111.717827</td>\n",
       "      <td>57297.514670</td>\n",
       "      <td>284452.948472</td>\n",
       "      <td>0.015687</td>\n",
       "    </tr>\n",
       "    <tr>\n",
       "      <th>2020-03-31</th>\n",
       "      <td>114009.087284</td>\n",
       "      <td>36683.543282</td>\n",
       "      <td>70816.364474</td>\n",
       "      <td>56350.110779</td>\n",
       "      <td>277859.105819</td>\n",
       "      <td>-0.023181</td>\n",
       "    </tr>\n",
       "  </tbody>\n",
       "</table>\n",
       "<p>314 rows × 6 columns</p>\n",
       "</div>"
      ],
      "text/plain": [
       "            Amazon Investment  Ford Investment  Citi Investment  \\\n",
       "Date                                                              \n",
       "2019-01-02       90000.000000     60000.000000     90000.000000   \n",
       "2019-01-03       87728.265199     59088.608475     88369.143125   \n",
       "2019-01-04       92120.292952     61367.087287     92690.084238   \n",
       "2019-01-07       95284.939528     62962.024267     93497.107586   \n",
       "2019-01-08       96867.847241     63569.618617     93244.909984   \n",
       "...                       ...              ...              ...   \n",
       "2020-03-25      110273.729875     40936.707353     70379.229233   \n",
       "2020-03-26      114346.483270     39873.417240     77373.437991   \n",
       "2020-03-27      111107.574601     39417.721478     73640.949397   \n",
       "2020-03-30      114841.183197     38202.532778     74111.717827   \n",
       "2020-03-31      114009.087284     36683.543282     70816.364474   \n",
       "\n",
       "            McDonalds Investment  Total Investment  Daily Returns  \n",
       "Date                                                               \n",
       "2019-01-02          60000.000000     300000.000000            NaN  \n",
       "2019-01-03          59604.678969     294790.695768      -0.017364  \n",
       "2019-01-04          60756.560690     306934.025168       0.041193  \n",
       "2019-01-07          61417.699780     313161.771160       0.020290  \n",
       "2019-01-08          61547.202752     315229.578593       0.006603  \n",
       "...                          ...               ...            ...  \n",
       "2020-03-25          55542.428032     277132.094492       0.009241  \n",
       "2020-03-26          57031.696612     288625.035113       0.041471  \n",
       "2020-03-27          55893.444319     280059.689795      -0.029676  \n",
       "2020-03-30          57297.514670     284452.948472       0.015687  \n",
       "2020-03-31          56350.110779     277859.105819      -0.023181  \n",
       "\n",
       "[314 rows x 6 columns]"
      ]
     },
     "execution_count": 116,
     "metadata": {},
     "output_type": "execute_result"
    }
   ],
   "source": [
    "value_of_portfolio['Daily Returns' ] = value_of_portfolio['Total Investment' ].pct_change(1)\n",
    "value_of_portfolio"
   ]
  },
  {
   "cell_type": "markdown",
   "metadata": {},
   "source": [
    "### • Calculating the mean of the Daily Returns"
   ]
  },
  {
   "cell_type": "code",
   "execution_count": 117,
   "metadata": {},
   "outputs": [
    {
     "data": {
      "text/plain": [
       "-6.083625549172171e-05"
      ]
     },
     "execution_count": 117,
     "metadata": {},
     "output_type": "execute_result"
    }
   ],
   "source": [
    "value_of_portfolio['Daily Returns' ].mean()"
   ]
  },
  {
   "cell_type": "markdown",
   "metadata": {},
   "source": [
    "### • Calculating the standard deviation of the Daily Returns"
   ]
  },
  {
   "cell_type": "code",
   "execution_count": 118,
   "metadata": {},
   "outputs": [
    {
     "data": {
      "text/plain": [
       "0.019076539122799406"
      ]
     },
     "execution_count": 118,
     "metadata": {},
     "output_type": "execute_result"
    }
   ],
   "source": [
    "value_of_portfolio['Daily Returns' ].std()"
   ]
  },
  {
   "cell_type": "markdown",
   "metadata": {},
   "source": [
    "### • Calculating the cumulative returns of the portfolio"
   ]
  },
  {
   "cell_type": "code",
   "execution_count": 119,
   "metadata": {},
   "outputs": [
    {
     "name": "stderr",
     "output_type": "stream",
     "text": [
      "C:\\Users\\fvill\\AppData\\Local\\Temp\\ipykernel_18132\\761605794.py:1: FutureWarning: Series.__getitem__ treating keys as positions is deprecated. In a future version, integer keys will always be treated as labels (consistent with DataFrame behavior). To access a value by position, use `ser.iloc[pos]`\n",
      "  cumulative_return=100 * (value_of_portfolio['Total Investment' ][-1]/value_of_portfolio['Total Investment' ][0]-1)\n"
     ]
    },
    {
     "data": {
      "text/plain": [
       "-7.380298060225188"
      ]
     },
     "execution_count": 119,
     "metadata": {},
     "output_type": "execute_result"
    }
   ],
   "source": [
    "cumulative_return=100 * (value_of_portfolio['Total Investment' ][-1]/value_of_portfolio['Total Investment' ][0]-1)\n",
    "cumulative_return"
   ]
  },
  {
   "cell_type": "markdown",
   "metadata": {},
   "source": [
    "The loss of the portfolio is of negative 12%. This can be analyzed based on the cumulative returns since the beginning of the portfolio.\n",
    "\n",
    "### • Value of the portfolio to date"
   ]
  },
  {
   "cell_type": "code",
   "execution_count": 120,
   "metadata": {},
   "outputs": [
    {
     "name": "stderr",
     "output_type": "stream",
     "text": [
      "C:\\Users\\fvill\\AppData\\Local\\Temp\\ipykernel_18132\\2787497824.py:1: FutureWarning: Series.__getitem__ treating keys as positions is deprecated. In a future version, integer keys will always be treated as labels (consistent with DataFrame behavior). To access a value by position, use `ser.iloc[pos]`\n",
      "  value_of_portfolio['Total Investment' ][-1]\n"
     ]
    },
    {
     "data": {
      "text/plain": [
       "277859.10581932444"
      ]
     },
     "execution_count": 120,
     "metadata": {},
     "output_type": "execute_result"
    }
   ],
   "source": [
    "value_of_portfolio['Total Investment' ][-1]\n"
   ]
  },
  {
   "cell_type": "markdown",
   "metadata": {},
   "source": [
    "The portfolio of USD 300,000 has fallen to USD 263,619.78 which is equivalent to a 12.12% fall based on the Covid-19 crisis."
   ]
  }
 ],
 "metadata": {
  "kernelspec": {
   "display_name": "Python 3",
   "language": "python",
   "name": "python3"
  },
  "language_info": {
   "codemirror_mode": {
    "name": "ipython",
    "version": 3
   },
   "file_extension": ".py",
   "mimetype": "text/x-python",
   "name": "python",
   "nbconvert_exporter": "python",
   "pygments_lexer": "ipython3",
   "version": "3.12.1"
  }
 },
 "nbformat": 4,
 "nbformat_minor": 2
}
