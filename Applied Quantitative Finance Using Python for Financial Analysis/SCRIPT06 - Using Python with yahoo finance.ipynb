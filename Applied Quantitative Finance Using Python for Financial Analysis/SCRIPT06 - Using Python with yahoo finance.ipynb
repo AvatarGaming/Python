{
 "cells": [
  {
   "cell_type": "markdown",
   "metadata": {},
   "source": [
    "## usIng Python WIth yahoo fInance aPI\n",
    "\n",
    "The first step for working with Yahoo API is to establish which libraries are going to be used. As it was mentioned earlier, NumPy, Pandas and Matplotlib will be using for accessing the data. The following is the command on Jupyter Notebooks:"
   ]
  },
  {
   "cell_type": "code",
   "execution_count": 54,
   "metadata": {},
   "outputs": [],
   "source": [
    "import numpy as np\n",
    "import pandas as pd\n",
    "import matplotlib.pyplot as plt\n",
    "%matplotlib inline\n"
   ]
  },
  {
   "cell_type": "markdown",
   "metadata": {},
   "source": [
    "The ***%matplotlib inline*** command is important because it creates a better graph when elaborating a Jupyter Notebook and also the quality is better. It helps the plots to work correctly and it is mentioned as necessary for the use of Matplotlib."
   ]
  },
  {
   "cell_type": "markdown",
   "metadata": {},
   "source": [
    "The second step is to import a module called datetime and another module called pandas_datareader. The datetime module is useful for manipulating dates. This is important given that the information regarding Yahoo API must be determined on a given date. Also, it is useful when comparing datasets between different stock quotes.\n",
    "\n",
    "The pandas_datareader allow us to access data from the web. In this case the pandas_datareader will allow the usage of the API and of the information.\n",
    "\n",
    "The script in Jupyter Notebooks is as follows:\n",
    "\n"
   ]
  },
  {
   "cell_type": "code",
   "execution_count": 55,
   "metadata": {},
   "outputs": [],
   "source": [
    "import pandas_datareader as pdr\n",
    "import datetime\n",
    "import pandas_datareader.data as web\n",
    "import yfinance as yf\n",
    "\n"
   ]
  },
  {
   "cell_type": "markdown",
   "metadata": {},
   "source": [
    "Once the Jupyter Notebook is set, the Yahoo API can be accessed. The most important aspect is to set a start date and an end date for the values.\n",
    "It is also important to add the stock quote that will be consulted, mainly its ticker. A stock ticker symbol is a one to four letter code representing the name of the company. For this example, the company Tesla will be used for analysis. The ticker for Tesla is TSLA. The information is going to be accessed from January 1, 2015 to January 1, 2019. The code is as follows:"
   ]
  },
  {
   "cell_type": "code",
   "execution_count": 56,
   "metadata": {},
   "outputs": [
    {
     "name": "stdout",
     "output_type": "stream",
     "text": [
      "[*********************100%%**********************]  1 of 1 completed\n",
      "                 Open       High        Low      Close  Adj Close     Volume\n",
      "Date                                                                        \n",
      "2018-12-24  20.900000  20.966667  19.680000  19.692667  19.692667   83398500\n",
      "2018-12-26  20.000000  21.798000  19.606001  21.739332  21.739332  122446500\n",
      "2018-12-27  21.322666  21.478001  20.100000  21.075333  21.075333  128626500\n",
      "2018-12-28  21.540001  22.416000  21.227333  22.257999  22.257999  149085000\n",
      "2018-12-31  22.519333  22.614000  21.684000  22.186666  22.186666   94534500\n",
      "                 Open       High        Low      Close  Adj Close    Volume\n",
      "Date                                                                       \n",
      "2015-01-02  14.858000  14.883333  14.217333  14.620667  14.620667  71466000\n",
      "2015-01-05  14.303333  14.433333  13.810667  14.006000  14.006000  80527500\n",
      "2015-01-06  14.004000  14.280000  13.614000  14.085333  14.085333  93928500\n",
      "2015-01-07  14.223333  14.318667  13.985333  14.063333  14.063333  44526000\n",
      "2015-01-08  14.187333  14.253333  14.000667  14.041333  14.041333  51637500\n"
     ]
    }
   ],
   "source": [
    "start = datetime.datetime(2015,1,1)\n",
    "end = datetime.datetime(2019,1,1)\n",
    "\n",
    "\n",
    "tesla_data = yf.download('TSLA', start, end)\n",
    "\n",
    "print(tesla_data.tail())\n",
    "\n",
    "print(tesla_data.head())\n"
   ]
  },
  {
   "cell_type": "markdown",
   "metadata": {},
   "source": [
    "In the example above two variables were created to define the information that is going to be accessed. The start date is set to January 1,2015 and the end date is set to January 1, 2019. Both variables are then used in the main variable where the Yahoo API is going to be accessed.\n",
    "\n",
    "The variable Tesla will use the combination of the module web with DataReader to access the information from the stock company TSLA from the API Yahoo in the dates from January 1, 2015 to January 1,2019.\n",
    "\n",
    "Now the information is in the current Jupyter Notebook. It is important to recall that every time that we shut down the Jupyter Notebook the data must be uploaded again using the same procedure or by running the whole script. To visualize the information the following command can be executed:\n",
    "\n",
    "Tesla.tail( ) or Tesla.head( )\n",
    "\n",
    "The.tail command will show the last five dates of the data. \n",
    "\n",
    "The.head command will show the first five dates in the beginning of the dates that were established. \n",
    "\n",
    "From the Yahoo API the Opening price, the Highest Price of the day the Lowest Price of the day the Adjusted Close and the Volume are displayed."
   ]
  }
 ],
 "metadata": {
  "kernelspec": {
   "display_name": "Python 3",
   "language": "python",
   "name": "python3"
  },
  "language_info": {
   "codemirror_mode": {
    "name": "ipython",
    "version": 3
   },
   "file_extension": ".py",
   "mimetype": "text/x-python",
   "name": "python",
   "nbconvert_exporter": "python",
   "pygments_lexer": "ipython3",
   "version": "3.12.1"
  }
 },
 "nbformat": 4,
 "nbformat_minor": 2
}
