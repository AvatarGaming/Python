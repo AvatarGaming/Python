{
 "cells": [
  {
   "cell_type": "markdown",
   "metadata": {},
   "source": [
    "## Using f.fn( ) for retreiving information\n",
    "\n",
    "One of the most important libraries for retrieving information that we will be using in the present book is f.ff( ). Certain processes throughout the book are simplified by the use of this package, the most important difficulty is interpreting the results. Therefore, this book will center on developing a traditional approach and then applying certain packages for the retrieval of information.\n",
    "\n",
    "The first step is to install f.fn( ) in the computer."
   ]
  },
  {
   "cell_type": "code",
   "execution_count": 14,
   "metadata": {},
   "outputs": [
    {
     "name": "stdout",
     "output_type": "stream",
     "text": [
      "Requirement already satisfied: ffn in c:\\users\\fvill\\appdata\\local\\programs\\python\\python312\\lib\\site-packages (1.0.1)\n",
      "Requirement already satisfied: decorator>=5.0.7 in c:\\users\\fvill\\appdata\\roaming\\python\\python312\\site-packages (from ffn) (5.1.1)\n",
      "Requirement already satisfied: matplotlib>=1 in c:\\users\\fvill\\appdata\\local\\programs\\python\\python312\\lib\\site-packages (from ffn) (3.8.2)\n",
      "Requirement already satisfied: numpy>=1.5 in c:\\users\\fvill\\appdata\\local\\programs\\python\\python312\\lib\\site-packages (from ffn) (1.26.2)\n",
      "Requirement already satisfied: pandas>=0.19 in c:\\users\\fvill\\appdata\\local\\programs\\python\\python312\\lib\\site-packages (from ffn) (2.1.4)\n",
      "Requirement already satisfied: pandas-datareader>=0.2 in c:\\users\\fvill\\appdata\\local\\programs\\python\\python312\\lib\\site-packages (from ffn) (0.10.0)\n",
      "Requirement already satisfied: scikit-learn>=0.15 in c:\\users\\fvill\\appdata\\local\\programs\\python\\python312\\lib\\site-packages (from ffn) (1.3.2)\n",
      "Requirement already satisfied: scipy>=0.15 in c:\\users\\fvill\\appdata\\local\\programs\\python\\python312\\lib\\site-packages (from ffn) (1.11.4)\n",
      "Requirement already satisfied: tabulate>=0.7.5 in c:\\users\\fvill\\appdata\\local\\programs\\python\\python312\\lib\\site-packages (from ffn) (0.9.0)\n",
      "Requirement already satisfied: yfinance>=0.2 in c:\\users\\fvill\\appdata\\local\\programs\\python\\python312\\lib\\site-packages (from ffn) (0.2.33)\n",
      "Requirement already satisfied: contourpy>=1.0.1 in c:\\users\\fvill\\appdata\\local\\programs\\python\\python312\\lib\\site-packages (from matplotlib>=1->ffn) (1.2.0)\n",
      "Requirement already satisfied: cycler>=0.10 in c:\\users\\fvill\\appdata\\local\\programs\\python\\python312\\lib\\site-packages (from matplotlib>=1->ffn) (0.12.1)\n",
      "Requirement already satisfied: fonttools>=4.22.0 in c:\\users\\fvill\\appdata\\local\\programs\\python\\python312\\lib\\site-packages (from matplotlib>=1->ffn) (4.47.0)\n",
      "Requirement already satisfied: kiwisolver>=1.3.1 in c:\\users\\fvill\\appdata\\local\\programs\\python\\python312\\lib\\site-packages (from matplotlib>=1->ffn) (1.4.5)\n",
      "Requirement already satisfied: packaging>=20.0 in c:\\users\\fvill\\appdata\\roaming\\python\\python312\\site-packages (from matplotlib>=1->ffn) (23.2)\n",
      "Requirement already satisfied: pillow>=8 in c:\\users\\fvill\\appdata\\local\\programs\\python\\python312\\lib\\site-packages (from matplotlib>=1->ffn) (10.1.0)\n",
      "Requirement already satisfied: pyparsing>=2.3.1 in c:\\users\\fvill\\appdata\\local\\programs\\python\\python312\\lib\\site-packages (from matplotlib>=1->ffn) (3.1.1)\n",
      "Requirement already satisfied: python-dateutil>=2.7 in c:\\users\\fvill\\appdata\\roaming\\python\\python312\\site-packages (from matplotlib>=1->ffn) (2.8.2)\n",
      "Requirement already satisfied: pytz>=2020.1 in c:\\users\\fvill\\appdata\\local\\programs\\python\\python312\\lib\\site-packages (from pandas>=0.19->ffn) (2023.3.post1)\n",
      "Requirement already satisfied: tzdata>=2022.1 in c:\\users\\fvill\\appdata\\local\\programs\\python\\python312\\lib\\site-packages (from pandas>=0.19->ffn) (2023.3)\n",
      "Requirement already satisfied: lxml in c:\\users\\fvill\\appdata\\local\\programs\\python\\python312\\lib\\site-packages (from pandas-datareader>=0.2->ffn) (4.9.4)\n",
      "Requirement already satisfied: requests>=2.19.0 in c:\\users\\fvill\\appdata\\local\\programs\\python\\python312\\lib\\site-packages (from pandas-datareader>=0.2->ffn) (2.31.0)\n",
      "Requirement already satisfied: joblib>=1.1.1 in c:\\users\\fvill\\appdata\\local\\programs\\python\\python312\\lib\\site-packages (from scikit-learn>=0.15->ffn) (1.3.2)\n",
      "Requirement already satisfied: threadpoolctl>=2.0.0 in c:\\users\\fvill\\appdata\\local\\programs\\python\\python312\\lib\\site-packages (from scikit-learn>=0.15->ffn) (3.2.0)\n",
      "Requirement already satisfied: multitasking>=0.0.7 in c:\\users\\fvill\\appdata\\local\\programs\\python\\python312\\lib\\site-packages (from yfinance>=0.2->ffn) (0.0.11)\n",
      "Requirement already satisfied: appdirs>=1.4.4 in c:\\users\\fvill\\appdata\\local\\programs\\python\\python312\\lib\\site-packages (from yfinance>=0.2->ffn) (1.4.4)\n",
      "Requirement already satisfied: frozendict>=2.3.4 in c:\\users\\fvill\\appdata\\local\\programs\\python\\python312\\lib\\site-packages (from yfinance>=0.2->ffn) (2.3.10)\n",
      "Requirement already satisfied: peewee>=3.16.2 in c:\\users\\fvill\\appdata\\local\\programs\\python\\python312\\lib\\site-packages (from yfinance>=0.2->ffn) (3.17.0)\n",
      "Requirement already satisfied: beautifulsoup4>=4.11.1 in c:\\users\\fvill\\appdata\\local\\programs\\python\\python312\\lib\\site-packages (from yfinance>=0.2->ffn) (4.12.2)\n",
      "Requirement already satisfied: html5lib>=1.1 in c:\\users\\fvill\\appdata\\local\\programs\\python\\python312\\lib\\site-packages (from yfinance>=0.2->ffn) (1.1)\n",
      "Requirement already satisfied: soupsieve>1.2 in c:\\users\\fvill\\appdata\\local\\programs\\python\\python312\\lib\\site-packages (from beautifulsoup4>=4.11.1->yfinance>=0.2->ffn) (2.5)\n",
      "Requirement already satisfied: six>=1.9 in c:\\users\\fvill\\appdata\\roaming\\python\\python312\\site-packages (from html5lib>=1.1->yfinance>=0.2->ffn) (1.16.0)\n",
      "Requirement already satisfied: webencodings in c:\\users\\fvill\\appdata\\local\\programs\\python\\python312\\lib\\site-packages (from html5lib>=1.1->yfinance>=0.2->ffn) (0.5.1)\n",
      "Requirement already satisfied: charset-normalizer<4,>=2 in c:\\users\\fvill\\appdata\\local\\programs\\python\\python312\\lib\\site-packages (from requests>=2.19.0->pandas-datareader>=0.2->ffn) (3.3.2)\n",
      "Requirement already satisfied: idna<4,>=2.5 in c:\\users\\fvill\\appdata\\local\\programs\\python\\python312\\lib\\site-packages (from requests>=2.19.0->pandas-datareader>=0.2->ffn) (3.6)\n",
      "Requirement already satisfied: urllib3<3,>=1.21.1 in c:\\users\\fvill\\appdata\\local\\programs\\python\\python312\\lib\\site-packages (from requests>=2.19.0->pandas-datareader>=0.2->ffn) (2.1.0)\n",
      "Requirement already satisfied: certifi>=2017.4.17 in c:\\users\\fvill\\appdata\\local\\programs\\python\\python312\\lib\\site-packages (from requests>=2.19.0->pandas-datareader>=0.2->ffn) (2023.11.17)\n",
      "Note: you may need to restart the kernel to use updated packages.\n"
     ]
    }
   ],
   "source": [
    "pip install ffn"
   ]
  },
  {
   "cell_type": "markdown",
   "metadata": {},
   "source": [
    "After the installation it is important to import certain packages that f.fn ( ) uses. The recommended packages are as follows:"
   ]
  },
  {
   "cell_type": "code",
   "execution_count": 15,
   "metadata": {},
   "outputs": [],
   "source": [
    "import ffn\n",
    "import datetime\n",
    "import pandas_datareader as pdr\n",
    "import matplotlib.pyplot as plt\n",
    "%matplotlib inline\n"
   ]
  },
  {
   "cell_type": "markdown",
   "metadata": {},
   "source": [
    "Now that it has been installed, the process for retrieving information for Yahoo Finance is as follows:"
   ]
  },
  {
   "cell_type": "code",
   "execution_count": 16,
   "metadata": {},
   "outputs": [
    {
     "data": {
      "text/html": [
       "<div>\n",
       "<style scoped>\n",
       "    .dataframe tbody tr th:only-of-type {\n",
       "        vertical-align: middle;\n",
       "    }\n",
       "\n",
       "    .dataframe tbody tr th {\n",
       "        vertical-align: top;\n",
       "    }\n",
       "\n",
       "    .dataframe thead th {\n",
       "        text-align: right;\n",
       "    }\n",
       "</style>\n",
       "<table border=\"1\" class=\"dataframe\">\n",
       "  <thead>\n",
       "    <tr style=\"text-align: right;\">\n",
       "      <th></th>\n",
       "      <th>aapl</th>\n",
       "      <th>spy</th>\n",
       "      <th>amzn</th>\n",
       "    </tr>\n",
       "    <tr>\n",
       "      <th>Date</th>\n",
       "      <th></th>\n",
       "      <th></th>\n",
       "      <th></th>\n",
       "    </tr>\n",
       "  </thead>\n",
       "  <tbody>\n",
       "    <tr>\n",
       "      <th>2020-12-24</th>\n",
       "      <td>129.679718</td>\n",
       "      <td>352.968048</td>\n",
       "      <td>158.634506</td>\n",
       "    </tr>\n",
       "    <tr>\n",
       "      <th>2020-12-28</th>\n",
       "      <td>134.317841</td>\n",
       "      <td>356.000275</td>\n",
       "      <td>164.197998</td>\n",
       "    </tr>\n",
       "    <tr>\n",
       "      <th>2020-12-29</th>\n",
       "      <td>132.529373</td>\n",
       "      <td>355.321136</td>\n",
       "      <td>166.100006</td>\n",
       "    </tr>\n",
       "    <tr>\n",
       "      <th>2020-12-30</th>\n",
       "      <td>131.399368</td>\n",
       "      <td>355.828125</td>\n",
       "      <td>164.292496</td>\n",
       "    </tr>\n",
       "    <tr>\n",
       "      <th>2020-12-31</th>\n",
       "      <td>130.387238</td>\n",
       "      <td>357.636017</td>\n",
       "      <td>162.846497</td>\n",
       "    </tr>\n",
       "  </tbody>\n",
       "</table>\n",
       "</div>"
      ],
      "text/plain": [
       "                  aapl         spy        amzn\n",
       "Date                                          \n",
       "2020-12-24  129.679718  352.968048  158.634506\n",
       "2020-12-28  134.317841  356.000275  164.197998\n",
       "2020-12-29  132.529373  355.321136  166.100006\n",
       "2020-12-30  131.399368  355.828125  164.292496\n",
       "2020-12-31  130.387238  357.636017  162.846497"
      ]
     },
     "execution_count": 16,
     "metadata": {},
     "output_type": "execute_result"
    }
   ],
   "source": [
    "stocks = ffn.get('aapl, spy, amzn', start='2019-1-1', end = '2021-1-1')\n",
    "stocks.tail()"
   ]
  },
  {
   "cell_type": "markdown",
   "metadata": {},
   "source": [
    "An important aspect is that f.fn( ) uses adjusted close as a default. If the interest is to access different prices the process is as follow:"
   ]
  },
  {
   "cell_type": "code",
   "execution_count": 17,
   "metadata": {},
   "outputs": [
    {
     "name": "stdout",
     "output_type": "stream",
     "text": [
      "[*********************100%%**********************]  1 of 1 completed\n",
      "[*********************100%%**********************]  1 of 1 completed\n",
      "[*********************100%%**********************]  1 of 1 completed\n"
     ]
    },
    {
     "data": {
      "text/html": [
       "<div>\n",
       "<style scoped>\n",
       "    .dataframe tbody tr th:only-of-type {\n",
       "        vertical-align: middle;\n",
       "    }\n",
       "\n",
       "    .dataframe tbody tr th {\n",
       "        vertical-align: top;\n",
       "    }\n",
       "\n",
       "    .dataframe thead th {\n",
       "        text-align: right;\n",
       "    }\n",
       "</style>\n",
       "<table border=\"1\" class=\"dataframe\">\n",
       "  <thead>\n",
       "    <tr style=\"text-align: right;\">\n",
       "      <th></th>\n",
       "      <th>aaplclose</th>\n",
       "      <th>spyclose</th>\n",
       "      <th>amznclose</th>\n",
       "    </tr>\n",
       "    <tr>\n",
       "      <th>Date</th>\n",
       "      <th></th>\n",
       "      <th></th>\n",
       "      <th></th>\n",
       "    </tr>\n",
       "  </thead>\n",
       "  <tbody>\n",
       "    <tr>\n",
       "      <th>2020-12-24</th>\n",
       "      <td>131.970001</td>\n",
       "      <td>369.000000</td>\n",
       "      <td>158.634506</td>\n",
       "    </tr>\n",
       "    <tr>\n",
       "      <th>2020-12-28</th>\n",
       "      <td>136.690002</td>\n",
       "      <td>372.170013</td>\n",
       "      <td>164.197998</td>\n",
       "    </tr>\n",
       "    <tr>\n",
       "      <th>2020-12-29</th>\n",
       "      <td>134.869995</td>\n",
       "      <td>371.459991</td>\n",
       "      <td>166.100006</td>\n",
       "    </tr>\n",
       "    <tr>\n",
       "      <th>2020-12-30</th>\n",
       "      <td>133.720001</td>\n",
       "      <td>371.989990</td>\n",
       "      <td>164.292496</td>\n",
       "    </tr>\n",
       "    <tr>\n",
       "      <th>2020-12-31</th>\n",
       "      <td>132.690002</td>\n",
       "      <td>373.880005</td>\n",
       "      <td>162.846497</td>\n",
       "    </tr>\n",
       "  </tbody>\n",
       "</table>\n",
       "</div>"
      ],
      "text/plain": [
       "             aaplclose    spyclose   amznclose\n",
       "Date                                          \n",
       "2020-12-24  131.970001  369.000000  158.634506\n",
       "2020-12-28  136.690002  372.170013  164.197998\n",
       "2020-12-29  134.869995  371.459991  166.100006\n",
       "2020-12-30  133.720001  371.989990  164.292496\n",
       "2020-12-31  132.690002  373.880005  162.846497"
      ]
     },
     "execution_count": 17,
     "metadata": {},
     "output_type": "execute_result"
    }
   ],
   "source": [
    "stocks = ffn.get('aapl:Close, spy:Close, amzn:Close', start='2019-1-1', end = '2021-1-1')\n",
    "stocks.tail()"
   ]
  }
 ],
 "metadata": {
  "kernelspec": {
   "display_name": "Python 3",
   "language": "python",
   "name": "python3"
  },
  "language_info": {
   "codemirror_mode": {
    "name": "ipython",
    "version": 3
   },
   "file_extension": ".py",
   "mimetype": "text/x-python",
   "name": "python",
   "nbconvert_exporter": "python",
   "pygments_lexer": "ipython3",
   "version": "3.12.1"
  }
 },
 "nbformat": 4,
 "nbformat_minor": 2
}
