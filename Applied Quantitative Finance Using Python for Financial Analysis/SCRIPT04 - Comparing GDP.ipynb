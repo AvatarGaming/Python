{
 "cells": [
  {
   "cell_type": "markdown",
   "metadata": {},
   "source": [
    "## Comparing GDP\n",
    "\n",
    "When analyzing growth, it is important to compare how the growth of the country that is being analyzed compares to the other countries. In this process, a graph will be developed to understand how the different countries behaved.\n",
    "\n",
    "Installing packages:\n"
   ]
  },
  {
   "cell_type": "code",
   "execution_count": 39,
   "metadata": {},
   "outputs": [],
   "source": [
    "from fredapi import Fred\n",
    "fred = Fred (api_key='e6169f67af6efc86eb6c2289bff3111c')\n",
    "import pandas_datareader as pdr\n",
    "import pandas as pd\n",
    "import datetime\n",
    "import matplotlib.pyplot as plt"
   ]
  },
  {
   "cell_type": "markdown",
   "metadata": {},
   "source": [
    "Setting a date and retrieving information based on the FRED code:\n"
   ]
  },
  {
   "cell_type": "code",
   "execution_count": 40,
   "metadata": {},
   "outputs": [
    {
     "name": "stdout",
     "output_type": "stream",
     "text": [
      "            BRAGDPNQDSMEI  CHNGDPNQDSMEI  USAGDPNQDSMEI\n",
      "DATE                                                   \n",
      "2019-10-01   1.892367e+12   2.767980e+13   5.475598e+12\n",
      "2020-01-01   1.910112e+12   2.052448e+13   5.426628e+12\n",
      "2020-04-01   1.756867e+12   2.483477e+13   4.978286e+12\n",
      "2020-07-01   1.913635e+12   2.643557e+13   5.411910e+12\n",
      "2020-10-01   2.028983e+12   2.956188e+13   5.506126e+12\n"
     ]
    }
   ],
   "source": [
    "\n",
    "# Define the start and end dates\n",
    "start = datetime.datetime(2015, 1, 1)\n",
    "end = datetime.datetime(2020, 12, 31)\n",
    "\n",
    "gdp_comparison = pdr.DataReader(['BRAGDPNQDSMEI', 'CHNGDPNQDSMEI', 'USAGDPNQDSMEI'],'fred',start,end)\n",
    "print(gdp_comparison.tail())"
   ]
  },
  {
   "cell_type": "markdown",
   "metadata": {},
   "source": [
    "Modifying the names on the country list:"
   ]
  },
  {
   "cell_type": "code",
   "execution_count": 41,
   "metadata": {},
   "outputs": [
    {
     "data": {
      "text/html": [
       "<div>\n",
       "<style scoped>\n",
       "    .dataframe tbody tr th:only-of-type {\n",
       "        vertical-align: middle;\n",
       "    }\n",
       "\n",
       "    .dataframe tbody tr th {\n",
       "        vertical-align: top;\n",
       "    }\n",
       "\n",
       "    .dataframe thead th {\n",
       "        text-align: right;\n",
       "    }\n",
       "</style>\n",
       "<table border=\"1\" class=\"dataframe\">\n",
       "  <thead>\n",
       "    <tr style=\"text-align: right;\">\n",
       "      <th></th>\n",
       "      <th>Brazil</th>\n",
       "      <th>China</th>\n",
       "      <th>USA</th>\n",
       "    </tr>\n",
       "    <tr>\n",
       "      <th>DATE</th>\n",
       "      <th></th>\n",
       "      <th></th>\n",
       "      <th></th>\n",
       "    </tr>\n",
       "  </thead>\n",
       "  <tbody>\n",
       "    <tr>\n",
       "      <th>2015-01-01</th>\n",
       "      <td>1.490938e+12</td>\n",
       "      <td>1.511379e+13</td>\n",
       "      <td>4.515882e+12</td>\n",
       "    </tr>\n",
       "    <tr>\n",
       "      <th>2015-04-01</th>\n",
       "      <td>1.485246e+12</td>\n",
       "      <td>1.685497e+13</td>\n",
       "      <td>4.569946e+12</td>\n",
       "    </tr>\n",
       "    <tr>\n",
       "      <th>2015-07-01</th>\n",
       "      <td>1.502677e+12</td>\n",
       "      <td>1.765977e+13</td>\n",
       "      <td>4.600406e+12</td>\n",
       "    </tr>\n",
       "    <tr>\n",
       "      <th>2015-10-01</th>\n",
       "      <td>1.516926e+12</td>\n",
       "      <td>1.925729e+13</td>\n",
       "      <td>4.608784e+12</td>\n",
       "    </tr>\n",
       "    <tr>\n",
       "      <th>2016-01-01</th>\n",
       "      <td>1.534488e+12</td>\n",
       "      <td>1.624100e+13</td>\n",
       "      <td>4.631483e+12</td>\n",
       "    </tr>\n",
       "  </tbody>\n",
       "</table>\n",
       "</div>"
      ],
      "text/plain": [
       "                  Brazil         China           USA\n",
       "DATE                                                \n",
       "2015-01-01  1.490938e+12  1.511379e+13  4.515882e+12\n",
       "2015-04-01  1.485246e+12  1.685497e+13  4.569946e+12\n",
       "2015-07-01  1.502677e+12  1.765977e+13  4.600406e+12\n",
       "2015-10-01  1.516926e+12  1.925729e+13  4.608784e+12\n",
       "2016-01-01  1.534488e+12  1.624100e+13  4.631483e+12"
      ]
     },
     "execution_count": 41,
     "metadata": {},
     "output_type": "execute_result"
    }
   ],
   "source": [
    "gdp_comparison = gdp_comparison.rename(columns={'BRAGDPNQDSMEI':'Brazil', 'CHNGDPNQDSMEI':'China', 'USAGDPNQDSMEI':'USA'})\n",
    "gdp_comparison.head()"
   ]
  },
  {
   "cell_type": "markdown",
   "metadata": {},
   "source": [
    "Changing the data to percentage change:\n"
   ]
  },
  {
   "cell_type": "code",
   "execution_count": 42,
   "metadata": {},
   "outputs": [
    {
     "name": "stdout",
     "output_type": "stream",
     "text": [
      "              Brazil      China       USA\n",
      "DATE                                     \n",
      "2015-01-01       NaN        NaN       NaN\n",
      "2015-04-01 -0.381765  11.520472  1.197191\n",
      "2015-07-01  1.173662   4.774853  0.666540\n",
      "2015-10-01  0.948240   9.046097  0.182109\n",
      "2016-01-01  1.157684 -15.663107  0.492516\n"
     ]
    }
   ],
   "source": [
    "gdp_change=gdp_comparison.pct_change()*100\n",
    "print(gdp_change.head())"
   ]
  },
  {
   "cell_type": "markdown",
   "metadata": {},
   "source": [
    "Dropping NA for creating a chart:\n"
   ]
  },
  {
   "cell_type": "code",
   "execution_count": 43,
   "metadata": {},
   "outputs": [
    {
     "name": "stdout",
     "output_type": "stream",
     "text": [
      "              Brazil      China       USA\n",
      "DATE                                     \n",
      "2015-04-01 -0.381765  11.520472  1.197191\n",
      "2015-07-01  1.173662   4.774853  0.666540\n",
      "2015-10-01  0.948240   9.046097  0.182109\n",
      "2016-01-01  1.157684 -15.663107  0.492516\n",
      "2016-04-01  1.915231  11.697679  1.002751\n"
     ]
    }
   ],
   "source": [
    "gdp_change = gdp_change.dropna()\n",
    "print(gdp_change.head())"
   ]
  },
  {
   "cell_type": "markdown",
   "metadata": {},
   "source": [
    "As seen before, this is a DataFrame in which the columns can be edited, the numbers can be dropped and the information changed. This is important when applying certain loops as well as when developing a portfolio, which will be seen in future chapters."
   ]
  }
 ],
 "metadata": {
  "kernelspec": {
   "display_name": "Python 3",
   "language": "python",
   "name": "python3"
  },
  "language_info": {
   "codemirror_mode": {
    "name": "ipython",
    "version": 3
   },
   "file_extension": ".py",
   "mimetype": "text/x-python",
   "name": "python",
   "nbconvert_exporter": "python",
   "pygments_lexer": "ipython3",
   "version": "3.12.1"
  }
 },
 "nbformat": 4,
 "nbformat_minor": 2
}
