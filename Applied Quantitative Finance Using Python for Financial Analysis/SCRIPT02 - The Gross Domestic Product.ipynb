{
 "cells": [
  {
   "cell_type": "markdown",
   "metadata": {},
   "source": [
    "## The Gross Domestic Product\n",
    "\n",
    "When analyzing economic cycles, one of the most important variables is the Gross Domestic Product better known as GDP. The Gross Domestic Product can be measured through different approaches but the most useful is the expenditure approach. The expenditure approach is based on the following formula:\n",
    "\n",
    "GDP = C + I + G + (X − M)\n",
    "\n",
    "C = consumption\n",
    "\n",
    "I = investment\n",
    "\n",
    "G = Government expenditure\n",
    "\n",
    "X = Exports\n",
    "\n",
    "M = Imports\n",
    "\n",
    "The approach behind the GDP equation is to understand how the economy is funded and from there understand how it works. The theory is based that the households offer funds to the banks as savings or to the companies as investments. Households also offer labor to the companies in returns of funds, salaries, that can be used for consuming the products created by the companies or they can be invested and/or saved. Also, from the salary, the government charges taxes which are used for public goods and services. Finally, exports and imports are based on the exposure of a country to other economies. In this sense, if a country didn´t share economic activity with other countries there wouldn´t exist exports and imports, just consumption, investment and government expenditure.\n",
    "\n",
    "In order to understand the economic cycle, the GDP will be analyzed.\n",
    "\n",
    "The Real GDP will be used because it is inflation adjusted and the nominal GDP is established on a base price. The code for the Real GDP is\n",
    "***GDPC1***. The data for the GDP is in billions of dollars, seasonally adjusted at an annual rate and with a quarterly frequency."
   ]
  },
  {
   "cell_type": "code",
   "execution_count": 5,
   "metadata": {},
   "outputs": [
    {
     "name": "stdout",
     "output_type": "stream",
     "text": [
      "2019-07-01    20817.581\n",
      "2019-10-01    20951.088\n",
      "2020-01-01    20665.553\n",
      "2020-04-01    19034.830\n",
      "2020-07-01    20511.785\n",
      "dtype: float64\n"
     ]
    }
   ],
   "source": [
    "from fredapi import Fred\n",
    "import datetime\n",
    "\n",
    "start = datetime.datetime(2019,1,1)\n",
    "end = datetime.datetime(2020,9,1)\n",
    "\n",
    "fred = Fred (api_key='e6169f67af6efc86eb6c2289bff3111c')\n",
    "\n",
    "gdp=fred.get_series('GDPC1', start, end)\n",
    "print(gdp.tail())"
   ]
  },
  {
   "cell_type": "markdown",
   "metadata": {},
   "source": [
    "Once the data is retrieved, a change can be made for a more useful analysis. For this change, the pct.change() will be used to analyze the growth of the GDP. Using pct.change() is simple, when the parenthesis is left blank, the program assumes that there is one period, which is the\n",
    "process that will be used."
   ]
  },
  {
   "cell_type": "code",
   "execution_count": 6,
   "metadata": {},
   "outputs": [
    {
     "name": "stdout",
     "output_type": "stream",
     "text": [
      "2019-07-01    1.132176\n",
      "2019-10-01    0.641319\n",
      "2020-01-01   -1.362865\n",
      "2020-04-01   -7.891020\n",
      "2020-07-01    7.759223\n",
      "dtype: float64\n"
     ]
    }
   ],
   "source": [
    "gdp_change = gdp.pct_change()*100\n",
    "print(gdp_change.tail())"
   ]
  },
  {
   "cell_type": "markdown",
   "metadata": {},
   "source": [
    "The change in the GDP is important to understand the business cycle.\n",
    "\n",
    "One of the most usual question considering macroeconomics is if the nominal or real growth should be used when analyzing the GDP.\n",
    "\n",
    "The nominal GDP reflects the growth without the inflation, meaning that it considers the output of production by the country and it analyzes its growth when compared to previous year. Usually, GDP measuring has a base GDP year which establishes the growth for the nominal GDP. The main difference is that when using the real GDP is that it reflects the growth adjusted, leading to the GDP Deflator."
   ]
  }
 ],
 "metadata": {
  "kernelspec": {
   "display_name": "Python 3",
   "language": "python",
   "name": "python3"
  },
  "language_info": {
   "codemirror_mode": {
    "name": "ipython",
    "version": 3
   },
   "file_extension": ".py",
   "mimetype": "text/x-python",
   "name": "python",
   "nbconvert_exporter": "python",
   "pygments_lexer": "ipython3",
   "version": "3.12.1"
  }
 },
 "nbformat": 4,
 "nbformat_minor": 2
}
