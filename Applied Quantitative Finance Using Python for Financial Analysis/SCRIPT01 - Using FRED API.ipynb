{
 "cells": [
  {
   "cell_type": "markdown",
   "metadata": {},
   "source": [
    "## Using FRED® API for Economic Indicators and Data (Example)\n",
    "\n",
    "### Abstract\n",
    "There are different application programming interfaces (API) for accessing data directly from the web and one of the most important for economic and financial analysis is the Federal Reserve of Saint Lois (FRED).\n",
    "\n",
    "## Keywords Data · Inflation · Growth · Deflator\n",
    "\n",
    "For the application to indicators, first, the API (application programming interface) of the Federal Reserve of Saint Lois (FRED) will be used to retrieve information The FRED is an important database for macroeconomic concepts that are necessary for understanding the market.\n",
    "\n",
    "### InstaLLIng the fred® aPI**\n",
    "\n",
    "The FRED® API tool is easy to use and it leads to a faster analysis of the macroeconomic situation.\n",
    "For installing the API, one should visit the webpage https://fred.stlouisfed.org/docs/api/fred/ or google search the term FRED® API to obtain the result. For the use of the FRED API, it is important to ask for a key, the key is useful to the FRED because it gives representation to the person using the API. To obtain the key one should visit the API\n",
    "Keys page at https://research.stlouisfed.org/docs/api/api_key.html.\n",
    "\n",
    "The key can be requested by creating a user and filling out the information. Once the key is received (it is usually a quick process), then it can be used for analyzing the data."
   ]
  },
  {
   "cell_type": "markdown",
   "metadata": {},
   "source": [
    "## usIng the fred® aPI to retrIeve data\n",
    "\n",
    "The first process for using the FRED ® API is to install it in the environment that will be used.\n",
    "For installing the FRED® API the process is as follows:\n",
    "\n",
    "### First Step\n",
    "\n",
    "~~~\n",
    "pip install fredapi\n",
    "~~~\n",
    "\n",
    "The first process is using pip install which allows to retrieve the information of the FRED.\n",
    "\n"
   ]
  },
  {
   "cell_type": "code",
   "execution_count": 18,
   "metadata": {},
   "outputs": [
    {
     "name": "stdout",
     "output_type": "stream",
     "text": [
      "Requirement already satisfied: fredapi in c:\\users\\fvill\\appdata\\local\\programs\\python\\python312\\lib\\site-packages (0.5.1)\n",
      "Requirement already satisfied: pandas in c:\\users\\fvill\\appdata\\local\\programs\\python\\python312\\lib\\site-packages (from fredapi) (2.1.4)\n",
      "Requirement already satisfied: numpy<2,>=1.26.0 in c:\\users\\fvill\\appdata\\local\\programs\\python\\python312\\lib\\site-packages (from pandas->fredapi) (1.26.2)\n",
      "Requirement already satisfied: python-dateutil>=2.8.2 in c:\\users\\fvill\\appdata\\roaming\\python\\python312\\site-packages (from pandas->fredapi) (2.8.2)\n",
      "Requirement already satisfied: pytz>=2020.1 in c:\\users\\fvill\\appdata\\local\\programs\\python\\python312\\lib\\site-packages (from pandas->fredapi) (2023.3.post1)\n",
      "Requirement already satisfied: tzdata>=2022.1 in c:\\users\\fvill\\appdata\\local\\programs\\python\\python312\\lib\\site-packages (from pandas->fredapi) (2023.3)\n",
      "Requirement already satisfied: six>=1.5 in c:\\users\\fvill\\appdata\\roaming\\python\\python312\\site-packages (from python-dateutil>=2.8.2->pandas->fredapi) (1.16.0)\n",
      "Note: you may need to restart the kernel to use updated packages.\n"
     ]
    }
   ],
   "source": [
    "pip install fredapi"
   ]
  },
  {
   "cell_type": "markdown",
   "metadata": {},
   "source": [
    "## Second Step\n",
    "\n",
    "~~~\n",
    "from fredapi import Fred\n",
    "fred = Fred (api_key='e6169f67af6efc86eb6c2289bff3111c')\n",
    "~~~\n",
    "\n",
    "In this step, once the fredapi is installed then the Fred data library can be retrieved. For this it is necessary to have the API_key which will allow the retrieval of the information."
   ]
  },
  {
   "cell_type": "code",
   "execution_count": 19,
   "metadata": {},
   "outputs": [],
   "source": [
    "from fredapi import Fred\n",
    "fred = Fred (api_key='e6169f67af6efc86eb6c2289bff3111c')"
   ]
  },
  {
   "cell_type": "markdown",
   "metadata": {},
   "source": [
    "## Third Step\n",
    "To retrieve information from the FRED one should know how to use the FRED website and how to retrieve the information. For the following exercise will use the information from the FRED website which is as follows: https://research.stlouisfed.org/.\n",
    "\n",
    "The search bar is useful for searching the information which is needed. In this example the term economic growth will be used, once entered the option of search only FRED economic data will be chosen.\n",
    "\n",
    "This filters the result in the data that can be used as an API. \n",
    "\n",
    "The result page based on the search will return different economic indicators which can be filtered based on the concepts such as:\n",
    "\n",
    "– Indexes\n",
    "– Prices\n",
    "– Price Index\n",
    "– Consumer Price Index\n",
    "– Employment\n",
    "\n",
    "The information can also be filtered by geography types, geographies, frequencies, sources, releases and seasonal adjustments. For this example, the refine of the search won´t be used and the first result on the search will be the example.\n",
    "\n",
    "When selected the result Consumer Price Index: Total All Items for the United States the data is illustrated by the FRED in a line graph. Next to the name of the Consumer Price Index: Total All Items for the United States there is a code in parenthesis . This code is useful for retrieving the information.\n",
    "\n",
    "It is important to visit the indicator on the webpage to understand the frequency (in this case it is monthly), the last observation and last update as well as the units.\n",
    "\n",
    "To retrieve the data the process is as follows:\n",
    "\n",
    "~~~\n",
    "consumer_price_index=fred.get_series('CPALTTT01USM657N')\n",
    "~~~\n",
    "\n",
    "The variable consumer_price_index has been created and now can be used for descriptive analysis or to develop an econometric model. The command tail() can be used to analyze the latest information as follows:\n",
    "\n",
    "~~~\n",
    "consumer_price_index.tail()\n",
    "~~~\n"
   ]
  },
  {
   "cell_type": "code",
   "execution_count": 20,
   "metadata": {},
   "outputs": [
    {
     "name": "stdout",
     "output_type": "stream",
     "text": [
      "2023-06-01    0.322891\n",
      "2023-07-01    0.190752\n",
      "2023-08-01    0.436716\n",
      "2023-09-01    0.248513\n",
      "2023-10-01   -0.038338\n",
      "dtype: float64\n"
     ]
    }
   ],
   "source": [
    "consumer_price_index=fred.get_series('CPALTT01USM657N')\n",
    "print(consumer_price_index.tail())"
   ]
  },
  {
   "cell_type": "markdown",
   "metadata": {},
   "source": [
    "The next part of the process is to install datetime. Datetime is useful for setting dates for retrieving specific data.\n",
    "Given that the data can be accessed daily, the process is as follows:\n",
    "\n",
    "~~~\n",
    "start = datetime.datetime(2019,1,1)\n",
    "end = datetime.datetime(2020,9,1)\n",
    "~~~\n",
    "\n",
    "The start is the date from which the data begins, and the end is where the data ends. Setting the date is important because it allows the different analysis concerning the specific time. With these settings the data can be retrieved by utilizing the code CPALTT01USM657N that was used before.\n",
    "\n",
    "~~~\n",
    "consumer_price_index=fred.get_series('CPALTT01USM657N', start, end)\n",
    "print(consumer_price_index.tail())\n",
    "~~~"
   ]
  },
  {
   "cell_type": "code",
   "execution_count": 21,
   "metadata": {},
   "outputs": [
    {
     "name": "stdout",
     "output_type": "stream",
     "text": [
      "2020-05-01    0.001950\n",
      "2020-06-01    0.547205\n",
      "2020-07-01    0.505824\n",
      "2020-08-01    0.315321\n",
      "2020-09-01    0.139275\n",
      "dtype: float64\n"
     ]
    }
   ],
   "source": [
    "import datetime\n",
    "start = datetime.datetime(2019,1,1)\n",
    "end = datetime.datetime(2020,9,1)\n",
    "consumer_price_index=fred.get_series('CPALTT01USM657N', start, end)\n",
    "print(consumer_price_index.tail())"
   ]
  }
 ],
 "metadata": {
  "kernelspec": {
   "display_name": "Python 3",
   "language": "python",
   "name": "python3"
  },
  "language_info": {
   "codemirror_mode": {
    "name": "ipython",
    "version": 3
   },
   "file_extension": ".py",
   "mimetype": "text/x-python",
   "name": "python",
   "nbconvert_exporter": "python",
   "pygments_lexer": "ipython3",
   "version": "3.12.1"
  }
 },
 "nbformat": 4,
 "nbformat_minor": 2
}
