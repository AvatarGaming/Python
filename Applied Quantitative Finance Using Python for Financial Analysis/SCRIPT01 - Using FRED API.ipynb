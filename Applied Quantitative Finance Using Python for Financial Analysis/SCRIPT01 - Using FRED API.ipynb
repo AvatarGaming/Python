{
 "cells": [
  {
   "cell_type": "markdown",
   "metadata": {},
   "source": [
    "# Using FRED® API for Economic Indicators and Data (Example)\n",
    "\n",
    "## Abstract\n",
    "There are different application programming interfaces (API) for accessing data directly from the web and one of the most important for economic and financial analysis is the Federal Reserve of Saint Lois (FRED).\n",
    "\n",
    "## Keywords Data · Inflation · Growth · Deflator\n",
    "\n",
    "For the application to indicators, first, the API (application programming interface) of the Federal Reserve of Saint Lois (FRED) will be used to retrieve information The FRED is an important database for macroeconomic concepts that are necessary for understanding the market.\n",
    "\n",
    "## Installing the fred® API\n",
    "\n",
    "The FRED® API tool is easy to use and it leads to a faster analysis of the macroeconomic situation.\n",
    "For installing the API, one should visit the webpage https://fred.stlouisfed.org/docs/api/fred/ or google search the term FRED® API to obtain the result. For the use of the FRED API, it is important to ask for a key, the key is useful to the FRED because it gives representation to the person using the API. To obtain the key one should visit the API\n",
    "Keys page at https://research.stlouisfed.org/docs/api/api_key.html.\n",
    "\n",
    "The key can be requested by creating a user and filling out the information. Once the key is received (it is usually a quick process), then it can be used for analyzing the data."
   ]
  },
  {
   "cell_type": "markdown",
   "metadata": {},
   "source": [
    "## Using the fred® API to retrieve data\n",
    "\n",
    "The first process for using the FRED ® API is to install it in the environment that will be used.\n",
    "For installing the FRED® API the process is as follows:\n",
    "\n",
    "### First Step\n",
    "\n",
    "~~~\n",
    "pip install fredapi\n",
    "~~~\n",
    "\n",
    "The first process is using pip install which allows to retrieve the information of the FRED.\n",
    "\n"
   ]
  },
  {
   "cell_type": "code",
   "execution_count": 1,
   "metadata": {},
   "outputs": [
    {
     "name": "stdout",
     "output_type": "stream",
     "text": [
      "Requirement already satisfied: fredapi in c:\\users\\fvill\\appdata\\local\\programs\\python\\python312\\lib\\site-packages (0.5.1)\n",
      "Requirement already satisfied: pandas in c:\\users\\fvill\\appdata\\local\\programs\\python\\python312\\lib\\site-packages (from fredapi) (2.1.4)\n",
      "Requirement already satisfied: numpy<2,>=1.26.0 in c:\\users\\fvill\\appdata\\local\\programs\\python\\python312\\lib\\site-packages (from pandas->fredapi) (1.26.3)\n",
      "Requirement already satisfied: python-dateutil>=2.8.2 in c:\\users\\fvill\\appdata\\local\\programs\\python\\python312\\lib\\site-packages (from pandas->fredapi) (2.8.2)\n",
      "Requirement already satisfied: pytz>=2020.1 in c:\\users\\fvill\\appdata\\local\\programs\\python\\python312\\lib\\site-packages (from pandas->fredapi) (2023.3.post1)\n",
      "Requirement already satisfied: tzdata>=2022.1 in c:\\users\\fvill\\appdata\\local\\programs\\python\\python312\\lib\\site-packages (from pandas->fredapi) (2023.4)\n",
      "Requirement already satisfied: six>=1.5 in c:\\users\\fvill\\appdata\\local\\programs\\python\\python312\\lib\\site-packages (from python-dateutil>=2.8.2->pandas->fredapi) (1.16.0)\n",
      "Note: you may need to restart the kernel to use updated packages.\n"
     ]
    }
   ],
   "source": [
    "pip install fredapi"
   ]
  },
  {
   "cell_type": "markdown",
   "metadata": {},
   "source": [
    "### Second Step\n",
    "\n",
    "~~~\n",
    "from fredapi import Fred\n",
    "fred = Fred (api_key='e6169f67af6efc86eb6c2289bff3111c')\n",
    "~~~\n",
    "\n",
    "In this step, once the fredapi is installed then the Fred data library can be retrieved. For this it is necessary to have the API_key which will allow the retrieval of the information."
   ]
  },
  {
   "cell_type": "code",
   "execution_count": 2,
   "metadata": {},
   "outputs": [],
   "source": [
    "from fredapi import Fred\n",
    "fred = Fred (api_key='e6169f67af6efc86eb6c2289bff3111c')"
   ]
  },
  {
   "cell_type": "markdown",
   "metadata": {},
   "source": [
    "### Third Step\n",
    "\n",
    "To retrieve information from the FRED one should know how to use the FRED website and how to retrieve the information. For the following exercise will use the information from the FRED website which is as follows: https://research.stlouisfed.org/.\n",
    "\n",
    "The search bar is useful for searching the information which is needed. In this example the term economic growth will be used, once entered the option of search only FRED economic data will be chosen.\n",
    "\n",
    "This filters the result in the data that can be used as an API. \n",
    "\n",
    "The result page based on the search will return different economic indicators which can be filtered based on the concepts such as:\n",
    "\n",
    "– Indexes\n",
    "– Prices\n",
    "– Price Index\n",
    "– Consumer Price Index\n",
    "– Employment\n",
    "\n",
    "The information can also be filtered by geography types, geographies, frequencies, sources, releases and seasonal adjustments. For this example, the refine of the search won´t be used and the first result on the search will be the example.\n",
    "\n",
    "When selected the result Consumer Price Index: Total All Items for the United States the data is illustrated by the FRED in a line graph. Next to the name of the Consumer Price Index: Total All Items for the United States there is a code in parenthesis . This code is useful for retrieving the information.\n",
    "\n",
    "It is important to visit the indicator on the webpage to understand the frequency (in this case it is monthly), the last observation and last update as well as the units.\n",
    "\n",
    "To retrieve the data the process is as follows:\n",
    "\n",
    "~~~\n",
    "consumer_price_index=fred.get_series('CPALTTT01USM657N')\n",
    "~~~\n",
    "\n",
    "The variable consumer_price_index has been created and now can be used for descriptive analysis or to develop an econometric model. The command tail() can be used to analyze the latest information as follows:\n",
    "\n",
    "~~~\n",
    "consumer_price_index.tail()\n",
    "~~~\n"
   ]
  },
  {
   "cell_type": "code",
   "execution_count": 3,
   "metadata": {},
   "outputs": [
    {
     "name": "stdout",
     "output_type": "stream",
     "text": [
      "2023-06-01    0.322891\n",
      "2023-07-01    0.190752\n",
      "2023-08-01    0.436716\n",
      "2023-09-01    0.248513\n",
      "2023-10-01   -0.038338\n",
      "dtype: float64\n"
     ]
    }
   ],
   "source": [
    "consumer_price_index=fred.get_series('CPALTT01USM657N')\n",
    "print(consumer_price_index.tail())"
   ]
  },
  {
   "cell_type": "markdown",
   "metadata": {},
   "source": [
    "The next part of the process is to install datetime. Datetime is useful for setting dates for retrieving specific data.\n",
    "Given that the data can be accessed daily, the process is as follows:\n",
    "\n",
    "~~~\n",
    "start = datetime.datetime(2019,1,1)\n",
    "end = datetime.datetime(2020,9,1)\n",
    "~~~\n",
    "\n",
    "The start is the date from which the data begins, and the end is where the data ends. Setting the date is important because it allows the different analysis concerning the specific time. With these settings the data can be retrieved by utilizing the code CPALTT01USM657N that was used before.\n",
    "\n",
    "~~~\n",
    "consumer_price_index=fred.get_series('CPALTT01USM657N', start, end)\n",
    "print(consumer_price_index.tail())\n",
    "~~~"
   ]
  },
  {
   "cell_type": "code",
   "execution_count": 4,
   "metadata": {},
   "outputs": [
    {
     "name": "stdout",
     "output_type": "stream",
     "text": [
      "2020-05-01    0.001950\n",
      "2020-06-01    0.547205\n",
      "2020-07-01    0.505824\n",
      "2020-08-01    0.315321\n",
      "2020-09-01    0.139275\n",
      "dtype: float64\n"
     ]
    }
   ],
   "source": [
    "import datetime\n",
    "start = datetime.datetime(2019,1,1)\n",
    "end = datetime.datetime(2020,9,1)\n",
    "consumer_price_index=fred.get_series('CPALTT01USM657N', start, end)\n",
    "print(consumer_price_index.tail())"
   ]
  },
  {
   "cell_type": "markdown",
   "metadata": {},
   "source": [
    "## The Gross Domestic Product\n",
    "\n",
    "When analyzing economic cycles, one of the most important variables is the Gross Domestic Product better known as GDP. The Gross Domestic Product can be measured through different approaches but the most useful is the expenditure approach. The expenditure approach is based on the following formula:\n",
    "\n",
    "GDP = C + I + G + (X − M)\n",
    "\n",
    "C = consumption\n",
    "\n",
    "I = investment\n",
    "\n",
    "G = Government expenditure\n",
    "\n",
    "X = Exports\n",
    "\n",
    "M = Imports\n",
    "\n",
    "The approach behind the GDP equation is to understand how the economy is funded and from there understand how it works. The theory is based that the households offer funds to the banks as savings or to the companies as investments. Households also offer labor to the companies in returns of funds, salaries, that can be used for consuming the products created by the companies or they can be invested and/or saved. Also, from the salary, the government charges taxes which are used for public goods and services. Finally, exports and imports are based on the exposure of a country to other economies. In this sense, if a country didn´t share economic activity with other countries there wouldn´t exist exports and imports, just consumption, investment and government expenditure.\n",
    "\n",
    "In order to understand the economic cycle, the GDP will be analyzed.\n",
    "\n",
    "The Real GDP will be used because it is inflation adjusted and the nominal GDP is established on a base price. The code for the Real GDP is\n",
    "***GDPC1***. The data for the GDP is in billions of dollars, seasonally adjusted at an annual rate and with a quarterly frequency."
   ]
  },
  {
   "cell_type": "code",
   "execution_count": 5,
   "metadata": {},
   "outputs": [
    {
     "name": "stdout",
     "output_type": "stream",
     "text": [
      "2019-07-01    20817.581\n",
      "2019-10-01    20951.088\n",
      "2020-01-01    20665.553\n",
      "2020-04-01    19034.830\n",
      "2020-07-01    20511.785\n",
      "dtype: float64\n"
     ]
    }
   ],
   "source": [
    "from fredapi import Fred\n",
    "import datetime\n",
    "\n",
    "start = datetime.datetime(2019,1,1)\n",
    "end = datetime.datetime(2020,9,1)\n",
    "\n",
    "fred = Fred (api_key='e6169f67af6efc86eb6c2289bff3111c')\n",
    "\n",
    "gdp=fred.get_series('GDPC1', start, end)\n",
    "print(gdp.tail())"
   ]
  },
  {
   "cell_type": "markdown",
   "metadata": {},
   "source": [
    "Once the data is retrieved, a change can be made for a more useful analysis. For this change, the pct.change() will be used to analyze the growth of the GDP. Using pct.change() is simple, when the parenthesis is left blank, the program assumes that there is one period, which is the\n",
    "process that will be used."
   ]
  },
  {
   "cell_type": "code",
   "execution_count": 6,
   "metadata": {},
   "outputs": [
    {
     "name": "stdout",
     "output_type": "stream",
     "text": [
      "2019-07-01    1.132176\n",
      "2019-10-01    0.641319\n",
      "2020-01-01   -1.362865\n",
      "2020-04-01   -7.891020\n",
      "2020-07-01    7.759223\n",
      "dtype: float64\n"
     ]
    }
   ],
   "source": [
    "gdp_change = gdp.pct_change()*100\n",
    "print(gdp_change.tail())"
   ]
  },
  {
   "cell_type": "markdown",
   "metadata": {},
   "source": [
    "The change in the GDP is important to understand the business cycle.\n",
    "\n",
    "One of the most usual question considering macroeconomics is if the nominal or real growth should be used when analyzing the GDP.\n",
    "\n",
    "The nominal GDP reflects the growth without the inflation, meaning that it considers the output of production by the country and it analyzes its growth when compared to previous year. Usually, GDP measuring has a base GDP year which establishes the growth for the nominal GDP. The main difference is that when using the real GDP is that it reflects the growth adjusted, leading to the GDP Deflator."
   ]
  },
  {
   "cell_type": "markdown",
   "metadata": {},
   "source": [
    "## The Gross Domestic Product Price Deflator\n",
    "\n",
    "The GDP deflator, also known as implicit price deflator for GDP measures the percentual difference between the nominal GDP and the real GDP. It is a useful tool for understanding the change in price because it helps the investor understand if the growth has been motivated by production or by prices. The equation is as follows:\n",
    "\n",
    "GDPDeflator = (nominalGDP / realGDP) × 100\n",
    "\n",
    "To calculate the deflator of the GDP the sum function will be used.\n",
    "\n",
    "The sum function sums all the data points in the list. The first step is to establish a base year, in this case the year will be 2017.\n"
   ]
  },
  {
   "cell_type": "code",
   "execution_count": 7,
   "metadata": {},
   "outputs": [
    {
     "name": "stdout",
     "output_type": "stream",
     "text": [
      "2017-01-01    19280.084\n",
      "2017-04-01    19438.643\n",
      "2017-07-01    19692.595\n",
      "2017-10-01    20037.088\n",
      "dtype: float64\n"
     ]
    }
   ],
   "source": [
    "from fredapi import Fred\n",
    "import datetime\n",
    "fred = Fred (api_key='e6169f67af6efc86eb6c2289bff3111c')\n",
    "\n",
    "\n",
    "\n",
    "start = datetime.datetime(2017,1,1)\n",
    "end = datetime.datetime(2017,12,31)\n",
    "\n",
    "nominal_GDP = fred.get_series('GDP', start, end)\n",
    "print(nominal_GDP.tail())\n"
   ]
  },
  {
   "cell_type": "markdown",
   "metadata": {},
   "source": [
    "The comparison will be the year 2019"
   ]
  },
  {
   "cell_type": "code",
   "execution_count": 8,
   "metadata": {},
   "outputs": [
    {
     "name": "stdout",
     "output_type": "stream",
     "text": [
      "2019-01-01    20415.150\n",
      "2019-04-01    20584.528\n",
      "2019-07-01    20817.581\n",
      "2019-10-01    20951.088\n",
      "dtype: float64\n"
     ]
    }
   ],
   "source": [
    "start = datetime.datetime(2019,1,1)\n",
    "end = datetime.datetime(2019,12,31)\n",
    "real_GDP=fred.get_series('GDPC1', start, end)\n",
    "print(real_GDP)"
   ]
  },
  {
   "cell_type": "markdown",
   "metadata": {},
   "source": [
    "Once the real GDP and the nominal GDP had been set into a variable, the following process is to create the sum of the production in the year."
   ]
  },
  {
   "cell_type": "code",
   "execution_count": 9,
   "metadata": {},
   "outputs": [
    {
     "name": "stdout",
     "output_type": "stream",
     "text": [
      "78448\n",
      "82768\n"
     ]
    }
   ],
   "source": [
    "ngdp_sum = nominal_GDP.sum()\n",
    "ngdp_sum = int(ngdp_sum)\n",
    "print(ngdp_sum)\n",
    "rgdp_sum = real_GDP.sum()\n",
    "rgdp_sum=int(rgdp_sum)\n",
    "print(rgdp_sum)"
   ]
  },
  {
   "cell_type": "markdown",
   "metadata": {},
   "source": [
    "Notice that in the process the variables have been converted to integers with the function int. The reason for this is that if the data is divided without converting it into an integer, then the problem is that Python interprets the data as two different series and cannot unite them for a process.\n",
    "\n",
    "With the data converted into integers, then it can be divided."
   ]
  },
  {
   "cell_type": "code",
   "execution_count": 10,
   "metadata": {},
   "outputs": [
    {
     "name": "stdout",
     "output_type": "stream",
     "text": [
      "94.7805915329596\n"
     ]
    },
    {
     "data": {
      "text/plain": [
       "float"
      ]
     },
     "execution_count": 10,
     "metadata": {},
     "output_type": "execute_result"
    }
   ],
   "source": [
    "deflator = (ngdp_sum / rgdp_sum) * 100\n",
    "print(deflator)\n",
    "type(deflator)"
   ]
  },
  {
   "cell_type": "markdown",
   "metadata": {},
   "source": [
    "## Comparing GDP\n",
    "\n",
    "When analyzing growth, it is important to compare how the growth of the country that is being analyzed compares to the other countries. In this process, a graph will be developed to understand how the different countries behaved.\n",
    "\n",
    "Installing packages:\n"
   ]
  },
  {
   "cell_type": "markdown",
   "metadata": {},
   "source": [
    "Setting a date and retrieving information based on the FRED code:\n"
   ]
  },
  {
   "cell_type": "code",
   "execution_count": 11,
   "metadata": {},
   "outputs": [
    {
     "name": "stdout",
     "output_type": "stream",
     "text": [
      "                  Brasil         China  Estados Unidos\n",
      "2019-10-01  1.892367e+12  2.767980e+13    5.475598e+12\n",
      "2020-01-01  1.910112e+12  2.052448e+13    5.426628e+12\n",
      "2020-04-01  1.756867e+12  2.483477e+13    4.978286e+12\n",
      "2020-07-01  1.913635e+12  2.643557e+13    5.411910e+12\n",
      "2020-10-01  2.028983e+12  2.956188e+13    5.506126e+12\n"
     ]
    }
   ],
   "source": [
    "\n",
    "import pandas as pd\n",
    "\n",
    "# Define the start and end dates\n",
    "start = datetime.datetime(2015, 1, 1)\n",
    "end = datetime.datetime(2020, 12, 31)\n",
    "\n",
    "\n",
    "# Descargar los datos de las series de FREDR\n",
    "br_data = fred.get_series(\"BRAGDPNQDSMEI\", start, end)\n",
    "ch_data = fred.get_series(\"CHNGDPNQDSMEI\", start, end)\n",
    "us_data = fred.get_series(\"USAGDPNQDSMEI\", start, end)\n",
    "\n",
    "# Unir los datos en un solo DataFrame\n",
    "gdp_comparison = pd.concat([br_data, ch_data, us_data], axis=1, join=\"inner\")\n",
    "gdp_comparison.columns = [\"Brasil\", \"China\", \"Estados Unidos\"]\n",
    "\n",
    "\n",
    "\n",
    "print(gdp_comparison.tail())"
   ]
  },
  {
   "cell_type": "markdown",
   "metadata": {},
   "source": [
    "Modifying the names on the country list:"
   ]
  },
  {
   "cell_type": "code",
   "execution_count": 12,
   "metadata": {},
   "outputs": [
    {
     "data": {
      "text/html": [
       "<div>\n",
       "<style scoped>\n",
       "    .dataframe tbody tr th:only-of-type {\n",
       "        vertical-align: middle;\n",
       "    }\n",
       "\n",
       "    .dataframe tbody tr th {\n",
       "        vertical-align: top;\n",
       "    }\n",
       "\n",
       "    .dataframe thead th {\n",
       "        text-align: right;\n",
       "    }\n",
       "</style>\n",
       "<table border=\"1\" class=\"dataframe\">\n",
       "  <thead>\n",
       "    <tr style=\"text-align: right;\">\n",
       "      <th></th>\n",
       "      <th>Brasil</th>\n",
       "      <th>China</th>\n",
       "      <th>Estados Unidos</th>\n",
       "    </tr>\n",
       "  </thead>\n",
       "  <tbody>\n",
       "    <tr>\n",
       "      <th>2015-01-01</th>\n",
       "      <td>1.490938e+12</td>\n",
       "      <td>1.511379e+13</td>\n",
       "      <td>4.515882e+12</td>\n",
       "    </tr>\n",
       "    <tr>\n",
       "      <th>2015-04-01</th>\n",
       "      <td>1.485246e+12</td>\n",
       "      <td>1.685497e+13</td>\n",
       "      <td>4.569946e+12</td>\n",
       "    </tr>\n",
       "    <tr>\n",
       "      <th>2015-07-01</th>\n",
       "      <td>1.502677e+12</td>\n",
       "      <td>1.765977e+13</td>\n",
       "      <td>4.600406e+12</td>\n",
       "    </tr>\n",
       "    <tr>\n",
       "      <th>2015-10-01</th>\n",
       "      <td>1.516926e+12</td>\n",
       "      <td>1.925729e+13</td>\n",
       "      <td>4.608784e+12</td>\n",
       "    </tr>\n",
       "    <tr>\n",
       "      <th>2016-01-01</th>\n",
       "      <td>1.534488e+12</td>\n",
       "      <td>1.624100e+13</td>\n",
       "      <td>4.631483e+12</td>\n",
       "    </tr>\n",
       "  </tbody>\n",
       "</table>\n",
       "</div>"
      ],
      "text/plain": [
       "                  Brasil         China  Estados Unidos\n",
       "2015-01-01  1.490938e+12  1.511379e+13    4.515882e+12\n",
       "2015-04-01  1.485246e+12  1.685497e+13    4.569946e+12\n",
       "2015-07-01  1.502677e+12  1.765977e+13    4.600406e+12\n",
       "2015-10-01  1.516926e+12  1.925729e+13    4.608784e+12\n",
       "2016-01-01  1.534488e+12  1.624100e+13    4.631483e+12"
      ]
     },
     "execution_count": 12,
     "metadata": {},
     "output_type": "execute_result"
    }
   ],
   "source": [
    "gdp_comparison = gdp_comparison.rename(columns={'BRAGDPNQDSMEI':'Brazil', 'CHNGDPNQDSMEI':'China', 'USAGDPNQDSMEI':'USA'})\n",
    "gdp_comparison.head()"
   ]
  },
  {
   "cell_type": "markdown",
   "metadata": {},
   "source": [
    "Changing the data to percentage change:\n"
   ]
  },
  {
   "cell_type": "code",
   "execution_count": 13,
   "metadata": {},
   "outputs": [
    {
     "name": "stdout",
     "output_type": "stream",
     "text": [
      "              Brasil      China  Estados Unidos\n",
      "2015-01-01       NaN        NaN             NaN\n",
      "2015-04-01 -0.381765  11.520472        1.197191\n",
      "2015-07-01  1.173662   4.774853        0.666540\n",
      "2015-10-01  0.948240   9.046097        0.182109\n",
      "2016-01-01  1.157684 -15.663107        0.492516\n"
     ]
    }
   ],
   "source": [
    "gdp_change=gdp_comparison.pct_change()*100\n",
    "print(gdp_change.head())"
   ]
  },
  {
   "cell_type": "markdown",
   "metadata": {},
   "source": [
    "Dropping NA for creating a chart:"
   ]
  },
  {
   "cell_type": "code",
   "execution_count": 14,
   "metadata": {},
   "outputs": [
    {
     "name": "stdout",
     "output_type": "stream",
     "text": [
      "              Brasil      China  Estados Unidos\n",
      "2015-04-01 -0.381765  11.520472        1.197191\n",
      "2015-07-01  1.173662   4.774853        0.666540\n",
      "2015-10-01  0.948240   9.046097        0.182109\n",
      "2016-01-01  1.157684 -15.663107        0.492516\n",
      "2016-04-01  1.915231  11.697679        1.002751\n"
     ]
    }
   ],
   "source": [
    "gdp_change = gdp_change.dropna()\n",
    "print(gdp_change.head())"
   ]
  },
  {
   "cell_type": "markdown",
   "metadata": {},
   "source": [
    "As seen before, this is a DataFrame in which the columns can be edited, the numbers can be dropped and the information changed. This is important when applying certain loops as well as when developing a portfolio, which will be seen in future chapters."
   ]
  }
 ],
 "metadata": {
  "kernelspec": {
   "display_name": "Python 3",
   "language": "python",
   "name": "python3"
  },
  "language_info": {
   "codemirror_mode": {
    "name": "ipython",
    "version": 3
   },
   "file_extension": ".py",
   "mimetype": "text/x-python",
   "name": "python",
   "nbconvert_exporter": "python",
   "pygments_lexer": "ipython3",
   "version": "3.12.1"
  }
 },
 "nbformat": 4,
 "nbformat_minor": 2
}
