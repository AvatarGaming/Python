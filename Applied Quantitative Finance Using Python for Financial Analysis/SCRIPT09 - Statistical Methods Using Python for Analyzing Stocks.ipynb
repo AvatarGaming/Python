{
 "cells": [
  {
   "cell_type": "markdown",
   "metadata": {},
   "source": [
    "## Statistical Methods Using Python for Analyzing Stocks\n",
    "\n",
    "Abstract Statistical Methods are part of the tools for analyzing securities. The following chapter explains the central limit theorem, returns, ranges, boxplots, histograms and other sets of statistical measures for the analysis of securities using Yahoo Finance API.\n",
    "\n",
    "Keywords Central limit theorem · Returns · Plots · Statistical measures\n",
    "\n",
    "This next part of the book is centered on the use of mathematical and statistical methods to understand the security based on quantitative analysis. The aim of quantitative analysis is to extract a value that explains financial behavior (Keaton 2019).\n",
    "\n",
    "### The Central Limit Theorem\n",
    "\n",
    "The Central Limit Theorem (CLT) is part of the study concerning probability theory which states that if random samples of a certain size (n) from any population, the sample will approach a normal distribution. A normal distribution happens when there is no left or right bias in the\n",
    "data (Ganti 2019).\n",
    "\n",
    "The usual representation of a normal distribution is the Bell Curve which looks lithe a bell, hence the name. CLT establishes that given a sufficiently large sample size from a population with a specific amount of variance that is finite, the mean is equal to the median and equal to the mode. The meaning of this is that there is complete symmetry in the data and that 50% of the values are higher than the mean and 50% are lower than the mean.\n",
    "\n",
    "The mean is usually divided into two: (1) population mean and (2) sample mean. These aspects are important when analyzing the data that is going to be used. The formulas give information regarding these aspects:\n"
   ]
  },
  {
   "cell_type": "code",
   "execution_count": 17,
   "metadata": {},
   "outputs": [
    {
     "name": "stdout",
     "output_type": "stream",
     "text": [
      "[*********************100%%**********************]  1 of 1 completed\n"
     ]
    }
   ],
   "source": [
    "import yfinance as yf\n",
    "import numpy as np\n",
    "import pandas as pd\n",
    "import pandas_datareader\n",
    "import datetime\n",
    "import pandas_datareader.data as web\n",
    "import matplotlib.pyplot as plt\n",
    "%matplotlib inline\n",
    "\n",
    "start = datetime.datetime(2015,1,1)\n",
    "end = datetime.datetime(2019,1,1)\n",
    "IBM = yf.download('IBM', start, end)"
   ]
  },
  {
   "cell_type": "markdown",
   "metadata": {},
   "source": [
    "Given that the information used for the IBM security is from January 1st, 2015 to January 1, 2019, this is considered as a sample. Therefore, the x¯ will be considered as the mean of the security. To calculate the mean, as the equation suggests, it is the sum of the elements divided by\n",
    "the count of the elements.\n"
   ]
  },
  {
   "cell_type": "code",
   "execution_count": 18,
   "metadata": {},
   "outputs": [
    {
     "name": "stdout",
     "output_type": "stream",
     "text": [
      "145.16948027260023\n"
     ]
    }
   ],
   "source": [
    "print(IBM['Close'].mean())"
   ]
  },
  {
   "cell_type": "markdown",
   "metadata": {},
   "source": [
    "The other aspect mentioned on the CLT is the median. The median is the middle value of the set of numbers. To calculate the median in Python it should be calculated as follows:"
   ]
  },
  {
   "cell_type": "code",
   "execution_count": 19,
   "metadata": {},
   "outputs": [
    {
     "name": "stdout",
     "output_type": "stream",
     "text": [
      "145.79827880859375\n"
     ]
    }
   ],
   "source": [
    "print(IBM['Close'].median())"
   ]
  },
  {
   "cell_type": "markdown",
   "metadata": {},
   "source": [
    "Which one to choose? The rule of thumb is to use the mean when there are no outliers and to use the median when there are outliers.\n",
    "\n",
    "The third measure of the CLT is the mode. The mode is the most frequent point of data in our data set. In a histogram, it is the highest bar.\n",
    "\n",
    "To calculate it in Python:"
   ]
  },
  {
   "cell_type": "code",
   "execution_count": 20,
   "metadata": {},
   "outputs": [
    {
     "name": "stdout",
     "output_type": "stream",
     "text": [
      "0    140.038239\n",
      "Name: Close, dtype: float64\n"
     ]
    },
    {
     "data": {
      "text/plain": [
       "count    1006.000000\n",
       "mean      145.169480\n",
       "std        12.793130\n",
       "min       102.839386\n",
       "25%       138.499046\n",
       "50%       145.798279\n",
       "75%       153.319794\n",
       "max       173.948380\n",
       "Name: Close, dtype: float64"
      ]
     },
     "execution_count": 20,
     "metadata": {},
     "output_type": "execute_result"
    }
   ],
   "source": [
    "print(IBM['Close'].mode())\n",
    "\n",
    "IBM['Close'].describe()"
   ]
  }
 ],
 "metadata": {
  "kernelspec": {
   "display_name": "Python 3",
   "language": "python",
   "name": "python3"
  },
  "language_info": {
   "codemirror_mode": {
    "name": "ipython",
    "version": 3
   },
   "file_extension": ".py",
   "mimetype": "text/x-python",
   "name": "python",
   "nbconvert_exporter": "python",
   "pygments_lexer": "ipython3",
   "version": "3.12.1"
  }
 },
 "nbformat": 4,
 "nbformat_minor": 2
}
