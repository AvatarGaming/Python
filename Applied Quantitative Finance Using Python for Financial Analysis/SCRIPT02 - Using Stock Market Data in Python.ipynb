{
 "cells": [
  {
   "cell_type": "markdown",
   "metadata": {},
   "source": [
    "# Using Stock Market Data in Python\n",
    "\n",
    "Abstract The present chapter aims to demonstrate the different access to data concerning securities and the packages that are useful to analyze the data. \n",
    "\n",
    "The book emphasizes Yahoo Finance API, but it explains various API’s that are accessible for analyzing the data. The packages are explained and applied to the data.\n",
    "\n",
    "## Keyword API · Packages · Installation · Data\n",
    "\n",
    "There are different sources of data that are viable in finance. Some of them can be accessed without creating and CVS (comma-separated-values) file or an XLS file (Microsoft Excel). The sources that can be accessed online through Python and without using one of the after mentioned files are the API (application programming interface). The API is useful because since they can have a specific protocol, routines and data structures, the information accessed can be retrieved every time we are using Python.\n",
    "\n",
    "## API sources\n",
    "\n",
    "**(1)Google Finance:** Google developed an API for retrieving information from the financial markets. The API has been discontinued and therefore it is mentioned here as a resource that can be uploaded in the future.\n",
    "\n",
    "**(2) Yahoo Finance:** One of the most important API that the book will be working with, given that it is free and that the information is accurate since it is retrieved directly from the markets. Since Yahoo started its financial platform in 1997 it has grown and its one of the most consulted platforms for financial decisions that is accessible by price and by easiness of language.\n",
    "\n",
    "**(3) Quandl:** The company's first movement in financial data was when they launched, in 2013, a million free data set with its universal API. This created the possibility for analyzing data from other sources. In late 2018 they were acquired by Nasdaq (National Association of Securities Dealer), making them one of the most interesting datasets in the markets.\n",
    "\n",
    "Although there are other interesting API in the market, in the book we will be using the two specific API, Yahoo Finance and Quandl. The reason for using these API is because they are gratuitous and that they are accurate. There are other databases such as Bloomberg that have an API but access to the data could be expensive.\n",
    "\n",
    "For the use of CVS and XLS databases, the main databases that will be used throughout the book are Yahoo Finance for statistical and portfolio\n",
    "analysis and World Bank and International Monetary Fund for macroeconomic investment strategies.\n",
    "\n"
   ]
  },
  {
   "cell_type": "markdown",
   "metadata": {},
   "source": [
    "## Most important libraries for using data in Python in the present book\n",
    "\n",
    "The first API that will be used is the Yahoo Finance API. For this, it is important to know certain packages that will be important in order to handle the different data that will be accessed.\n",
    "\n",
    "**(a) NumPy:** The numerical package for Python is one of the most important packages for handling data. By using NumPy the data can be approached for linear algebra, multi-dimensional containers, to create arrays and many other uses. The capability of NumPy will be demonstrated throughout the book.\n",
    "\n",
    "**(b) Pandas2:** The name of the library is an acronym for Python Data Analysis Library which is one of the most powerful libraries when it comes to analyzing data. Pandas can be used to create a DataFrame, slicing, replacing, creating time series just to name a few. Pandas will be used throughout the book.\n",
    "\n",
    "**(c) Matplotlib:** Throughout the book Matplotlib will be used for plotting 2D graphs. Matplotlib is an excellent library for plotting because of its quality, the variety of graphs that can be elaborated and the easiness of its use.\n",
    "\n",
    "**(d) f.fn( )**: One of the most interesting libraries for quantitative finance is the f.fn( ) library which helps access data and plot easily. In this book, the library will be used to access portfolio and measure performance. It complements with Matplotlib when creating graphs.\n",
    "\n",
    "**(e) Ta-lib:** Excellent libraries for developing technical analysis and backtesting. Will be used with portfolios and stocks. The installation is tricky, therefore a suggestion is appropriate.\n"
   ]
  },
  {
   "cell_type": "markdown",
   "metadata": {},
   "source": [
    "## Using Python with yahoo fInance API\n",
    "\n",
    "The first step for working with Yahoo API is to establish which libraries are going to be used. As it was mentioned earlier, NumPy, Pandas and Matplotlib will be using for accessing the data. The following is the command on Jupyter Notebooks:"
   ]
  },
  {
   "cell_type": "code",
   "execution_count": 1,
   "metadata": {},
   "outputs": [],
   "source": [
    "import numpy as np\n",
    "import pandas as pd\n",
    "import matplotlib.pyplot as plt\n",
    "%matplotlib inline\n"
   ]
  },
  {
   "cell_type": "markdown",
   "metadata": {},
   "source": [
    "The ***%matplotlib inline*** command is important because it creates a better graph when elaborating a Jupyter Notebook and also the quality is better. It helps the plots to work correctly and it is mentioned as necessary for the use of Matplotlib."
   ]
  },
  {
   "cell_type": "markdown",
   "metadata": {},
   "source": [
    "The second step is to import a module called datetime and another module called pandas_datareader. The datetime module is useful for manipulating dates. This is important given that the information regarding Yahoo API must be determined on a given date. Also, it is useful when comparing datasets between different stock quotes.\n",
    "\n",
    "The pandas_datareader allow us to access data from the web. In this case the pandas_datareader will allow the usage of the API and of the information.\n",
    "\n",
    "The script in Jupyter Notebooks is as follows:\n",
    "\n"
   ]
  },
  {
   "cell_type": "code",
   "execution_count": 2,
   "metadata": {},
   "outputs": [],
   "source": [
    "import pandas_datareader as pdr\n",
    "import datetime\n",
    "import pandas_datareader.data as web\n",
    "import yfinance as yf\n",
    "\n"
   ]
  },
  {
   "cell_type": "markdown",
   "metadata": {},
   "source": [
    "Once the Jupyter Notebook is set, the Yahoo API can be accessed. The most important aspect is to set a start date and an end date for the values.\n",
    "It is also important to add the stock quote that will be consulted, mainly its ticker. A stock ticker symbol is a one to four letter code representing the name of the company. For this example, the company Tesla will be used for analysis. The ticker for Tesla is TSLA. The information is going to be accessed from January 1, 2015 to January 1, 2019. The code is as follows:"
   ]
  },
  {
   "cell_type": "code",
   "execution_count": 3,
   "metadata": {},
   "outputs": [
    {
     "name": "stderr",
     "output_type": "stream",
     "text": [
      "[*********************100%%**********************]  1 of 1 completed"
     ]
    },
    {
     "name": "stdout",
     "output_type": "stream",
     "text": [
      "                 Open       High        Low      Close  Adj Close     Volume\n",
      "Date                                                                        \n",
      "2018-12-24  20.900000  20.966667  19.680000  19.692667  19.692667   83398500\n",
      "2018-12-26  20.000000  21.798000  19.606001  21.739332  21.739332  122446500\n",
      "2018-12-27  21.322666  21.478001  20.100000  21.075333  21.075333  128626500\n",
      "2018-12-28  21.540001  22.416000  21.227333  22.257999  22.257999  149085000\n",
      "2018-12-31  22.519333  22.614000  21.684000  22.186666  22.186666   94534500\n",
      "                 Open       High        Low      Close  Adj Close    Volume\n",
      "Date                                                                       \n",
      "2015-01-02  14.858000  14.883333  14.217333  14.620667  14.620667  71466000\n",
      "2015-01-05  14.303333  14.433333  13.810667  14.006000  14.006000  80527500\n",
      "2015-01-06  14.004000  14.280000  13.614000  14.085333  14.085333  93928500\n",
      "2015-01-07  14.223333  14.318667  13.985333  14.063333  14.063333  44526000\n",
      "2015-01-08  14.187333  14.253333  14.000667  14.041333  14.041333  51637500\n"
     ]
    },
    {
     "name": "stderr",
     "output_type": "stream",
     "text": [
      "\n"
     ]
    }
   ],
   "source": [
    "start = datetime.datetime(2015,1,1)\n",
    "end = datetime.datetime(2019,1,1)\n",
    "\n",
    "\n",
    "tesla_data = yf.download('TSLA', start, end)\n",
    "\n",
    "print(tesla_data.tail())\n",
    "\n",
    "print(tesla_data.head())\n"
   ]
  },
  {
   "cell_type": "markdown",
   "metadata": {},
   "source": [
    "In the example above two variables were created to define the information that is going to be accessed. The start date is set to January 1,2015 and the end date is set to January 1, 2019. Both variables are then used in the main variable where the Yahoo API is going to be accessed.\n",
    "\n",
    "The variable Tesla will use the combination of the module web with DataReader to access the information from the stock company TSLA from the API Yahoo in the dates from January 1, 2015 to January 1,2019.\n",
    "\n",
    "Now the information is in the current Jupyter Notebook. It is important to recall that every time that we shut down the Jupyter Notebook the data must be uploaded again using the same procedure or by running the whole script. To visualize the information the following command can be executed:\n",
    "\n",
    "Tesla.tail( ) or Tesla.head( )\n",
    "\n",
    "The.tail command will show the last five dates of the data. \n",
    "\n",
    "The.head command will show the first five dates in the beginning of the dates that were established. \n",
    "\n",
    "From the Yahoo API the Opening price, the Highest Price of the day the Lowest Price of the day the Adjusted Close and the Volume are displayed."
   ]
  },
  {
   "cell_type": "markdown",
   "metadata": {},
   "source": [
    "## Using Python with quandl API\n",
    "\n",
    "Quandl is an excellent source of information because it offers databases for both free and premium. The first step for using Quandl is creating a user at the signup page at https://www.quandl.com/. This is an important aspect because Quandl offers an API Key that is necessary for accessing different data.\n",
    "\n",
    "Once the user is created in Quandl, in the account settings it will appear Your API Key with a lookalike to the following XXXXXX The key is personal and it should not be given to other users for access.\n",
    "\n",
    "With the key, the script in Jupyter is quite easy. The first step will be to import Quandl, the second step will be to import the API Key and then create a search based on the Petroleum Prices reported by the Organization of the Petroleum Exporting Countries (OPEE) from the following Quandl address: https://www.quandl.com/data/OPEC/ORB-OPEC-Crude-Oil-Price. \n",
    "\n",
    "The script is as follows:"
   ]
  },
  {
   "cell_type": "code",
   "execution_count": 5,
   "metadata": {},
   "outputs": [
    {
     "ename": "QuandlError",
     "evalue": "(Status 403) Something went wrong. Please try again. If you continue to have problems, please contact us at connect@quandl.com.",
     "output_type": "error",
     "traceback": [
      "\u001b[1;31m---------------------------------------------------------------------------\u001b[0m",
      "\u001b[1;31mJSONDecodeError\u001b[0m                           Traceback (most recent call last)",
      "File \u001b[1;32mc:\\Users\\fvill\\AppData\\Local\\Programs\\Python\\Python312\\Lib\\site-packages\\requests\\models.py:971\u001b[0m, in \u001b[0;36mResponse.json\u001b[1;34m(self, **kwargs)\u001b[0m\n\u001b[0;32m    970\u001b[0m \u001b[38;5;28;01mtry\u001b[39;00m:\n\u001b[1;32m--> 971\u001b[0m     \u001b[38;5;28;01mreturn\u001b[39;00m \u001b[43mcomplexjson\u001b[49m\u001b[38;5;241;43m.\u001b[39;49m\u001b[43mloads\u001b[49m\u001b[43m(\u001b[49m\u001b[38;5;28;43mself\u001b[39;49m\u001b[38;5;241;43m.\u001b[39;49m\u001b[43mtext\u001b[49m\u001b[43m,\u001b[49m\u001b[43m \u001b[49m\u001b[38;5;241;43m*\u001b[39;49m\u001b[38;5;241;43m*\u001b[39;49m\u001b[43mkwargs\u001b[49m\u001b[43m)\u001b[49m\n\u001b[0;32m    972\u001b[0m \u001b[38;5;28;01mexcept\u001b[39;00m JSONDecodeError \u001b[38;5;28;01mas\u001b[39;00m e:\n\u001b[0;32m    973\u001b[0m     \u001b[38;5;66;03m# Catch JSON-related errors and raise as requests.JSONDecodeError\u001b[39;00m\n\u001b[0;32m    974\u001b[0m     \u001b[38;5;66;03m# This aliases json.JSONDecodeError and simplejson.JSONDecodeError\u001b[39;00m\n",
      "File \u001b[1;32mc:\\Users\\fvill\\AppData\\Local\\Programs\\Python\\Python312\\Lib\\json\\__init__.py:346\u001b[0m, in \u001b[0;36mloads\u001b[1;34m(s, cls, object_hook, parse_float, parse_int, parse_constant, object_pairs_hook, **kw)\u001b[0m\n\u001b[0;32m    343\u001b[0m \u001b[38;5;28;01mif\u001b[39;00m (\u001b[38;5;28mcls\u001b[39m \u001b[38;5;129;01mis\u001b[39;00m \u001b[38;5;28;01mNone\u001b[39;00m \u001b[38;5;129;01mand\u001b[39;00m object_hook \u001b[38;5;129;01mis\u001b[39;00m \u001b[38;5;28;01mNone\u001b[39;00m \u001b[38;5;129;01mand\u001b[39;00m\n\u001b[0;32m    344\u001b[0m         parse_int \u001b[38;5;129;01mis\u001b[39;00m \u001b[38;5;28;01mNone\u001b[39;00m \u001b[38;5;129;01mand\u001b[39;00m parse_float \u001b[38;5;129;01mis\u001b[39;00m \u001b[38;5;28;01mNone\u001b[39;00m \u001b[38;5;129;01mand\u001b[39;00m\n\u001b[0;32m    345\u001b[0m         parse_constant \u001b[38;5;129;01mis\u001b[39;00m \u001b[38;5;28;01mNone\u001b[39;00m \u001b[38;5;129;01mand\u001b[39;00m object_pairs_hook \u001b[38;5;129;01mis\u001b[39;00m \u001b[38;5;28;01mNone\u001b[39;00m \u001b[38;5;129;01mand\u001b[39;00m \u001b[38;5;129;01mnot\u001b[39;00m kw):\n\u001b[1;32m--> 346\u001b[0m     \u001b[38;5;28;01mreturn\u001b[39;00m \u001b[43m_default_decoder\u001b[49m\u001b[38;5;241;43m.\u001b[39;49m\u001b[43mdecode\u001b[49m\u001b[43m(\u001b[49m\u001b[43ms\u001b[49m\u001b[43m)\u001b[49m\n\u001b[0;32m    347\u001b[0m \u001b[38;5;28;01mif\u001b[39;00m \u001b[38;5;28mcls\u001b[39m \u001b[38;5;129;01mis\u001b[39;00m \u001b[38;5;28;01mNone\u001b[39;00m:\n",
      "File \u001b[1;32mc:\\Users\\fvill\\AppData\\Local\\Programs\\Python\\Python312\\Lib\\json\\decoder.py:338\u001b[0m, in \u001b[0;36mJSONDecoder.decode\u001b[1;34m(self, s, _w)\u001b[0m\n\u001b[0;32m    334\u001b[0m \u001b[38;5;250m\u001b[39m\u001b[38;5;124;03m\"\"\"Return the Python representation of ``s`` (a ``str`` instance\u001b[39;00m\n\u001b[0;32m    335\u001b[0m \u001b[38;5;124;03mcontaining a JSON document).\u001b[39;00m\n\u001b[0;32m    336\u001b[0m \n\u001b[0;32m    337\u001b[0m \u001b[38;5;124;03m\"\"\"\u001b[39;00m\n\u001b[1;32m--> 338\u001b[0m obj, end \u001b[38;5;241m=\u001b[39m \u001b[38;5;28;43mself\u001b[39;49m\u001b[38;5;241;43m.\u001b[39;49m\u001b[43mraw_decode\u001b[49m\u001b[43m(\u001b[49m\u001b[43ms\u001b[49m\u001b[43m,\u001b[49m\u001b[43m \u001b[49m\u001b[43midx\u001b[49m\u001b[38;5;241;43m=\u001b[39;49m\u001b[43m_w\u001b[49m\u001b[43m(\u001b[49m\u001b[43ms\u001b[49m\u001b[43m,\u001b[49m\u001b[43m \u001b[49m\u001b[38;5;241;43m0\u001b[39;49m\u001b[43m)\u001b[49m\u001b[38;5;241;43m.\u001b[39;49m\u001b[43mend\u001b[49m\u001b[43m(\u001b[49m\u001b[43m)\u001b[49m\u001b[43m)\u001b[49m\n\u001b[0;32m    339\u001b[0m end \u001b[38;5;241m=\u001b[39m _w(s, end)\u001b[38;5;241m.\u001b[39mend()\n",
      "File \u001b[1;32mc:\\Users\\fvill\\AppData\\Local\\Programs\\Python\\Python312\\Lib\\json\\decoder.py:356\u001b[0m, in \u001b[0;36mJSONDecoder.raw_decode\u001b[1;34m(self, s, idx)\u001b[0m\n\u001b[0;32m    355\u001b[0m \u001b[38;5;28;01mexcept\u001b[39;00m \u001b[38;5;167;01mStopIteration\u001b[39;00m \u001b[38;5;28;01mas\u001b[39;00m err:\n\u001b[1;32m--> 356\u001b[0m     \u001b[38;5;28;01mraise\u001b[39;00m JSONDecodeError(\u001b[38;5;124m\"\u001b[39m\u001b[38;5;124mExpecting value\u001b[39m\u001b[38;5;124m\"\u001b[39m, s, err\u001b[38;5;241m.\u001b[39mvalue) \u001b[38;5;28;01mfrom\u001b[39;00m \u001b[38;5;28;01mNone\u001b[39;00m\n\u001b[0;32m    357\u001b[0m \u001b[38;5;28;01mreturn\u001b[39;00m obj, end\n",
      "\u001b[1;31mJSONDecodeError\u001b[0m: Expecting value: line 1 column 1 (char 0)",
      "\nDuring handling of the above exception, another exception occurred:\n",
      "\u001b[1;31mJSONDecodeError\u001b[0m                           Traceback (most recent call last)",
      "File \u001b[1;32mc:\\Users\\fvill\\AppData\\Local\\Programs\\Python\\Python312\\Lib\\site-packages\\quandl\\connection.py:84\u001b[0m, in \u001b[0;36mConnection.parse\u001b[1;34m(cls, response)\u001b[0m\n\u001b[0;32m     83\u001b[0m \u001b[38;5;28;01mtry\u001b[39;00m:\n\u001b[1;32m---> 84\u001b[0m     \u001b[38;5;28;01mreturn\u001b[39;00m \u001b[43mresponse\u001b[49m\u001b[38;5;241;43m.\u001b[39;49m\u001b[43mjson\u001b[49m\u001b[43m(\u001b[49m\u001b[43m)\u001b[49m\n\u001b[0;32m     85\u001b[0m \u001b[38;5;28;01mexcept\u001b[39;00m \u001b[38;5;167;01mValueError\u001b[39;00m:\n",
      "File \u001b[1;32mc:\\Users\\fvill\\AppData\\Local\\Programs\\Python\\Python312\\Lib\\site-packages\\requests\\models.py:975\u001b[0m, in \u001b[0;36mResponse.json\u001b[1;34m(self, **kwargs)\u001b[0m\n\u001b[0;32m    972\u001b[0m \u001b[38;5;28;01mexcept\u001b[39;00m JSONDecodeError \u001b[38;5;28;01mas\u001b[39;00m e:\n\u001b[0;32m    973\u001b[0m     \u001b[38;5;66;03m# Catch JSON-related errors and raise as requests.JSONDecodeError\u001b[39;00m\n\u001b[0;32m    974\u001b[0m     \u001b[38;5;66;03m# This aliases json.JSONDecodeError and simplejson.JSONDecodeError\u001b[39;00m\n\u001b[1;32m--> 975\u001b[0m     \u001b[38;5;28;01mraise\u001b[39;00m RequestsJSONDecodeError(e\u001b[38;5;241m.\u001b[39mmsg, e\u001b[38;5;241m.\u001b[39mdoc, e\u001b[38;5;241m.\u001b[39mpos)\n",
      "\u001b[1;31mJSONDecodeError\u001b[0m: Expecting value: line 1 column 1 (char 0)",
      "\nDuring handling of the above exception, another exception occurred:\n",
      "\u001b[1;31mQuandlError\u001b[0m                               Traceback (most recent call last)",
      "Cell \u001b[1;32mIn[5], line 13\u001b[0m\n\u001b[0;32m     10\u001b[0m quandl\u001b[38;5;241m.\u001b[39mApiConfig\u001b[38;5;241m.\u001b[39mapi_key \u001b[38;5;241m=\u001b[39m api_key\n\u001b[0;32m     12\u001b[0m \u001b[38;5;66;03m# Obtener los datos para la serie deseada\u001b[39;00m\n\u001b[1;32m---> 13\u001b[0m oil_data \u001b[38;5;241m=\u001b[39m \u001b[43mquandl\u001b[49m\u001b[38;5;241;43m.\u001b[39;49m\u001b[43mget\u001b[49m\u001b[43m(\u001b[49m\u001b[43mseries\u001b[49m\u001b[43m)\u001b[49m\n\u001b[0;32m     15\u001b[0m \u001b[38;5;28mprint\u001b[39m(oil_data\u001b[38;5;241m.\u001b[39mtail())\n\u001b[0;32m     18\u001b[0m \u001b[38;5;66;03m# Crea un gráfico solo del precio de cierre\u001b[39;00m\n",
      "File \u001b[1;32mc:\\Users\\fvill\\AppData\\Local\\Programs\\Python\\Python312\\Lib\\site-packages\\quandl\\get.py:48\u001b[0m, in \u001b[0;36mget\u001b[1;34m(dataset, **kwargs)\u001b[0m\n\u001b[0;32m     46\u001b[0m     \u001b[38;5;28;01mif\u001b[39;00m dataset_args[\u001b[38;5;124m'\u001b[39m\u001b[38;5;124mcolumn_index\u001b[39m\u001b[38;5;124m'\u001b[39m] \u001b[38;5;129;01mis\u001b[39;00m \u001b[38;5;129;01mnot\u001b[39;00m \u001b[38;5;28;01mNone\u001b[39;00m:\n\u001b[0;32m     47\u001b[0m         kwargs\u001b[38;5;241m.\u001b[39mupdate({\u001b[38;5;124m'\u001b[39m\u001b[38;5;124mcolumn_index\u001b[39m\u001b[38;5;124m'\u001b[39m: dataset_args[\u001b[38;5;124m'\u001b[39m\u001b[38;5;124mcolumn_index\u001b[39m\u001b[38;5;124m'\u001b[39m]})\n\u001b[1;32m---> 48\u001b[0m     data \u001b[38;5;241m=\u001b[39m \u001b[43mDataset\u001b[49m\u001b[43m(\u001b[49m\u001b[43mdataset_args\u001b[49m\u001b[43m[\u001b[49m\u001b[38;5;124;43m'\u001b[39;49m\u001b[38;5;124;43mcode\u001b[39;49m\u001b[38;5;124;43m'\u001b[39;49m\u001b[43m]\u001b[49m\u001b[43m)\u001b[49m\u001b[38;5;241;43m.\u001b[39;49m\u001b[43mdata\u001b[49m\u001b[43m(\u001b[49m\u001b[43mparams\u001b[49m\u001b[38;5;241;43m=\u001b[39;49m\u001b[43mkwargs\u001b[49m\u001b[43m,\u001b[49m\u001b[43m \u001b[49m\u001b[43mhandle_column_not_found\u001b[49m\u001b[38;5;241;43m=\u001b[39;49m\u001b[38;5;28;43;01mTrue\u001b[39;49;00m\u001b[43m)\u001b[49m\n\u001b[0;32m     49\u001b[0m \u001b[38;5;66;03m# Array\u001b[39;00m\n\u001b[0;32m     50\u001b[0m \u001b[38;5;28;01melif\u001b[39;00m \u001b[38;5;28misinstance\u001b[39m(dataset, \u001b[38;5;28mlist\u001b[39m):\n",
      "File \u001b[1;32mc:\\Users\\fvill\\AppData\\Local\\Programs\\Python\\Python312\\Lib\\site-packages\\quandl\\model\\dataset.py:47\u001b[0m, in \u001b[0;36mDataset.data\u001b[1;34m(self, **options)\u001b[0m\n\u001b[0;32m     45\u001b[0m updated_options \u001b[38;5;241m=\u001b[39m Util\u001b[38;5;241m.\u001b[39mmerge_options(\u001b[38;5;124m'\u001b[39m\u001b[38;5;124mparams\u001b[39m\u001b[38;5;124m'\u001b[39m, params, \u001b[38;5;241m*\u001b[39m\u001b[38;5;241m*\u001b[39moptions)\n\u001b[0;32m     46\u001b[0m \u001b[38;5;28;01mtry\u001b[39;00m:\n\u001b[1;32m---> 47\u001b[0m     \u001b[38;5;28;01mreturn\u001b[39;00m \u001b[43mData\u001b[49m\u001b[38;5;241;43m.\u001b[39;49m\u001b[43mall\u001b[49m\u001b[43m(\u001b[49m\u001b[38;5;241;43m*\u001b[39;49m\u001b[38;5;241;43m*\u001b[39;49m\u001b[43mupdated_options\u001b[49m\u001b[43m)\u001b[49m\n\u001b[0;32m     48\u001b[0m \u001b[38;5;28;01mexcept\u001b[39;00m NotFoundError:\n\u001b[0;32m     49\u001b[0m     \u001b[38;5;28;01mif\u001b[39;00m handle_not_found_error:\n",
      "File \u001b[1;32mc:\\Users\\fvill\\AppData\\Local\\Programs\\Python\\Python312\\Lib\\site-packages\\quandl\\operations\\list.py:15\u001b[0m, in \u001b[0;36mListOperation.all\u001b[1;34m(cls, **options)\u001b[0m\n\u001b[0;32m     13\u001b[0m     options[\u001b[38;5;124m'\u001b[39m\u001b[38;5;124mparams\u001b[39m\u001b[38;5;124m'\u001b[39m] \u001b[38;5;241m=\u001b[39m {}\n\u001b[0;32m     14\u001b[0m path \u001b[38;5;241m=\u001b[39m Util\u001b[38;5;241m.\u001b[39mconstructed_path(\u001b[38;5;28mcls\u001b[39m\u001b[38;5;241m.\u001b[39mlist_path(), options[\u001b[38;5;124m'\u001b[39m\u001b[38;5;124mparams\u001b[39m\u001b[38;5;124m'\u001b[39m])\n\u001b[1;32m---> 15\u001b[0m r \u001b[38;5;241m=\u001b[39m \u001b[43mConnection\u001b[49m\u001b[38;5;241;43m.\u001b[39;49m\u001b[43mrequest\u001b[49m\u001b[43m(\u001b[49m\u001b[38;5;124;43m'\u001b[39;49m\u001b[38;5;124;43mget\u001b[39;49m\u001b[38;5;124;43m'\u001b[39;49m\u001b[43m,\u001b[49m\u001b[43m \u001b[49m\u001b[43mpath\u001b[49m\u001b[43m,\u001b[49m\u001b[43m \u001b[49m\u001b[38;5;241;43m*\u001b[39;49m\u001b[38;5;241;43m*\u001b[39;49m\u001b[43moptions\u001b[49m\u001b[43m)\u001b[49m\n\u001b[0;32m     16\u001b[0m response_data \u001b[38;5;241m=\u001b[39m r\u001b[38;5;241m.\u001b[39mjson()\n\u001b[0;32m     17\u001b[0m Util\u001b[38;5;241m.\u001b[39mconvert_to_dates(response_data)\n",
      "File \u001b[1;32mc:\\Users\\fvill\\AppData\\Local\\Programs\\Python\\Python312\\Lib\\site-packages\\quandl\\connection.py:38\u001b[0m, in \u001b[0;36mConnection.request\u001b[1;34m(cls, http_verb, url, **options)\u001b[0m\n\u001b[0;32m     34\u001b[0m options[\u001b[38;5;124m'\u001b[39m\u001b[38;5;124mheaders\u001b[39m\u001b[38;5;124m'\u001b[39m] \u001b[38;5;241m=\u001b[39m headers\n\u001b[0;32m     36\u001b[0m abs_url \u001b[38;5;241m=\u001b[39m \u001b[38;5;124m'\u001b[39m\u001b[38;5;132;01m%s\u001b[39;00m\u001b[38;5;124m/\u001b[39m\u001b[38;5;132;01m%s\u001b[39;00m\u001b[38;5;124m'\u001b[39m \u001b[38;5;241m%\u001b[39m (ApiConfig\u001b[38;5;241m.\u001b[39mapi_base, url)\n\u001b[1;32m---> 38\u001b[0m \u001b[38;5;28;01mreturn\u001b[39;00m \u001b[38;5;28;43mcls\u001b[39;49m\u001b[38;5;241;43m.\u001b[39;49m\u001b[43mexecute_request\u001b[49m\u001b[43m(\u001b[49m\u001b[43mhttp_verb\u001b[49m\u001b[43m,\u001b[49m\u001b[43m \u001b[49m\u001b[43mabs_url\u001b[49m\u001b[43m,\u001b[49m\u001b[43m \u001b[49m\u001b[38;5;241;43m*\u001b[39;49m\u001b[38;5;241;43m*\u001b[39;49m\u001b[43moptions\u001b[49m\u001b[43m)\u001b[49m\n",
      "File \u001b[1;32mc:\\Users\\fvill\\AppData\\Local\\Programs\\Python\\Python312\\Lib\\site-packages\\quandl\\connection.py:50\u001b[0m, in \u001b[0;36mConnection.execute_request\u001b[1;34m(cls, http_verb, url, **options)\u001b[0m\n\u001b[0;32m     45\u001b[0m response \u001b[38;5;241m=\u001b[39m session\u001b[38;5;241m.\u001b[39mrequest(method\u001b[38;5;241m=\u001b[39mhttp_verb,\n\u001b[0;32m     46\u001b[0m                            url\u001b[38;5;241m=\u001b[39murl,\n\u001b[0;32m     47\u001b[0m                            verify\u001b[38;5;241m=\u001b[39mApiConfig\u001b[38;5;241m.\u001b[39mverify_ssl,\n\u001b[0;32m     48\u001b[0m                            \u001b[38;5;241m*\u001b[39m\u001b[38;5;241m*\u001b[39moptions)\n\u001b[0;32m     49\u001b[0m \u001b[38;5;28;01mif\u001b[39;00m response\u001b[38;5;241m.\u001b[39mstatus_code \u001b[38;5;241m<\u001b[39m \u001b[38;5;241m200\u001b[39m \u001b[38;5;129;01mor\u001b[39;00m response\u001b[38;5;241m.\u001b[39mstatus_code \u001b[38;5;241m>\u001b[39m\u001b[38;5;241m=\u001b[39m \u001b[38;5;241m300\u001b[39m:\n\u001b[1;32m---> 50\u001b[0m     \u001b[38;5;28;43mcls\u001b[39;49m\u001b[38;5;241;43m.\u001b[39;49m\u001b[43mhandle_api_error\u001b[49m\u001b[43m(\u001b[49m\u001b[43mresponse\u001b[49m\u001b[43m)\u001b[49m\n\u001b[0;32m     51\u001b[0m \u001b[38;5;28;01melse\u001b[39;00m:\n\u001b[0;32m     52\u001b[0m     \u001b[38;5;28;01mreturn\u001b[39;00m response\n",
      "File \u001b[1;32mc:\\Users\\fvill\\AppData\\Local\\Programs\\Python\\Python312\\Lib\\site-packages\\quandl\\connection.py:90\u001b[0m, in \u001b[0;36mConnection.handle_api_error\u001b[1;34m(cls, resp)\u001b[0m\n\u001b[0;32m     88\u001b[0m \u001b[38;5;129m@classmethod\u001b[39m\n\u001b[0;32m     89\u001b[0m \u001b[38;5;28;01mdef\u001b[39;00m \u001b[38;5;21mhandle_api_error\u001b[39m(\u001b[38;5;28mcls\u001b[39m, resp):\n\u001b[1;32m---> 90\u001b[0m     error_body \u001b[38;5;241m=\u001b[39m \u001b[38;5;28;43mcls\u001b[39;49m\u001b[38;5;241;43m.\u001b[39;49m\u001b[43mparse\u001b[49m\u001b[43m(\u001b[49m\u001b[43mresp\u001b[49m\u001b[43m)\u001b[49m\n\u001b[0;32m     92\u001b[0m     \u001b[38;5;66;03m# if our app does not form a proper quandl_error response\u001b[39;00m\n\u001b[0;32m     93\u001b[0m     \u001b[38;5;66;03m# throw generic error\u001b[39;00m\n\u001b[0;32m     94\u001b[0m     \u001b[38;5;28;01mif\u001b[39;00m \u001b[38;5;124m'\u001b[39m\u001b[38;5;124mquandl_error\u001b[39m\u001b[38;5;124m'\u001b[39m \u001b[38;5;129;01mnot\u001b[39;00m \u001b[38;5;129;01min\u001b[39;00m error_body:\n",
      "File \u001b[1;32mc:\\Users\\fvill\\AppData\\Local\\Programs\\Python\\Python312\\Lib\\site-packages\\quandl\\connection.py:86\u001b[0m, in \u001b[0;36mConnection.parse\u001b[1;34m(cls, response)\u001b[0m\n\u001b[0;32m     84\u001b[0m     \u001b[38;5;28;01mreturn\u001b[39;00m response\u001b[38;5;241m.\u001b[39mjson()\n\u001b[0;32m     85\u001b[0m \u001b[38;5;28;01mexcept\u001b[39;00m \u001b[38;5;167;01mValueError\u001b[39;00m:\n\u001b[1;32m---> 86\u001b[0m     \u001b[38;5;28;01mraise\u001b[39;00m QuandlError(http_status\u001b[38;5;241m=\u001b[39mresponse\u001b[38;5;241m.\u001b[39mstatus_code, http_body\u001b[38;5;241m=\u001b[39mresponse\u001b[38;5;241m.\u001b[39mtext)\n",
      "\u001b[1;31mQuandlError\u001b[0m: (Status 403) Something went wrong. Please try again. If you continue to have problems, please contact us at connect@quandl.com."
     ]
    }
   ],
   "source": [
    "import quandl\n",
    "import matplotlib as plt\n",
    "%matplotlib inline\n",
    "\n",
    "# Definir la serie y la clave API\n",
    "series = \"NSE/OIL\"\n",
    "api_key = 'sdrzzviQNV8eb4RuLmyb'\n",
    "\n",
    "# Configurar la clave API de Quandl\n",
    "quandl.ApiConfig.api_key = api_key\n",
    "\n",
    "# Obtener los datos para la serie deseada\n",
    "oil_data = quandl.get(series)\n",
    "\n",
    "print(oil_data.tail())\n",
    "\n",
    "\n",
    "# Crea un gráfico solo del precio de cierre\n",
    "oil_data['Close'].plot()\n",
    "\n",
    "\n"
   ]
  },
  {
   "cell_type": "markdown",
   "metadata": {},
   "source": [
    "## Using f.fn( ) for retreiving information\n",
    "\n",
    "One of the most important libraries for retrieving information that we will be using in the present book is f.ff( ). Certain processes throughout the book are simplified by the use of this package, the most important difficulty is interpreting the results. Therefore, this book will center on developing a traditional approach and then applying certain packages for the retrieval of information.\n",
    "\n",
    "The first step is to install f.fn( ) in the computer."
   ]
  },
  {
   "cell_type": "code",
   "execution_count": 6,
   "metadata": {},
   "outputs": [
    {
     "name": "stdout",
     "output_type": "stream",
     "text": [
      "Requirement already satisfied: ffn in c:\\users\\fvill\\appdata\\local\\programs\\python\\python312\\lib\\site-packages (1.0.1)\n",
      "Requirement already satisfied: decorator>=5.0.7 in c:\\users\\fvill\\appdata\\roaming\\python\\python312\\site-packages (from ffn) (5.1.1)\n",
      "Requirement already satisfied: matplotlib>=1 in c:\\users\\fvill\\appdata\\local\\programs\\python\\python312\\lib\\site-packages (from ffn) (3.8.2)\n",
      "Requirement already satisfied: numpy>=1.5 in c:\\users\\fvill\\appdata\\local\\programs\\python\\python312\\lib\\site-packages (from ffn) (1.26.3)\n",
      "Requirement already satisfied: pandas>=0.19 in c:\\users\\fvill\\appdata\\local\\programs\\python\\python312\\lib\\site-packages (from ffn) (2.1.4)\n",
      "Requirement already satisfied: pandas-datareader>=0.2 in c:\\users\\fvill\\appdata\\local\\programs\\python\\python312\\lib\\site-packages (from ffn) (0.10.0)\n",
      "Requirement already satisfied: scikit-learn>=0.15 in c:\\users\\fvill\\appdata\\local\\programs\\python\\python312\\lib\\site-packages (from ffn) (1.3.2)\n",
      "Requirement already satisfied: scipy>=0.15 in c:\\users\\fvill\\appdata\\local\\programs\\python\\python312\\lib\\site-packages (from ffn) (1.11.4)\n",
      "Requirement already satisfied: tabulate>=0.7.5 in c:\\users\\fvill\\appdata\\local\\programs\\python\\python312\\lib\\site-packages (from ffn) (0.9.0)\n",
      "Requirement already satisfied: yfinance>=0.2 in c:\\users\\fvill\\appdata\\local\\programs\\python\\python312\\lib\\site-packages (from ffn) (0.2.35)\n",
      "Requirement already satisfied: contourpy>=1.0.1 in c:\\users\\fvill\\appdata\\local\\programs\\python\\python312\\lib\\site-packages (from matplotlib>=1->ffn) (1.2.0)\n",
      "Requirement already satisfied: cycler>=0.10 in c:\\users\\fvill\\appdata\\local\\programs\\python\\python312\\lib\\site-packages (from matplotlib>=1->ffn) (0.12.1)\n",
      "Requirement already satisfied: fonttools>=4.22.0 in c:\\users\\fvill\\appdata\\local\\programs\\python\\python312\\lib\\site-packages (from matplotlib>=1->ffn) (4.47.0)\n",
      "Requirement already satisfied: kiwisolver>=1.3.1 in c:\\users\\fvill\\appdata\\local\\programs\\python\\python312\\lib\\site-packages (from matplotlib>=1->ffn) (1.4.5)\n",
      "Requirement already satisfied: packaging>=20.0 in c:\\users\\fvill\\appdata\\local\\programs\\python\\python312\\lib\\site-packages (from matplotlib>=1->ffn) (23.2)\n",
      "Requirement already satisfied: pillow>=8 in c:\\users\\fvill\\appdata\\local\\programs\\python\\python312\\lib\\site-packages (from matplotlib>=1->ffn) (10.2.0)\n",
      "Requirement already satisfied: pyparsing>=2.3.1 in c:\\users\\fvill\\appdata\\local\\programs\\python\\python312\\lib\\site-packages (from matplotlib>=1->ffn) (3.1.1)\n",
      "Requirement already satisfied: python-dateutil>=2.7 in c:\\users\\fvill\\appdata\\local\\programs\\python\\python312\\lib\\site-packages (from matplotlib>=1->ffn) (2.8.2)\n",
      "Requirement already satisfied: pytz>=2020.1 in c:\\users\\fvill\\appdata\\local\\programs\\python\\python312\\lib\\site-packages (from pandas>=0.19->ffn) (2023.3.post1)\n",
      "Requirement already satisfied: tzdata>=2022.1 in c:\\users\\fvill\\appdata\\local\\programs\\python\\python312\\lib\\site-packages (from pandas>=0.19->ffn) (2023.4)\n",
      "Requirement already satisfied: lxml in c:\\users\\fvill\\appdata\\local\\programs\\python\\python312\\lib\\site-packages (from pandas-datareader>=0.2->ffn) (5.1.0)\n",
      "Requirement already satisfied: requests>=2.19.0 in c:\\users\\fvill\\appdata\\local\\programs\\python\\python312\\lib\\site-packages (from pandas-datareader>=0.2->ffn) (2.31.0)\n",
      "Requirement already satisfied: joblib>=1.1.1 in c:\\users\\fvill\\appdata\\local\\programs\\python\\python312\\lib\\site-packages (from scikit-learn>=0.15->ffn) (1.3.2)\n",
      "Requirement already satisfied: threadpoolctl>=2.0.0 in c:\\users\\fvill\\appdata\\local\\programs\\python\\python312\\lib\\site-packages (from scikit-learn>=0.15->ffn) (3.2.0)\n",
      "Requirement already satisfied: multitasking>=0.0.7 in c:\\users\\fvill\\appdata\\local\\programs\\python\\python312\\lib\\site-packages (from yfinance>=0.2->ffn) (0.0.11)\n",
      "Requirement already satisfied: appdirs>=1.4.4 in c:\\users\\fvill\\appdata\\local\\programs\\python\\python312\\lib\\site-packages (from yfinance>=0.2->ffn) (1.4.4)\n",
      "Requirement already satisfied: frozendict>=2.3.4 in c:\\users\\fvill\\appdata\\local\\programs\\python\\python312\\lib\\site-packages (from yfinance>=0.2->ffn) (2.4.0)\n",
      "Requirement already satisfied: peewee>=3.16.2 in c:\\users\\fvill\\appdata\\local\\programs\\python\\python312\\lib\\site-packages (from yfinance>=0.2->ffn) (3.17.0)\n",
      "Requirement already satisfied: beautifulsoup4>=4.11.1 in c:\\users\\fvill\\appdata\\local\\programs\\python\\python312\\lib\\site-packages (from yfinance>=0.2->ffn) (4.12.2)\n",
      "Requirement already satisfied: html5lib>=1.1 in c:\\users\\fvill\\appdata\\local\\programs\\python\\python312\\lib\\site-packages (from yfinance>=0.2->ffn) (1.1)\n",
      "Requirement already satisfied: soupsieve>1.2 in c:\\users\\fvill\\appdata\\local\\programs\\python\\python312\\lib\\site-packages (from beautifulsoup4>=4.11.1->yfinance>=0.2->ffn) (2.5)\n",
      "Requirement already satisfied: six>=1.9 in c:\\users\\fvill\\appdata\\local\\programs\\python\\python312\\lib\\site-packages (from html5lib>=1.1->yfinance>=0.2->ffn) (1.16.0)\n",
      "Requirement already satisfied: webencodings in c:\\users\\fvill\\appdata\\local\\programs\\python\\python312\\lib\\site-packages (from html5lib>=1.1->yfinance>=0.2->ffn) (0.5.1)\n",
      "Requirement already satisfied: charset-normalizer<4,>=2 in c:\\users\\fvill\\appdata\\local\\programs\\python\\python312\\lib\\site-packages (from requests>=2.19.0->pandas-datareader>=0.2->ffn) (3.3.2)\n",
      "Requirement already satisfied: idna<4,>=2.5 in c:\\users\\fvill\\appdata\\local\\programs\\python\\python312\\lib\\site-packages (from requests>=2.19.0->pandas-datareader>=0.2->ffn) (3.6)\n",
      "Requirement already satisfied: urllib3<3,>=1.21.1 in c:\\users\\fvill\\appdata\\local\\programs\\python\\python312\\lib\\site-packages (from requests>=2.19.0->pandas-datareader>=0.2->ffn) (2.1.0)\n",
      "Requirement already satisfied: certifi>=2017.4.17 in c:\\users\\fvill\\appdata\\local\\programs\\python\\python312\\lib\\site-packages (from requests>=2.19.0->pandas-datareader>=0.2->ffn) (2023.11.17)\n",
      "Note: you may need to restart the kernel to use updated packages.\n"
     ]
    }
   ],
   "source": [
    "pip install ffn"
   ]
  },
  {
   "cell_type": "markdown",
   "metadata": {},
   "source": [
    "After the installation it is important to import certain packages that f.fn ( ) uses. The recommended packages are as follows:"
   ]
  },
  {
   "cell_type": "code",
   "execution_count": 7,
   "metadata": {},
   "outputs": [],
   "source": [
    "import ffn\n",
    "import datetime\n",
    "import pandas_datareader as pdr\n",
    "import matplotlib.pyplot as plt\n",
    "%matplotlib inline\n"
   ]
  },
  {
   "cell_type": "markdown",
   "metadata": {},
   "source": [
    "Now that it has been installed, the process for retrieving information for Yahoo Finance is as follows:"
   ]
  },
  {
   "cell_type": "code",
   "execution_count": 8,
   "metadata": {},
   "outputs": [
    {
     "name": "stderr",
     "output_type": "stream",
     "text": [
      "[*********************100%%**********************]  1 of 1 completed\n",
      "[*********************100%%**********************]  1 of 1 completed\n",
      "[*********************100%%**********************]  1 of 1 completed\n"
     ]
    },
    {
     "data": {
      "text/html": [
       "<div>\n",
       "<style scoped>\n",
       "    .dataframe tbody tr th:only-of-type {\n",
       "        vertical-align: middle;\n",
       "    }\n",
       "\n",
       "    .dataframe tbody tr th {\n",
       "        vertical-align: top;\n",
       "    }\n",
       "\n",
       "    .dataframe thead th {\n",
       "        text-align: right;\n",
       "    }\n",
       "</style>\n",
       "<table border=\"1\" class=\"dataframe\">\n",
       "  <thead>\n",
       "    <tr style=\"text-align: right;\">\n",
       "      <th></th>\n",
       "      <th>aapl</th>\n",
       "      <th>spy</th>\n",
       "      <th>amzn</th>\n",
       "    </tr>\n",
       "    <tr>\n",
       "      <th>Date</th>\n",
       "      <th></th>\n",
       "      <th></th>\n",
       "      <th></th>\n",
       "    </tr>\n",
       "  </thead>\n",
       "  <tbody>\n",
       "    <tr>\n",
       "      <th>2020-12-24</th>\n",
       "      <td>129.047516</td>\n",
       "      <td>348.497711</td>\n",
       "      <td>158.634506</td>\n",
       "    </tr>\n",
       "    <tr>\n",
       "      <th>2020-12-28</th>\n",
       "      <td>133.663010</td>\n",
       "      <td>351.491577</td>\n",
       "      <td>164.197998</td>\n",
       "    </tr>\n",
       "    <tr>\n",
       "      <th>2020-12-29</th>\n",
       "      <td>131.883316</td>\n",
       "      <td>350.821045</td>\n",
       "      <td>166.100006</td>\n",
       "    </tr>\n",
       "    <tr>\n",
       "      <th>2020-12-30</th>\n",
       "      <td>130.758743</td>\n",
       "      <td>351.321564</td>\n",
       "      <td>164.292496</td>\n",
       "    </tr>\n",
       "    <tr>\n",
       "      <th>2020-12-31</th>\n",
       "      <td>129.751602</td>\n",
       "      <td>353.106628</td>\n",
       "      <td>162.846497</td>\n",
       "    </tr>\n",
       "  </tbody>\n",
       "</table>\n",
       "</div>"
      ],
      "text/plain": [
       "                  aapl         spy        amzn\n",
       "Date                                          \n",
       "2020-12-24  129.047516  348.497711  158.634506\n",
       "2020-12-28  133.663010  351.491577  164.197998\n",
       "2020-12-29  131.883316  350.821045  166.100006\n",
       "2020-12-30  130.758743  351.321564  164.292496\n",
       "2020-12-31  129.751602  353.106628  162.846497"
      ]
     },
     "execution_count": 8,
     "metadata": {},
     "output_type": "execute_result"
    }
   ],
   "source": [
    "stocks = ffn.get('aapl, spy, amzn', start='2019-1-1', end = '2021-1-1')\n",
    "stocks.tail()"
   ]
  },
  {
   "cell_type": "markdown",
   "metadata": {},
   "source": [
    "An important aspect is that f.fn( ) uses adjusted close as a default. If the interest is to access different prices the process is as follow:"
   ]
  },
  {
   "cell_type": "code",
   "execution_count": 9,
   "metadata": {},
   "outputs": [
    {
     "name": "stderr",
     "output_type": "stream",
     "text": [
      "[*********************100%%**********************]  1 of 1 completed\n",
      "[*********************100%%**********************]  1 of 1 completed\n",
      "[*********************100%%**********************]  1 of 1 completed\n"
     ]
    },
    {
     "data": {
      "text/html": [
       "<div>\n",
       "<style scoped>\n",
       "    .dataframe tbody tr th:only-of-type {\n",
       "        vertical-align: middle;\n",
       "    }\n",
       "\n",
       "    .dataframe tbody tr th {\n",
       "        vertical-align: top;\n",
       "    }\n",
       "\n",
       "    .dataframe thead th {\n",
       "        text-align: right;\n",
       "    }\n",
       "</style>\n",
       "<table border=\"1\" class=\"dataframe\">\n",
       "  <thead>\n",
       "    <tr style=\"text-align: right;\">\n",
       "      <th></th>\n",
       "      <th>aaplclose</th>\n",
       "      <th>spyclose</th>\n",
       "      <th>amznclose</th>\n",
       "    </tr>\n",
       "    <tr>\n",
       "      <th>Date</th>\n",
       "      <th></th>\n",
       "      <th></th>\n",
       "      <th></th>\n",
       "    </tr>\n",
       "  </thead>\n",
       "  <tbody>\n",
       "    <tr>\n",
       "      <th>2020-12-24</th>\n",
       "      <td>131.970001</td>\n",
       "      <td>369.000000</td>\n",
       "      <td>158.634506</td>\n",
       "    </tr>\n",
       "    <tr>\n",
       "      <th>2020-12-28</th>\n",
       "      <td>136.690002</td>\n",
       "      <td>372.170013</td>\n",
       "      <td>164.197998</td>\n",
       "    </tr>\n",
       "    <tr>\n",
       "      <th>2020-12-29</th>\n",
       "      <td>134.869995</td>\n",
       "      <td>371.459991</td>\n",
       "      <td>166.100006</td>\n",
       "    </tr>\n",
       "    <tr>\n",
       "      <th>2020-12-30</th>\n",
       "      <td>133.720001</td>\n",
       "      <td>371.989990</td>\n",
       "      <td>164.292496</td>\n",
       "    </tr>\n",
       "    <tr>\n",
       "      <th>2020-12-31</th>\n",
       "      <td>132.690002</td>\n",
       "      <td>373.880005</td>\n",
       "      <td>162.846497</td>\n",
       "    </tr>\n",
       "  </tbody>\n",
       "</table>\n",
       "</div>"
      ],
      "text/plain": [
       "             aaplclose    spyclose   amznclose\n",
       "Date                                          \n",
       "2020-12-24  131.970001  369.000000  158.634506\n",
       "2020-12-28  136.690002  372.170013  164.197998\n",
       "2020-12-29  134.869995  371.459991  166.100006\n",
       "2020-12-30  133.720001  371.989990  164.292496\n",
       "2020-12-31  132.690002  373.880005  162.846497"
      ]
     },
     "execution_count": 9,
     "metadata": {},
     "output_type": "execute_result"
    }
   ],
   "source": [
    "stocks = ffn.get('aapl:Close, spy:Close, amzn:Close', start='2019-1-1', end = '2021-1-1')\n",
    "stocks.tail()"
   ]
  }
 ],
 "metadata": {
  "kernelspec": {
   "display_name": "Python 3",
   "language": "python",
   "name": "python3"
  },
  "language_info": {
   "codemirror_mode": {
    "name": "ipython",
    "version": 3
   },
   "file_extension": ".py",
   "mimetype": "text/x-python",
   "name": "python",
   "nbconvert_exporter": "python",
   "pygments_lexer": "ipython3",
   "version": "3.12.8"
  }
 },
 "nbformat": 4,
 "nbformat_minor": 2
}
