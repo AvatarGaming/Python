{
 "cells": [
  {
   "cell_type": "markdown",
   "metadata": {},
   "source": [
    "# WRAPPING UP THE BOOK - UNDERSTANDING PERFORMANCE\n",
    "\n",
    "The book has centered itself on stock trading, and the purpose of this chapter is to understand performance by using the f.fn() package for creating a report. I believe this is one of the most interesting tools that can be used for a quick decision making on investment that does not involve a graphical decision. This can be applied to a portfolio and individual stocks. The application of the portfolio is as follows:\n",
    "\n",
    "## Portfolio Performance using f.fn()\n",
    "\n",
    "\n",
    "### – Import libraries"
   ]
  },
  {
   "cell_type": "code",
   "execution_count": 1,
   "metadata": {},
   "outputs": [],
   "source": [
    "import ffn\n",
    "import numpy as np\n",
    "import pandas as pd\n",
    "import yfinance as yf\n",
    "import datetime\n",
    "import matplotlib.pyplot as plt\n",
    "%matplotlib inline"
   ]
  },
  {
   "cell_type": "markdown",
   "metadata": {},
   "source": [
    "### – Select stocks"
   ]
  },
  {
   "cell_type": "code",
   "execution_count": 2,
   "metadata": {},
   "outputs": [
    {
     "name": "stderr",
     "output_type": "stream",
     "text": [
      "[*********************100%%**********************]  1 of 1 completed\n",
      "[*********************100%%**********************]  1 of 1 completed\n",
      "[*********************100%%**********************]  1 of 1 completed\n",
      "[*********************100%%**********************]  1 of 1 completed\n"
     ]
    },
    {
     "data": {
      "text/html": [
       "<div>\n",
       "<style scoped>\n",
       "    .dataframe tbody tr th:only-of-type {\n",
       "        vertical-align: middle;\n",
       "    }\n",
       "\n",
       "    .dataframe tbody tr th {\n",
       "        vertical-align: top;\n",
       "    }\n",
       "\n",
       "    .dataframe thead th {\n",
       "        text-align: right;\n",
       "    }\n",
       "</style>\n",
       "<table border=\"1\" class=\"dataframe\">\n",
       "  <thead>\n",
       "    <tr style=\"text-align: right;\">\n",
       "      <th></th>\n",
       "      <th>ZM</th>\n",
       "      <th>AMZN</th>\n",
       "      <th>DOCU</th>\n",
       "      <th>PTON</th>\n",
       "    </tr>\n",
       "    <tr>\n",
       "      <th>Date</th>\n",
       "      <th></th>\n",
       "      <th></th>\n",
       "      <th></th>\n",
       "      <th></th>\n",
       "    </tr>\n",
       "  </thead>\n",
       "  <tbody>\n",
       "    <tr>\n",
       "      <th>2020-12-23</th>\n",
       "      <td>383.880005</td>\n",
       "      <td>159.263504</td>\n",
       "      <td>244.050003</td>\n",
       "      <td>162.759995</td>\n",
       "    </tr>\n",
       "    <tr>\n",
       "      <th>2020-12-24</th>\n",
       "      <td>375.170013</td>\n",
       "      <td>158.634506</td>\n",
       "      <td>244.929993</td>\n",
       "      <td>162.720001</td>\n",
       "    </tr>\n",
       "    <tr>\n",
       "      <th>2020-12-28</th>\n",
       "      <td>351.390015</td>\n",
       "      <td>164.197998</td>\n",
       "      <td>229.199997</td>\n",
       "      <td>152.179993</td>\n",
       "    </tr>\n",
       "    <tr>\n",
       "      <th>2020-12-29</th>\n",
       "      <td>353.750000</td>\n",
       "      <td>166.100006</td>\n",
       "      <td>228.160004</td>\n",
       "      <td>150.100006</td>\n",
       "    </tr>\n",
       "    <tr>\n",
       "      <th>2020-12-30</th>\n",
       "      <td>353.399994</td>\n",
       "      <td>164.292496</td>\n",
       "      <td>225.899994</td>\n",
       "      <td>154.960007</td>\n",
       "    </tr>\n",
       "  </tbody>\n",
       "</table>\n",
       "</div>"
      ],
      "text/plain": [
       "                    ZM        AMZN        DOCU        PTON\n",
       "Date                                                      \n",
       "2020-12-23  383.880005  159.263504  244.050003  162.759995\n",
       "2020-12-24  375.170013  158.634506  244.929993  162.720001\n",
       "2020-12-28  351.390015  164.197998  229.199997  152.179993\n",
       "2020-12-29  353.750000  166.100006  228.160004  150.100006\n",
       "2020-12-30  353.399994  164.292496  225.899994  154.960007"
      ]
     },
     "execution_count": 2,
     "metadata": {},
     "output_type": "execute_result"
    }
   ],
   "source": [
    "start=datetime.datetime(2019,1,1)\n",
    "end=datetime.datetime(2020,12,31)\n",
    "\n",
    "tickers = ['ZM', 'AMZN', 'DOCU','PTON']\n",
    "stocks=pd.DataFrame()\n",
    "for x in tickers:\n",
    "    stocks[x]=yf.download(x, start=start, end=end)['Adj Close']\n",
    "\n",
    "stocks.tail()"
   ]
  },
  {
   "cell_type": "markdown",
   "metadata": {},
   "source": [
    "### – Calculate returns using f.fn ()"
   ]
  },
  {
   "cell_type": "code",
   "execution_count": 3,
   "metadata": {},
   "outputs": [
    {
     "data": {
      "text/html": [
       "<div>\n",
       "<style scoped>\n",
       "    .dataframe tbody tr th:only-of-type {\n",
       "        vertical-align: middle;\n",
       "    }\n",
       "\n",
       "    .dataframe tbody tr th {\n",
       "        vertical-align: top;\n",
       "    }\n",
       "\n",
       "    .dataframe thead th {\n",
       "        text-align: right;\n",
       "    }\n",
       "</style>\n",
       "<table border=\"1\" class=\"dataframe\">\n",
       "  <thead>\n",
       "    <tr style=\"text-align: right;\">\n",
       "      <th></th>\n",
       "      <th>ZM</th>\n",
       "      <th>AMZN</th>\n",
       "      <th>DOCU</th>\n",
       "      <th>PTON</th>\n",
       "    </tr>\n",
       "    <tr>\n",
       "      <th>Date</th>\n",
       "      <th></th>\n",
       "      <th></th>\n",
       "      <th></th>\n",
       "      <th></th>\n",
       "    </tr>\n",
       "  </thead>\n",
       "  <tbody>\n",
       "    <tr>\n",
       "      <th>2020-12-23</th>\n",
       "      <td>-0.061418</td>\n",
       "      <td>-0.006627</td>\n",
       "      <td>-0.030008</td>\n",
       "      <td>0.009615</td>\n",
       "    </tr>\n",
       "    <tr>\n",
       "      <th>2020-12-24</th>\n",
       "      <td>-0.022689</td>\n",
       "      <td>-0.003949</td>\n",
       "      <td>0.003606</td>\n",
       "      <td>-0.000246</td>\n",
       "    </tr>\n",
       "    <tr>\n",
       "      <th>2020-12-28</th>\n",
       "      <td>-0.063385</td>\n",
       "      <td>0.035071</td>\n",
       "      <td>-0.064222</td>\n",
       "      <td>-0.064774</td>\n",
       "    </tr>\n",
       "    <tr>\n",
       "      <th>2020-12-29</th>\n",
       "      <td>0.006716</td>\n",
       "      <td>0.011584</td>\n",
       "      <td>-0.004537</td>\n",
       "      <td>-0.013668</td>\n",
       "    </tr>\n",
       "    <tr>\n",
       "      <th>2020-12-30</th>\n",
       "      <td>-0.000989</td>\n",
       "      <td>-0.010882</td>\n",
       "      <td>-0.009905</td>\n",
       "      <td>0.032378</td>\n",
       "    </tr>\n",
       "  </tbody>\n",
       "</table>\n",
       "</div>"
      ],
      "text/plain": [
       "                  ZM      AMZN      DOCU      PTON\n",
       "Date                                              \n",
       "2020-12-23 -0.061418 -0.006627 -0.030008  0.009615\n",
       "2020-12-24 -0.022689 -0.003949  0.003606 -0.000246\n",
       "2020-12-28 -0.063385  0.035071 -0.064222 -0.064774\n",
       "2020-12-29  0.006716  0.011584 -0.004537 -0.013668\n",
       "2020-12-30 -0.000989 -0.010882 -0.009905  0.032378"
      ]
     },
     "execution_count": 3,
     "metadata": {},
     "output_type": "execute_result"
    }
   ],
   "source": [
    "stocks_return = stocks.to_returns().dropna()\n",
    "stocks_return.tail()"
   ]
  },
  {
   "cell_type": "markdown",
   "metadata": {},
   "source": [
    "### – Calculating mean variance returns with f.fn ( )"
   ]
  },
  {
   "cell_type": "code",
   "execution_count": 4,
   "metadata": {},
   "outputs": [
    {
     "data": {
      "text/plain": [
       "ZM      16.84%\n",
       "AMZN    22.13%\n",
       "DOCU    25.83%\n",
       "PTON    35.21%\n",
       "dtype: object"
      ]
     },
     "execution_count": 4,
     "metadata": {},
     "output_type": "execute_result"
    }
   ],
   "source": [
    "mean_variance_weights=stocks_return.calc_mean_var_weights().as_format('.2%')\n",
    "mean_variance_weights"
   ]
  },
  {
   "cell_type": "markdown",
   "metadata": {},
   "source": [
    "### – Applying the mean variance returns to portfolio weights,"
   ]
  },
  {
   "cell_type": "code",
   "execution_count": 5,
   "metadata": {},
   "outputs": [
    {
     "data": {
      "text/plain": [
       "(0.1759, 0.2111, 0.2592, 0.3538)"
      ]
     },
     "execution_count": 5,
     "metadata": {},
     "output_type": "execute_result"
    }
   ],
   "source": [
    "portfolio_weights=(0.1759,0.2111,0.2592,0.3538)\n",
    "portfolio_weights"
   ]
  },
  {
   "cell_type": "markdown",
   "metadata": {},
   "source": [
    "### – Creating the portfolio based on the returns"
   ]
  },
  {
   "cell_type": "code",
   "execution_count": 6,
   "metadata": {},
   "outputs": [
    {
     "data": {
      "text/html": [
       "<div>\n",
       "<style scoped>\n",
       "    .dataframe tbody tr th:only-of-type {\n",
       "        vertical-align: middle;\n",
       "    }\n",
       "\n",
       "    .dataframe tbody tr th {\n",
       "        vertical-align: top;\n",
       "    }\n",
       "\n",
       "    .dataframe thead th {\n",
       "        text-align: right;\n",
       "    }\n",
       "</style>\n",
       "<table border=\"1\" class=\"dataframe\">\n",
       "  <thead>\n",
       "    <tr style=\"text-align: right;\">\n",
       "      <th></th>\n",
       "      <th>ZM</th>\n",
       "      <th>AMZN</th>\n",
       "      <th>DOCU</th>\n",
       "      <th>PTON</th>\n",
       "      <th>Portfolio</th>\n",
       "    </tr>\n",
       "    <tr>\n",
       "      <th>Date</th>\n",
       "      <th></th>\n",
       "      <th></th>\n",
       "      <th></th>\n",
       "      <th></th>\n",
       "      <th></th>\n",
       "    </tr>\n",
       "  </thead>\n",
       "  <tbody>\n",
       "    <tr>\n",
       "      <th>2020-12-23</th>\n",
       "      <td>-0.061418</td>\n",
       "      <td>-0.006627</td>\n",
       "      <td>-0.030008</td>\n",
       "      <td>0.009615</td>\n",
       "      <td>-0.016579</td>\n",
       "    </tr>\n",
       "    <tr>\n",
       "      <th>2020-12-24</th>\n",
       "      <td>-0.022689</td>\n",
       "      <td>-0.003949</td>\n",
       "      <td>0.003606</td>\n",
       "      <td>-0.000246</td>\n",
       "      <td>-0.003977</td>\n",
       "    </tr>\n",
       "    <tr>\n",
       "      <th>2020-12-28</th>\n",
       "      <td>-0.063385</td>\n",
       "      <td>0.035071</td>\n",
       "      <td>-0.064222</td>\n",
       "      <td>-0.064774</td>\n",
       "      <td>-0.043309</td>\n",
       "    </tr>\n",
       "    <tr>\n",
       "      <th>2020-12-29</th>\n",
       "      <td>0.006716</td>\n",
       "      <td>0.011584</td>\n",
       "      <td>-0.004537</td>\n",
       "      <td>-0.013668</td>\n",
       "      <td>-0.002385</td>\n",
       "    </tr>\n",
       "    <tr>\n",
       "      <th>2020-12-30</th>\n",
       "      <td>-0.000989</td>\n",
       "      <td>-0.010882</td>\n",
       "      <td>-0.009905</td>\n",
       "      <td>0.032378</td>\n",
       "      <td>0.006417</td>\n",
       "    </tr>\n",
       "  </tbody>\n",
       "</table>\n",
       "</div>"
      ],
      "text/plain": [
       "                  ZM      AMZN      DOCU      PTON  Portfolio\n",
       "Date                                                         \n",
       "2020-12-23 -0.061418 -0.006627 -0.030008  0.009615  -0.016579\n",
       "2020-12-24 -0.022689 -0.003949  0.003606 -0.000246  -0.003977\n",
       "2020-12-28 -0.063385  0.035071 -0.064222 -0.064774  -0.043309\n",
       "2020-12-29  0.006716  0.011584 -0.004537 -0.013668  -0.002385\n",
       "2020-12-30 -0.000989 -0.010882 -0.009905  0.032378   0.006417"
      ]
     },
     "execution_count": 6,
     "metadata": {},
     "output_type": "execute_result"
    }
   ],
   "source": [
    "portfolio_weights=portfolio_weights/np.sum(portfolio_weights)\n",
    "weighted_returns_portfolio=stocks_return.mul(portfolio_weights,axis=1)\n",
    "stocks_return['Portfolio']=weighted_returns_portfolio.sum(axis=1).dropna()\n",
    "stocks_return.tail()"
   ]
  },
  {
   "cell_type": "markdown",
   "metadata": {},
   "source": [
    "### – Calculate performance\n"
   ]
  },
  {
   "cell_type": "code",
   "execution_count": 7,
   "metadata": {},
   "outputs": [
    {
     "name": "stdout",
     "output_type": "stream",
     "text": [
      "Stat                 ZM           AMZN        DOCU        PTON        Portfolio\n",
      "-------------------  -----------  ----------  ----------  ----------  -----------\n",
      "Start                2019-09-27   2019-09-27  2019-09-27  2019-09-27  2019-09-27\n",
      "End                  2020-12-30   2020-12-30  2020-12-30  2020-12-30  2020-12-30\n",
      "Risk-free rate       0.00%        0.00%       0.00%       0.00%       0.00%\n",
      "\n",
      "Total Return         -97.87%      31.57%      -64.69%     -260.40%    -126.36%\n",
      "Daily Sharpe         -1.50        -1.50       0.07        -           -0.96\n",
      "Daily Sortino        -1.51        -1.55       0.28        inf         -1.72\n",
      "CAGR                 -95.30%      24.34%      -56.24%     -           -\n",
      "Max Drawdown         -1328.75%    -313.08%    -200.92%    -398.81%    -909.34%\n",
      "Calmar Ratio         -0.07        0.08        -0.28       -           -\n",
      "\n",
      "MTD                  -106.91%     27.37%      -322.50%    -52.12%     -75.12%\n",
      "3m                   -109.99%     -988.95%    -191.30%    -364.48%    1234.06%\n",
      "6m                   -104.94%     -137.19%    -414.89%    230.78%     -54.10%\n",
      "YTD                  -105.29%     -2215.55%   -302.92%    26.28%      -53.29%\n",
      "1Y                   -143.96%     -11.19%     15.13%      26.70%      38.86%\n",
      "3Y (ann.)            -            -           -           -           -\n",
      "5Y (ann.)            -            -           -           -           -\n",
      "10Y (ann.)           -            -           -           -           -\n",
      "Since Incep. (ann.)  -95.30%      24.34%      -56.24%     -           -\n",
      "\n",
      "Daily Sharpe         -1.50        -1.50       0.07        -           -0.96\n",
      "Daily Sortino        -1.51        -1.55       0.28        inf         -1.72\n",
      "Daily Mean (ann.)    -114734.65%  -76802.16%  1704.15%    inf%        -19841.73%\n",
      "Daily Vol (ann.)     76370.55%    51043.12%   22749.18%   -           20637.17%\n",
      "Daily Skew           -16.67       -13.99      13.26       -           4.00\n",
      "Daily Kurt           288.21       224.95      213.60      -           52.23\n",
      "Best Day             3995.93%     8524.06%    23064.40%   inf%        12771.16%\n",
      "Worst Day            -83830.58%   -52647.43%  -3831.82%   -5624.22%   -8757.79%\n",
      "\n",
      "Monthly Sharpe       -1.32        0.66        -0.98       -0.50       -1.34\n",
      "Monthly Sortino      -1.79        2.24        -1.53       -0.62       -1.34\n",
      "Monthly Mean (ann.)  -1280.15%    9041.62%    -1050.99%   -1291.43%   -13905.41%\n",
      "Monthly Vol (ann.)   972.34%      13779.04%   1077.20%    2606.03%    10397.01%\n",
      "Monthly Skew         -0.18        3.02        0.45        -1.56       -3.10\n",
      "Monthly Kurt         0.81         11.13       1.07        7.23        9.85\n",
      "Best Month           451.85%      14245.55%   615.58%     1409.53%    114.51%\n",
      "Worst Month          -693.26%     -4548.53%   -591.84%    -2380.16%   -11131.15%\n",
      "\n",
      "Yearly Sharpe        -            -           -           -           -\n",
      "Yearly Sortino       -            -           -           -           -\n",
      "Yearly Mean          -105.29%     -2215.55%   -302.92%    26.28%      -53.29%\n",
      "Yearly Vol           -            -           -           -           -\n",
      "Yearly Skew          -            -           -           -           -\n",
      "Yearly Kurt          -            -           -           -           -\n",
      "Best Year            -105.29%     -2215.55%   -302.92%    26.28%      -53.29%\n",
      "Worst Year           -105.29%     -2215.55%   -302.92%    26.28%      -53.29%\n",
      "\n",
      "Avg. Drawdown        -345.25%     -201.60%    -167.47%    -190.98%    -260.94%\n",
      "Avg. Drawdown Days   64.29        63.57       63.71       55.75       44.10\n",
      "Avg. Up Month        213.22%      2862.12%    285.41%     690.44%     51.60%\n",
      "Avg. Down Month      -223.00%     -652.30%    -223.22%    -307.13%    -1461.38%\n",
      "Win Year %           0.00%        0.00%       0.00%       100.00%     0.00%\n",
      "Win 12m %            20.00%       40.00%      60.00%      40.00%      40.00%\n"
     ]
    },
    {
     "name": "stderr",
     "output_type": "stream",
     "text": [
      "c:\\Users\\fvill\\AppData\\Local\\Programs\\Python\\Python312\\Lib\\site-packages\\pandas\\core\\arraylike.py:396: RuntimeWarning: invalid value encountered in log\n",
      "  result = getattr(ufunc, method)(*inputs, **kwargs)\n",
      "c:\\Users\\fvill\\AppData\\Local\\Programs\\Python\\Python312\\Lib\\site-packages\\pandas\\core\\arraylike.py:396: RuntimeWarning: invalid value encountered in log\n",
      "  result = getattr(ufunc, method)(*inputs, **kwargs)\n",
      "c:\\Users\\fvill\\AppData\\Local\\Programs\\Python\\Python312\\Lib\\site-packages\\pandas\\core\\arraylike.py:396: RuntimeWarning: invalid value encountered in log\n",
      "  result = getattr(ufunc, method)(*inputs, **kwargs)\n",
      "c:\\Users\\fvill\\AppData\\Local\\Programs\\Python\\Python312\\Lib\\site-packages\\pandas\\core\\arraylike.py:396: RuntimeWarning: divide by zero encountered in log\n",
      "  result = getattr(ufunc, method)(*inputs, **kwargs)\n",
      "c:\\Users\\fvill\\AppData\\Local\\Programs\\Python\\Python312\\Lib\\site-packages\\pandas\\core\\arraylike.py:396: RuntimeWarning: invalid value encountered in log\n",
      "  result = getattr(ufunc, method)(*inputs, **kwargs)\n",
      "c:\\Users\\fvill\\AppData\\Local\\Programs\\Python\\Python312\\Lib\\site-packages\\pandas\\core\\nanops.py:1010: RuntimeWarning: invalid value encountered in subtract\n",
      "  sqr = _ensure_numeric((avg - values) ** 2)\n",
      "c:\\Users\\fvill\\AppData\\Local\\Programs\\Python\\Python312\\Lib\\site-packages\\ffn\\core.py:1351: RuntimeWarning: invalid value encountered in scalar power\n",
      "  return (prices.iloc[-1] / prices.iloc[0]) ** (1 / year_frac(start, end)) - 1\n",
      "c:\\Users\\fvill\\AppData\\Local\\Programs\\Python\\Python312\\Lib\\site-packages\\pandas\\core\\nanops.py:1248: RuntimeWarning: invalid value encountered in subtract\n",
      "  adjusted = values - mean\n",
      "c:\\Users\\fvill\\AppData\\Local\\Programs\\Python\\Python312\\Lib\\site-packages\\pandas\\core\\nanops.py:1336: RuntimeWarning: invalid value encountered in subtract\n",
      "  adjusted = values - mean\n",
      "c:\\Users\\fvill\\AppData\\Local\\Programs\\Python\\Python312\\Lib\\site-packages\\pandas\\core\\arraylike.py:396: RuntimeWarning: invalid value encountered in log\n",
      "  result = getattr(ufunc, method)(*inputs, **kwargs)\n",
      "c:\\Users\\fvill\\AppData\\Local\\Programs\\Python\\Python312\\Lib\\site-packages\\ffn\\core.py:1351: RuntimeWarning: invalid value encountered in scalar power\n",
      "  return (prices.iloc[-1] / prices.iloc[0]) ** (1 / year_frac(start, end)) - 1\n"
     ]
    }
   ],
   "source": [
    "performance = stocks_return.calc_stats()\n",
    "performance.display()\n"
   ]
  },
  {
   "cell_type": "markdown",
   "metadata": {},
   "source": [
    "The result of the portfolio, during the uncertainty of 2020 with a deplorable negative 126.09% of loss, a drawdown of negative 267.83% with an average of 49.11 days. The best month of the portfolio created a 113.76% but the implication of a worse month surpasses that. With this information corrections and backtesting can be created for better performance when analyzing the data. \n",
    "\n",
    "If the data wants to be seen with only one stock, the process is similar as when handling the DataFrame."
   ]
  },
  {
   "cell_type": "code",
   "execution_count": 8,
   "metadata": {},
   "outputs": [
    {
     "name": "stdout",
     "output_type": "stream",
     "text": [
      "Stats for Portfolio from 2019-09-27 00:00:00 - 2020-12-30 00:00:00\n",
      "Annual risk-free rate considered: 0.00%\n",
      "Summary:\n",
      "Total Return      Sharpe  CAGR    Max Drawdown\n",
      "--------------  --------  ------  --------------\n",
      "-126.36%           -0.96  -       -909.34%\n",
      "\n",
      "Annualized Returns:\n",
      "mtd      3m        6m       ytd      1y      3y    5y    10y    incep.\n",
      "-------  --------  -------  -------  ------  ----  ----  -----  --------\n",
      "-75.12%  1234.06%  -54.10%  -53.29%  38.86%  -     -     -      -\n",
      "\n",
      "Periodic:\n",
      "        daily       monthly     yearly\n",
      "------  ----------  ----------  --------\n",
      "sharpe  -0.96       -1.34       -\n",
      "mean    -19841.73%  -13905.41%  -53.29%\n",
      "vol     20637.17%   10397.01%   -\n",
      "skew    4.00        -3.10       -\n",
      "kurt    52.23       9.85        -\n",
      "best    12771.16%   114.51%     -53.29%\n",
      "worst   -8757.79%   -11131.15%  -53.29%\n",
      "\n",
      "Drawdowns:\n",
      "max       avg         # days\n",
      "--------  --------  --------\n",
      "-909.34%  -260.94%      44.1\n",
      "\n",
      "Misc:\n",
      "---------------  ---------\n",
      "avg. up month    51.60%\n",
      "avg. down month  -1461.38%\n",
      "up year %        0.00%\n",
      "12m up %         40.00%\n",
      "---------------  ---------\n"
     ]
    },
    {
     "name": "stderr",
     "output_type": "stream",
     "text": [
      "c:\\Users\\fvill\\AppData\\Local\\Programs\\Python\\Python312\\Lib\\site-packages\\pandas\\core\\arraylike.py:396: RuntimeWarning: invalid value encountered in log\n",
      "  result = getattr(ufunc, method)(*inputs, **kwargs)\n",
      "c:\\Users\\fvill\\AppData\\Local\\Programs\\Python\\Python312\\Lib\\site-packages\\ffn\\core.py:1351: RuntimeWarning: invalid value encountered in scalar power\n",
      "  return (prices.iloc[-1] / prices.iloc[0]) ** (1 / year_frac(start, end)) - 1\n"
     ]
    }
   ],
   "source": [
    "performance = stocks_return['Portfolio'].calc_stats()\n",
    "performance.display()"
   ]
  }
 ],
 "metadata": {
  "kernelspec": {
   "display_name": "Python 3",
   "language": "python",
   "name": "python3"
  },
  "language_info": {
   "codemirror_mode": {
    "name": "ipython",
    "version": 3
   },
   "file_extension": ".py",
   "mimetype": "text/x-python",
   "name": "python",
   "nbconvert_exporter": "python",
   "pygments_lexer": "ipython3",
   "version": "3.12.1"
  }
 },
 "nbformat": 4,
 "nbformat_minor": 2
}
