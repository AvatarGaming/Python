{
 "cells": [
  {
   "cell_type": "markdown",
   "metadata": {},
   "source": [
    "# VALUE AT RISK\n",
    "\n",
    "Abstract Focusing on the creation of portfolios for investment, this chapter aims to understand the risks of the portfolio through methods such as the Value at Risk (VaR) to determine the possible loss or gain of a portfolio. This chapter is based on an investor view and the process for executing decisions that create profitable portfolios in the short and long run.\n",
    "\n",
    "Keywords Risk · Portfolios · VaR · Backtesting\n",
    "\n",
    "The concept of Value at Risk (VaR) is one of the most interesting in finance because it analyzes the maximum loss that a portfolio may have (Damodaran 2018). This is another measure of risk that deserves to be separated from portfolio and risk because of the difference that it has with the ratios (Sharpe, Traynor, Information and Jensen) in the previous chapter. To summarize the VaR, it gives the worst loss on a certain time horizon based on the confidence level assigned to the model.\n",
    "\n",
    "## Historical VAR(95)\n",
    "\n",
    "Since the VaR is based on the confidence level, it may have different results based on a 65%, 90%, 95% or any other confidence interval. The following example is Historical VaR(95), meaning that the confidence interval will be at a 95%.\n"
   ]
  },
  {
   "cell_type": "code",
   "execution_count": 155,
   "metadata": {},
   "outputs": [],
   "source": [
    "import numpy as np\n",
    "import pandas as pd\n",
    "import yfinance as yf\n",
    "import datetime\n",
    "import matplotlib.pyplot as plt\n",
    "from scipy.stats import norm\n",
    "\n",
    "%matplotlib inline\n"
   ]
  },
  {
   "cell_type": "markdown",
   "metadata": {},
   "source": [
    "### • Choose the portfolio"
   ]
  },
  {
   "cell_type": "code",
   "execution_count": 156,
   "metadata": {},
   "outputs": [
    {
     "name": "stderr",
     "output_type": "stream",
     "text": [
      "[*********************100%%**********************]  1 of 1 completed\n",
      "[*********************100%%**********************]  1 of 1 completed\n",
      "[*********************100%%**********************]  1 of 1 completed\n",
      "[*********************100%%**********************]  1 of 1 completed\n",
      "[*********************100%%**********************]  1 of 1 completed\n"
     ]
    },
    {
     "data": {
      "text/html": [
       "<div>\n",
       "<style scoped>\n",
       "    .dataframe tbody tr th:only-of-type {\n",
       "        vertical-align: middle;\n",
       "    }\n",
       "\n",
       "    .dataframe tbody tr th {\n",
       "        vertical-align: top;\n",
       "    }\n",
       "\n",
       "    .dataframe thead th {\n",
       "        text-align: right;\n",
       "    }\n",
       "</style>\n",
       "<table border=\"1\" class=\"dataframe\">\n",
       "  <thead>\n",
       "    <tr style=\"text-align: right;\">\n",
       "      <th></th>\n",
       "      <th>AAPL</th>\n",
       "      <th>WMT</th>\n",
       "      <th>TM</th>\n",
       "      <th>KO</th>\n",
       "      <th>BA</th>\n",
       "    </tr>\n",
       "    <tr>\n",
       "      <th>Date</th>\n",
       "      <th></th>\n",
       "      <th></th>\n",
       "      <th></th>\n",
       "      <th></th>\n",
       "      <th></th>\n",
       "    </tr>\n",
       "  </thead>\n",
       "  <tbody>\n",
       "    <tr>\n",
       "      <th>2019-03-25</th>\n",
       "      <td>47.185001</td>\n",
       "      <td>98.169998</td>\n",
       "      <td>120.489998</td>\n",
       "      <td>46.029999</td>\n",
       "      <td>370.459991</td>\n",
       "    </tr>\n",
       "    <tr>\n",
       "      <th>2019-03-26</th>\n",
       "      <td>46.697498</td>\n",
       "      <td>98.320000</td>\n",
       "      <td>121.769997</td>\n",
       "      <td>46.639999</td>\n",
       "      <td>370.380005</td>\n",
       "    </tr>\n",
       "    <tr>\n",
       "      <th>2019-03-27</th>\n",
       "      <td>47.117500</td>\n",
       "      <td>97.209999</td>\n",
       "      <td>121.029999</td>\n",
       "      <td>46.610001</td>\n",
       "      <td>374.209991</td>\n",
       "    </tr>\n",
       "    <tr>\n",
       "      <th>2019-03-28</th>\n",
       "      <td>47.180000</td>\n",
       "      <td>97.129997</td>\n",
       "      <td>119.070000</td>\n",
       "      <td>46.580002</td>\n",
       "      <td>374.440002</td>\n",
       "    </tr>\n",
       "    <tr>\n",
       "      <th>2019-03-29</th>\n",
       "      <td>47.487499</td>\n",
       "      <td>97.529999</td>\n",
       "      <td>118.019997</td>\n",
       "      <td>46.860001</td>\n",
       "      <td>381.420013</td>\n",
       "    </tr>\n",
       "  </tbody>\n",
       "</table>\n",
       "</div>"
      ],
      "text/plain": [
       "                 AAPL        WMT          TM         KO          BA\n",
       "Date                                                               \n",
       "2019-03-25  47.185001  98.169998  120.489998  46.029999  370.459991\n",
       "2019-03-26  46.697498  98.320000  121.769997  46.639999  370.380005\n",
       "2019-03-27  47.117500  97.209999  121.029999  46.610001  374.209991\n",
       "2019-03-28  47.180000  97.129997  119.070000  46.580002  374.440002\n",
       "2019-03-29  47.487499  97.529999  118.019997  46.860001  381.420013"
      ]
     },
     "execution_count": 156,
     "metadata": {},
     "output_type": "execute_result"
    }
   ],
   "source": [
    "start=datetime.datetime(2018,1,2)\n",
    "end=datetime.datetime(2019,4,1)\n",
    "\n",
    "tickers=['AAPL','WMT','TM','KO','BA']\n",
    "\n",
    "stocks=pd.DataFrame()\n",
    "for x in tickers:\n",
    "    stocks[x]=yf.download(tickers=x,start=start,end=end)['Close']\n",
    "\n",
    "stocks.tail()"
   ]
  },
  {
   "cell_type": "markdown",
   "metadata": {},
   "source": [
    "### • Calculate the returns"
   ]
  },
  {
   "cell_type": "code",
   "execution_count": 157,
   "metadata": {},
   "outputs": [
    {
     "data": {
      "text/html": [
       "<div>\n",
       "<style scoped>\n",
       "    .dataframe tbody tr th:only-of-type {\n",
       "        vertical-align: middle;\n",
       "    }\n",
       "\n",
       "    .dataframe tbody tr th {\n",
       "        vertical-align: top;\n",
       "    }\n",
       "\n",
       "    .dataframe thead th {\n",
       "        text-align: right;\n",
       "    }\n",
       "</style>\n",
       "<table border=\"1\" class=\"dataframe\">\n",
       "  <thead>\n",
       "    <tr style=\"text-align: right;\">\n",
       "      <th></th>\n",
       "      <th>AAPL</th>\n",
       "      <th>WMT</th>\n",
       "      <th>TM</th>\n",
       "      <th>KO</th>\n",
       "      <th>BA</th>\n",
       "    </tr>\n",
       "    <tr>\n",
       "      <th>Date</th>\n",
       "      <th></th>\n",
       "      <th></th>\n",
       "      <th></th>\n",
       "      <th></th>\n",
       "      <th></th>\n",
       "    </tr>\n",
       "  </thead>\n",
       "  <tbody>\n",
       "    <tr>\n",
       "      <th>2019-03-25</th>\n",
       "      <td>-0.012165</td>\n",
       "      <td>-0.001120</td>\n",
       "      <td>0.002243</td>\n",
       "      <td>0.002175</td>\n",
       "      <td>0.022632</td>\n",
       "    </tr>\n",
       "    <tr>\n",
       "      <th>2019-03-26</th>\n",
       "      <td>-0.010385</td>\n",
       "      <td>0.001527</td>\n",
       "      <td>0.010567</td>\n",
       "      <td>0.013165</td>\n",
       "      <td>-0.000216</td>\n",
       "    </tr>\n",
       "    <tr>\n",
       "      <th>2019-03-27</th>\n",
       "      <td>0.008954</td>\n",
       "      <td>-0.011354</td>\n",
       "      <td>-0.006096</td>\n",
       "      <td>-0.000643</td>\n",
       "      <td>0.010288</td>\n",
       "    </tr>\n",
       "    <tr>\n",
       "      <th>2019-03-28</th>\n",
       "      <td>0.001326</td>\n",
       "      <td>-0.000823</td>\n",
       "      <td>-0.016327</td>\n",
       "      <td>-0.000644</td>\n",
       "      <td>0.000614</td>\n",
       "    </tr>\n",
       "    <tr>\n",
       "      <th>2019-03-29</th>\n",
       "      <td>0.006496</td>\n",
       "      <td>0.004110</td>\n",
       "      <td>-0.008857</td>\n",
       "      <td>0.005993</td>\n",
       "      <td>0.018470</td>\n",
       "    </tr>\n",
       "  </tbody>\n",
       "</table>\n",
       "</div>"
      ],
      "text/plain": [
       "                AAPL       WMT        TM        KO        BA\n",
       "Date                                                        \n",
       "2019-03-25 -0.012165 -0.001120  0.002243  0.002175  0.022632\n",
       "2019-03-26 -0.010385  0.001527  0.010567  0.013165 -0.000216\n",
       "2019-03-27  0.008954 -0.011354 -0.006096 -0.000643  0.010288\n",
       "2019-03-28  0.001326 -0.000823 -0.016327 -0.000644  0.000614\n",
       "2019-03-29  0.006496  0.004110 -0.008857  0.005993  0.018470"
      ]
     },
     "execution_count": 157,
     "metadata": {},
     "output_type": "execute_result"
    }
   ],
   "source": [
    "stocks_return=np.log((stocks/stocks.shift(1)))\n",
    "stocks_return.tail()"
   ]
  },
  {
   "cell_type": "markdown",
   "metadata": {},
   "source": [
    "### • Assign random portfolio weights that sum to one (1)"
   ]
  },
  {
   "cell_type": "code",
   "execution_count": 158,
   "metadata": {},
   "outputs": [
    {
     "data": {
      "text/plain": [
       "array([0.38997558, 0.18533178, 0.0283654 , 0.28352394, 0.1128033 ])"
      ]
     },
     "execution_count": 158,
     "metadata": {},
     "output_type": "execute_result"
    }
   ],
   "source": [
    "portfolio_weights = np.array(np.random.random(5))\n",
    "portfolio_weights\n",
    "portfolio_weights=portfolio_weights/np.sum(portfolio_weights)\n",
    "portfolio_weights\n"
   ]
  },
  {
   "cell_type": "markdown",
   "metadata": {},
   "source": [
    "This step is interesting because, in the Portfolio and Risk chapter, the purpose was to assign the same return to each of the stocks. In this case the np.random.random creates weights for the five (5) stocks but it often gives a number less or higher than 100%. Therefore it has to be balanced by dividing the weights in the sum to obtain a portfolio that sums 100%.\n",
    "\n",
    "### • Multiply the portfolio with the stocks"
   ]
  },
  {
   "cell_type": "code",
   "execution_count": 159,
   "metadata": {},
   "outputs": [
    {
     "data": {
      "text/html": [
       "<div>\n",
       "<style scoped>\n",
       "    .dataframe tbody tr th:only-of-type {\n",
       "        vertical-align: middle;\n",
       "    }\n",
       "\n",
       "    .dataframe tbody tr th {\n",
       "        vertical-align: top;\n",
       "    }\n",
       "\n",
       "    .dataframe thead th {\n",
       "        text-align: right;\n",
       "    }\n",
       "</style>\n",
       "<table border=\"1\" class=\"dataframe\">\n",
       "  <thead>\n",
       "    <tr style=\"text-align: right;\">\n",
       "      <th></th>\n",
       "      <th>AAPL</th>\n",
       "      <th>WMT</th>\n",
       "      <th>TM</th>\n",
       "      <th>KO</th>\n",
       "      <th>BA</th>\n",
       "    </tr>\n",
       "    <tr>\n",
       "      <th>Date</th>\n",
       "      <th></th>\n",
       "      <th></th>\n",
       "      <th></th>\n",
       "      <th></th>\n",
       "      <th></th>\n",
       "    </tr>\n",
       "  </thead>\n",
       "  <tbody>\n",
       "    <tr>\n",
       "      <th>2019-03-25</th>\n",
       "      <td>-0.004744</td>\n",
       "      <td>-0.000208</td>\n",
       "      <td>0.000064</td>\n",
       "      <td>0.000617</td>\n",
       "      <td>0.002553</td>\n",
       "    </tr>\n",
       "    <tr>\n",
       "      <th>2019-03-26</th>\n",
       "      <td>-0.004050</td>\n",
       "      <td>0.000283</td>\n",
       "      <td>0.000300</td>\n",
       "      <td>0.003733</td>\n",
       "      <td>-0.000024</td>\n",
       "    </tr>\n",
       "    <tr>\n",
       "      <th>2019-03-27</th>\n",
       "      <td>0.003492</td>\n",
       "      <td>-0.002104</td>\n",
       "      <td>-0.000173</td>\n",
       "      <td>-0.000182</td>\n",
       "      <td>0.001160</td>\n",
       "    </tr>\n",
       "    <tr>\n",
       "      <th>2019-03-28</th>\n",
       "      <td>0.000517</td>\n",
       "      <td>-0.000153</td>\n",
       "      <td>-0.000463</td>\n",
       "      <td>-0.000183</td>\n",
       "      <td>0.000069</td>\n",
       "    </tr>\n",
       "    <tr>\n",
       "      <th>2019-03-29</th>\n",
       "      <td>0.002533</td>\n",
       "      <td>0.000762</td>\n",
       "      <td>-0.000251</td>\n",
       "      <td>0.001699</td>\n",
       "      <td>0.002083</td>\n",
       "    </tr>\n",
       "  </tbody>\n",
       "</table>\n",
       "</div>"
      ],
      "text/plain": [
       "                AAPL       WMT        TM        KO        BA\n",
       "Date                                                        \n",
       "2019-03-25 -0.004744 -0.000208  0.000064  0.000617  0.002553\n",
       "2019-03-26 -0.004050  0.000283  0.000300  0.003733 -0.000024\n",
       "2019-03-27  0.003492 -0.002104 -0.000173 -0.000182  0.001160\n",
       "2019-03-28  0.000517 -0.000153 -0.000463 -0.000183  0.000069\n",
       "2019-03-29  0.002533  0.000762 -0.000251  0.001699  0.002083"
      ]
     },
     "execution_count": 159,
     "metadata": {},
     "output_type": "execute_result"
    }
   ],
   "source": [
    "weighted_returns_portfolio = stocks_return.mul(portfolio_weights,axis=1)\n",
    "weighted_returns_portfolio.tail()"
   ]
  },
  {
   "cell_type": "markdown",
   "metadata": {},
   "source": [
    "###• Convert returns to percentages and drop the missing values"
   ]
  },
  {
   "cell_type": "code",
   "execution_count": 160,
   "metadata": {},
   "outputs": [
    {
     "data": {
      "text/html": [
       "<div>\n",
       "<style scoped>\n",
       "    .dataframe tbody tr th:only-of-type {\n",
       "        vertical-align: middle;\n",
       "    }\n",
       "\n",
       "    .dataframe tbody tr th {\n",
       "        vertical-align: top;\n",
       "    }\n",
       "\n",
       "    .dataframe thead th {\n",
       "        text-align: right;\n",
       "    }\n",
       "</style>\n",
       "<table border=\"1\" class=\"dataframe\">\n",
       "  <thead>\n",
       "    <tr style=\"text-align: right;\">\n",
       "      <th></th>\n",
       "      <th>AAPL</th>\n",
       "      <th>WMT</th>\n",
       "      <th>TM</th>\n",
       "      <th>KO</th>\n",
       "      <th>BA</th>\n",
       "      <th>Portfolio</th>\n",
       "    </tr>\n",
       "    <tr>\n",
       "      <th>Date</th>\n",
       "      <th></th>\n",
       "      <th></th>\n",
       "      <th></th>\n",
       "      <th></th>\n",
       "      <th></th>\n",
       "      <th></th>\n",
       "    </tr>\n",
       "  </thead>\n",
       "  <tbody>\n",
       "    <tr>\n",
       "      <th>2019-03-25</th>\n",
       "      <td>-0.012165</td>\n",
       "      <td>-0.001120</td>\n",
       "      <td>0.002243</td>\n",
       "      <td>0.002175</td>\n",
       "      <td>0.022632</td>\n",
       "      <td>-0.171833</td>\n",
       "    </tr>\n",
       "    <tr>\n",
       "      <th>2019-03-26</th>\n",
       "      <td>-0.010385</td>\n",
       "      <td>0.001527</td>\n",
       "      <td>0.010567</td>\n",
       "      <td>0.013165</td>\n",
       "      <td>-0.000216</td>\n",
       "      <td>0.024092</td>\n",
       "    </tr>\n",
       "    <tr>\n",
       "      <th>2019-03-27</th>\n",
       "      <td>0.008954</td>\n",
       "      <td>-0.011354</td>\n",
       "      <td>-0.006096</td>\n",
       "      <td>-0.000643</td>\n",
       "      <td>0.010288</td>\n",
       "      <td>0.219272</td>\n",
       "    </tr>\n",
       "    <tr>\n",
       "      <th>2019-03-28</th>\n",
       "      <td>0.001326</td>\n",
       "      <td>-0.000823</td>\n",
       "      <td>-0.016327</td>\n",
       "      <td>-0.000644</td>\n",
       "      <td>0.000614</td>\n",
       "      <td>-0.021198</td>\n",
       "    </tr>\n",
       "    <tr>\n",
       "      <th>2019-03-29</th>\n",
       "      <td>0.006496</td>\n",
       "      <td>0.004110</td>\n",
       "      <td>-0.008857</td>\n",
       "      <td>0.005993</td>\n",
       "      <td>0.018470</td>\n",
       "      <td>0.682650</td>\n",
       "    </tr>\n",
       "  </tbody>\n",
       "</table>\n",
       "</div>"
      ],
      "text/plain": [
       "                AAPL       WMT        TM        KO        BA  Portfolio\n",
       "Date                                                                   \n",
       "2019-03-25 -0.012165 -0.001120  0.002243  0.002175  0.022632  -0.171833\n",
       "2019-03-26 -0.010385  0.001527  0.010567  0.013165 -0.000216   0.024092\n",
       "2019-03-27  0.008954 -0.011354 -0.006096 -0.000643  0.010288   0.219272\n",
       "2019-03-28  0.001326 -0.000823 -0.016327 -0.000644  0.000614  -0.021198\n",
       "2019-03-29  0.006496  0.004110 -0.008857  0.005993  0.018470   0.682650"
      ]
     },
     "execution_count": 160,
     "metadata": {},
     "output_type": "execute_result"
    }
   ],
   "source": [
    "stocks_return['Portfolio'] = weighted_returns_portfolio.sum(axis=1).dropna()\n",
    "stocks_return['Portfolio'] = stocks_return['Portfolio'] * 100\n",
    "stocks_return.tail()"
   ]
  },
  {
   "cell_type": "markdown",
   "metadata": {},
   "source": [
    "### • Calculate the VaR95"
   ]
  },
  {
   "cell_type": "code",
   "execution_count": 161,
   "metadata": {},
   "outputs": [
    {
     "data": {
      "text/plain": [
       "-2.021283218289118"
      ]
     },
     "execution_count": 161,
     "metadata": {},
     "output_type": "execute_result"
    }
   ],
   "source": [
    "var95=np.percentile(stocks_return['Portfolio'], 5)\n",
    "var95"
   ]
  },
  {
   "cell_type": "markdown",
   "metadata": {},
   "source": [
    "Based on the historical returns of the portfolio at a 95% confidence interval, the worst loss is a var95 loss, therefore the result is negative."
   ]
  },
  {
   "cell_type": "markdown",
   "metadata": {},
   "source": [
    "## Historical VAR(99)\n",
    "\n",
    "For computing the Historical VaR at a 99% confidence level the only change that has to be done is in the last part of the script, changing the np.percentile to 1, which means the 1%."
   ]
  },
  {
   "cell_type": "code",
   "execution_count": 162,
   "metadata": {},
   "outputs": [
    {
     "data": {
      "text/plain": [
       "-3.1657969556905954"
      ]
     },
     "execution_count": 162,
     "metadata": {},
     "output_type": "execute_result"
    }
   ],
   "source": [
    "var99=np.percentile(stocks_return['Portfolio'], 1)\n",
    "var99"
   ]
  },
  {
   "cell_type": "markdown",
   "metadata": {},
   "source": [
    "At a 99% confidence level the worst loss is var99 with the portfolio. Clearly the VaR is higher given that the confidence level is lower. This is rational and therefore it helps understand the process by which the VaR works, given that a higher confidence level will give a higher percentage of loss and a lower confidence level will give a lower percentage of loss."
   ]
  },
  {
   "cell_type": "markdown",
   "metadata": {},
   "source": [
    "## VAR FOR THE NEXT 10 DAYS\n",
    "\n",
    "One of the most important aspects of calculating a VAR is to calculate the effect on the investment in terms of money. As far, the VAR model has centered on the percentage loss, but for the next example the process is to analyze the VAR if USD 1 million is invested. For example, the same data set will be used.\n",
    "\n",
    "### • Choose the portfolio"
   ]
  },
  {
   "cell_type": "code",
   "execution_count": 163,
   "metadata": {},
   "outputs": [
    {
     "name": "stderr",
     "output_type": "stream",
     "text": [
      "[*********************100%%**********************]  1 of 1 completed\n",
      "[*********************100%%**********************]  1 of 1 completed\n",
      "[*********************100%%**********************]  1 of 1 completed\n",
      "[*********************100%%**********************]  1 of 1 completed\n",
      "[*********************100%%**********************]  1 of 1 completed\n"
     ]
    },
    {
     "data": {
      "text/html": [
       "<div>\n",
       "<style scoped>\n",
       "    .dataframe tbody tr th:only-of-type {\n",
       "        vertical-align: middle;\n",
       "    }\n",
       "\n",
       "    .dataframe tbody tr th {\n",
       "        vertical-align: top;\n",
       "    }\n",
       "\n",
       "    .dataframe thead th {\n",
       "        text-align: right;\n",
       "    }\n",
       "</style>\n",
       "<table border=\"1\" class=\"dataframe\">\n",
       "  <thead>\n",
       "    <tr style=\"text-align: right;\">\n",
       "      <th></th>\n",
       "      <th>AAPL</th>\n",
       "      <th>WMT</th>\n",
       "      <th>TM</th>\n",
       "      <th>KO</th>\n",
       "      <th>BA</th>\n",
       "    </tr>\n",
       "    <tr>\n",
       "      <th>Date</th>\n",
       "      <th></th>\n",
       "      <th></th>\n",
       "      <th></th>\n",
       "      <th></th>\n",
       "      <th></th>\n",
       "    </tr>\n",
       "  </thead>\n",
       "  <tbody>\n",
       "    <tr>\n",
       "      <th>2019-03-25</th>\n",
       "      <td>47.185001</td>\n",
       "      <td>98.169998</td>\n",
       "      <td>120.489998</td>\n",
       "      <td>46.029999</td>\n",
       "      <td>370.459991</td>\n",
       "    </tr>\n",
       "    <tr>\n",
       "      <th>2019-03-26</th>\n",
       "      <td>46.697498</td>\n",
       "      <td>98.320000</td>\n",
       "      <td>121.769997</td>\n",
       "      <td>46.639999</td>\n",
       "      <td>370.380005</td>\n",
       "    </tr>\n",
       "    <tr>\n",
       "      <th>2019-03-27</th>\n",
       "      <td>47.117500</td>\n",
       "      <td>97.209999</td>\n",
       "      <td>121.029999</td>\n",
       "      <td>46.610001</td>\n",
       "      <td>374.209991</td>\n",
       "    </tr>\n",
       "    <tr>\n",
       "      <th>2019-03-28</th>\n",
       "      <td>47.180000</td>\n",
       "      <td>97.129997</td>\n",
       "      <td>119.070000</td>\n",
       "      <td>46.580002</td>\n",
       "      <td>374.440002</td>\n",
       "    </tr>\n",
       "    <tr>\n",
       "      <th>2019-03-29</th>\n",
       "      <td>47.487499</td>\n",
       "      <td>97.529999</td>\n",
       "      <td>118.019997</td>\n",
       "      <td>46.860001</td>\n",
       "      <td>381.420013</td>\n",
       "    </tr>\n",
       "  </tbody>\n",
       "</table>\n",
       "</div>"
      ],
      "text/plain": [
       "                 AAPL        WMT          TM         KO          BA\n",
       "Date                                                               \n",
       "2019-03-25  47.185001  98.169998  120.489998  46.029999  370.459991\n",
       "2019-03-26  46.697498  98.320000  121.769997  46.639999  370.380005\n",
       "2019-03-27  47.117500  97.209999  121.029999  46.610001  374.209991\n",
       "2019-03-28  47.180000  97.129997  119.070000  46.580002  374.440002\n",
       "2019-03-29  47.487499  97.529999  118.019997  46.860001  381.420013"
      ]
     },
     "execution_count": 163,
     "metadata": {},
     "output_type": "execute_result"
    }
   ],
   "source": [
    "start=datetime.datetime(2018,1,2)\n",
    "end=datetime.datetime(2019,4,1)\n",
    "\n",
    "tickers=['AAPL','WMT','TM','KO','BA']\n",
    "\n",
    "stocks=pd.DataFrame()\n",
    "\n",
    "for x in tickers:\n",
    "    stocks[x]=yf.download(tickers=x,start=start,end=end)['Close']\n",
    "\n",
    "stocks.tail()"
   ]
  },
  {
   "cell_type": "markdown",
   "metadata": {},
   "source": [
    "### • Calculate the returns"
   ]
  },
  {
   "cell_type": "code",
   "execution_count": 164,
   "metadata": {},
   "outputs": [
    {
     "data": {
      "text/html": [
       "<div>\n",
       "<style scoped>\n",
       "    .dataframe tbody tr th:only-of-type {\n",
       "        vertical-align: middle;\n",
       "    }\n",
       "\n",
       "    .dataframe tbody tr th {\n",
       "        vertical-align: top;\n",
       "    }\n",
       "\n",
       "    .dataframe thead th {\n",
       "        text-align: right;\n",
       "    }\n",
       "</style>\n",
       "<table border=\"1\" class=\"dataframe\">\n",
       "  <thead>\n",
       "    <tr style=\"text-align: right;\">\n",
       "      <th></th>\n",
       "      <th>AAPL</th>\n",
       "      <th>WMT</th>\n",
       "      <th>TM</th>\n",
       "      <th>KO</th>\n",
       "      <th>BA</th>\n",
       "    </tr>\n",
       "    <tr>\n",
       "      <th>Date</th>\n",
       "      <th></th>\n",
       "      <th></th>\n",
       "      <th></th>\n",
       "      <th></th>\n",
       "      <th></th>\n",
       "    </tr>\n",
       "  </thead>\n",
       "  <tbody>\n",
       "    <tr>\n",
       "      <th>2019-03-25</th>\n",
       "      <td>-0.012165</td>\n",
       "      <td>-0.001120</td>\n",
       "      <td>0.002243</td>\n",
       "      <td>0.002175</td>\n",
       "      <td>0.022632</td>\n",
       "    </tr>\n",
       "    <tr>\n",
       "      <th>2019-03-26</th>\n",
       "      <td>-0.010385</td>\n",
       "      <td>0.001527</td>\n",
       "      <td>0.010567</td>\n",
       "      <td>0.013165</td>\n",
       "      <td>-0.000216</td>\n",
       "    </tr>\n",
       "    <tr>\n",
       "      <th>2019-03-27</th>\n",
       "      <td>0.008954</td>\n",
       "      <td>-0.011354</td>\n",
       "      <td>-0.006096</td>\n",
       "      <td>-0.000643</td>\n",
       "      <td>0.010288</td>\n",
       "    </tr>\n",
       "    <tr>\n",
       "      <th>2019-03-28</th>\n",
       "      <td>0.001326</td>\n",
       "      <td>-0.000823</td>\n",
       "      <td>-0.016327</td>\n",
       "      <td>-0.000644</td>\n",
       "      <td>0.000614</td>\n",
       "    </tr>\n",
       "    <tr>\n",
       "      <th>2019-03-29</th>\n",
       "      <td>0.006496</td>\n",
       "      <td>0.004110</td>\n",
       "      <td>-0.008857</td>\n",
       "      <td>0.005993</td>\n",
       "      <td>0.018470</td>\n",
       "    </tr>\n",
       "  </tbody>\n",
       "</table>\n",
       "</div>"
      ],
      "text/plain": [
       "                AAPL       WMT        TM        KO        BA\n",
       "Date                                                        \n",
       "2019-03-25 -0.012165 -0.001120  0.002243  0.002175  0.022632\n",
       "2019-03-26 -0.010385  0.001527  0.010567  0.013165 -0.000216\n",
       "2019-03-27  0.008954 -0.011354 -0.006096 -0.000643  0.010288\n",
       "2019-03-28  0.001326 -0.000823 -0.016327 -0.000644  0.000614\n",
       "2019-03-29  0.006496  0.004110 -0.008857  0.005993  0.018470"
      ]
     },
     "execution_count": 164,
     "metadata": {},
     "output_type": "execute_result"
    }
   ],
   "source": [
    "stocks_return=np.log((stocks/stocks.shift(1)))\n",
    "stocks_return.tail()"
   ]
  },
  {
   "cell_type": "markdown",
   "metadata": {},
   "source": [
    "### • Assign random portfolio weights that sum to one (1)"
   ]
  },
  {
   "cell_type": "code",
   "execution_count": 165,
   "metadata": {},
   "outputs": [
    {
     "data": {
      "text/plain": [
       "array([0.02478321, 0.22097733, 0.35051365, 0.04556821, 0.3581576 ])"
      ]
     },
     "execution_count": 165,
     "metadata": {},
     "output_type": "execute_result"
    }
   ],
   "source": [
    "portfolio_weights = np.array(np.random.random(5))\n",
    "portfolio_weights\n",
    "portfolio_weights=portfolio_weights/np.sum(portfolio_weights)\n",
    "portfolio_weights"
   ]
  },
  {
   "cell_type": "markdown",
   "metadata": {},
   "source": [
    "### • Multiply the portfolio with the stocks"
   ]
  },
  {
   "cell_type": "code",
   "execution_count": 166,
   "metadata": {},
   "outputs": [
    {
     "data": {
      "text/html": [
       "<div>\n",
       "<style scoped>\n",
       "    .dataframe tbody tr th:only-of-type {\n",
       "        vertical-align: middle;\n",
       "    }\n",
       "\n",
       "    .dataframe tbody tr th {\n",
       "        vertical-align: top;\n",
       "    }\n",
       "\n",
       "    .dataframe thead th {\n",
       "        text-align: right;\n",
       "    }\n",
       "</style>\n",
       "<table border=\"1\" class=\"dataframe\">\n",
       "  <thead>\n",
       "    <tr style=\"text-align: right;\">\n",
       "      <th></th>\n",
       "      <th>AAPL</th>\n",
       "      <th>WMT</th>\n",
       "      <th>TM</th>\n",
       "      <th>KO</th>\n",
       "      <th>BA</th>\n",
       "    </tr>\n",
       "    <tr>\n",
       "      <th>Date</th>\n",
       "      <th></th>\n",
       "      <th></th>\n",
       "      <th></th>\n",
       "      <th></th>\n",
       "      <th></th>\n",
       "    </tr>\n",
       "  </thead>\n",
       "  <tbody>\n",
       "    <tr>\n",
       "      <th>2019-03-25</th>\n",
       "      <td>-0.000301</td>\n",
       "      <td>-0.000247</td>\n",
       "      <td>0.000786</td>\n",
       "      <td>0.000099</td>\n",
       "      <td>0.008106</td>\n",
       "    </tr>\n",
       "    <tr>\n",
       "      <th>2019-03-26</th>\n",
       "      <td>-0.000257</td>\n",
       "      <td>0.000337</td>\n",
       "      <td>0.003704</td>\n",
       "      <td>0.000600</td>\n",
       "      <td>-0.000077</td>\n",
       "    </tr>\n",
       "    <tr>\n",
       "      <th>2019-03-27</th>\n",
       "      <td>0.000222</td>\n",
       "      <td>-0.002509</td>\n",
       "      <td>-0.002137</td>\n",
       "      <td>-0.000029</td>\n",
       "      <td>0.003685</td>\n",
       "    </tr>\n",
       "    <tr>\n",
       "      <th>2019-03-28</th>\n",
       "      <td>0.000033</td>\n",
       "      <td>-0.000182</td>\n",
       "      <td>-0.005723</td>\n",
       "      <td>-0.000029</td>\n",
       "      <td>0.000220</td>\n",
       "    </tr>\n",
       "    <tr>\n",
       "      <th>2019-03-29</th>\n",
       "      <td>0.000161</td>\n",
       "      <td>0.000908</td>\n",
       "      <td>-0.003105</td>\n",
       "      <td>0.000273</td>\n",
       "      <td>0.006615</td>\n",
       "    </tr>\n",
       "  </tbody>\n",
       "</table>\n",
       "</div>"
      ],
      "text/plain": [
       "                AAPL       WMT        TM        KO        BA\n",
       "Date                                                        \n",
       "2019-03-25 -0.000301 -0.000247  0.000786  0.000099  0.008106\n",
       "2019-03-26 -0.000257  0.000337  0.003704  0.000600 -0.000077\n",
       "2019-03-27  0.000222 -0.002509 -0.002137 -0.000029  0.003685\n",
       "2019-03-28  0.000033 -0.000182 -0.005723 -0.000029  0.000220\n",
       "2019-03-29  0.000161  0.000908 -0.003105  0.000273  0.006615"
      ]
     },
     "execution_count": 166,
     "metadata": {},
     "output_type": "execute_result"
    }
   ],
   "source": [
    "weighted_returns_portfolio = stocks_return.mul(portfolio_weights,axis=1)\n",
    "\n",
    "weighted_returns_portfolio.tail()"
   ]
  },
  {
   "cell_type": "markdown",
   "metadata": {},
   "source": [
    "### • Calculate the returns based on the weights"
   ]
  },
  {
   "cell_type": "code",
   "execution_count": 167,
   "metadata": {},
   "outputs": [
    {
     "data": {
      "text/html": [
       "<div>\n",
       "<style scoped>\n",
       "    .dataframe tbody tr th:only-of-type {\n",
       "        vertical-align: middle;\n",
       "    }\n",
       "\n",
       "    .dataframe tbody tr th {\n",
       "        vertical-align: top;\n",
       "    }\n",
       "\n",
       "    .dataframe thead th {\n",
       "        text-align: right;\n",
       "    }\n",
       "</style>\n",
       "<table border=\"1\" class=\"dataframe\">\n",
       "  <thead>\n",
       "    <tr style=\"text-align: right;\">\n",
       "      <th></th>\n",
       "      <th>AAPL</th>\n",
       "      <th>WMT</th>\n",
       "      <th>TM</th>\n",
       "      <th>KO</th>\n",
       "      <th>BA</th>\n",
       "      <th>Portfolio</th>\n",
       "    </tr>\n",
       "    <tr>\n",
       "      <th>Date</th>\n",
       "      <th></th>\n",
       "      <th></th>\n",
       "      <th></th>\n",
       "      <th></th>\n",
       "      <th></th>\n",
       "      <th></th>\n",
       "    </tr>\n",
       "  </thead>\n",
       "  <tbody>\n",
       "    <tr>\n",
       "      <th>2019-03-25</th>\n",
       "      <td>-0.012165</td>\n",
       "      <td>-0.001120</td>\n",
       "      <td>0.002243</td>\n",
       "      <td>0.002175</td>\n",
       "      <td>0.022632</td>\n",
       "      <td>0.008442</td>\n",
       "    </tr>\n",
       "    <tr>\n",
       "      <th>2019-03-26</th>\n",
       "      <td>-0.010385</td>\n",
       "      <td>0.001527</td>\n",
       "      <td>0.010567</td>\n",
       "      <td>0.013165</td>\n",
       "      <td>-0.000216</td>\n",
       "      <td>0.004307</td>\n",
       "    </tr>\n",
       "    <tr>\n",
       "      <th>2019-03-27</th>\n",
       "      <td>0.008954</td>\n",
       "      <td>-0.011354</td>\n",
       "      <td>-0.006096</td>\n",
       "      <td>-0.000643</td>\n",
       "      <td>0.010288</td>\n",
       "      <td>-0.000768</td>\n",
       "    </tr>\n",
       "    <tr>\n",
       "      <th>2019-03-28</th>\n",
       "      <td>0.001326</td>\n",
       "      <td>-0.000823</td>\n",
       "      <td>-0.016327</td>\n",
       "      <td>-0.000644</td>\n",
       "      <td>0.000614</td>\n",
       "      <td>-0.005681</td>\n",
       "    </tr>\n",
       "    <tr>\n",
       "      <th>2019-03-29</th>\n",
       "      <td>0.006496</td>\n",
       "      <td>0.004110</td>\n",
       "      <td>-0.008857</td>\n",
       "      <td>0.005993</td>\n",
       "      <td>0.018470</td>\n",
       "      <td>0.004853</td>\n",
       "    </tr>\n",
       "  </tbody>\n",
       "</table>\n",
       "</div>"
      ],
      "text/plain": [
       "                AAPL       WMT        TM        KO        BA  Portfolio\n",
       "Date                                                                   \n",
       "2019-03-25 -0.012165 -0.001120  0.002243  0.002175  0.022632   0.008442\n",
       "2019-03-26 -0.010385  0.001527  0.010567  0.013165 -0.000216   0.004307\n",
       "2019-03-27  0.008954 -0.011354 -0.006096 -0.000643  0.010288  -0.000768\n",
       "2019-03-28  0.001326 -0.000823 -0.016327 -0.000644  0.000614  -0.005681\n",
       "2019-03-29  0.006496  0.004110 -0.008857  0.005993  0.018470   0.004853"
      ]
     },
     "execution_count": 167,
     "metadata": {},
     "output_type": "execute_result"
    }
   ],
   "source": [
    "stocks_return['Portfolio']=weighted_returns_portfolio.sum(axis=1).dropna()\n",
    "stocks_return.tail()"
   ]
  },
  {
   "cell_type": "markdown",
   "metadata": {},
   "source": [
    "### • Determine the average (mu) of the returns"
   ]
  },
  {
   "cell_type": "code",
   "execution_count": 168,
   "metadata": {},
   "outputs": [
    {
     "data": {
      "text/plain": [
       "0.00019764062257805997"
      ]
     },
     "execution_count": 168,
     "metadata": {},
     "output_type": "execute_result"
    }
   ],
   "source": [
    "mu=stocks_return['Portfolio'].mean()\n",
    "mu"
   ]
  },
  {
   "cell_type": "markdown",
   "metadata": {},
   "source": [
    "### • Determine the standard deviation (sigma) of the returns"
   ]
  },
  {
   "cell_type": "code",
   "execution_count": 169,
   "metadata": {},
   "outputs": [
    {
     "data": {
      "text/plain": [
       "0.011697673571734728"
      ]
     },
     "execution_count": 169,
     "metadata": {},
     "output_type": "execute_result"
    }
   ],
   "source": [
    "sigma=stocks_return['Portfolio'].std()\n",
    "sigma"
   ]
  },
  {
   "cell_type": "markdown",
   "metadata": {},
   "source": [
    "### • Assign a confidence level to the VaR (99% for this example)"
   ]
  },
  {
   "cell_type": "code",
   "execution_count": 170,
   "metadata": {},
   "outputs": [
    {
     "data": {
      "text/plain": [
       "0.99"
      ]
     },
     "execution_count": 170,
     "metadata": {},
     "output_type": "execute_result"
    }
   ],
   "source": [
    "confidence=0.99\n",
    "confidence"
   ]
  },
  {
   "cell_type": "markdown",
   "metadata": {},
   "source": [
    "### • Calculate the alpha"
   ]
  },
  {
   "cell_type": "code",
   "execution_count": 171,
   "metadata": {},
   "outputs": [
    {
     "data": {
      "text/plain": [
       "-2.3263478740408408"
      ]
     },
     "execution_count": 171,
     "metadata": {},
     "output_type": "execute_result"
    }
   ],
   "source": [
    "alpha=norm.ppf(1-confidence)\n",
    "alpha"
   ]
  },
  {
   "cell_type": "markdown",
   "metadata": {},
   "source": [
    "For this example, the norm.ppf is being used, the reason for this is that it determines the probability density function of one (1) minus the confidence interval. This is useful because it determines the probability of the VAR. It is a similar process to the np.percentile.\n",
    "\n",
    "### • Create a position\n"
   ]
  },
  {
   "cell_type": "code",
   "execution_count": 172,
   "metadata": {},
   "outputs": [
    {
     "data": {
      "text/plain": [
       "1000000.0"
      ]
     },
     "execution_count": 172,
     "metadata": {},
     "output_type": "execute_result"
    }
   ],
   "source": [
    "position=1e6\n",
    "position"
   ]
  },
  {
   "cell_type": "markdown",
   "metadata": {},
   "source": [
    "The position is the investment on the portfolio. Since the portfolio was created, in this case the investment is USD 1 million. The interesting aspect of using 1e6 for a million is to include a complex number structure that is easier to write. The other choice would have been to write the 1,000,000.\n",
    "\n",
    "### • Calculate the VaR\n"
   ]
  },
  {
   "cell_type": "code",
   "execution_count": null,
   "metadata": {},
   "outputs": [],
   "source": []
  }
 ],
 "metadata": {
  "kernelspec": {
   "display_name": "Python 3",
   "language": "python",
   "name": "python3"
  },
  "language_info": {
   "codemirror_mode": {
    "name": "ipython",
    "version": 3
   },
   "file_extension": ".py",
   "mimetype": "text/x-python",
   "name": "python",
   "nbconvert_exporter": "python",
   "pygments_lexer": "ipython3",
   "version": "3.12.1"
  }
 },
 "nbformat": 4,
 "nbformat_minor": 2
}
