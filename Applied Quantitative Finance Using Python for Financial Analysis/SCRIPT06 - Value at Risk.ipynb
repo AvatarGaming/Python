{
 "cells": [
  {
   "cell_type": "markdown",
   "metadata": {},
   "source": [
    "# VALUE AT RISK\n",
    "\n",
    "Abstract Focusing on the creation of portfolios for investment, this chapter aims to understand the risks of the portfolio through methods such as the Value at Risk (VaR) to determine the possible loss or gain of a portfolio. This chapter is based on an investor view and the process for executing decisions that create profitable portfolios in the short and long run.\n",
    "\n",
    "Keywords Risk · Portfolios · VaR · Backtesting\n",
    "\n",
    "The concept of Value at Risk (VaR) is one of the most interesting in finance because it analyzes the maximum loss that a portfolio may have (Damodaran 2018). This is another measure of risk that deserves to be separated from portfolio and risk because of the difference that it has with the ratios (Sharpe, Traynor, Information and Jensen) in the previous chapter. To summarize the VaR, it gives the worst loss on a certain time horizon based on the confidence level assigned to the model.\n",
    "\n",
    "## Historical VAR(95)\n",
    "\n",
    "Since the VaR is based on the confidence level, it may have different results based on a 65%, 90%, 95% or any other confidence interval. The following example is Historical VaR(95), meaning that the confidence interval will be at a 95%.\n"
   ]
  },
  {
   "cell_type": "code",
   "execution_count": 27,
   "metadata": {},
   "outputs": [],
   "source": [
    "import numpy as np\n",
    "import pandas as pd\n",
    "import yfinance as yf\n",
    "import datetime\n",
    "import matplotlib.pyplot as plt\n",
    "from scipy.stats import norm\n",
    "\n",
    "%matplotlib inline\n"
   ]
  },
  {
   "cell_type": "markdown",
   "metadata": {},
   "source": [
    "### • Choose the portfolio"
   ]
  },
  {
   "cell_type": "code",
   "execution_count": 28,
   "metadata": {},
   "outputs": [
    {
     "name": "stderr",
     "output_type": "stream",
     "text": [
      "[*********************100%%**********************]  1 of 1 completed\n",
      "[*********************100%%**********************]  1 of 1 completed\n",
      "[*********************100%%**********************]  1 of 1 completed\n",
      "[*********************100%%**********************]  1 of 1 completed\n",
      "[*********************100%%**********************]  1 of 1 completed\n"
     ]
    },
    {
     "data": {
      "text/html": [
       "<div>\n",
       "<style scoped>\n",
       "    .dataframe tbody tr th:only-of-type {\n",
       "        vertical-align: middle;\n",
       "    }\n",
       "\n",
       "    .dataframe tbody tr th {\n",
       "        vertical-align: top;\n",
       "    }\n",
       "\n",
       "    .dataframe thead th {\n",
       "        text-align: right;\n",
       "    }\n",
       "</style>\n",
       "<table border=\"1\" class=\"dataframe\">\n",
       "  <thead>\n",
       "    <tr style=\"text-align: right;\">\n",
       "      <th></th>\n",
       "      <th>AAPL</th>\n",
       "      <th>WMT</th>\n",
       "      <th>TM</th>\n",
       "      <th>KO</th>\n",
       "      <th>BA</th>\n",
       "    </tr>\n",
       "    <tr>\n",
       "      <th>Date</th>\n",
       "      <th></th>\n",
       "      <th></th>\n",
       "      <th></th>\n",
       "      <th></th>\n",
       "      <th></th>\n",
       "    </tr>\n",
       "  </thead>\n",
       "  <tbody>\n",
       "    <tr>\n",
       "      <th>2019-03-25</th>\n",
       "      <td>47.185001</td>\n",
       "      <td>98.169998</td>\n",
       "      <td>120.489998</td>\n",
       "      <td>46.029999</td>\n",
       "      <td>370.459991</td>\n",
       "    </tr>\n",
       "    <tr>\n",
       "      <th>2019-03-26</th>\n",
       "      <td>46.697498</td>\n",
       "      <td>98.320000</td>\n",
       "      <td>121.769997</td>\n",
       "      <td>46.639999</td>\n",
       "      <td>370.380005</td>\n",
       "    </tr>\n",
       "    <tr>\n",
       "      <th>2019-03-27</th>\n",
       "      <td>47.117500</td>\n",
       "      <td>97.209999</td>\n",
       "      <td>121.029999</td>\n",
       "      <td>46.610001</td>\n",
       "      <td>374.209991</td>\n",
       "    </tr>\n",
       "    <tr>\n",
       "      <th>2019-03-28</th>\n",
       "      <td>47.180000</td>\n",
       "      <td>97.129997</td>\n",
       "      <td>119.070000</td>\n",
       "      <td>46.580002</td>\n",
       "      <td>374.440002</td>\n",
       "    </tr>\n",
       "    <tr>\n",
       "      <th>2019-03-29</th>\n",
       "      <td>47.487499</td>\n",
       "      <td>97.529999</td>\n",
       "      <td>118.019997</td>\n",
       "      <td>46.860001</td>\n",
       "      <td>381.420013</td>\n",
       "    </tr>\n",
       "  </tbody>\n",
       "</table>\n",
       "</div>"
      ],
      "text/plain": [
       "                 AAPL        WMT          TM         KO          BA\n",
       "Date                                                               \n",
       "2019-03-25  47.185001  98.169998  120.489998  46.029999  370.459991\n",
       "2019-03-26  46.697498  98.320000  121.769997  46.639999  370.380005\n",
       "2019-03-27  47.117500  97.209999  121.029999  46.610001  374.209991\n",
       "2019-03-28  47.180000  97.129997  119.070000  46.580002  374.440002\n",
       "2019-03-29  47.487499  97.529999  118.019997  46.860001  381.420013"
      ]
     },
     "execution_count": 28,
     "metadata": {},
     "output_type": "execute_result"
    }
   ],
   "source": [
    "start=datetime.datetime(2018,1,2)\n",
    "end=datetime.datetime(2019,4,1)\n",
    "\n",
    "tickers=['AAPL','WMT','TM','KO','BA']\n",
    "\n",
    "stocks=pd.DataFrame()\n",
    "for x in tickers:\n",
    "    stocks[x]=yf.download(tickers=x,start=start,end=end)['Close']\n",
    "\n",
    "stocks.tail()"
   ]
  },
  {
   "cell_type": "markdown",
   "metadata": {},
   "source": [
    "### • Calculate the returns"
   ]
  },
  {
   "cell_type": "code",
   "execution_count": 29,
   "metadata": {},
   "outputs": [
    {
     "data": {
      "text/html": [
       "<div>\n",
       "<style scoped>\n",
       "    .dataframe tbody tr th:only-of-type {\n",
       "        vertical-align: middle;\n",
       "    }\n",
       "\n",
       "    .dataframe tbody tr th {\n",
       "        vertical-align: top;\n",
       "    }\n",
       "\n",
       "    .dataframe thead th {\n",
       "        text-align: right;\n",
       "    }\n",
       "</style>\n",
       "<table border=\"1\" class=\"dataframe\">\n",
       "  <thead>\n",
       "    <tr style=\"text-align: right;\">\n",
       "      <th></th>\n",
       "      <th>AAPL</th>\n",
       "      <th>WMT</th>\n",
       "      <th>TM</th>\n",
       "      <th>KO</th>\n",
       "      <th>BA</th>\n",
       "    </tr>\n",
       "    <tr>\n",
       "      <th>Date</th>\n",
       "      <th></th>\n",
       "      <th></th>\n",
       "      <th></th>\n",
       "      <th></th>\n",
       "      <th></th>\n",
       "    </tr>\n",
       "  </thead>\n",
       "  <tbody>\n",
       "    <tr>\n",
       "      <th>2019-03-25</th>\n",
       "      <td>-0.012165</td>\n",
       "      <td>-0.001120</td>\n",
       "      <td>0.002243</td>\n",
       "      <td>0.002175</td>\n",
       "      <td>0.022632</td>\n",
       "    </tr>\n",
       "    <tr>\n",
       "      <th>2019-03-26</th>\n",
       "      <td>-0.010385</td>\n",
       "      <td>0.001527</td>\n",
       "      <td>0.010567</td>\n",
       "      <td>0.013165</td>\n",
       "      <td>-0.000216</td>\n",
       "    </tr>\n",
       "    <tr>\n",
       "      <th>2019-03-27</th>\n",
       "      <td>0.008954</td>\n",
       "      <td>-0.011354</td>\n",
       "      <td>-0.006096</td>\n",
       "      <td>-0.000643</td>\n",
       "      <td>0.010288</td>\n",
       "    </tr>\n",
       "    <tr>\n",
       "      <th>2019-03-28</th>\n",
       "      <td>0.001326</td>\n",
       "      <td>-0.000823</td>\n",
       "      <td>-0.016327</td>\n",
       "      <td>-0.000644</td>\n",
       "      <td>0.000614</td>\n",
       "    </tr>\n",
       "    <tr>\n",
       "      <th>2019-03-29</th>\n",
       "      <td>0.006496</td>\n",
       "      <td>0.004110</td>\n",
       "      <td>-0.008857</td>\n",
       "      <td>0.005993</td>\n",
       "      <td>0.018470</td>\n",
       "    </tr>\n",
       "  </tbody>\n",
       "</table>\n",
       "</div>"
      ],
      "text/plain": [
       "                AAPL       WMT        TM        KO        BA\n",
       "Date                                                        \n",
       "2019-03-25 -0.012165 -0.001120  0.002243  0.002175  0.022632\n",
       "2019-03-26 -0.010385  0.001527  0.010567  0.013165 -0.000216\n",
       "2019-03-27  0.008954 -0.011354 -0.006096 -0.000643  0.010288\n",
       "2019-03-28  0.001326 -0.000823 -0.016327 -0.000644  0.000614\n",
       "2019-03-29  0.006496  0.004110 -0.008857  0.005993  0.018470"
      ]
     },
     "execution_count": 29,
     "metadata": {},
     "output_type": "execute_result"
    }
   ],
   "source": [
    "stocks_return=np.log((stocks/stocks.shift(1)))\n",
    "stocks_return.tail()"
   ]
  },
  {
   "cell_type": "markdown",
   "metadata": {},
   "source": [
    "### • Assign random portfolio weights that sum to one (1)"
   ]
  },
  {
   "cell_type": "code",
   "execution_count": 30,
   "metadata": {},
   "outputs": [
    {
     "data": {
      "text/plain": [
       "array([0.12354394, 0.31764259, 0.16961075, 0.08193349, 0.30726923])"
      ]
     },
     "execution_count": 30,
     "metadata": {},
     "output_type": "execute_result"
    }
   ],
   "source": [
    "portfolio_weights = np.array(np.random.random(5))\n",
    "portfolio_weights\n",
    "portfolio_weights=portfolio_weights/np.sum(portfolio_weights)\n",
    "portfolio_weights\n"
   ]
  },
  {
   "cell_type": "markdown",
   "metadata": {},
   "source": [
    "This step is interesting because, in the Portfolio and Risk chapter, the purpose was to assign the same return to each of the stocks. In this case the np.random.random creates weights for the five (5) stocks but it often gives a number less or higher than 100%. Therefore it has to be balanced by dividing the weights in the sum to obtain a portfolio that sums 100%.\n",
    "\n",
    "### • Multiply the portfolio with the stocks"
   ]
  },
  {
   "cell_type": "code",
   "execution_count": 31,
   "metadata": {},
   "outputs": [
    {
     "data": {
      "text/html": [
       "<div>\n",
       "<style scoped>\n",
       "    .dataframe tbody tr th:only-of-type {\n",
       "        vertical-align: middle;\n",
       "    }\n",
       "\n",
       "    .dataframe tbody tr th {\n",
       "        vertical-align: top;\n",
       "    }\n",
       "\n",
       "    .dataframe thead th {\n",
       "        text-align: right;\n",
       "    }\n",
       "</style>\n",
       "<table border=\"1\" class=\"dataframe\">\n",
       "  <thead>\n",
       "    <tr style=\"text-align: right;\">\n",
       "      <th></th>\n",
       "      <th>AAPL</th>\n",
       "      <th>WMT</th>\n",
       "      <th>TM</th>\n",
       "      <th>KO</th>\n",
       "      <th>BA</th>\n",
       "    </tr>\n",
       "    <tr>\n",
       "      <th>Date</th>\n",
       "      <th></th>\n",
       "      <th></th>\n",
       "      <th></th>\n",
       "      <th></th>\n",
       "      <th></th>\n",
       "    </tr>\n",
       "  </thead>\n",
       "  <tbody>\n",
       "    <tr>\n",
       "      <th>2019-03-25</th>\n",
       "      <td>-0.001503</td>\n",
       "      <td>-0.000356</td>\n",
       "      <td>0.000380</td>\n",
       "      <td>0.000178</td>\n",
       "      <td>0.006954</td>\n",
       "    </tr>\n",
       "    <tr>\n",
       "      <th>2019-03-26</th>\n",
       "      <td>-0.001283</td>\n",
       "      <td>0.000485</td>\n",
       "      <td>0.001792</td>\n",
       "      <td>0.001079</td>\n",
       "      <td>-0.000066</td>\n",
       "    </tr>\n",
       "    <tr>\n",
       "      <th>2019-03-27</th>\n",
       "      <td>0.001106</td>\n",
       "      <td>-0.003606</td>\n",
       "      <td>-0.001034</td>\n",
       "      <td>-0.000053</td>\n",
       "      <td>0.003161</td>\n",
       "    </tr>\n",
       "    <tr>\n",
       "      <th>2019-03-28</th>\n",
       "      <td>0.000164</td>\n",
       "      <td>-0.000262</td>\n",
       "      <td>-0.002769</td>\n",
       "      <td>-0.000053</td>\n",
       "      <td>0.000189</td>\n",
       "    </tr>\n",
       "    <tr>\n",
       "      <th>2019-03-29</th>\n",
       "      <td>0.000803</td>\n",
       "      <td>0.001305</td>\n",
       "      <td>-0.001502</td>\n",
       "      <td>0.000491</td>\n",
       "      <td>0.005675</td>\n",
       "    </tr>\n",
       "  </tbody>\n",
       "</table>\n",
       "</div>"
      ],
      "text/plain": [
       "                AAPL       WMT        TM        KO        BA\n",
       "Date                                                        \n",
       "2019-03-25 -0.001503 -0.000356  0.000380  0.000178  0.006954\n",
       "2019-03-26 -0.001283  0.000485  0.001792  0.001079 -0.000066\n",
       "2019-03-27  0.001106 -0.003606 -0.001034 -0.000053  0.003161\n",
       "2019-03-28  0.000164 -0.000262 -0.002769 -0.000053  0.000189\n",
       "2019-03-29  0.000803  0.001305 -0.001502  0.000491  0.005675"
      ]
     },
     "execution_count": 31,
     "metadata": {},
     "output_type": "execute_result"
    }
   ],
   "source": [
    "weighted_returns_portfolio = stocks_return.mul(portfolio_weights,axis=1)\n",
    "weighted_returns_portfolio.tail()"
   ]
  },
  {
   "cell_type": "markdown",
   "metadata": {},
   "source": [
    "###• Convert returns to percentages and drop the missing values"
   ]
  },
  {
   "cell_type": "code",
   "execution_count": 32,
   "metadata": {},
   "outputs": [
    {
     "data": {
      "text/html": [
       "<div>\n",
       "<style scoped>\n",
       "    .dataframe tbody tr th:only-of-type {\n",
       "        vertical-align: middle;\n",
       "    }\n",
       "\n",
       "    .dataframe tbody tr th {\n",
       "        vertical-align: top;\n",
       "    }\n",
       "\n",
       "    .dataframe thead th {\n",
       "        text-align: right;\n",
       "    }\n",
       "</style>\n",
       "<table border=\"1\" class=\"dataframe\">\n",
       "  <thead>\n",
       "    <tr style=\"text-align: right;\">\n",
       "      <th></th>\n",
       "      <th>AAPL</th>\n",
       "      <th>WMT</th>\n",
       "      <th>TM</th>\n",
       "      <th>KO</th>\n",
       "      <th>BA</th>\n",
       "      <th>Portfolio</th>\n",
       "    </tr>\n",
       "    <tr>\n",
       "      <th>Date</th>\n",
       "      <th></th>\n",
       "      <th></th>\n",
       "      <th></th>\n",
       "      <th></th>\n",
       "      <th></th>\n",
       "      <th></th>\n",
       "    </tr>\n",
       "  </thead>\n",
       "  <tbody>\n",
       "    <tr>\n",
       "      <th>2019-03-25</th>\n",
       "      <td>-0.012165</td>\n",
       "      <td>-0.001120</td>\n",
       "      <td>0.002243</td>\n",
       "      <td>0.002175</td>\n",
       "      <td>0.022632</td>\n",
       "      <td>0.565411</td>\n",
       "    </tr>\n",
       "    <tr>\n",
       "      <th>2019-03-26</th>\n",
       "      <td>-0.010385</td>\n",
       "      <td>0.001527</td>\n",
       "      <td>0.010567</td>\n",
       "      <td>0.013165</td>\n",
       "      <td>-0.000216</td>\n",
       "      <td>0.200656</td>\n",
       "    </tr>\n",
       "    <tr>\n",
       "      <th>2019-03-27</th>\n",
       "      <td>0.008954</td>\n",
       "      <td>-0.011354</td>\n",
       "      <td>-0.006096</td>\n",
       "      <td>-0.000643</td>\n",
       "      <td>0.010288</td>\n",
       "      <td>-0.042580</td>\n",
       "    </tr>\n",
       "    <tr>\n",
       "      <th>2019-03-28</th>\n",
       "      <td>0.001326</td>\n",
       "      <td>-0.000823</td>\n",
       "      <td>-0.016327</td>\n",
       "      <td>-0.000644</td>\n",
       "      <td>0.000614</td>\n",
       "      <td>-0.273091</td>\n",
       "    </tr>\n",
       "    <tr>\n",
       "      <th>2019-03-29</th>\n",
       "      <td>0.006496</td>\n",
       "      <td>0.004110</td>\n",
       "      <td>-0.008857</td>\n",
       "      <td>0.005993</td>\n",
       "      <td>0.018470</td>\n",
       "      <td>0.677188</td>\n",
       "    </tr>\n",
       "  </tbody>\n",
       "</table>\n",
       "</div>"
      ],
      "text/plain": [
       "                AAPL       WMT        TM        KO        BA  Portfolio\n",
       "Date                                                                   \n",
       "2019-03-25 -0.012165 -0.001120  0.002243  0.002175  0.022632   0.565411\n",
       "2019-03-26 -0.010385  0.001527  0.010567  0.013165 -0.000216   0.200656\n",
       "2019-03-27  0.008954 -0.011354 -0.006096 -0.000643  0.010288  -0.042580\n",
       "2019-03-28  0.001326 -0.000823 -0.016327 -0.000644  0.000614  -0.273091\n",
       "2019-03-29  0.006496  0.004110 -0.008857  0.005993  0.018470   0.677188"
      ]
     },
     "execution_count": 32,
     "metadata": {},
     "output_type": "execute_result"
    }
   ],
   "source": [
    "stocks_return['Portfolio'] = weighted_returns_portfolio.sum(axis=1).dropna()\n",
    "stocks_return['Portfolio'] = stocks_return['Portfolio'] * 100\n",
    "stocks_return.tail()"
   ]
  },
  {
   "cell_type": "markdown",
   "metadata": {},
   "source": [
    "### • Calculate the VaR95"
   ]
  },
  {
   "cell_type": "code",
   "execution_count": 33,
   "metadata": {},
   "outputs": [
    {
     "data": {
      "text/plain": [
       "-2.0418252925742353"
      ]
     },
     "execution_count": 33,
     "metadata": {},
     "output_type": "execute_result"
    }
   ],
   "source": [
    "var95=np.percentile(stocks_return['Portfolio'], 5)\n",
    "var95"
   ]
  },
  {
   "cell_type": "markdown",
   "metadata": {},
   "source": [
    "Based on the historical returns of the portfolio at a 95% confidence interval, the worst loss is a var95 loss, therefore the result is negative."
   ]
  },
  {
   "cell_type": "markdown",
   "metadata": {},
   "source": [
    "## Historical VAR(99)\n",
    "\n",
    "For computing the Historical VaR at a 99% confidence level the only change that has to be done is in the last part of the script, changing the np.percentile to 1, which means the 1%."
   ]
  },
  {
   "cell_type": "code",
   "execution_count": 34,
   "metadata": {},
   "outputs": [
    {
     "data": {
      "text/plain": [
       "-3.3799245300431653"
      ]
     },
     "execution_count": 34,
     "metadata": {},
     "output_type": "execute_result"
    }
   ],
   "source": [
    "var99=np.percentile(stocks_return['Portfolio'], 1)\n",
    "var99"
   ]
  },
  {
   "cell_type": "markdown",
   "metadata": {},
   "source": [
    "At a 99% confidence level the worst loss is var99 with the portfolio. Clearly the VaR is higher given that the confidence level is lower. This is rational and therefore it helps understand the process by which the VaR works, given that a higher confidence level will give a higher percentage of loss and a lower confidence level will give a lower percentage of loss."
   ]
  },
  {
   "cell_type": "markdown",
   "metadata": {},
   "source": [
    "## VAR FOR THE NEXT 10 DAYS\n",
    "\n",
    "One of the most important aspects of calculating a VAR is to calculate the effect on the investment in terms of money. As far, the VAR model has centered on the percentage loss, but for the next example the process is to analyze the VAR if USD 1 million is invested. For example, the same data set will be used.\n",
    "\n",
    "### • Choose the portfolio"
   ]
  },
  {
   "cell_type": "code",
   "execution_count": 35,
   "metadata": {},
   "outputs": [
    {
     "name": "stderr",
     "output_type": "stream",
     "text": [
      "[*********************100%%**********************]  1 of 1 completed\n",
      "[*********************100%%**********************]  1 of 1 completed\n",
      "[*********************100%%**********************]  1 of 1 completed\n",
      "[*********************100%%**********************]  1 of 1 completed\n",
      "[*********************100%%**********************]  1 of 1 completed\n"
     ]
    },
    {
     "data": {
      "text/html": [
       "<div>\n",
       "<style scoped>\n",
       "    .dataframe tbody tr th:only-of-type {\n",
       "        vertical-align: middle;\n",
       "    }\n",
       "\n",
       "    .dataframe tbody tr th {\n",
       "        vertical-align: top;\n",
       "    }\n",
       "\n",
       "    .dataframe thead th {\n",
       "        text-align: right;\n",
       "    }\n",
       "</style>\n",
       "<table border=\"1\" class=\"dataframe\">\n",
       "  <thead>\n",
       "    <tr style=\"text-align: right;\">\n",
       "      <th></th>\n",
       "      <th>AAPL</th>\n",
       "      <th>WMT</th>\n",
       "      <th>TM</th>\n",
       "      <th>KO</th>\n",
       "      <th>BA</th>\n",
       "    </tr>\n",
       "    <tr>\n",
       "      <th>Date</th>\n",
       "      <th></th>\n",
       "      <th></th>\n",
       "      <th></th>\n",
       "      <th></th>\n",
       "      <th></th>\n",
       "    </tr>\n",
       "  </thead>\n",
       "  <tbody>\n",
       "    <tr>\n",
       "      <th>2019-03-25</th>\n",
       "      <td>47.185001</td>\n",
       "      <td>98.169998</td>\n",
       "      <td>120.489998</td>\n",
       "      <td>46.029999</td>\n",
       "      <td>370.459991</td>\n",
       "    </tr>\n",
       "    <tr>\n",
       "      <th>2019-03-26</th>\n",
       "      <td>46.697498</td>\n",
       "      <td>98.320000</td>\n",
       "      <td>121.769997</td>\n",
       "      <td>46.639999</td>\n",
       "      <td>370.380005</td>\n",
       "    </tr>\n",
       "    <tr>\n",
       "      <th>2019-03-27</th>\n",
       "      <td>47.117500</td>\n",
       "      <td>97.209999</td>\n",
       "      <td>121.029999</td>\n",
       "      <td>46.610001</td>\n",
       "      <td>374.209991</td>\n",
       "    </tr>\n",
       "    <tr>\n",
       "      <th>2019-03-28</th>\n",
       "      <td>47.180000</td>\n",
       "      <td>97.129997</td>\n",
       "      <td>119.070000</td>\n",
       "      <td>46.580002</td>\n",
       "      <td>374.440002</td>\n",
       "    </tr>\n",
       "    <tr>\n",
       "      <th>2019-03-29</th>\n",
       "      <td>47.487499</td>\n",
       "      <td>97.529999</td>\n",
       "      <td>118.019997</td>\n",
       "      <td>46.860001</td>\n",
       "      <td>381.420013</td>\n",
       "    </tr>\n",
       "  </tbody>\n",
       "</table>\n",
       "</div>"
      ],
      "text/plain": [
       "                 AAPL        WMT          TM         KO          BA\n",
       "Date                                                               \n",
       "2019-03-25  47.185001  98.169998  120.489998  46.029999  370.459991\n",
       "2019-03-26  46.697498  98.320000  121.769997  46.639999  370.380005\n",
       "2019-03-27  47.117500  97.209999  121.029999  46.610001  374.209991\n",
       "2019-03-28  47.180000  97.129997  119.070000  46.580002  374.440002\n",
       "2019-03-29  47.487499  97.529999  118.019997  46.860001  381.420013"
      ]
     },
     "execution_count": 35,
     "metadata": {},
     "output_type": "execute_result"
    }
   ],
   "source": [
    "start=datetime.datetime(2018,1,2)\n",
    "end=datetime.datetime(2019,4,1)\n",
    "\n",
    "tickers=['AAPL','WMT','TM','KO','BA']\n",
    "\n",
    "stocks=pd.DataFrame()\n",
    "\n",
    "for x in tickers:\n",
    "    stocks[x]=yf.download(tickers=x,start=start,end=end)['Close']\n",
    "\n",
    "stocks.tail()"
   ]
  },
  {
   "cell_type": "markdown",
   "metadata": {},
   "source": [
    "### • Calculate the returns"
   ]
  },
  {
   "cell_type": "code",
   "execution_count": 36,
   "metadata": {},
   "outputs": [
    {
     "data": {
      "text/html": [
       "<div>\n",
       "<style scoped>\n",
       "    .dataframe tbody tr th:only-of-type {\n",
       "        vertical-align: middle;\n",
       "    }\n",
       "\n",
       "    .dataframe tbody tr th {\n",
       "        vertical-align: top;\n",
       "    }\n",
       "\n",
       "    .dataframe thead th {\n",
       "        text-align: right;\n",
       "    }\n",
       "</style>\n",
       "<table border=\"1\" class=\"dataframe\">\n",
       "  <thead>\n",
       "    <tr style=\"text-align: right;\">\n",
       "      <th></th>\n",
       "      <th>AAPL</th>\n",
       "      <th>WMT</th>\n",
       "      <th>TM</th>\n",
       "      <th>KO</th>\n",
       "      <th>BA</th>\n",
       "    </tr>\n",
       "    <tr>\n",
       "      <th>Date</th>\n",
       "      <th></th>\n",
       "      <th></th>\n",
       "      <th></th>\n",
       "      <th></th>\n",
       "      <th></th>\n",
       "    </tr>\n",
       "  </thead>\n",
       "  <tbody>\n",
       "    <tr>\n",
       "      <th>2019-03-25</th>\n",
       "      <td>-0.012165</td>\n",
       "      <td>-0.001120</td>\n",
       "      <td>0.002243</td>\n",
       "      <td>0.002175</td>\n",
       "      <td>0.022632</td>\n",
       "    </tr>\n",
       "    <tr>\n",
       "      <th>2019-03-26</th>\n",
       "      <td>-0.010385</td>\n",
       "      <td>0.001527</td>\n",
       "      <td>0.010567</td>\n",
       "      <td>0.013165</td>\n",
       "      <td>-0.000216</td>\n",
       "    </tr>\n",
       "    <tr>\n",
       "      <th>2019-03-27</th>\n",
       "      <td>0.008954</td>\n",
       "      <td>-0.011354</td>\n",
       "      <td>-0.006096</td>\n",
       "      <td>-0.000643</td>\n",
       "      <td>0.010288</td>\n",
       "    </tr>\n",
       "    <tr>\n",
       "      <th>2019-03-28</th>\n",
       "      <td>0.001326</td>\n",
       "      <td>-0.000823</td>\n",
       "      <td>-0.016327</td>\n",
       "      <td>-0.000644</td>\n",
       "      <td>0.000614</td>\n",
       "    </tr>\n",
       "    <tr>\n",
       "      <th>2019-03-29</th>\n",
       "      <td>0.006496</td>\n",
       "      <td>0.004110</td>\n",
       "      <td>-0.008857</td>\n",
       "      <td>0.005993</td>\n",
       "      <td>0.018470</td>\n",
       "    </tr>\n",
       "  </tbody>\n",
       "</table>\n",
       "</div>"
      ],
      "text/plain": [
       "                AAPL       WMT        TM        KO        BA\n",
       "Date                                                        \n",
       "2019-03-25 -0.012165 -0.001120  0.002243  0.002175  0.022632\n",
       "2019-03-26 -0.010385  0.001527  0.010567  0.013165 -0.000216\n",
       "2019-03-27  0.008954 -0.011354 -0.006096 -0.000643  0.010288\n",
       "2019-03-28  0.001326 -0.000823 -0.016327 -0.000644  0.000614\n",
       "2019-03-29  0.006496  0.004110 -0.008857  0.005993  0.018470"
      ]
     },
     "execution_count": 36,
     "metadata": {},
     "output_type": "execute_result"
    }
   ],
   "source": [
    "stocks_return=np.log((stocks/stocks.shift(1)))\n",
    "stocks_return.tail()"
   ]
  },
  {
   "cell_type": "markdown",
   "metadata": {},
   "source": [
    "### • Assign random portfolio weights that sum to one (1)"
   ]
  },
  {
   "cell_type": "code",
   "execution_count": 37,
   "metadata": {},
   "outputs": [
    {
     "data": {
      "text/plain": [
       "array([0.2120737 , 0.13077686, 0.09992969, 0.28968075, 0.267539  ])"
      ]
     },
     "execution_count": 37,
     "metadata": {},
     "output_type": "execute_result"
    }
   ],
   "source": [
    "portfolio_weights = np.array(np.random.random(5))\n",
    "portfolio_weights\n",
    "portfolio_weights=portfolio_weights/np.sum(portfolio_weights)\n",
    "portfolio_weights"
   ]
  },
  {
   "cell_type": "markdown",
   "metadata": {},
   "source": [
    "### • Multiply the portfolio with the stocks"
   ]
  },
  {
   "cell_type": "code",
   "execution_count": 38,
   "metadata": {},
   "outputs": [
    {
     "data": {
      "text/html": [
       "<div>\n",
       "<style scoped>\n",
       "    .dataframe tbody tr th:only-of-type {\n",
       "        vertical-align: middle;\n",
       "    }\n",
       "\n",
       "    .dataframe tbody tr th {\n",
       "        vertical-align: top;\n",
       "    }\n",
       "\n",
       "    .dataframe thead th {\n",
       "        text-align: right;\n",
       "    }\n",
       "</style>\n",
       "<table border=\"1\" class=\"dataframe\">\n",
       "  <thead>\n",
       "    <tr style=\"text-align: right;\">\n",
       "      <th></th>\n",
       "      <th>AAPL</th>\n",
       "      <th>WMT</th>\n",
       "      <th>TM</th>\n",
       "      <th>KO</th>\n",
       "      <th>BA</th>\n",
       "    </tr>\n",
       "    <tr>\n",
       "      <th>Date</th>\n",
       "      <th></th>\n",
       "      <th></th>\n",
       "      <th></th>\n",
       "      <th></th>\n",
       "      <th></th>\n",
       "    </tr>\n",
       "  </thead>\n",
       "  <tbody>\n",
       "    <tr>\n",
       "      <th>2019-03-25</th>\n",
       "      <td>-0.002580</td>\n",
       "      <td>-0.000146</td>\n",
       "      <td>0.000224</td>\n",
       "      <td>0.000630</td>\n",
       "      <td>0.006055</td>\n",
       "    </tr>\n",
       "    <tr>\n",
       "      <th>2019-03-26</th>\n",
       "      <td>-0.002202</td>\n",
       "      <td>0.000200</td>\n",
       "      <td>0.001056</td>\n",
       "      <td>0.003814</td>\n",
       "      <td>-0.000058</td>\n",
       "    </tr>\n",
       "    <tr>\n",
       "      <th>2019-03-27</th>\n",
       "      <td>0.001899</td>\n",
       "      <td>-0.001485</td>\n",
       "      <td>-0.000609</td>\n",
       "      <td>-0.000186</td>\n",
       "      <td>0.002752</td>\n",
       "    </tr>\n",
       "    <tr>\n",
       "      <th>2019-03-28</th>\n",
       "      <td>0.000281</td>\n",
       "      <td>-0.000108</td>\n",
       "      <td>-0.001632</td>\n",
       "      <td>-0.000187</td>\n",
       "      <td>0.000164</td>\n",
       "    </tr>\n",
       "    <tr>\n",
       "      <th>2019-03-29</th>\n",
       "      <td>0.001378</td>\n",
       "      <td>0.000537</td>\n",
       "      <td>-0.000885</td>\n",
       "      <td>0.001736</td>\n",
       "      <td>0.004941</td>\n",
       "    </tr>\n",
       "  </tbody>\n",
       "</table>\n",
       "</div>"
      ],
      "text/plain": [
       "                AAPL       WMT        TM        KO        BA\n",
       "Date                                                        \n",
       "2019-03-25 -0.002580 -0.000146  0.000224  0.000630  0.006055\n",
       "2019-03-26 -0.002202  0.000200  0.001056  0.003814 -0.000058\n",
       "2019-03-27  0.001899 -0.001485 -0.000609 -0.000186  0.002752\n",
       "2019-03-28  0.000281 -0.000108 -0.001632 -0.000187  0.000164\n",
       "2019-03-29  0.001378  0.000537 -0.000885  0.001736  0.004941"
      ]
     },
     "execution_count": 38,
     "metadata": {},
     "output_type": "execute_result"
    }
   ],
   "source": [
    "weighted_returns_portfolio = stocks_return.mul(portfolio_weights,axis=1)\n",
    "\n",
    "weighted_returns_portfolio.tail()"
   ]
  },
  {
   "cell_type": "markdown",
   "metadata": {},
   "source": [
    "### • Calculate the returns based on the weights"
   ]
  },
  {
   "cell_type": "code",
   "execution_count": 39,
   "metadata": {},
   "outputs": [
    {
     "data": {
      "text/html": [
       "<div>\n",
       "<style scoped>\n",
       "    .dataframe tbody tr th:only-of-type {\n",
       "        vertical-align: middle;\n",
       "    }\n",
       "\n",
       "    .dataframe tbody tr th {\n",
       "        vertical-align: top;\n",
       "    }\n",
       "\n",
       "    .dataframe thead th {\n",
       "        text-align: right;\n",
       "    }\n",
       "</style>\n",
       "<table border=\"1\" class=\"dataframe\">\n",
       "  <thead>\n",
       "    <tr style=\"text-align: right;\">\n",
       "      <th></th>\n",
       "      <th>AAPL</th>\n",
       "      <th>WMT</th>\n",
       "      <th>TM</th>\n",
       "      <th>KO</th>\n",
       "      <th>BA</th>\n",
       "      <th>Portfolio</th>\n",
       "    </tr>\n",
       "    <tr>\n",
       "      <th>Date</th>\n",
       "      <th></th>\n",
       "      <th></th>\n",
       "      <th></th>\n",
       "      <th></th>\n",
       "      <th></th>\n",
       "      <th></th>\n",
       "    </tr>\n",
       "  </thead>\n",
       "  <tbody>\n",
       "    <tr>\n",
       "      <th>2019-03-25</th>\n",
       "      <td>-0.012165</td>\n",
       "      <td>-0.001120</td>\n",
       "      <td>0.002243</td>\n",
       "      <td>0.002175</td>\n",
       "      <td>0.022632</td>\n",
       "      <td>0.004183</td>\n",
       "    </tr>\n",
       "    <tr>\n",
       "      <th>2019-03-26</th>\n",
       "      <td>-0.010385</td>\n",
       "      <td>0.001527</td>\n",
       "      <td>0.010567</td>\n",
       "      <td>0.013165</td>\n",
       "      <td>-0.000216</td>\n",
       "      <td>0.002809</td>\n",
       "    </tr>\n",
       "    <tr>\n",
       "      <th>2019-03-27</th>\n",
       "      <td>0.008954</td>\n",
       "      <td>-0.011354</td>\n",
       "      <td>-0.006096</td>\n",
       "      <td>-0.000643</td>\n",
       "      <td>0.010288</td>\n",
       "      <td>0.002371</td>\n",
       "    </tr>\n",
       "    <tr>\n",
       "      <th>2019-03-28</th>\n",
       "      <td>0.001326</td>\n",
       "      <td>-0.000823</td>\n",
       "      <td>-0.016327</td>\n",
       "      <td>-0.000644</td>\n",
       "      <td>0.000614</td>\n",
       "      <td>-0.001480</td>\n",
       "    </tr>\n",
       "    <tr>\n",
       "      <th>2019-03-29</th>\n",
       "      <td>0.006496</td>\n",
       "      <td>0.004110</td>\n",
       "      <td>-0.008857</td>\n",
       "      <td>0.005993</td>\n",
       "      <td>0.018470</td>\n",
       "      <td>0.007707</td>\n",
       "    </tr>\n",
       "  </tbody>\n",
       "</table>\n",
       "</div>"
      ],
      "text/plain": [
       "                AAPL       WMT        TM        KO        BA  Portfolio\n",
       "Date                                                                   \n",
       "2019-03-25 -0.012165 -0.001120  0.002243  0.002175  0.022632   0.004183\n",
       "2019-03-26 -0.010385  0.001527  0.010567  0.013165 -0.000216   0.002809\n",
       "2019-03-27  0.008954 -0.011354 -0.006096 -0.000643  0.010288   0.002371\n",
       "2019-03-28  0.001326 -0.000823 -0.016327 -0.000644  0.000614  -0.001480\n",
       "2019-03-29  0.006496  0.004110 -0.008857  0.005993  0.018470   0.007707"
      ]
     },
     "execution_count": 39,
     "metadata": {},
     "output_type": "execute_result"
    }
   ],
   "source": [
    "stocks_return['Portfolio']=weighted_returns_portfolio.sum(axis=1).dropna()\n",
    "stocks_return.tail()"
   ]
  },
  {
   "cell_type": "markdown",
   "metadata": {},
   "source": [
    "### • Determine the average (mu) of the returns"
   ]
  },
  {
   "cell_type": "code",
   "execution_count": 40,
   "metadata": {},
   "outputs": [
    {
     "data": {
      "text/plain": [
       "0.0002765023659876238"
      ]
     },
     "execution_count": 40,
     "metadata": {},
     "output_type": "execute_result"
    }
   ],
   "source": [
    "mu=stocks_return['Portfolio'].mean()\n",
    "mu"
   ]
  },
  {
   "cell_type": "markdown",
   "metadata": {},
   "source": [
    "### • Determine the standard deviation (sigma) of the returns"
   ]
  },
  {
   "cell_type": "code",
   "execution_count": 41,
   "metadata": {},
   "outputs": [
    {
     "data": {
      "text/plain": [
       "0.010947913019399394"
      ]
     },
     "execution_count": 41,
     "metadata": {},
     "output_type": "execute_result"
    }
   ],
   "source": [
    "sigma=stocks_return['Portfolio'].std()\n",
    "sigma"
   ]
  },
  {
   "cell_type": "markdown",
   "metadata": {},
   "source": [
    "### • Assign a confidence level to the VaR (99% for this example)"
   ]
  },
  {
   "cell_type": "code",
   "execution_count": 42,
   "metadata": {},
   "outputs": [
    {
     "data": {
      "text/plain": [
       "0.99"
      ]
     },
     "execution_count": 42,
     "metadata": {},
     "output_type": "execute_result"
    }
   ],
   "source": [
    "confidence=0.99\n",
    "confidence"
   ]
  },
  {
   "cell_type": "markdown",
   "metadata": {},
   "source": [
    "### • Calculate the alpha"
   ]
  },
  {
   "cell_type": "code",
   "execution_count": 43,
   "metadata": {},
   "outputs": [
    {
     "data": {
      "text/plain": [
       "-2.3263478740408408"
      ]
     },
     "execution_count": 43,
     "metadata": {},
     "output_type": "execute_result"
    }
   ],
   "source": [
    "alpha=norm.ppf(1-confidence)\n",
    "alpha"
   ]
  },
  {
   "cell_type": "markdown",
   "metadata": {},
   "source": [
    "For this example, the norm.ppf is being used, the reason for this is that it determines the probability density function of one (1) minus the confidence interval. This is useful because it determines the probability of the VAR. It is a similar process to the np.percentile.\n",
    "\n",
    "### • Create a position\n"
   ]
  },
  {
   "cell_type": "code",
   "execution_count": 44,
   "metadata": {},
   "outputs": [
    {
     "data": {
      "text/plain": [
       "1000000.0"
      ]
     },
     "execution_count": 44,
     "metadata": {},
     "output_type": "execute_result"
    }
   ],
   "source": [
    "position=1e6\n",
    "position"
   ]
  },
  {
   "cell_type": "markdown",
   "metadata": {},
   "source": [
    "The position is the investment on the portfolio. Since the portfolio was created, in this case the investment is USD 1 million. The interesting aspect of using 1e6 for a million is to include a complex number structure that is easier to write. The other choice would have been to write the 1,000,000.\n",
    "\n",
    "### • Calculate the VAR\n",
    "\n",
    "Equation 1: Value at Risk - position\n",
    "\n",
    "    VaR = position * (µ − σ * α)\n",
    "\n",
    "µ = mean of the returns of the portfolio\n",
    "\n",
    "σ = standard deviation of the returns of the portfolio\n",
    "\n",
    "α = Probability density function of the 1%\n",
    "\n",
    "\n"
   ]
  },
  {
   "cell_type": "code",
   "execution_count": 45,
   "metadata": {},
   "outputs": [
    {
     "data": {
      "text/plain": [
       "25745.156543851444"
      ]
     },
     "execution_count": 45,
     "metadata": {},
     "output_type": "execute_result"
    }
   ],
   "source": [
    "var=position*(mu-sigma*alpha)\n",
    "var"
   ]
  },
  {
   "cell_type": "markdown",
   "metadata": {},
   "source": [
    "If the investment in the portfolio was of USD 1,000,000, the worst loss at a 99% confidence interval can be of USD 27,088.75. The next step is to obtain the VAR for the next 10 days, trying to identify what will be the loss of the portfolio.\n",
    "\n",
    "### • Create a variable for 10 days"
   ]
  },
  {
   "cell_type": "code",
   "execution_count": 46,
   "metadata": {},
   "outputs": [
    {
     "data": {
      "text/plain": [
       "10"
      ]
     },
     "execution_count": 46,
     "metadata": {},
     "output_type": "execute_result"
    }
   ],
   "source": [
    "days=10\n",
    "days"
   ]
  },
  {
   "cell_type": "markdown",
   "metadata": {},
   "source": [
    "### • Determine the worst loss for the next 10 days\n",
    "\n",
    "    VaR for 10 days = position ∗ (µ ∗ days − σ ∗ α ∗ sqrt(days))\n"
   ]
  },
  {
   "cell_type": "code",
   "execution_count": 47,
   "metadata": {},
   "outputs": [
    {
     "data": {
      "text/plain": [
       "83303.97980108907"
      ]
     },
     "execution_count": 47,
     "metadata": {},
     "output_type": "execute_result"
    }
   ],
   "source": [
    "var_10_days=position *(mu*days-sigma*alpha*np.sqrt(days))\n",
    "var_10_days"
   ]
  },
  {
   "cell_type": "markdown",
   "metadata": {},
   "source": [
    "The worst loss for the next 10 days based on the portfolio that depends on the stocks that have been chosen and the weights of the stocks, could be of USD 88,644.95 or approximately 88.64% of the total investment. Consider that this effect is at a 99% confidence interval. If the example had been done with a 95% of confidence interval, the result would have been as follows:\n",
    "\n",
    "### • Assign a confidence interval of 95%"
   ]
  },
  {
   "cell_type": "code",
   "execution_count": 48,
   "metadata": {},
   "outputs": [
    {
     "data": {
      "text/plain": [
       "0.95"
      ]
     },
     "execution_count": 48,
     "metadata": {},
     "output_type": "execute_result"
    }
   ],
   "source": [
    "confidence=0.95\n",
    "confidence"
   ]
  },
  {
   "cell_type": "markdown",
   "metadata": {},
   "source": [
    "### • Obtain the alpha"
   ]
  },
  {
   "cell_type": "code",
   "execution_count": 49,
   "metadata": {},
   "outputs": [
    {
     "data": {
      "text/plain": [
       "-1.6448536269514722"
      ]
     },
     "execution_count": 49,
     "metadata": {},
     "output_type": "execute_result"
    }
   ],
   "source": [
    "alpha=norm.ppf(1-confidence)\n",
    "alpha"
   ]
  },
  {
   "cell_type": "markdown",
   "metadata": {},
   "source": [
    "### • Determine the worst loss for the next 10 days"
   ]
  },
  {
   "cell_type": "code",
   "execution_count": 50,
   "metadata": {},
   "outputs": [
    {
     "data": {
      "text/plain": [
       "59710.416736300445"
      ]
     },
     "execution_count": 50,
     "metadata": {},
     "output_type": "execute_result"
    }
   ],
   "source": [
    "var_10_days=position *(mu*days-sigma*alpha*np.sqrt(days))\n",
    "var_10_days"
   ]
  },
  {
   "cell_type": "markdown",
   "metadata": {},
   "source": [
    "The result is a worst loss much smaller than the one determined at a 99% confidence level. In this example the loss is approximately 63.95% of the total investment. The result also varies if the days are reduced, for example to 5 days.\n",
    "\n",
    "### • Worst loss for the next 5 days at a 95% confidence level"
   ]
  },
  {
   "cell_type": "code",
   "execution_count": 51,
   "metadata": {},
   "outputs": [
    {
     "data": {
      "text/plain": [
       "58327.90490636233"
      ]
     },
     "execution_count": 51,
     "metadata": {},
     "output_type": "execute_result"
    }
   ],
   "source": [
    "days_2=5\n",
    "var_5_days=position *(mu*days_2-sigma*alpha*np.sqrt(days))\n",
    "var_5_days"
   ]
  }
 ],
 "metadata": {
  "kernelspec": {
   "display_name": "Python 3",
   "language": "python",
   "name": "python3"
  },
  "language_info": {
   "codemirror_mode": {
    "name": "ipython",
    "version": 3
   },
   "file_extension": ".py",
   "mimetype": "text/x-python",
   "name": "python",
   "nbconvert_exporter": "python",
   "pygments_lexer": "ipython3",
   "version": "3.12.1"
  }
 },
 "nbformat": 4,
 "nbformat_minor": 2
}
