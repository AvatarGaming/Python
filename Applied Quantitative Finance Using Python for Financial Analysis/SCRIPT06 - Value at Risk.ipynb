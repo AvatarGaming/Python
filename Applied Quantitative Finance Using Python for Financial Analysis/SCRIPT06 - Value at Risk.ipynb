{
 "cells": [
  {
   "cell_type": "markdown",
   "metadata": {},
   "source": [
    "# VALUE AT RISK\n",
    "\n",
    "Abstract Focusing on the creation of portfolios for investment, this chapter aims to understand the risks of the portfolio through methods such as the Value at Risk (VaR) to determine the possible loss or gain of a portfolio. This chapter is based on an investor view and the process for executing decisions that create profitable portfolios in the short and long run.\n",
    "\n",
    "Keywords Risk · Portfolios · VaR · Backtesting\n",
    "\n",
    "The concept of Value at Risk (VaR) is one of the most interesting in finance because it analyzes the maximum loss that a portfolio may have (Damodaran 2018). This is another measure of risk that deserves to be separated from portfolio and risk because of the difference that it has with the ratios (Sharpe, Traynor, Information and Jensen) in the previous chapter. To summarize the VaR, it gives the worst loss on a certain time horizon based on the confidence level assigned to the model.\n",
    "\n",
    "## Historical VAR(95)\n",
    "\n",
    "Since the VaR is based on the confidence level, it may have different results based on a 65%, 90%, 95% or any other confidence interval. The following example is Historical VaR(95), meaning that the confidence interval will be at a 95%.\n"
   ]
  },
  {
   "cell_type": "code",
   "execution_count": 1,
   "metadata": {},
   "outputs": [],
   "source": [
    "import numpy as np\n",
    "import pandas as pd\n",
    "import yfinance as yf\n",
    "import datetime\n",
    "import matplotlib.pyplot as plt\n",
    "from scipy.stats import norm\n",
    "\n",
    "%matplotlib inline\n"
   ]
  },
  {
   "cell_type": "markdown",
   "metadata": {},
   "source": [
    "### • Choose the portfolio"
   ]
  },
  {
   "cell_type": "code",
   "execution_count": 2,
   "metadata": {},
   "outputs": [
    {
     "name": "stderr",
     "output_type": "stream",
     "text": [
      "[*********************100%%**********************]  1 of 1 completed\n",
      "[*********************100%%**********************]  1 of 1 completed\n",
      "[*********************100%%**********************]  1 of 1 completed\n",
      "[*********************100%%**********************]  1 of 1 completed\n",
      "[*********************100%%**********************]  1 of 1 completed\n"
     ]
    },
    {
     "data": {
      "text/html": [
       "<div>\n",
       "<style scoped>\n",
       "    .dataframe tbody tr th:only-of-type {\n",
       "        vertical-align: middle;\n",
       "    }\n",
       "\n",
       "    .dataframe tbody tr th {\n",
       "        vertical-align: top;\n",
       "    }\n",
       "\n",
       "    .dataframe thead th {\n",
       "        text-align: right;\n",
       "    }\n",
       "</style>\n",
       "<table border=\"1\" class=\"dataframe\">\n",
       "  <thead>\n",
       "    <tr style=\"text-align: right;\">\n",
       "      <th></th>\n",
       "      <th>AAPL</th>\n",
       "      <th>WMT</th>\n",
       "      <th>TM</th>\n",
       "      <th>KO</th>\n",
       "      <th>BA</th>\n",
       "    </tr>\n",
       "    <tr>\n",
       "      <th>Date</th>\n",
       "      <th></th>\n",
       "      <th></th>\n",
       "      <th></th>\n",
       "      <th></th>\n",
       "      <th></th>\n",
       "    </tr>\n",
       "  </thead>\n",
       "  <tbody>\n",
       "    <tr>\n",
       "      <th>2019-03-25</th>\n",
       "      <td>47.185001</td>\n",
       "      <td>98.169998</td>\n",
       "      <td>120.489998</td>\n",
       "      <td>46.029999</td>\n",
       "      <td>370.459991</td>\n",
       "    </tr>\n",
       "    <tr>\n",
       "      <th>2019-03-26</th>\n",
       "      <td>46.697498</td>\n",
       "      <td>98.320000</td>\n",
       "      <td>121.769997</td>\n",
       "      <td>46.639999</td>\n",
       "      <td>370.380005</td>\n",
       "    </tr>\n",
       "    <tr>\n",
       "      <th>2019-03-27</th>\n",
       "      <td>47.117500</td>\n",
       "      <td>97.209999</td>\n",
       "      <td>121.029999</td>\n",
       "      <td>46.610001</td>\n",
       "      <td>374.209991</td>\n",
       "    </tr>\n",
       "    <tr>\n",
       "      <th>2019-03-28</th>\n",
       "      <td>47.180000</td>\n",
       "      <td>97.129997</td>\n",
       "      <td>119.070000</td>\n",
       "      <td>46.580002</td>\n",
       "      <td>374.440002</td>\n",
       "    </tr>\n",
       "    <tr>\n",
       "      <th>2019-03-29</th>\n",
       "      <td>47.487499</td>\n",
       "      <td>97.529999</td>\n",
       "      <td>118.019997</td>\n",
       "      <td>46.860001</td>\n",
       "      <td>381.420013</td>\n",
       "    </tr>\n",
       "  </tbody>\n",
       "</table>\n",
       "</div>"
      ],
      "text/plain": [
       "                 AAPL        WMT          TM         KO          BA\n",
       "Date                                                               \n",
       "2019-03-25  47.185001  98.169998  120.489998  46.029999  370.459991\n",
       "2019-03-26  46.697498  98.320000  121.769997  46.639999  370.380005\n",
       "2019-03-27  47.117500  97.209999  121.029999  46.610001  374.209991\n",
       "2019-03-28  47.180000  97.129997  119.070000  46.580002  374.440002\n",
       "2019-03-29  47.487499  97.529999  118.019997  46.860001  381.420013"
      ]
     },
     "execution_count": 2,
     "metadata": {},
     "output_type": "execute_result"
    }
   ],
   "source": [
    "start=datetime.datetime(2018,1,2)\n",
    "end=datetime.datetime(2019,4,1)\n",
    "\n",
    "tickers=['AAPL','WMT','TM','KO','BA']\n",
    "\n",
    "stocks=pd.DataFrame()\n",
    "for x in tickers:\n",
    "    stocks[x]=yf.download(tickers=x,start=start,end=end)['Close']\n",
    "\n",
    "stocks.tail()"
   ]
  },
  {
   "cell_type": "markdown",
   "metadata": {},
   "source": [
    "### • Calculate the returns"
   ]
  },
  {
   "cell_type": "code",
   "execution_count": 3,
   "metadata": {},
   "outputs": [
    {
     "data": {
      "text/html": [
       "<div>\n",
       "<style scoped>\n",
       "    .dataframe tbody tr th:only-of-type {\n",
       "        vertical-align: middle;\n",
       "    }\n",
       "\n",
       "    .dataframe tbody tr th {\n",
       "        vertical-align: top;\n",
       "    }\n",
       "\n",
       "    .dataframe thead th {\n",
       "        text-align: right;\n",
       "    }\n",
       "</style>\n",
       "<table border=\"1\" class=\"dataframe\">\n",
       "  <thead>\n",
       "    <tr style=\"text-align: right;\">\n",
       "      <th></th>\n",
       "      <th>AAPL</th>\n",
       "      <th>WMT</th>\n",
       "      <th>TM</th>\n",
       "      <th>KO</th>\n",
       "      <th>BA</th>\n",
       "    </tr>\n",
       "    <tr>\n",
       "      <th>Date</th>\n",
       "      <th></th>\n",
       "      <th></th>\n",
       "      <th></th>\n",
       "      <th></th>\n",
       "      <th></th>\n",
       "    </tr>\n",
       "  </thead>\n",
       "  <tbody>\n",
       "    <tr>\n",
       "      <th>2019-03-25</th>\n",
       "      <td>-0.012165</td>\n",
       "      <td>-0.001120</td>\n",
       "      <td>0.002243</td>\n",
       "      <td>0.002175</td>\n",
       "      <td>0.022632</td>\n",
       "    </tr>\n",
       "    <tr>\n",
       "      <th>2019-03-26</th>\n",
       "      <td>-0.010385</td>\n",
       "      <td>0.001527</td>\n",
       "      <td>0.010567</td>\n",
       "      <td>0.013165</td>\n",
       "      <td>-0.000216</td>\n",
       "    </tr>\n",
       "    <tr>\n",
       "      <th>2019-03-27</th>\n",
       "      <td>0.008954</td>\n",
       "      <td>-0.011354</td>\n",
       "      <td>-0.006096</td>\n",
       "      <td>-0.000643</td>\n",
       "      <td>0.010288</td>\n",
       "    </tr>\n",
       "    <tr>\n",
       "      <th>2019-03-28</th>\n",
       "      <td>0.001326</td>\n",
       "      <td>-0.000823</td>\n",
       "      <td>-0.016327</td>\n",
       "      <td>-0.000644</td>\n",
       "      <td>0.000614</td>\n",
       "    </tr>\n",
       "    <tr>\n",
       "      <th>2019-03-29</th>\n",
       "      <td>0.006496</td>\n",
       "      <td>0.004110</td>\n",
       "      <td>-0.008857</td>\n",
       "      <td>0.005993</td>\n",
       "      <td>0.018470</td>\n",
       "    </tr>\n",
       "  </tbody>\n",
       "</table>\n",
       "</div>"
      ],
      "text/plain": [
       "                AAPL       WMT        TM        KO        BA\n",
       "Date                                                        \n",
       "2019-03-25 -0.012165 -0.001120  0.002243  0.002175  0.022632\n",
       "2019-03-26 -0.010385  0.001527  0.010567  0.013165 -0.000216\n",
       "2019-03-27  0.008954 -0.011354 -0.006096 -0.000643  0.010288\n",
       "2019-03-28  0.001326 -0.000823 -0.016327 -0.000644  0.000614\n",
       "2019-03-29  0.006496  0.004110 -0.008857  0.005993  0.018470"
      ]
     },
     "execution_count": 3,
     "metadata": {},
     "output_type": "execute_result"
    }
   ],
   "source": [
    "stocks_return=np.log((stocks/stocks.shift(1)))\n",
    "stocks_return.tail()"
   ]
  },
  {
   "cell_type": "markdown",
   "metadata": {},
   "source": [
    "### • Assign random portfolio weights that sum to one (1)"
   ]
  },
  {
   "cell_type": "code",
   "execution_count": 4,
   "metadata": {},
   "outputs": [
    {
     "data": {
      "text/plain": [
       "array([0.0605299 , 0.32268793, 0.37169025, 0.11346636, 0.13162555])"
      ]
     },
     "execution_count": 4,
     "metadata": {},
     "output_type": "execute_result"
    }
   ],
   "source": [
    "portfolio_weights = np.array(np.random.random(5))\n",
    "portfolio_weights\n",
    "portfolio_weights=portfolio_weights/np.sum(portfolio_weights)\n",
    "portfolio_weights\n"
   ]
  },
  {
   "cell_type": "markdown",
   "metadata": {},
   "source": [
    "This step is interesting because, in the Portfolio and Risk chapter, the purpose was to assign the same return to each of the stocks. In this case the np.random.random creates weights for the five (5) stocks but it often gives a number less or higher than 100%. Therefore it has to be balanced by dividing the weights in the sum to obtain a portfolio that sums 100%.\n",
    "\n",
    "### • Multiply the portfolio with the stocks"
   ]
  },
  {
   "cell_type": "code",
   "execution_count": 5,
   "metadata": {},
   "outputs": [
    {
     "data": {
      "text/html": [
       "<div>\n",
       "<style scoped>\n",
       "    .dataframe tbody tr th:only-of-type {\n",
       "        vertical-align: middle;\n",
       "    }\n",
       "\n",
       "    .dataframe tbody tr th {\n",
       "        vertical-align: top;\n",
       "    }\n",
       "\n",
       "    .dataframe thead th {\n",
       "        text-align: right;\n",
       "    }\n",
       "</style>\n",
       "<table border=\"1\" class=\"dataframe\">\n",
       "  <thead>\n",
       "    <tr style=\"text-align: right;\">\n",
       "      <th></th>\n",
       "      <th>AAPL</th>\n",
       "      <th>WMT</th>\n",
       "      <th>TM</th>\n",
       "      <th>KO</th>\n",
       "      <th>BA</th>\n",
       "    </tr>\n",
       "    <tr>\n",
       "      <th>Date</th>\n",
       "      <th></th>\n",
       "      <th></th>\n",
       "      <th></th>\n",
       "      <th></th>\n",
       "      <th></th>\n",
       "    </tr>\n",
       "  </thead>\n",
       "  <tbody>\n",
       "    <tr>\n",
       "      <th>2019-03-25</th>\n",
       "      <td>-0.000736</td>\n",
       "      <td>-0.000361</td>\n",
       "      <td>0.000834</td>\n",
       "      <td>0.000247</td>\n",
       "      <td>0.002979</td>\n",
       "    </tr>\n",
       "    <tr>\n",
       "      <th>2019-03-26</th>\n",
       "      <td>-0.000629</td>\n",
       "      <td>0.000493</td>\n",
       "      <td>0.003928</td>\n",
       "      <td>0.001494</td>\n",
       "      <td>-0.000028</td>\n",
       "    </tr>\n",
       "    <tr>\n",
       "      <th>2019-03-27</th>\n",
       "      <td>0.000542</td>\n",
       "      <td>-0.003664</td>\n",
       "      <td>-0.002266</td>\n",
       "      <td>-0.000073</td>\n",
       "      <td>0.001354</td>\n",
       "    </tr>\n",
       "    <tr>\n",
       "      <th>2019-03-28</th>\n",
       "      <td>0.000080</td>\n",
       "      <td>-0.000266</td>\n",
       "      <td>-0.006069</td>\n",
       "      <td>-0.000073</td>\n",
       "      <td>0.000081</td>\n",
       "    </tr>\n",
       "    <tr>\n",
       "      <th>2019-03-29</th>\n",
       "      <td>0.000393</td>\n",
       "      <td>0.001326</td>\n",
       "      <td>-0.003292</td>\n",
       "      <td>0.000680</td>\n",
       "      <td>0.002431</td>\n",
       "    </tr>\n",
       "  </tbody>\n",
       "</table>\n",
       "</div>"
      ],
      "text/plain": [
       "                AAPL       WMT        TM        KO        BA\n",
       "Date                                                        \n",
       "2019-03-25 -0.000736 -0.000361  0.000834  0.000247  0.002979\n",
       "2019-03-26 -0.000629  0.000493  0.003928  0.001494 -0.000028\n",
       "2019-03-27  0.000542 -0.003664 -0.002266 -0.000073  0.001354\n",
       "2019-03-28  0.000080 -0.000266 -0.006069 -0.000073  0.000081\n",
       "2019-03-29  0.000393  0.001326 -0.003292  0.000680  0.002431"
      ]
     },
     "execution_count": 5,
     "metadata": {},
     "output_type": "execute_result"
    }
   ],
   "source": [
    "weighted_returns_portfolio = stocks_return.mul(portfolio_weights,axis=1)\n",
    "weighted_returns_portfolio.tail()"
   ]
  },
  {
   "cell_type": "markdown",
   "metadata": {},
   "source": [
    "###• Convert returns to percentages and drop the missing values"
   ]
  },
  {
   "cell_type": "code",
   "execution_count": 6,
   "metadata": {},
   "outputs": [
    {
     "data": {
      "text/html": [
       "<div>\n",
       "<style scoped>\n",
       "    .dataframe tbody tr th:only-of-type {\n",
       "        vertical-align: middle;\n",
       "    }\n",
       "\n",
       "    .dataframe tbody tr th {\n",
       "        vertical-align: top;\n",
       "    }\n",
       "\n",
       "    .dataframe thead th {\n",
       "        text-align: right;\n",
       "    }\n",
       "</style>\n",
       "<table border=\"1\" class=\"dataframe\">\n",
       "  <thead>\n",
       "    <tr style=\"text-align: right;\">\n",
       "      <th></th>\n",
       "      <th>AAPL</th>\n",
       "      <th>WMT</th>\n",
       "      <th>TM</th>\n",
       "      <th>KO</th>\n",
       "      <th>BA</th>\n",
       "      <th>Portfolio</th>\n",
       "    </tr>\n",
       "    <tr>\n",
       "      <th>Date</th>\n",
       "      <th></th>\n",
       "      <th></th>\n",
       "      <th></th>\n",
       "      <th></th>\n",
       "      <th></th>\n",
       "      <th></th>\n",
       "    </tr>\n",
       "  </thead>\n",
       "  <tbody>\n",
       "    <tr>\n",
       "      <th>2019-03-25</th>\n",
       "      <td>-0.012165</td>\n",
       "      <td>-0.001120</td>\n",
       "      <td>0.002243</td>\n",
       "      <td>0.002175</td>\n",
       "      <td>0.022632</td>\n",
       "      <td>0.296180</td>\n",
       "    </tr>\n",
       "    <tr>\n",
       "      <th>2019-03-26</th>\n",
       "      <td>-0.010385</td>\n",
       "      <td>0.001527</td>\n",
       "      <td>0.010567</td>\n",
       "      <td>0.013165</td>\n",
       "      <td>-0.000216</td>\n",
       "      <td>0.525718</td>\n",
       "    </tr>\n",
       "    <tr>\n",
       "      <th>2019-03-27</th>\n",
       "      <td>0.008954</td>\n",
       "      <td>-0.011354</td>\n",
       "      <td>-0.006096</td>\n",
       "      <td>-0.000643</td>\n",
       "      <td>0.010288</td>\n",
       "      <td>-0.410634</td>\n",
       "    </tr>\n",
       "    <tr>\n",
       "      <th>2019-03-28</th>\n",
       "      <td>0.001326</td>\n",
       "      <td>-0.000823</td>\n",
       "      <td>-0.016327</td>\n",
       "      <td>-0.000644</td>\n",
       "      <td>0.000614</td>\n",
       "      <td>-0.624615</td>\n",
       "    </tr>\n",
       "    <tr>\n",
       "      <th>2019-03-29</th>\n",
       "      <td>0.006496</td>\n",
       "      <td>0.004110</td>\n",
       "      <td>-0.008857</td>\n",
       "      <td>0.005993</td>\n",
       "      <td>0.018470</td>\n",
       "      <td>0.153825</td>\n",
       "    </tr>\n",
       "  </tbody>\n",
       "</table>\n",
       "</div>"
      ],
      "text/plain": [
       "                AAPL       WMT        TM        KO        BA  Portfolio\n",
       "Date                                                                   \n",
       "2019-03-25 -0.012165 -0.001120  0.002243  0.002175  0.022632   0.296180\n",
       "2019-03-26 -0.010385  0.001527  0.010567  0.013165 -0.000216   0.525718\n",
       "2019-03-27  0.008954 -0.011354 -0.006096 -0.000643  0.010288  -0.410634\n",
       "2019-03-28  0.001326 -0.000823 -0.016327 -0.000644  0.000614  -0.624615\n",
       "2019-03-29  0.006496  0.004110 -0.008857  0.005993  0.018470   0.153825"
      ]
     },
     "execution_count": 6,
     "metadata": {},
     "output_type": "execute_result"
    }
   ],
   "source": [
    "stocks_return['Portfolio'] = weighted_returns_portfolio.sum(axis=1).dropna()\n",
    "stocks_return['Portfolio'] = stocks_return['Portfolio'] * 100\n",
    "stocks_return.tail()"
   ]
  },
  {
   "cell_type": "markdown",
   "metadata": {},
   "source": [
    "### • Calculate the VaR95"
   ]
  },
  {
   "cell_type": "code",
   "execution_count": 7,
   "metadata": {},
   "outputs": [
    {
     "data": {
      "text/plain": [
       "-1.6262195403283284"
      ]
     },
     "execution_count": 7,
     "metadata": {},
     "output_type": "execute_result"
    }
   ],
   "source": [
    "var95=np.percentile(stocks_return['Portfolio'], 5)\n",
    "var95"
   ]
  },
  {
   "cell_type": "markdown",
   "metadata": {},
   "source": [
    "Based on the historical returns of the portfolio at a 95% confidence interval, the worst loss is a var95 loss, therefore the result is negative."
   ]
  },
  {
   "cell_type": "markdown",
   "metadata": {},
   "source": [
    "## Historical VAR(99)\n",
    "\n",
    "For computing the Historical VaR at a 99% confidence level the only change that has to be done is in the last part of the script, changing the np.percentile to 1, which means the 1%."
   ]
  },
  {
   "cell_type": "code",
   "execution_count": 8,
   "metadata": {},
   "outputs": [
    {
     "data": {
      "text/plain": [
       "-2.8087765417167945"
      ]
     },
     "execution_count": 8,
     "metadata": {},
     "output_type": "execute_result"
    }
   ],
   "source": [
    "var99=np.percentile(stocks_return['Portfolio'], 1)\n",
    "var99"
   ]
  },
  {
   "cell_type": "markdown",
   "metadata": {},
   "source": [
    "At a 99% confidence level the worst loss is var99 with the portfolio. Clearly the VaR is higher given that the confidence level is lower. This is rational and therefore it helps understand the process by which the VaR works, given that a higher confidence level will give a higher percentage of loss and a lower confidence level will give a lower percentage of loss."
   ]
  },
  {
   "cell_type": "markdown",
   "metadata": {},
   "source": [
    "## VAR FOR THE NEXT 10 DAYS\n",
    "\n",
    "One of the most important aspects of calculating a VAR is to calculate the effect on the investment in terms of money. As far, the VAR model has centered on the percentage loss, but for the next example the process is to analyze the VAR if USD 1 million is invested. For example, the same data set will be used.\n",
    "\n",
    "### • Choose the portfolio"
   ]
  },
  {
   "cell_type": "code",
   "execution_count": 9,
   "metadata": {},
   "outputs": [
    {
     "name": "stderr",
     "output_type": "stream",
     "text": [
      "[*********************100%%**********************]  1 of 1 completed\n",
      "[*********************100%%**********************]  1 of 1 completed\n",
      "[*********************100%%**********************]  1 of 1 completed\n",
      "[*********************100%%**********************]  1 of 1 completed\n",
      "[*********************100%%**********************]  1 of 1 completed\n"
     ]
    },
    {
     "data": {
      "text/html": [
       "<div>\n",
       "<style scoped>\n",
       "    .dataframe tbody tr th:only-of-type {\n",
       "        vertical-align: middle;\n",
       "    }\n",
       "\n",
       "    .dataframe tbody tr th {\n",
       "        vertical-align: top;\n",
       "    }\n",
       "\n",
       "    .dataframe thead th {\n",
       "        text-align: right;\n",
       "    }\n",
       "</style>\n",
       "<table border=\"1\" class=\"dataframe\">\n",
       "  <thead>\n",
       "    <tr style=\"text-align: right;\">\n",
       "      <th></th>\n",
       "      <th>AAPL</th>\n",
       "      <th>WMT</th>\n",
       "      <th>TM</th>\n",
       "      <th>KO</th>\n",
       "      <th>BA</th>\n",
       "    </tr>\n",
       "    <tr>\n",
       "      <th>Date</th>\n",
       "      <th></th>\n",
       "      <th></th>\n",
       "      <th></th>\n",
       "      <th></th>\n",
       "      <th></th>\n",
       "    </tr>\n",
       "  </thead>\n",
       "  <tbody>\n",
       "    <tr>\n",
       "      <th>2019-03-25</th>\n",
       "      <td>47.185001</td>\n",
       "      <td>98.169998</td>\n",
       "      <td>120.489998</td>\n",
       "      <td>46.029999</td>\n",
       "      <td>370.459991</td>\n",
       "    </tr>\n",
       "    <tr>\n",
       "      <th>2019-03-26</th>\n",
       "      <td>46.697498</td>\n",
       "      <td>98.320000</td>\n",
       "      <td>121.769997</td>\n",
       "      <td>46.639999</td>\n",
       "      <td>370.380005</td>\n",
       "    </tr>\n",
       "    <tr>\n",
       "      <th>2019-03-27</th>\n",
       "      <td>47.117500</td>\n",
       "      <td>97.209999</td>\n",
       "      <td>121.029999</td>\n",
       "      <td>46.610001</td>\n",
       "      <td>374.209991</td>\n",
       "    </tr>\n",
       "    <tr>\n",
       "      <th>2019-03-28</th>\n",
       "      <td>47.180000</td>\n",
       "      <td>97.129997</td>\n",
       "      <td>119.070000</td>\n",
       "      <td>46.580002</td>\n",
       "      <td>374.440002</td>\n",
       "    </tr>\n",
       "    <tr>\n",
       "      <th>2019-03-29</th>\n",
       "      <td>47.487499</td>\n",
       "      <td>97.529999</td>\n",
       "      <td>118.019997</td>\n",
       "      <td>46.860001</td>\n",
       "      <td>381.420013</td>\n",
       "    </tr>\n",
       "  </tbody>\n",
       "</table>\n",
       "</div>"
      ],
      "text/plain": [
       "                 AAPL        WMT          TM         KO          BA\n",
       "Date                                                               \n",
       "2019-03-25  47.185001  98.169998  120.489998  46.029999  370.459991\n",
       "2019-03-26  46.697498  98.320000  121.769997  46.639999  370.380005\n",
       "2019-03-27  47.117500  97.209999  121.029999  46.610001  374.209991\n",
       "2019-03-28  47.180000  97.129997  119.070000  46.580002  374.440002\n",
       "2019-03-29  47.487499  97.529999  118.019997  46.860001  381.420013"
      ]
     },
     "execution_count": 9,
     "metadata": {},
     "output_type": "execute_result"
    }
   ],
   "source": [
    "start=datetime.datetime(2018,1,2)\n",
    "end=datetime.datetime(2019,4,1)\n",
    "\n",
    "tickers=['AAPL','WMT','TM','KO','BA']\n",
    "\n",
    "stocks=pd.DataFrame()\n",
    "\n",
    "for x in tickers:\n",
    "    stocks[x]=yf.download(tickers=x,start=start,end=end)['Close']\n",
    "\n",
    "stocks.tail()"
   ]
  },
  {
   "cell_type": "markdown",
   "metadata": {},
   "source": [
    "### • Calculate the returns"
   ]
  },
  {
   "cell_type": "code",
   "execution_count": 10,
   "metadata": {},
   "outputs": [
    {
     "data": {
      "text/html": [
       "<div>\n",
       "<style scoped>\n",
       "    .dataframe tbody tr th:only-of-type {\n",
       "        vertical-align: middle;\n",
       "    }\n",
       "\n",
       "    .dataframe tbody tr th {\n",
       "        vertical-align: top;\n",
       "    }\n",
       "\n",
       "    .dataframe thead th {\n",
       "        text-align: right;\n",
       "    }\n",
       "</style>\n",
       "<table border=\"1\" class=\"dataframe\">\n",
       "  <thead>\n",
       "    <tr style=\"text-align: right;\">\n",
       "      <th></th>\n",
       "      <th>AAPL</th>\n",
       "      <th>WMT</th>\n",
       "      <th>TM</th>\n",
       "      <th>KO</th>\n",
       "      <th>BA</th>\n",
       "    </tr>\n",
       "    <tr>\n",
       "      <th>Date</th>\n",
       "      <th></th>\n",
       "      <th></th>\n",
       "      <th></th>\n",
       "      <th></th>\n",
       "      <th></th>\n",
       "    </tr>\n",
       "  </thead>\n",
       "  <tbody>\n",
       "    <tr>\n",
       "      <th>2019-03-25</th>\n",
       "      <td>-0.012165</td>\n",
       "      <td>-0.001120</td>\n",
       "      <td>0.002243</td>\n",
       "      <td>0.002175</td>\n",
       "      <td>0.022632</td>\n",
       "    </tr>\n",
       "    <tr>\n",
       "      <th>2019-03-26</th>\n",
       "      <td>-0.010385</td>\n",
       "      <td>0.001527</td>\n",
       "      <td>0.010567</td>\n",
       "      <td>0.013165</td>\n",
       "      <td>-0.000216</td>\n",
       "    </tr>\n",
       "    <tr>\n",
       "      <th>2019-03-27</th>\n",
       "      <td>0.008954</td>\n",
       "      <td>-0.011354</td>\n",
       "      <td>-0.006096</td>\n",
       "      <td>-0.000643</td>\n",
       "      <td>0.010288</td>\n",
       "    </tr>\n",
       "    <tr>\n",
       "      <th>2019-03-28</th>\n",
       "      <td>0.001326</td>\n",
       "      <td>-0.000823</td>\n",
       "      <td>-0.016327</td>\n",
       "      <td>-0.000644</td>\n",
       "      <td>0.000614</td>\n",
       "    </tr>\n",
       "    <tr>\n",
       "      <th>2019-03-29</th>\n",
       "      <td>0.006496</td>\n",
       "      <td>0.004110</td>\n",
       "      <td>-0.008857</td>\n",
       "      <td>0.005993</td>\n",
       "      <td>0.018470</td>\n",
       "    </tr>\n",
       "  </tbody>\n",
       "</table>\n",
       "</div>"
      ],
      "text/plain": [
       "                AAPL       WMT        TM        KO        BA\n",
       "Date                                                        \n",
       "2019-03-25 -0.012165 -0.001120  0.002243  0.002175  0.022632\n",
       "2019-03-26 -0.010385  0.001527  0.010567  0.013165 -0.000216\n",
       "2019-03-27  0.008954 -0.011354 -0.006096 -0.000643  0.010288\n",
       "2019-03-28  0.001326 -0.000823 -0.016327 -0.000644  0.000614\n",
       "2019-03-29  0.006496  0.004110 -0.008857  0.005993  0.018470"
      ]
     },
     "execution_count": 10,
     "metadata": {},
     "output_type": "execute_result"
    }
   ],
   "source": [
    "stocks_return=np.log((stocks/stocks.shift(1)))\n",
    "stocks_return.tail()"
   ]
  },
  {
   "cell_type": "markdown",
   "metadata": {},
   "source": [
    "### • Assign random portfolio weights that sum to one (1)"
   ]
  },
  {
   "cell_type": "code",
   "execution_count": 11,
   "metadata": {},
   "outputs": [
    {
     "data": {
      "text/plain": [
       "array([0.24956769, 0.1631113 , 0.23041975, 0.10858543, 0.24831583])"
      ]
     },
     "execution_count": 11,
     "metadata": {},
     "output_type": "execute_result"
    }
   ],
   "source": [
    "portfolio_weights = np.array(np.random.random(5))\n",
    "portfolio_weights\n",
    "portfolio_weights=portfolio_weights/np.sum(portfolio_weights)\n",
    "portfolio_weights"
   ]
  },
  {
   "cell_type": "markdown",
   "metadata": {},
   "source": [
    "### • Multiply the portfolio with the stocks"
   ]
  },
  {
   "cell_type": "code",
   "execution_count": 12,
   "metadata": {},
   "outputs": [
    {
     "data": {
      "text/html": [
       "<div>\n",
       "<style scoped>\n",
       "    .dataframe tbody tr th:only-of-type {\n",
       "        vertical-align: middle;\n",
       "    }\n",
       "\n",
       "    .dataframe tbody tr th {\n",
       "        vertical-align: top;\n",
       "    }\n",
       "\n",
       "    .dataframe thead th {\n",
       "        text-align: right;\n",
       "    }\n",
       "</style>\n",
       "<table border=\"1\" class=\"dataframe\">\n",
       "  <thead>\n",
       "    <tr style=\"text-align: right;\">\n",
       "      <th></th>\n",
       "      <th>AAPL</th>\n",
       "      <th>WMT</th>\n",
       "      <th>TM</th>\n",
       "      <th>KO</th>\n",
       "      <th>BA</th>\n",
       "    </tr>\n",
       "    <tr>\n",
       "      <th>Date</th>\n",
       "      <th></th>\n",
       "      <th></th>\n",
       "      <th></th>\n",
       "      <th></th>\n",
       "      <th></th>\n",
       "    </tr>\n",
       "  </thead>\n",
       "  <tbody>\n",
       "    <tr>\n",
       "      <th>2019-03-25</th>\n",
       "      <td>-0.003036</td>\n",
       "      <td>-0.000183</td>\n",
       "      <td>0.000517</td>\n",
       "      <td>0.000236</td>\n",
       "      <td>0.005620</td>\n",
       "    </tr>\n",
       "    <tr>\n",
       "      <th>2019-03-26</th>\n",
       "      <td>-0.002592</td>\n",
       "      <td>0.000249</td>\n",
       "      <td>0.002435</td>\n",
       "      <td>0.001430</td>\n",
       "      <td>-0.000054</td>\n",
       "    </tr>\n",
       "    <tr>\n",
       "      <th>2019-03-27</th>\n",
       "      <td>0.002235</td>\n",
       "      <td>-0.001852</td>\n",
       "      <td>-0.001405</td>\n",
       "      <td>-0.000070</td>\n",
       "      <td>0.002555</td>\n",
       "    </tr>\n",
       "    <tr>\n",
       "      <th>2019-03-28</th>\n",
       "      <td>0.000331</td>\n",
       "      <td>-0.000134</td>\n",
       "      <td>-0.003762</td>\n",
       "      <td>-0.000070</td>\n",
       "      <td>0.000153</td>\n",
       "    </tr>\n",
       "    <tr>\n",
       "      <th>2019-03-29</th>\n",
       "      <td>0.001621</td>\n",
       "      <td>0.000670</td>\n",
       "      <td>-0.002041</td>\n",
       "      <td>0.000651</td>\n",
       "      <td>0.004586</td>\n",
       "    </tr>\n",
       "  </tbody>\n",
       "</table>\n",
       "</div>"
      ],
      "text/plain": [
       "                AAPL       WMT        TM        KO        BA\n",
       "Date                                                        \n",
       "2019-03-25 -0.003036 -0.000183  0.000517  0.000236  0.005620\n",
       "2019-03-26 -0.002592  0.000249  0.002435  0.001430 -0.000054\n",
       "2019-03-27  0.002235 -0.001852 -0.001405 -0.000070  0.002555\n",
       "2019-03-28  0.000331 -0.000134 -0.003762 -0.000070  0.000153\n",
       "2019-03-29  0.001621  0.000670 -0.002041  0.000651  0.004586"
      ]
     },
     "execution_count": 12,
     "metadata": {},
     "output_type": "execute_result"
    }
   ],
   "source": [
    "weighted_returns_portfolio = stocks_return.mul(portfolio_weights,axis=1)\n",
    "\n",
    "weighted_returns_portfolio.tail()"
   ]
  },
  {
   "cell_type": "markdown",
   "metadata": {},
   "source": [
    "### • Calculate the returns based on the weights"
   ]
  },
  {
   "cell_type": "code",
   "execution_count": 13,
   "metadata": {},
   "outputs": [
    {
     "data": {
      "text/html": [
       "<div>\n",
       "<style scoped>\n",
       "    .dataframe tbody tr th:only-of-type {\n",
       "        vertical-align: middle;\n",
       "    }\n",
       "\n",
       "    .dataframe tbody tr th {\n",
       "        vertical-align: top;\n",
       "    }\n",
       "\n",
       "    .dataframe thead th {\n",
       "        text-align: right;\n",
       "    }\n",
       "</style>\n",
       "<table border=\"1\" class=\"dataframe\">\n",
       "  <thead>\n",
       "    <tr style=\"text-align: right;\">\n",
       "      <th></th>\n",
       "      <th>AAPL</th>\n",
       "      <th>WMT</th>\n",
       "      <th>TM</th>\n",
       "      <th>KO</th>\n",
       "      <th>BA</th>\n",
       "      <th>Portfolio</th>\n",
       "    </tr>\n",
       "    <tr>\n",
       "      <th>Date</th>\n",
       "      <th></th>\n",
       "      <th></th>\n",
       "      <th></th>\n",
       "      <th></th>\n",
       "      <th></th>\n",
       "      <th></th>\n",
       "    </tr>\n",
       "  </thead>\n",
       "  <tbody>\n",
       "    <tr>\n",
       "      <th>2019-03-25</th>\n",
       "      <td>-0.012165</td>\n",
       "      <td>-0.001120</td>\n",
       "      <td>0.002243</td>\n",
       "      <td>0.002175</td>\n",
       "      <td>0.022632</td>\n",
       "      <td>0.003154</td>\n",
       "    </tr>\n",
       "    <tr>\n",
       "      <th>2019-03-26</th>\n",
       "      <td>-0.010385</td>\n",
       "      <td>0.001527</td>\n",
       "      <td>0.010567</td>\n",
       "      <td>0.013165</td>\n",
       "      <td>-0.000216</td>\n",
       "      <td>0.001468</td>\n",
       "    </tr>\n",
       "    <tr>\n",
       "      <th>2019-03-27</th>\n",
       "      <td>0.008954</td>\n",
       "      <td>-0.011354</td>\n",
       "      <td>-0.006096</td>\n",
       "      <td>-0.000643</td>\n",
       "      <td>0.010288</td>\n",
       "      <td>0.001463</td>\n",
       "    </tr>\n",
       "    <tr>\n",
       "      <th>2019-03-28</th>\n",
       "      <td>0.001326</td>\n",
       "      <td>-0.000823</td>\n",
       "      <td>-0.016327</td>\n",
       "      <td>-0.000644</td>\n",
       "      <td>0.000614</td>\n",
       "      <td>-0.003483</td>\n",
       "    </tr>\n",
       "    <tr>\n",
       "      <th>2019-03-29</th>\n",
       "      <td>0.006496</td>\n",
       "      <td>0.004110</td>\n",
       "      <td>-0.008857</td>\n",
       "      <td>0.005993</td>\n",
       "      <td>0.018470</td>\n",
       "      <td>0.005488</td>\n",
       "    </tr>\n",
       "  </tbody>\n",
       "</table>\n",
       "</div>"
      ],
      "text/plain": [
       "                AAPL       WMT        TM        KO        BA  Portfolio\n",
       "Date                                                                   \n",
       "2019-03-25 -0.012165 -0.001120  0.002243  0.002175  0.022632   0.003154\n",
       "2019-03-26 -0.010385  0.001527  0.010567  0.013165 -0.000216   0.001468\n",
       "2019-03-27  0.008954 -0.011354 -0.006096 -0.000643  0.010288   0.001463\n",
       "2019-03-28  0.001326 -0.000823 -0.016327 -0.000644  0.000614  -0.003483\n",
       "2019-03-29  0.006496  0.004110 -0.008857  0.005993  0.018470   0.005488"
      ]
     },
     "execution_count": 13,
     "metadata": {},
     "output_type": "execute_result"
    }
   ],
   "source": [
    "stocks_return['Portfolio']=weighted_returns_portfolio.sum(axis=1).dropna()\n",
    "stocks_return.tail()"
   ]
  },
  {
   "cell_type": "markdown",
   "metadata": {},
   "source": [
    "### • Determine the average (mu) of the returns"
   ]
  },
  {
   "cell_type": "code",
   "execution_count": 14,
   "metadata": {},
   "outputs": [
    {
     "data": {
      "text/plain": [
       "0.0002199398439849705"
      ]
     },
     "execution_count": 14,
     "metadata": {},
     "output_type": "execute_result"
    }
   ],
   "source": [
    "mu=stocks_return['Portfolio'].mean()\n",
    "mu"
   ]
  },
  {
   "cell_type": "markdown",
   "metadata": {},
   "source": [
    "### • Determine the standard deviation (sigma) of the returns"
   ]
  },
  {
   "cell_type": "code",
   "execution_count": 15,
   "metadata": {},
   "outputs": [
    {
     "data": {
      "text/plain": [
       "0.011495583796470277"
      ]
     },
     "execution_count": 15,
     "metadata": {},
     "output_type": "execute_result"
    }
   ],
   "source": [
    "sigma=stocks_return['Portfolio'].std()\n",
    "sigma"
   ]
  },
  {
   "cell_type": "markdown",
   "metadata": {},
   "source": [
    "### • Assign a confidence level to the VaR (99% for this example)"
   ]
  },
  {
   "cell_type": "code",
   "execution_count": 16,
   "metadata": {},
   "outputs": [
    {
     "data": {
      "text/plain": [
       "0.99"
      ]
     },
     "execution_count": 16,
     "metadata": {},
     "output_type": "execute_result"
    }
   ],
   "source": [
    "confidence=0.99\n",
    "confidence"
   ]
  },
  {
   "cell_type": "markdown",
   "metadata": {},
   "source": [
    "### • Calculate the alpha"
   ]
  },
  {
   "cell_type": "code",
   "execution_count": 17,
   "metadata": {},
   "outputs": [
    {
     "data": {
      "text/plain": [
       "-2.3263478740408408"
      ]
     },
     "execution_count": 17,
     "metadata": {},
     "output_type": "execute_result"
    }
   ],
   "source": [
    "alpha=norm.ppf(1-confidence)\n",
    "alpha"
   ]
  },
  {
   "cell_type": "markdown",
   "metadata": {},
   "source": [
    "For this example, the norm.ppf is being used, the reason for this is that it determines the probability density function of one (1) minus the confidence interval. This is useful because it determines the probability of the VAR. It is a similar process to the np.percentile.\n",
    "\n",
    "### • Create a position\n"
   ]
  },
  {
   "cell_type": "code",
   "execution_count": 18,
   "metadata": {},
   "outputs": [
    {
     "data": {
      "text/plain": [
       "1000000.0"
      ]
     },
     "execution_count": 18,
     "metadata": {},
     "output_type": "execute_result"
    }
   ],
   "source": [
    "position=1e6\n",
    "position"
   ]
  },
  {
   "cell_type": "markdown",
   "metadata": {},
   "source": [
    "The position is the investment on the portfolio. Since the portfolio was created, in this case the investment is USD 1 million. The interesting aspect of using 1e6 for a million is to include a complex number structure that is easier to write. The other choice would have been to write the 1,000,000.\n",
    "\n",
    "### • Calculate the VAR\n",
    "\n",
    "Equation 1: Value at Risk - position\n",
    "\n",
    "    VaR = position * (µ − σ * α)\n",
    "\n",
    "µ = mean of the returns of the portfolio\n",
    "\n",
    "σ = standard deviation of the returns of the portfolio\n",
    "\n",
    "α = Probability density function of the 1%\n",
    "\n",
    "\n"
   ]
  },
  {
   "cell_type": "code",
   "execution_count": 19,
   "metadata": {},
   "outputs": [
    {
     "data": {
      "text/plain": [
       "26962.666769761938"
      ]
     },
     "execution_count": 19,
     "metadata": {},
     "output_type": "execute_result"
    }
   ],
   "source": [
    "var=position*(mu-sigma*alpha)\n",
    "var"
   ]
  },
  {
   "cell_type": "markdown",
   "metadata": {},
   "source": [
    "If the investment in the portfolio was of USD 1,000,000, the worst loss at a 99% confidence interval can be of USD 27,088.75. The next step is to obtain the VAR for the next 10 days, trying to identify what will be the loss of the portfolio.\n",
    "\n",
    "### • Create a variable for 10 days"
   ]
  },
  {
   "cell_type": "code",
   "execution_count": 20,
   "metadata": {},
   "outputs": [
    {
     "data": {
      "text/plain": [
       "10"
      ]
     },
     "execution_count": 20,
     "metadata": {},
     "output_type": "execute_result"
    }
   ],
   "source": [
    "days=10\n",
    "days"
   ]
  },
  {
   "cell_type": "markdown",
   "metadata": {},
   "source": [
    "### • Determine the worst loss for the next 10 days\n",
    "\n",
    "    VaR for 10 days = position ∗ (µ ∗ days − σ ∗ α ∗ sqrt(days))\n"
   ]
  },
  {
   "cell_type": "code",
   "execution_count": 21,
   "metadata": {},
   "outputs": [
    {
     "data": {
      "text/plain": [
       "86767.32636921761"
      ]
     },
     "execution_count": 21,
     "metadata": {},
     "output_type": "execute_result"
    }
   ],
   "source": [
    "var_10_days=position *(mu*days-sigma*alpha*np.sqrt(days))\n",
    "var_10_days"
   ]
  },
  {
   "cell_type": "markdown",
   "metadata": {},
   "source": [
    "The worst loss for the next 10 days based on the portfolio that depends on the stocks that have been chosen and the weights of the stocks, could be of USD 88,644.95 or approximately 88.64% of the total investment. Consider that this effect is at a 99% confidence interval. If the example had been done with a 95% of confidence interval, the result would have been as follows:\n",
    "\n",
    "### • Assign a confidence interval of 95%"
   ]
  },
  {
   "cell_type": "code",
   "execution_count": 22,
   "metadata": {},
   "outputs": [
    {
     "data": {
      "text/plain": [
       "0.95"
      ]
     },
     "execution_count": 22,
     "metadata": {},
     "output_type": "execute_result"
    }
   ],
   "source": [
    "confidence=0.95\n",
    "confidence"
   ]
  },
  {
   "cell_type": "markdown",
   "metadata": {},
   "source": [
    "### • Obtain the alpha"
   ]
  },
  {
   "cell_type": "code",
   "execution_count": 23,
   "metadata": {},
   "outputs": [
    {
     "data": {
      "text/plain": [
       "-1.6448536269514722"
      ]
     },
     "execution_count": 23,
     "metadata": {},
     "output_type": "execute_result"
    }
   ],
   "source": [
    "alpha=norm.ppf(1-confidence)\n",
    "alpha"
   ]
  },
  {
   "cell_type": "markdown",
   "metadata": {},
   "source": [
    "### • Determine the worst loss for the next 10 days"
   ]
  },
  {
   "cell_type": "code",
   "execution_count": 24,
   "metadata": {},
   "outputs": [
    {
     "data": {
      "text/plain": [
       "61993.492234073645"
      ]
     },
     "execution_count": 24,
     "metadata": {},
     "output_type": "execute_result"
    }
   ],
   "source": [
    "var_10_days=position *(mu*days-sigma*alpha*np.sqrt(days))\n",
    "var_10_days"
   ]
  },
  {
   "cell_type": "markdown",
   "metadata": {},
   "source": [
    "The result is a worst loss much smaller than the one determined at a 99% confidence level. In this example the loss is approximately 63.95% of the total investment. The result also varies if the days are reduced, for example to 5 days.\n",
    "\n",
    "### • Worst loss for the next 5 days at a 95% confidence level"
   ]
  },
  {
   "cell_type": "code",
   "execution_count": 25,
   "metadata": {},
   "outputs": [
    {
     "data": {
      "text/plain": [
       "60893.793014148796"
      ]
     },
     "execution_count": 25,
     "metadata": {},
     "output_type": "execute_result"
    }
   ],
   "source": [
    "days_2=5\n",
    "var_5_days=position *(mu*days_2-sigma*alpha*np.sqrt(days))\n",
    "var_5_days"
   ]
  },
  {
   "cell_type": "markdown",
   "metadata": {},
   "source": [
    "## HISTORICAL DRAWDOWN\n",
    "\n",
    "A historical drawdown is often included with the VAR because it analyzes the decline in the specific period that the portfolio is being analyzed and based on the cumulative growth analyzes the peak and therefore the fall or drawdown of the portfolio (Mitchell 2019). The process is similar to the VAR but it uses the negative returns of the portfolio.\n",
    "\n",
    "### • Choose the portfolio"
   ]
  },
  {
   "cell_type": "code",
   "execution_count": 26,
   "metadata": {},
   "outputs": [
    {
     "name": "stderr",
     "output_type": "stream",
     "text": [
      "[*********************100%%**********************]  1 of 1 completed\n",
      "[*********************100%%**********************]  1 of 1 completed\n",
      "[*********************100%%**********************]  1 of 1 completed\n",
      "[*********************100%%**********************]  1 of 1 completed\n",
      "[*********************100%%**********************]  1 of 1 completed\n"
     ]
    },
    {
     "data": {
      "text/html": [
       "<div>\n",
       "<style scoped>\n",
       "    .dataframe tbody tr th:only-of-type {\n",
       "        vertical-align: middle;\n",
       "    }\n",
       "\n",
       "    .dataframe tbody tr th {\n",
       "        vertical-align: top;\n",
       "    }\n",
       "\n",
       "    .dataframe thead th {\n",
       "        text-align: right;\n",
       "    }\n",
       "</style>\n",
       "<table border=\"1\" class=\"dataframe\">\n",
       "  <thead>\n",
       "    <tr style=\"text-align: right;\">\n",
       "      <th></th>\n",
       "      <th>AAPL</th>\n",
       "      <th>WMT</th>\n",
       "      <th>TM</th>\n",
       "      <th>KO</th>\n",
       "      <th>BA</th>\n",
       "    </tr>\n",
       "    <tr>\n",
       "      <th>Date</th>\n",
       "      <th></th>\n",
       "      <th></th>\n",
       "      <th></th>\n",
       "      <th></th>\n",
       "      <th></th>\n",
       "    </tr>\n",
       "  </thead>\n",
       "  <tbody>\n",
       "    <tr>\n",
       "      <th>2019-03-25</th>\n",
       "      <td>47.185001</td>\n",
       "      <td>98.169998</td>\n",
       "      <td>120.489998</td>\n",
       "      <td>46.029999</td>\n",
       "      <td>370.459991</td>\n",
       "    </tr>\n",
       "    <tr>\n",
       "      <th>2019-03-26</th>\n",
       "      <td>46.697498</td>\n",
       "      <td>98.320000</td>\n",
       "      <td>121.769997</td>\n",
       "      <td>46.639999</td>\n",
       "      <td>370.380005</td>\n",
       "    </tr>\n",
       "    <tr>\n",
       "      <th>2019-03-27</th>\n",
       "      <td>47.117500</td>\n",
       "      <td>97.209999</td>\n",
       "      <td>121.029999</td>\n",
       "      <td>46.610001</td>\n",
       "      <td>374.209991</td>\n",
       "    </tr>\n",
       "    <tr>\n",
       "      <th>2019-03-28</th>\n",
       "      <td>47.180000</td>\n",
       "      <td>97.129997</td>\n",
       "      <td>119.070000</td>\n",
       "      <td>46.580002</td>\n",
       "      <td>374.440002</td>\n",
       "    </tr>\n",
       "    <tr>\n",
       "      <th>2019-03-29</th>\n",
       "      <td>47.487499</td>\n",
       "      <td>97.529999</td>\n",
       "      <td>118.019997</td>\n",
       "      <td>46.860001</td>\n",
       "      <td>381.420013</td>\n",
       "    </tr>\n",
       "  </tbody>\n",
       "</table>\n",
       "</div>"
      ],
      "text/plain": [
       "                 AAPL        WMT          TM         KO          BA\n",
       "Date                                                               \n",
       "2019-03-25  47.185001  98.169998  120.489998  46.029999  370.459991\n",
       "2019-03-26  46.697498  98.320000  121.769997  46.639999  370.380005\n",
       "2019-03-27  47.117500  97.209999  121.029999  46.610001  374.209991\n",
       "2019-03-28  47.180000  97.129997  119.070000  46.580002  374.440002\n",
       "2019-03-29  47.487499  97.529999  118.019997  46.860001  381.420013"
      ]
     },
     "execution_count": 26,
     "metadata": {},
     "output_type": "execute_result"
    }
   ],
   "source": [
    "start=datetime.datetime(2018,1,2)\n",
    "end=datetime.datetime(2019,4,1)\n",
    "\n",
    "tickers=['AAPL','WMT','TM','KO','BA']\n",
    "\n",
    "stocks=pd.DataFrame()\n",
    "\n",
    "for x in tickers:\n",
    "    stocks[x]=yf.download(tickers=x,start=start,end=end)['Close']\n",
    "\n",
    "stocks.tail()"
   ]
  },
  {
   "cell_type": "markdown",
   "metadata": {},
   "source": [
    "### • Calculate the returns"
   ]
  },
  {
   "cell_type": "code",
   "execution_count": 27,
   "metadata": {},
   "outputs": [
    {
     "data": {
      "text/html": [
       "<div>\n",
       "<style scoped>\n",
       "    .dataframe tbody tr th:only-of-type {\n",
       "        vertical-align: middle;\n",
       "    }\n",
       "\n",
       "    .dataframe tbody tr th {\n",
       "        vertical-align: top;\n",
       "    }\n",
       "\n",
       "    .dataframe thead th {\n",
       "        text-align: right;\n",
       "    }\n",
       "</style>\n",
       "<table border=\"1\" class=\"dataframe\">\n",
       "  <thead>\n",
       "    <tr style=\"text-align: right;\">\n",
       "      <th></th>\n",
       "      <th>AAPL</th>\n",
       "      <th>WMT</th>\n",
       "      <th>TM</th>\n",
       "      <th>KO</th>\n",
       "      <th>BA</th>\n",
       "    </tr>\n",
       "    <tr>\n",
       "      <th>Date</th>\n",
       "      <th></th>\n",
       "      <th></th>\n",
       "      <th></th>\n",
       "      <th></th>\n",
       "      <th></th>\n",
       "    </tr>\n",
       "  </thead>\n",
       "  <tbody>\n",
       "    <tr>\n",
       "      <th>2019-03-25</th>\n",
       "      <td>-0.012165</td>\n",
       "      <td>-0.001120</td>\n",
       "      <td>0.002243</td>\n",
       "      <td>0.002175</td>\n",
       "      <td>0.022632</td>\n",
       "    </tr>\n",
       "    <tr>\n",
       "      <th>2019-03-26</th>\n",
       "      <td>-0.010385</td>\n",
       "      <td>0.001527</td>\n",
       "      <td>0.010567</td>\n",
       "      <td>0.013165</td>\n",
       "      <td>-0.000216</td>\n",
       "    </tr>\n",
       "    <tr>\n",
       "      <th>2019-03-27</th>\n",
       "      <td>0.008954</td>\n",
       "      <td>-0.011354</td>\n",
       "      <td>-0.006096</td>\n",
       "      <td>-0.000643</td>\n",
       "      <td>0.010288</td>\n",
       "    </tr>\n",
       "    <tr>\n",
       "      <th>2019-03-28</th>\n",
       "      <td>0.001326</td>\n",
       "      <td>-0.000823</td>\n",
       "      <td>-0.016327</td>\n",
       "      <td>-0.000644</td>\n",
       "      <td>0.000614</td>\n",
       "    </tr>\n",
       "    <tr>\n",
       "      <th>2019-03-29</th>\n",
       "      <td>0.006496</td>\n",
       "      <td>0.004110</td>\n",
       "      <td>-0.008857</td>\n",
       "      <td>0.005993</td>\n",
       "      <td>0.018470</td>\n",
       "    </tr>\n",
       "  </tbody>\n",
       "</table>\n",
       "</div>"
      ],
      "text/plain": [
       "                AAPL       WMT        TM        KO        BA\n",
       "Date                                                        \n",
       "2019-03-25 -0.012165 -0.001120  0.002243  0.002175  0.022632\n",
       "2019-03-26 -0.010385  0.001527  0.010567  0.013165 -0.000216\n",
       "2019-03-27  0.008954 -0.011354 -0.006096 -0.000643  0.010288\n",
       "2019-03-28  0.001326 -0.000823 -0.016327 -0.000644  0.000614\n",
       "2019-03-29  0.006496  0.004110 -0.008857  0.005993  0.018470"
      ]
     },
     "execution_count": 27,
     "metadata": {},
     "output_type": "execute_result"
    }
   ],
   "source": [
    "stocks_return=np.log(stocks/stocks.shift(1))\n",
    "stocks_return.tail()\n"
   ]
  },
  {
   "cell_type": "markdown",
   "metadata": {},
   "source": [
    "### • Assign random portfolio weights that sum to one (1)"
   ]
  },
  {
   "cell_type": "code",
   "execution_count": 28,
   "metadata": {},
   "outputs": [
    {
     "data": {
      "text/plain": [
       "array([0.02648028, 0.37139619, 0.13254582, 0.39099082, 0.07858689])"
      ]
     },
     "execution_count": 28,
     "metadata": {},
     "output_type": "execute_result"
    }
   ],
   "source": [
    "portfolio_weights= np.array(np.random.random(5))\n",
    "portfolio_weights\n",
    "portfolio_weights=portfolio_weights/np.sum(portfolio_weights)\n",
    "portfolio_weights"
   ]
  },
  {
   "cell_type": "markdown",
   "metadata": {},
   "source": [
    "### • Multiply the portfolio with the stocks"
   ]
  },
  {
   "cell_type": "code",
   "execution_count": 29,
   "metadata": {},
   "outputs": [
    {
     "data": {
      "text/html": [
       "<div>\n",
       "<style scoped>\n",
       "    .dataframe tbody tr th:only-of-type {\n",
       "        vertical-align: middle;\n",
       "    }\n",
       "\n",
       "    .dataframe tbody tr th {\n",
       "        vertical-align: top;\n",
       "    }\n",
       "\n",
       "    .dataframe thead th {\n",
       "        text-align: right;\n",
       "    }\n",
       "</style>\n",
       "<table border=\"1\" class=\"dataframe\">\n",
       "  <thead>\n",
       "    <tr style=\"text-align: right;\">\n",
       "      <th></th>\n",
       "      <th>AAPL</th>\n",
       "      <th>WMT</th>\n",
       "      <th>TM</th>\n",
       "      <th>KO</th>\n",
       "      <th>BA</th>\n",
       "    </tr>\n",
       "    <tr>\n",
       "      <th>Date</th>\n",
       "      <th></th>\n",
       "      <th></th>\n",
       "      <th></th>\n",
       "      <th></th>\n",
       "      <th></th>\n",
       "    </tr>\n",
       "  </thead>\n",
       "  <tbody>\n",
       "    <tr>\n",
       "      <th>2019-03-25</th>\n",
       "      <td>-0.000322</td>\n",
       "      <td>-0.000416</td>\n",
       "      <td>0.000297</td>\n",
       "      <td>0.000850</td>\n",
       "      <td>0.001779</td>\n",
       "    </tr>\n",
       "    <tr>\n",
       "      <th>2019-03-26</th>\n",
       "      <td>-0.000275</td>\n",
       "      <td>0.000567</td>\n",
       "      <td>0.001401</td>\n",
       "      <td>0.005147</td>\n",
       "      <td>-0.000017</td>\n",
       "    </tr>\n",
       "    <tr>\n",
       "      <th>2019-03-27</th>\n",
       "      <td>0.000237</td>\n",
       "      <td>-0.004217</td>\n",
       "      <td>-0.000808</td>\n",
       "      <td>-0.000252</td>\n",
       "      <td>0.000808</td>\n",
       "    </tr>\n",
       "    <tr>\n",
       "      <th>2019-03-28</th>\n",
       "      <td>0.000035</td>\n",
       "      <td>-0.000306</td>\n",
       "      <td>-0.002164</td>\n",
       "      <td>-0.000252</td>\n",
       "      <td>0.000048</td>\n",
       "    </tr>\n",
       "    <tr>\n",
       "      <th>2019-03-29</th>\n",
       "      <td>0.000172</td>\n",
       "      <td>0.001526</td>\n",
       "      <td>-0.001174</td>\n",
       "      <td>0.002343</td>\n",
       "      <td>0.001451</td>\n",
       "    </tr>\n",
       "  </tbody>\n",
       "</table>\n",
       "</div>"
      ],
      "text/plain": [
       "                AAPL       WMT        TM        KO        BA\n",
       "Date                                                        \n",
       "2019-03-25 -0.000322 -0.000416  0.000297  0.000850  0.001779\n",
       "2019-03-26 -0.000275  0.000567  0.001401  0.005147 -0.000017\n",
       "2019-03-27  0.000237 -0.004217 -0.000808 -0.000252  0.000808\n",
       "2019-03-28  0.000035 -0.000306 -0.002164 -0.000252  0.000048\n",
       "2019-03-29  0.000172  0.001526 -0.001174  0.002343  0.001451"
      ]
     },
     "execution_count": 29,
     "metadata": {},
     "output_type": "execute_result"
    }
   ],
   "source": [
    "weighted_returns_portfolio = stocks_return.mul(portfolio_weights,axis=1)\n",
    "weighted_returns_portfolio.tail()"
   ]
  },
  {
   "cell_type": "markdown",
   "metadata": {},
   "source": [
    "### • Calculate the returns based on the weights"
   ]
  },
  {
   "cell_type": "code",
   "execution_count": 30,
   "metadata": {},
   "outputs": [
    {
     "data": {
      "text/html": [
       "<div>\n",
       "<style scoped>\n",
       "    .dataframe tbody tr th:only-of-type {\n",
       "        vertical-align: middle;\n",
       "    }\n",
       "\n",
       "    .dataframe tbody tr th {\n",
       "        vertical-align: top;\n",
       "    }\n",
       "\n",
       "    .dataframe thead th {\n",
       "        text-align: right;\n",
       "    }\n",
       "</style>\n",
       "<table border=\"1\" class=\"dataframe\">\n",
       "  <thead>\n",
       "    <tr style=\"text-align: right;\">\n",
       "      <th></th>\n",
       "      <th>AAPL</th>\n",
       "      <th>WMT</th>\n",
       "      <th>TM</th>\n",
       "      <th>KO</th>\n",
       "      <th>BA</th>\n",
       "      <th>Portfolio</th>\n",
       "    </tr>\n",
       "    <tr>\n",
       "      <th>Date</th>\n",
       "      <th></th>\n",
       "      <th></th>\n",
       "      <th></th>\n",
       "      <th></th>\n",
       "      <th></th>\n",
       "      <th></th>\n",
       "    </tr>\n",
       "  </thead>\n",
       "  <tbody>\n",
       "    <tr>\n",
       "      <th>2019-03-25</th>\n",
       "      <td>-0.012165</td>\n",
       "      <td>-0.001120</td>\n",
       "      <td>0.002243</td>\n",
       "      <td>0.002175</td>\n",
       "      <td>0.022632</td>\n",
       "      <td>0.002188</td>\n",
       "    </tr>\n",
       "    <tr>\n",
       "      <th>2019-03-26</th>\n",
       "      <td>-0.010385</td>\n",
       "      <td>0.001527</td>\n",
       "      <td>0.010567</td>\n",
       "      <td>0.013165</td>\n",
       "      <td>-0.000216</td>\n",
       "      <td>0.006823</td>\n",
       "    </tr>\n",
       "    <tr>\n",
       "      <th>2019-03-27</th>\n",
       "      <td>0.008954</td>\n",
       "      <td>-0.011354</td>\n",
       "      <td>-0.006096</td>\n",
       "      <td>-0.000643</td>\n",
       "      <td>0.010288</td>\n",
       "      <td>-0.004231</td>\n",
       "    </tr>\n",
       "    <tr>\n",
       "      <th>2019-03-28</th>\n",
       "      <td>0.001326</td>\n",
       "      <td>-0.000823</td>\n",
       "      <td>-0.016327</td>\n",
       "      <td>-0.000644</td>\n",
       "      <td>0.000614</td>\n",
       "      <td>-0.002638</td>\n",
       "    </tr>\n",
       "    <tr>\n",
       "      <th>2019-03-29</th>\n",
       "      <td>0.006496</td>\n",
       "      <td>0.004110</td>\n",
       "      <td>-0.008857</td>\n",
       "      <td>0.005993</td>\n",
       "      <td>0.018470</td>\n",
       "      <td>0.004319</td>\n",
       "    </tr>\n",
       "  </tbody>\n",
       "</table>\n",
       "</div>"
      ],
      "text/plain": [
       "                AAPL       WMT        TM        KO        BA  Portfolio\n",
       "Date                                                                   \n",
       "2019-03-25 -0.012165 -0.001120  0.002243  0.002175  0.022632   0.002188\n",
       "2019-03-26 -0.010385  0.001527  0.010567  0.013165 -0.000216   0.006823\n",
       "2019-03-27  0.008954 -0.011354 -0.006096 -0.000643  0.010288  -0.004231\n",
       "2019-03-28  0.001326 -0.000823 -0.016327 -0.000644  0.000614  -0.002638\n",
       "2019-03-29  0.006496  0.004110 -0.008857  0.005993  0.018470   0.004319"
      ]
     },
     "execution_count": 30,
     "metadata": {},
     "output_type": "execute_result"
    }
   ],
   "source": [
    "stocks_return['Portfolio']=weighted_returns_portfolio.sum(axis=1).dropna()\n",
    "\n",
    "stocks_return.tail()"
   ]
  },
  {
   "cell_type": "markdown",
   "metadata": {},
   "source": [
    "### • Calculate the cumulative returns"
   ]
  },
  {
   "cell_type": "code",
   "execution_count": 31,
   "metadata": {},
   "outputs": [
    {
     "data": {
      "text/plain": [
       "Date\n",
       "2019-03-25    0.000572\n",
       "2019-03-26    0.007399\n",
       "2019-03-27    0.003137\n",
       "2019-03-28    0.000491\n",
       "2019-03-29    0.004812\n",
       "Name: Portfolio, dtype: float64"
      ]
     },
     "execution_count": 31,
     "metadata": {},
     "output_type": "execute_result"
    }
   ],
   "source": [
    "CumulativeReturns=((1+stocks_return['Portfolio']).cumprod(axis=0) - 1)\n",
    "\n",
    "CumulativeReturns.tail()"
   ]
  },
  {
   "cell_type": "markdown",
   "metadata": {},
   "source": [
    "### • Plot the cumulative returns (Fig. 1)"
   ]
  },
  {
   "cell_type": "code",
   "execution_count": 32,
   "metadata": {},
   "outputs": [
    {
     "data": {
      "image/png": "[encoded data removed]",
      "text/plain": [
       "<Figure size 640x480 with 1 Axes>"
      ]
     },
     "metadata": {},
     "output_type": "display_data"
    }
   ],
   "source": [
    "CumulativeReturns.plot()\n",
    "_=plt.xlabel('Dates')\n",
    "_=plt.ylabel('Returns')\n",
    "_=plt.title('cumulative Returns - Portfolio')\n",
    "plt.show()\n"
   ]
  },
  {
   "cell_type": "markdown",
   "metadata": {},
   "source": [
    "### • Determine the running maximum"
   ]
  },
  {
   "cell_type": "code",
   "execution_count": 33,
   "metadata": {},
   "outputs": [
    {
     "data": {
      "text/plain": [
       "Date\n",
       "2019-03-25    0.085528\n",
       "2019-03-26    0.085528\n",
       "2019-03-27    0.085528\n",
       "2019-03-28    0.085528\n",
       "2019-03-29    0.085528\n",
       "Name: Portfolio, dtype: float64"
      ]
     },
     "execution_count": 33,
     "metadata": {},
     "output_type": "execute_result"
    }
   ],
   "source": [
    "running_maximum=np.maximum.accumulate(CumulativeReturns)\n",
    "running_maximum.tail()"
   ]
  },
  {
   "cell_type": "markdown",
   "metadata": {},
   "source": [
    "The running maximum is taking the maximum of the cumulative returns and accumulates it so that there is a constant return. This is because the drawdown formula divides the cumulative return of the portfolio into the running maximum. The np.maximum.accumulate accumulates all the elements.\n",
    "\n",
    "### • Establish that the running maximum should not go below zero"
   ]
  },
  {
   "cell_type": "code",
   "execution_count": 34,
   "metadata": {},
   "outputs": [
    {
     "data": {
      "text/plain": [
       "Date\n",
       "2019-03-25    True\n",
       "2019-03-26    True\n",
       "2019-03-27    True\n",
       "2019-03-28    True\n",
       "2019-03-29    True\n",
       "Name: Portfolio, dtype: bool"
      ]
     },
     "execution_count": 34,
     "metadata": {},
     "output_type": "execute_result"
    }
   ],
   "source": [
    "running_maximum=running_maximum<1\n",
    "running_maximum.tail()"
   ]
  },
  {
   "cell_type": "markdown",
   "metadata": {},
   "source": [
    "### • Calculate the drawdown"
   ]
  },
  {
   "cell_type": "code",
   "execution_count": 35,
   "metadata": {},
   "outputs": [
    {
     "data": {
      "text/plain": [
       "Date\n",
       "2018-01-02   -1.000000\n",
       "2018-01-03   -0.995580\n",
       "2018-01-04   -0.987866\n",
       "2018-01-05   -0.980514\n",
       "2018-01-08   -0.974411\n",
       "                ...   \n",
       "2019-03-25   -0.999428\n",
       "2019-03-26   -0.992601\n",
       "2019-03-27   -0.996863\n",
       "2019-03-28   -0.999509\n",
       "2019-03-29   -0.995188\n",
       "Name: Portfolio, Length: 312, dtype: float64"
      ]
     },
     "execution_count": 35,
     "metadata": {},
     "output_type": "execute_result"
    }
   ],
   "source": [
    "portfolio_drawdown=(CumulativeReturns)/running_maximum - 1\n",
    "portfolio_drawdown\n"
   ]
  },
  {
   "cell_type": "markdown",
   "metadata": {},
   "source": [
    "### • Plot the drawdown (Fig. 2)"
   ]
  },
  {
   "cell_type": "code",
   "execution_count": 36,
   "metadata": {},
   "outputs": [
    {
     "data": {
      "image/png": "[encoded data removed]",
      "text/plain": [
       "<Figure size 640x480 with 1 Axes>"
      ]
     },
     "metadata": {},
     "output_type": "display_data"
    }
   ],
   "source": [
    "portfolio_drawdown.plot()\n",
    "\n",
    "_=plt.xlabel('Dates')\n",
    "\n",
    "_=plt.ylabel('Returns')\n",
    "\n",
    "_=plt.title('drawdown - Portfolio')\n",
    "\n",
    "plt.show()"
   ]
  },
  {
   "cell_type": "markdown",
   "metadata": {},
   "source": [
    "As can be seen in the drawdown the returns are negative and it demonstrates that the worst loss is between the end of 2018 and February 2019. It is an interesting approach based on the drawdown to observe how the portfolio could behave to a VaR. In this case the worst loss is 1.4% being a very stable portfolio."
   ]
  }
 ],
 "metadata": {
  "kernelspec": {
   "display_name": "Python 3",
   "language": "python",
   "name": "python3"
  },
  "language_info": {
   "codemirror_mode": {
    "name": "ipython",
    "version": 3
   },
   "file_extension": ".py",
   "mimetype": "text/x-python",
   "name": "python",
   "nbconvert_exporter": "python",
   "pygments_lexer": "ipython3",
   "version": "3.12.1"
  }
 },
 "nbformat": 4,
 "nbformat_minor": 2
}
