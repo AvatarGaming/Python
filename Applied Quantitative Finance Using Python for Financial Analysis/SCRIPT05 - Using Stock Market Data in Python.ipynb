{
 "cells": [
  {
   "cell_type": "markdown",
   "metadata": {},
   "source": [
    "## Using Stock Market Data in Python\n",
    "\n",
    "Abstract The present chapter aims to demonstrate the different access to data concerning securities and the packages that are useful to analyze the data. \n",
    "\n",
    "The book emphasizes Yahoo Finance API, but it explains various API’s that are accessible for analyzing the data. The packages are explained and applied to the data.\n",
    "\n",
    "### Keyword API · Packages · Installation · Data\n",
    "\n",
    "There are different sources of data that are viable in finance. Some of them can be accessed without creating and CVS (comma-separated-values) file or an XLS file (Microsoft Excel). The sources that can be accessed online through Python and without using one of the after mentioned files are the API (application programming interface). The API is useful because since they can have a specific protocol, routines and data structures, the information accessed can be retrieved every time we are using Python.\n",
    "\n",
    "### aPI sources\n",
    "\n",
    "**(1)Google Finance:** Google developed an API for retrieving information from the financial markets. The API has been discontinued and therefore it is mentioned here as a resource that can be uploaded in the future.\n",
    "\n",
    "**(2) Yahoo Finance:** One of the most important API that the book will be working with, given that it is free and that the information is accurate since it is retrieved directly from the markets. Since Yahoo started its financial platform in 1997 it has grown and its one of the most consulted platforms for financial decisions that is accessible by price and by easiness of language.\n",
    "\n",
    "**(3) Quandl:** The company's first movement in financial data was when they launched, in 2013, a million free data set with its universal API. This created the possibility for analyzing data from other sources. In late 2018 they were acquired by Nasdaq (National Association of Securities Dealer), making them one of the most interesting datasets in the markets.\n",
    "\n",
    "Although there are other interesting API in the market, in the book we will be using the two specific API, Yahoo Finance and Quandl. The reason for using these API is because they are gratuitous and that they are accurate. There are other databases such as Bloomberg that have an API but access to the data could be expensive.\n",
    "\n",
    "For the use of CVS and XLS databases, the main databases that will be used throughout the book are Yahoo Finance for statistical and portfolio\n",
    "analysis and World Bank and International Monetary Fund for macroeconomic investment strategies.\n",
    "\n"
   ]
  },
  {
   "cell_type": "markdown",
   "metadata": {},
   "source": [
    "## Most ImPortant LIBrarIes for usIng data In Python In the Present Book\n",
    "\n",
    "The first API that will be used is the Yahoo Finance API. For this, it is important to know certain packages that will be important in order to handle the different data that will be accessed.\n",
    "\n",
    "**(a) NumPy:** The numerical package for Python is one of the most important packages for handling data. By using NumPy the data can be approached for linear algebra, multi-dimensional containers, to create arrays and many other uses. The capability of NumPy will be demonstrated throughout the book.\n",
    "\n",
    "**(b) Pandas2:** The name of the library is an acronym for Python Data Analysis Library which is one of the most powerful libraries when it comes to analyzing data. Pandas can be used to create a DataFrame, slicing, replacing, creating time series just to name a few. Pandas will be used throughout the book.\n",
    "\n",
    "**(c) Matplotlib:** Throughout the book Matplotlib will be used for plotting 2D graphs. Matplotlib is an excellent library for plotting because of its quality, the variety of graphs that can be elaborated and the easiness of its use.\n",
    "\n",
    "**(d) f.fn( )**: One of the most interesting libraries for quantitative finance is the f.fn( ) library which helps access data and plot easily. In this book, the library will be used to access portfolio and measure performance. It complements with Matplotlib when creating graphs.\n",
    "\n",
    "**(e) Ta-lib:** Excellent libraries for developing technical analysis and backtesting. Will be used with portfolios and stocks. The installation is tricky, therefore a suggestion is appropriate.\n"
   ]
  }
 ],
 "metadata": {
  "kernelspec": {
   "display_name": "Python 3",
   "language": "python",
   "name": "python3"
  },
  "language_info": {
   "codemirror_mode": {
    "name": "ipython",
    "version": 3
   },
   "file_extension": ".py",
   "mimetype": "text/x-python",
   "name": "python",
   "nbconvert_exporter": "python",
   "pygments_lexer": "ipython3",
   "version": "3.12.1"
  }
 },
 "nbformat": 4,
 "nbformat_minor": 2
}
