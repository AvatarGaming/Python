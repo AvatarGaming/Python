{
 "cells": [
  {
   "cell_type": "markdown",
   "metadata": {},
   "source": [
    "## The Gross Domestic Product Price Deflator\n",
    "\n",
    "The GDP deflator, also known as implicit price deflator for GDP measures the percentual difference between the nominal GDP and the real GDP. It is a useful tool for understanding the change in price because it helps the investor understand if the growth has been motivated by production or by prices. The equation is as follows:\n",
    "\n",
    "GDPDeflator = (nominalGDP / realGDP) × 100\n",
    "\n",
    "To calculate the deflator of the GDP the sum function will be used.\n",
    "\n",
    "The sum function sums all the data points in the list. The first step is to establish a base year, in this case the year will be 2017.\n"
   ]
  },
  {
   "cell_type": "code",
   "execution_count": 16,
   "metadata": {},
   "outputs": [
    {
     "name": "stdout",
     "output_type": "stream",
     "text": [
      "2017-01-01    19280.084\n",
      "2017-04-01    19438.643\n",
      "2017-07-01    19692.595\n",
      "2017-10-01    20037.088\n",
      "dtype: float64\n"
     ]
    }
   ],
   "source": [
    "from fredapi import Fred\n",
    "import datetime\n",
    "fred = Fred (api_key='e6169f67af6efc86eb6c2289bff3111c')\n",
    "\n",
    "\n",
    "\n",
    "start = datetime.datetime(2017,1,1)\n",
    "end = datetime.datetime(2017,12,31)\n",
    "\n",
    "nominal_GDP = fred.get_series('GDP', start, end)\n",
    "print(nominal_GDP.tail())\n"
   ]
  },
  {
   "cell_type": "markdown",
   "metadata": {},
   "source": [
    "The comparison will be the year 2019"
   ]
  },
  {
   "cell_type": "code",
   "execution_count": 17,
   "metadata": {},
   "outputs": [
    {
     "name": "stdout",
     "output_type": "stream",
     "text": [
      "2019-01-01    20415.150\n",
      "2019-04-01    20584.528\n",
      "2019-07-01    20817.581\n",
      "2019-10-01    20951.088\n",
      "dtype: float64\n"
     ]
    }
   ],
   "source": [
    "start = datetime.datetime(2019,1,1)\n",
    "end = datetime.datetime(2019,12,31)\n",
    "real_GDP=fred.get_series('GDPC1', start, end)\n",
    "print(real_GDP)"
   ]
  },
  {
   "cell_type": "markdown",
   "metadata": {},
   "source": [
    "Once the real GDP and the nominal GDP had been set into a variable, the following process is to create the sum of the production in the\n",
    "year."
   ]
  },
  {
   "cell_type": "code",
   "execution_count": 18,
   "metadata": {},
   "outputs": [
    {
     "name": "stdout",
     "output_type": "stream",
     "text": [
      "78448\n",
      "82768\n"
     ]
    }
   ],
   "source": [
    "ngdp_sum = nominal_GDP.sum()\n",
    "ngdp_sum = int(ngdp_sum)\n",
    "print(ngdp_sum)\n",
    "rgdp_sum = real_GDP.sum()\n",
    "rgdp_sum=int(rgdp_sum)\n",
    "print(rgdp_sum)"
   ]
  },
  {
   "cell_type": "markdown",
   "metadata": {},
   "source": [
    "Notice that in the process the variables have been converted to integers with the function int. The reason for this is that if the data is divided without converting it into an integer, then the problem is that Python interprets the data as two different series and cannot unite them for a process.\n",
    "\n",
    "With the data converted into integers, then it can be divided."
   ]
  },
  {
   "cell_type": "code",
   "execution_count": 19,
   "metadata": {},
   "outputs": [
    {
     "name": "stdout",
     "output_type": "stream",
     "text": [
      "94.7805915329596\n"
     ]
    },
    {
     "data": {
      "text/plain": [
       "float"
      ]
     },
     "execution_count": 19,
     "metadata": {},
     "output_type": "execute_result"
    }
   ],
   "source": [
    "deflator = (ngdp_sum / rgdp_sum) * 100\n",
    "print(deflator)\n",
    "type(deflator)"
   ]
  }
 ],
 "metadata": {
  "kernelspec": {
   "display_name": "Python 3",
   "language": "python",
   "name": "python3"
  },
  "language_info": {
   "codemirror_mode": {
    "name": "ipython",
    "version": 3
   },
   "file_extension": ".py",
   "mimetype": "text/x-python",
   "name": "python",
   "nbconvert_exporter": "python",
   "pygments_lexer": "ipython3",
   "version": "3.12.1"
  }
 },
 "nbformat": 4,
 "nbformat_minor": 2
}
